{
 "cells": [
  {
   "cell_type": "code",
   "execution_count": 48,
   "metadata": {},
   "outputs": [
    {
     "data": {
      "text/html": [
       "<table>\n",
       "<caption>A data.frame: 6 × 26</caption>\n",
       "<thead>\n",
       "\t<tr><th scope=col>Sample.name</th><th scope=col>tube.number</th><th scope=col>empty.tube.weight..mg.</th><th scope=col>full.tube.weight..mg.</th><th scope=col>sample.weight..mg.</th><th scope=col>volume.of.water.for.homogenization..50.mg.in.125.uL.</th><th scope=col>volume.of.methnanol.for.homogenization..50.mg.in.125.uL..minus.10.uL.volume.removed.for.DNA..except.for.samples.below.60.ul.</th><th scope=col>final.volume_aq</th><th scope=col>volume.plated_aq</th><th scope=col>DCM.MeOH.volume..50.mg.in.250.uL.</th><th scope=col>...</th><th scope=col>DigitizedPosition</th><th scope=col>days.post.infection</th><th scope=col>condition</th><th scope=col>imaging.plate.position</th><th scope=col>collection.date</th><th scope=col>luminescence_counts</th><th scope=col>luminescence_counts_norm_to_weight_in_G</th><th scope=col>luminescence.ratio.to.average.of.nif_same_organ_same_timepoint</th><th scope=col>luminescence.ratio.to.average.of.nif_same_organ_same_timepoint_norm_to_weight_inG</th><th scope=col>well_Pos</th></tr>\n",
       "\t<tr><th scope=col>&lt;fct&gt;</th><th scope=col>&lt;int&gt;</th><th scope=col>&lt;dbl&gt;</th><th scope=col>&lt;dbl&gt;</th><th scope=col>&lt;dbl&gt;</th><th scope=col>&lt;dbl&gt;</th><th scope=col>&lt;dbl&gt;</th><th scope=col>&lt;dbl&gt;</th><th scope=col>&lt;int&gt;</th><th scope=col>&lt;dbl&gt;</th><th scope=col>...</th><th scope=col>&lt;int&gt;</th><th scope=col>&lt;int&gt;</th><th scope=col>&lt;fct&gt;</th><th scope=col>&lt;fct&gt;</th><th scope=col>&lt;fct&gt;</th><th scope=col>&lt;dbl&gt;</th><th scope=col>&lt;dbl&gt;</th><th scope=col>&lt;dbl&gt;</th><th scope=col>&lt;dbl&gt;</th><th scope=col>&lt;fct&gt;</th></tr>\n",
       "</thead>\n",
       "<tbody>\n",
       "\t<tr><td>P1_Aq.Org_Mixed_A6.mzXML.Peak.area </td><td>137</td><td>1034.3</td><td>1059.1</td><td>24.8</td><td>62.00</td><td>62.00</td><td>124.0</td><td>110</td><td>124.0</td><td>...</td><td>1</td><td>12</td><td>infected</td><td>E3 </td><td>42844</td><td>2523.0</td><td>101733.87</td><td> 87.1</td><td> 3510</td><td>P1_A6 </td></tr>\n",
       "\t<tr><td>P1_Aq.Org_Mixed_A7.mzXML.Peak.area </td><td>154</td><td>1035.2</td><td>1057.4</td><td>22.2</td><td>55.50</td><td>55.50</td><td>111.0</td><td> 55</td><td>111.0</td><td>...</td><td>1</td><td>12</td><td>infected</td><td>F8 </td><td>42844</td><td> 880.6</td><td> 39666.67</td><td> 30.4</td><td> 1370</td><td>P1_A7 </td></tr>\n",
       "\t<tr><td>P1_Aq.Org_Mixed_A8.mzXML.Peak.area </td><td>171</td><td>1037.8</td><td>1060.7</td><td>22.9</td><td>57.25</td><td>57.25</td><td>114.5</td><td> 55</td><td>114.5</td><td>...</td><td>1</td><td>12</td><td>infected</td><td>H1 </td><td>42844</td><td>2727.0</td><td>119082.97</td><td> 94.1</td><td> 4110</td><td>P1_A8 </td></tr>\n",
       "\t<tr><td>P1_Aq.Org_Mixed_A9.mzXML.Peak.area </td><td>188</td><td>1053.3</td><td>1074.8</td><td>21.5</td><td>53.75</td><td>53.75</td><td>107.5</td><td> 55</td><td>107.5</td><td>...</td><td>1</td><td>12</td><td>infected</td><td>B5 </td><td>42844</td><td>7694.0</td><td>357860.47</td><td>266.0</td><td>12400</td><td>P1_A9 </td></tr>\n",
       "\t<tr><td>P1_Aq.Org_Mixed_A10.mzXML.Peak.area</td><td>205</td><td>1033.5</td><td>1054.3</td><td>20.8</td><td>52.00</td><td>52.00</td><td>104.0</td><td> 55</td><td>104.0</td><td>...</td><td>1</td><td>12</td><td>infected</td><td>C10</td><td>42844</td><td>1119.0</td><td> 53798.08</td><td> 38.6</td><td> 1860</td><td>P1_A10</td></tr>\n",
       "\t<tr><td>P1_Aq.Org_Mixed_A11.mzXML.Peak.area</td><td>222</td><td>1037.0</td><td>1073.5</td><td>36.5</td><td>91.25</td><td>91.25</td><td>182.5</td><td>110</td><td>182.5</td><td>...</td><td>1</td><td>12</td><td>infected</td><td>B5 </td><td>42851</td><td>1780.0</td><td> 48767.12</td><td> 61.4</td><td> 1680</td><td>P1_A11</td></tr>\n",
       "</tbody>\n",
       "</table>\n"
      ],
      "text/latex": [
       "A data.frame: 6 × 26\n",
       "\\begin{tabular}{r|llllllllllllllllllllllllll}\n",
       " Sample.name & tube.number & empty.tube.weight..mg. & full.tube.weight..mg. & sample.weight..mg. & volume.of.water.for.homogenization..50.mg.in.125.uL. & volume.of.methnanol.for.homogenization..50.mg.in.125.uL..minus.10.uL.volume.removed.for.DNA..except.for.samples.below.60.ul. & final.volume\\_aq & volume.plated\\_aq & DCM.MeOH.volume..50.mg.in.250.uL. & volume.plated\\_org & mouse.number & study & sample.type & position & samplePosition & DigitizedPosition & days.post.infection & condition & imaging.plate.position & collection.date & luminescence\\_counts & luminescence\\_counts\\_norm\\_to\\_weight\\_in\\_G & luminescence.ratio.to.average.of.nif\\_same\\_organ\\_same\\_timepoint & luminescence.ratio.to.average.of.nif\\_same\\_organ\\_same\\_timepoint\\_norm\\_to\\_weight\\_inG & well\\_Pos\\\\\n",
       " <fct> & <int> & <dbl> & <dbl> & <dbl> & <dbl> & <dbl> & <dbl> & <int> & <dbl> & <int> & <fct> & <fct> & <fct> & <fct> & <fct> & <int> & <int> & <fct> & <fct> & <fct> & <dbl> & <dbl> & <dbl> & <dbl> & <fct>\\\\\n",
       "\\hline\n",
       "\t P1\\_Aq.Org\\_Mixed\\_A6.mzXML.Peak.area  & 137 & 1034.3 & 1059.1 & 24.8 & 62.00 & 62.00 & 124.0 & 110 & 124.0 & 100 & m8  & GI map rep 1 & oesophagus & NA & oesophagus\\_NA & 1 & 12 & infected & E3  & 42844 & 2523.0 & 101733.87 &  87.1 &  3510 & P1\\_A6 \\\\\n",
       "\t P1\\_Aq.Org\\_Mixed\\_A7.mzXML.Peak.area  & 154 & 1035.2 & 1057.4 & 22.2 & 55.50 & 55.50 & 111.0 &  55 & 111.0 & 100 & m9  & GI map rep 1 & oesophagus & NA & oesophagus\\_NA & 1 & 12 & infected & F8  & 42844 &  880.6 &  39666.67 &  30.4 &  1370 & P1\\_A7 \\\\\n",
       "\t P1\\_Aq.Org\\_Mixed\\_A8.mzXML.Peak.area  & 171 & 1037.8 & 1060.7 & 22.9 & 57.25 & 57.25 & 114.5 &  55 & 114.5 & 100 & m10 & GI map rep 1 & oesophagus & NA & oesophagus\\_NA & 1 & 12 & infected & H1  & 42844 & 2727.0 & 119082.97 &  94.1 &  4110 & P1\\_A8 \\\\\n",
       "\t P1\\_Aq.Org\\_Mixed\\_A9.mzXML.Peak.area  & 188 & 1053.3 & 1074.8 & 21.5 & 53.75 & 53.75 & 107.5 &  55 & 107.5 &  50 & m11 & GI map rep 1 & oesophagus & NA & oesophagus\\_NA & 1 & 12 & infected & B5  & 42844 & 7694.0 & 357860.47 & 266.0 & 12400 & P1\\_A9 \\\\\n",
       "\t P1\\_Aq.Org\\_Mixed\\_A10.mzXML.Peak.area & 205 & 1033.5 & 1054.3 & 20.8 & 52.00 & 52.00 & 104.0 &  55 & 104.0 &  50 & m12 & GI map rep 1 & oesophagus & NA & oesophagus\\_NA & 1 & 12 & infected & C10 & 42844 & 1119.0 &  53798.08 &  38.6 &  1860 & P1\\_A10\\\\\n",
       "\t P1\\_Aq.Org\\_Mixed\\_A11.mzXML.Peak.area & 222 & 1037.0 & 1073.5 & 36.5 & 91.25 & 91.25 & 182.5 & 110 & 182.5 & 100 & m13 & GI map rep 2 & oesophagus & NA & oesophagus\\_NA & 1 & 12 & infected & B5  & 42851 & 1780.0 &  48767.12 &  61.4 &  1680 & P1\\_A11\\\\\n",
       "\\end{tabular}\n"
      ],
      "text/markdown": [
       "\n",
       "A data.frame: 6 × 26\n",
       "\n",
       "| Sample.name &lt;fct&gt; | tube.number &lt;int&gt; | empty.tube.weight..mg. &lt;dbl&gt; | full.tube.weight..mg. &lt;dbl&gt; | sample.weight..mg. &lt;dbl&gt; | volume.of.water.for.homogenization..50.mg.in.125.uL. &lt;dbl&gt; | volume.of.methnanol.for.homogenization..50.mg.in.125.uL..minus.10.uL.volume.removed.for.DNA..except.for.samples.below.60.ul. &lt;dbl&gt; | final.volume_aq &lt;dbl&gt; | volume.plated_aq &lt;int&gt; | DCM.MeOH.volume..50.mg.in.250.uL. &lt;dbl&gt; | ... ... | DigitizedPosition &lt;int&gt; | days.post.infection &lt;int&gt; | condition &lt;fct&gt; | imaging.plate.position &lt;fct&gt; | collection.date &lt;fct&gt; | luminescence_counts &lt;dbl&gt; | luminescence_counts_norm_to_weight_in_G &lt;dbl&gt; | luminescence.ratio.to.average.of.nif_same_organ_same_timepoint &lt;dbl&gt; | luminescence.ratio.to.average.of.nif_same_organ_same_timepoint_norm_to_weight_inG &lt;dbl&gt; | well_Pos &lt;fct&gt; |\n",
       "|---|---|---|---|---|---|---|---|---|---|---|---|---|---|---|---|---|---|---|---|---|\n",
       "| P1_Aq.Org_Mixed_A6.mzXML.Peak.area  | 137 | 1034.3 | 1059.1 | 24.8 | 62.00 | 62.00 | 124.0 | 110 | 124.0 | ... | 1 | 12 | infected | E3  | 42844 | 2523.0 | 101733.87 |  87.1 |  3510 | P1_A6  |\n",
       "| P1_Aq.Org_Mixed_A7.mzXML.Peak.area  | 154 | 1035.2 | 1057.4 | 22.2 | 55.50 | 55.50 | 111.0 |  55 | 111.0 | ... | 1 | 12 | infected | F8  | 42844 |  880.6 |  39666.67 |  30.4 |  1370 | P1_A7  |\n",
       "| P1_Aq.Org_Mixed_A8.mzXML.Peak.area  | 171 | 1037.8 | 1060.7 | 22.9 | 57.25 | 57.25 | 114.5 |  55 | 114.5 | ... | 1 | 12 | infected | H1  | 42844 | 2727.0 | 119082.97 |  94.1 |  4110 | P1_A8  |\n",
       "| P1_Aq.Org_Mixed_A9.mzXML.Peak.area  | 188 | 1053.3 | 1074.8 | 21.5 | 53.75 | 53.75 | 107.5 |  55 | 107.5 | ... | 1 | 12 | infected | B5  | 42844 | 7694.0 | 357860.47 | 266.0 | 12400 | P1_A9  |\n",
       "| P1_Aq.Org_Mixed_A10.mzXML.Peak.area | 205 | 1033.5 | 1054.3 | 20.8 | 52.00 | 52.00 | 104.0 |  55 | 104.0 | ... | 1 | 12 | infected | C10 | 42844 | 1119.0 |  53798.08 |  38.6 |  1860 | P1_A10 |\n",
       "| P1_Aq.Org_Mixed_A11.mzXML.Peak.area | 222 | 1037.0 | 1073.5 | 36.5 | 91.25 | 91.25 | 182.5 | 110 | 182.5 | ... | 1 | 12 | infected | B5  | 42851 | 1780.0 |  48767.12 |  61.4 |  1680 | P1_A11 |\n",
       "\n"
      ],
      "text/plain": [
       "  Sample.name                         tube.number empty.tube.weight..mg.\n",
       "1 P1_Aq.Org_Mixed_A6.mzXML.Peak.area  137         1034.3                \n",
       "2 P1_Aq.Org_Mixed_A7.mzXML.Peak.area  154         1035.2                \n",
       "3 P1_Aq.Org_Mixed_A8.mzXML.Peak.area  171         1037.8                \n",
       "4 P1_Aq.Org_Mixed_A9.mzXML.Peak.area  188         1053.3                \n",
       "5 P1_Aq.Org_Mixed_A10.mzXML.Peak.area 205         1033.5                \n",
       "6 P1_Aq.Org_Mixed_A11.mzXML.Peak.area 222         1037.0                \n",
       "  full.tube.weight..mg. sample.weight..mg.\n",
       "1 1059.1                24.8              \n",
       "2 1057.4                22.2              \n",
       "3 1060.7                22.9              \n",
       "4 1074.8                21.5              \n",
       "5 1054.3                20.8              \n",
       "6 1073.5                36.5              \n",
       "  volume.of.water.for.homogenization..50.mg.in.125.uL.\n",
       "1 62.00                                               \n",
       "2 55.50                                               \n",
       "3 57.25                                               \n",
       "4 53.75                                               \n",
       "5 52.00                                               \n",
       "6 91.25                                               \n",
       "  volume.of.methnanol.for.homogenization..50.mg.in.125.uL..minus.10.uL.volume.removed.for.DNA..except.for.samples.below.60.ul.\n",
       "1 62.00                                                                                                                       \n",
       "2 55.50                                                                                                                       \n",
       "3 57.25                                                                                                                       \n",
       "4 53.75                                                                                                                       \n",
       "5 52.00                                                                                                                       \n",
       "6 91.25                                                                                                                       \n",
       "  final.volume_aq volume.plated_aq DCM.MeOH.volume..50.mg.in.250.uL. ...\n",
       "1 124.0           110              124.0                             ...\n",
       "2 111.0            55              111.0                             ...\n",
       "3 114.5            55              114.5                             ...\n",
       "4 107.5            55              107.5                             ...\n",
       "5 104.0            55              104.0                             ...\n",
       "6 182.5           110              182.5                             ...\n",
       "  DigitizedPosition days.post.infection condition imaging.plate.position\n",
       "1 1                 12                  infected  E3                    \n",
       "2 1                 12                  infected  F8                    \n",
       "3 1                 12                  infected  H1                    \n",
       "4 1                 12                  infected  B5                    \n",
       "5 1                 12                  infected  C10                   \n",
       "6 1                 12                  infected  B5                    \n",
       "  collection.date luminescence_counts luminescence_counts_norm_to_weight_in_G\n",
       "1 42844           2523.0              101733.87                              \n",
       "2 42844            880.6               39666.67                              \n",
       "3 42844           2727.0              119082.97                              \n",
       "4 42844           7694.0              357860.47                              \n",
       "5 42844           1119.0               53798.08                              \n",
       "6 42851           1780.0               48767.12                              \n",
       "  luminescence.ratio.to.average.of.nif_same_organ_same_timepoint\n",
       "1  87.1                                                         \n",
       "2  30.4                                                         \n",
       "3  94.1                                                         \n",
       "4 266.0                                                         \n",
       "5  38.6                                                         \n",
       "6  61.4                                                         \n",
       "  luminescence.ratio.to.average.of.nif_same_organ_same_timepoint_norm_to_weight_inG\n",
       "1  3510                                                                            \n",
       "2  1370                                                                            \n",
       "3  4110                                                                            \n",
       "4 12400                                                                            \n",
       "5  1860                                                                            \n",
       "6  1680                                                                            \n",
       "  well_Pos\n",
       "1 P1_A6   \n",
       "2 P1_A7   \n",
       "3 P1_A8   \n",
       "4 P1_A9   \n",
       "5 P1_A10  \n",
       "6 P1_A11  "
      ]
     },
     "metadata": {},
     "output_type": "display_data"
    },
    {
     "data": {
      "text/html": [
       "<ol class=list-inline>\n",
       "\t<li>516</li>\n",
       "\t<li>26</li>\n",
       "</ol>\n"
      ],
      "text/latex": [
       "\\begin{enumerate*}\n",
       "\\item 516\n",
       "\\item 26\n",
       "\\end{enumerate*}\n"
      ],
      "text/markdown": [
       "1. 516\n",
       "2. 26\n",
       "\n",
       "\n"
      ],
      "text/plain": [
       "[1] 516  26"
      ]
     },
     "metadata": {},
     "output_type": "display_data"
    }
   ],
   "source": [
    "features<-read.csv(\"GIMap_luminescence metadata_03212020.csv\")\n",
    "head(features)\n",
    "dim(features)"
   ]
  },
  {
   "cell_type": "code",
   "execution_count": 49,
   "metadata": {},
   "outputs": [
    {
     "data": {
      "text/plain": [
       "\n",
       " 12  89 \n",
       "258 258 "
      ]
     },
     "metadata": {},
     "output_type": "display_data"
    },
    {
     "data": {
      "text/plain": [
       "\n",
       " 12 \n",
       "258 "
      ]
     },
     "metadata": {},
     "output_type": "display_data"
    },
    {
     "data": {
      "text/plain": [
       "\n",
       " 12  89 \n",
       "258 258 "
      ]
     },
     "metadata": {},
     "output_type": "display_data"
    },
    {
     "data": {
      "text/plain": [
       "\n",
       " 89 \n",
       "258 "
      ]
     },
     "metadata": {},
     "output_type": "display_data"
    },
    {
     "data": {
      "text/plain": [
       "\n",
       "  infected uninfected \n",
       "       130        128 "
      ]
     },
     "metadata": {},
     "output_type": "display_data"
    },
    {
     "data": {
      "text/plain": [
       "\n",
       "infected \n",
       "     130 "
      ]
     },
     "metadata": {},
     "output_type": "display_data"
    },
    {
     "data": {
      "text/plain": [
       "\n",
       "  infected uninfected \n",
       "       128        130 "
      ]
     },
     "metadata": {},
     "output_type": "display_data"
    },
    {
     "data": {
      "text/plain": [
       "\n",
       "infected \n",
       "     128 "
      ]
     },
     "metadata": {},
     "output_type": "display_data"
    }
   ],
   "source": [
    "day12<-droplevels(subset(features, features$days.post.infection==c(\"12\")))\n",
    "table(features$days.post.infection)\n",
    "table(day12$days.post.infection)\n",
    "day89<-droplevels(subset(features, features$days.post.infection==c(\"89\")))\n",
    "table(features$days.post.infection)\n",
    "table(day89$days.post.infection)\n",
    "day12_inf<-droplevels(subset(day12, day12$condition==c(\"infected\")))\n",
    "table(day12$condition)\n",
    "table(day12_inf$condition)\n",
    "day89_inf<-droplevels(subset(day89, day89$condition==c(\"infected\")))\n",
    "table(day89$condition)\n",
    "table(day89_inf$condition)\n"
   ]
  },
  {
   "cell_type": "code",
   "execution_count": 13,
   "metadata": {},
   "outputs": [
    {
     "data": {
      "text/html": [
       "<strong>png:</strong> 2"
      ],
      "text/latex": [
       "\\textbf{png:} 2"
      ],
      "text/markdown": [
       "**png:** 2"
      ],
      "text/plain": [
       "png \n",
       "  2 "
      ]
     },
     "metadata": {},
     "output_type": "display_data"
    },
    {
     "data": {
      "image/png": "[encoded data removed]",
      "text/plain": [
       "plot without title"
      ]
     },
     "metadata": {},
     "output_type": "display_data"
    }
   ],
   "source": [
    "boxplot(day12_inf$luminescence.ratio.to.average.of.nif_same_organ_same_timepoint_norm_to_weight_inG~day12_inf$DigitizedPosition, ylab=c(\"luminescence ratio to uninfected, normalized to sample weight (in g)\"), cex.lab=1.4, cex.axis=1.4, outline=FALSE, log=\"y\", ylim=c(10, 100000))\n",
    "stripchart(day12_inf$luminescence.ratio.to.average.of.nif_same_organ_same_timepoint_norm_to_weight_inG~day12_inf$DigitizedPosition, vertical = TRUE,    method = \"jitter\", add = TRUE, pch = 20, col = 'black', log=\"y\", ylim=c(10, 100000))\n",
    "pdf(\"12d_inf_luminescence.pdf\")\n",
    "boxplot(day12_inf$luminescence.ratio.to.average.of.nif_same_organ_same_timepoint_norm_to_weight_inG~day12_inf$DigitizedPosition, ylab=c(\"luminescence ratio to uninfected, normalized to sample weight (in g)\"), cex.lab=1.4, cex.axis=1.4, outline=FALSE, log=\"y\", ylim=c(10, 100000))\n",
    "stripchart(day12_inf$luminescence.ratio.to.average.of.nif_same_organ_same_timepoint_norm_to_weight_inG~day12_inf$DigitizedPosition, vertical = TRUE,    method = \"jitter\", add = TRUE, pch = 20, col = 'black', log=\"y\", ylim=c(10, 100000))\n",
    "dev.off()"
   ]
  },
  {
   "cell_type": "code",
   "execution_count": 17,
   "metadata": {},
   "outputs": [
    {
     "data": {
      "text/html": [
       "<strong>png:</strong> 2"
      ],
      "text/latex": [
       "\\textbf{png:} 2"
      ],
      "text/markdown": [
       "**png:** 2"
      ],
      "text/plain": [
       "png \n",
       "  2 "
      ]
     },
     "metadata": {},
     "output_type": "display_data"
    },
    {
     "data": {
      "image/png": "[encoded data removed]",
      "text/plain": [
       "plot without title"
      ]
     },
     "metadata": {},
     "output_type": "display_data"
    }
   ],
   "source": [
    "boxplot(day89_inf$luminescence.ratio.to.average.of.nif_same_organ_same_timepoint_norm_to_weight_inG~day89_inf$DigitizedPosition, ylab=c(\"luminescence ratio to uninfected, normalized to sample weight (in g)\"), cex.lab=1.4, cex.axis=1.4, outline=FALSE, log=\"y\", ylim=c(1, 100000))\n",
    "stripchart(day89_inf$luminescence.ratio.to.average.of.nif_same_organ_same_timepoint_norm_to_weight_inG~day89_inf$DigitizedPosition, vertical = TRUE,    method = \"jitter\", add = TRUE, pch = 20, col = 'black', log=\"y\", ylim=c(1, 100000))\n",
    "pdf(\"89d_inf_luminescence.pdf\")\n",
    "boxplot(day89_inf$luminescence.ratio.to.average.of.nif_same_organ_same_timepoint_norm_to_weight_inG~day89_inf$DigitizedPosition, ylab=c(\"luminescence ratio to uninfected, normalized to sample weight (in g)\"), cex.lab=1.4, cex.axis=1.4, outline=FALSE, log=\"y\", ylim=c(1, 100000))\n",
    "stripchart(day89_inf$luminescence.ratio.to.average.of.nif_same_organ_same_timepoint_norm_to_weight_inG~day89_inf$DigitizedPosition, vertical = TRUE,    method = \"jitter\", add = TRUE, pch = 20, col = 'black', log=\"y\", ylim=c(1, 100000))\n",
    "dev.off()"
   ]
  },
  {
   "cell_type": "code",
   "execution_count": 19,
   "metadata": {},
   "outputs": [
    {
     "data": {
      "text/plain": [
       "\n",
       "\tKruskal-Wallis rank sum test\n",
       "\n",
       "data:  day12_inf$luminescence.ratio.to.average.of.nif_same_organ_same_timepoint_norm_to_weight_inG by day12_inf$DigitizedPosition\n",
       "Kruskal-Wallis chi-squared = 52.567, df = 12, p-value = 4.918e-07\n"
      ]
     },
     "metadata": {},
     "output_type": "display_data"
    },
    {
     "data": {
      "text/plain": [
       "\n",
       "\tKruskal-Wallis rank sum test\n",
       "\n",
       "data:  day89_inf$luminescence.ratio.to.average.of.nif_same_organ_same_timepoint_norm_to_weight_inG by day89_inf$DigitizedPosition\n",
       "Kruskal-Wallis chi-squared = 49.646, df = 12, p-value = 1.612e-06\n"
      ]
     },
     "metadata": {},
     "output_type": "display_data"
    }
   ],
   "source": [
    "kruskal.test(day12_inf$luminescence.ratio.to.average.of.nif_same_organ_same_timepoint_norm_to_weight_inG~day12_inf$DigitizedPosition)\n",
    "kruskal.test(day89_inf$luminescence.ratio.to.average.of.nif_same_organ_same_timepoint_norm_to_weight_inG~day89_inf$DigitizedPosition)"
   ]
  },
  {
   "cell_type": "code",
   "execution_count": 20,
   "metadata": {
    "scrolled": true
   },
   "outputs": [
    {
     "name": "stderr",
     "output_type": "stream",
     "text": [
      "Installing package into 'C:/Users/Laura-Isobel_PC/Documents/R/win-library/3.6'\n",
      "(as 'lib' is unspecified)\n",
      "also installing the dependencies 'rlang', 'vctrs', 'clipr', 'rematch', 'prettyunits', 'forcats', 'hms', 'readr', 'cellranger', 'progress', 'zip', 'SparseM', 'MatrixModels', 'sp', 'foreign', 'haven', 'curl', 'data.table', 'readxl', 'openxlsx', 'boot', 'minqa', 'nloptr', 'RcppEigen', 'carData', 'abind', 'nnet', 'pbkrtest', 'quantreg', 'maptools', 'rio', 'lme4', 'zoo', 'car', 'dunn.test', 'lmtest', 'plotrix', 'sciplot'\n",
      "\n"
     ]
    },
    {
     "name": "stdout",
     "output_type": "stream",
     "text": [
      "package 'rlang' successfully unpacked and MD5 sums checked\n"
     ]
    },
    {
     "name": "stderr",
     "output_type": "stream",
     "text": [
      "Warning message:\n",
      "\"cannot remove prior installation of package 'rlang'\"Warning message in file.copy(savedcopy, lib, recursive = TRUE):\n",
      "\"problem copying C:\\Users\\Laura-Isobel_PC\\Documents\\R\\win-library\\3.6\\00LOCK\\rlang\\libs\\x64\\rlang.dll to C:\\Users\\Laura-Isobel_PC\\Documents\\R\\win-library\\3.6\\rlang\\libs\\x64\\rlang.dll: Permission denied\"Warning message:\n",
      "\"restored 'rlang'\""
     ]
    },
    {
     "name": "stdout",
     "output_type": "stream",
     "text": [
      "package 'vctrs' successfully unpacked and MD5 sums checked\n"
     ]
    },
    {
     "name": "stderr",
     "output_type": "stream",
     "text": [
      "Warning message:\n",
      "\"cannot remove prior installation of package 'vctrs'\"Warning message in file.copy(savedcopy, lib, recursive = TRUE):\n",
      "\"problem copying C:\\Users\\Laura-Isobel_PC\\Documents\\R\\win-library\\3.6\\00LOCK\\vctrs\\libs\\x64\\vctrs.dll to C:\\Users\\Laura-Isobel_PC\\Documents\\R\\win-library\\3.6\\vctrs\\libs\\x64\\vctrs.dll: Permission denied\"Warning message:\n",
      "\"restored 'vctrs'\""
     ]
    },
    {
     "name": "stdout",
     "output_type": "stream",
     "text": [
      "package 'clipr' successfully unpacked and MD5 sums checked\n",
      "package 'rematch' successfully unpacked and MD5 sums checked\n",
      "package 'prettyunits' successfully unpacked and MD5 sums checked\n",
      "package 'forcats' successfully unpacked and MD5 sums checked\n",
      "package 'hms' successfully unpacked and MD5 sums checked\n",
      "package 'readr' successfully unpacked and MD5 sums checked\n",
      "package 'cellranger' successfully unpacked and MD5 sums checked\n",
      "package 'progress' successfully unpacked and MD5 sums checked\n",
      "package 'zip' successfully unpacked and MD5 sums checked\n",
      "package 'SparseM' successfully unpacked and MD5 sums checked\n",
      "package 'MatrixModels' successfully unpacked and MD5 sums checked\n",
      "package 'sp' successfully unpacked and MD5 sums checked\n",
      "package 'foreign' successfully unpacked and MD5 sums checked\n",
      "package 'haven' successfully unpacked and MD5 sums checked\n",
      "package 'curl' successfully unpacked and MD5 sums checked\n",
      "package 'data.table' successfully unpacked and MD5 sums checked\n",
      "package 'readxl' successfully unpacked and MD5 sums checked\n",
      "package 'openxlsx' successfully unpacked and MD5 sums checked\n",
      "package 'boot' successfully unpacked and MD5 sums checked\n",
      "package 'minqa' successfully unpacked and MD5 sums checked\n",
      "package 'nloptr' successfully unpacked and MD5 sums checked\n",
      "package 'RcppEigen' successfully unpacked and MD5 sums checked\n",
      "package 'carData' successfully unpacked and MD5 sums checked\n",
      "package 'abind' successfully unpacked and MD5 sums checked\n",
      "package 'nnet' successfully unpacked and MD5 sums checked\n",
      "package 'pbkrtest' successfully unpacked and MD5 sums checked\n",
      "package 'quantreg' successfully unpacked and MD5 sums checked\n",
      "package 'maptools' successfully unpacked and MD5 sums checked\n",
      "package 'rio' successfully unpacked and MD5 sums checked\n",
      "package 'lme4' successfully unpacked and MD5 sums checked\n",
      "package 'zoo' successfully unpacked and MD5 sums checked\n",
      "package 'car' successfully unpacked and MD5 sums checked\n",
      "package 'dunn.test' successfully unpacked and MD5 sums checked\n",
      "package 'lmtest' successfully unpacked and MD5 sums checked\n",
      "package 'plotrix' successfully unpacked and MD5 sums checked\n",
      "package 'sciplot' successfully unpacked and MD5 sums checked\n",
      "package 'FSA' successfully unpacked and MD5 sums checked\n",
      "\n",
      "The downloaded binary packages are in\n",
      "\tC:\\Users\\Laura-Isobel_PC\\AppData\\Local\\Temp\\RtmpANFE3x\\downloaded_packages\n"
     ]
    }
   ],
   "source": [
    "install.packages(\"FSA\", repos = \"http://cran.us.r-project.org\")"
   ]
  },
  {
   "cell_type": "code",
   "execution_count": 21,
   "metadata": {},
   "outputs": [
    {
     "name": "stderr",
     "output_type": "stream",
     "text": [
      "Warning message:\n",
      "\"package 'FSA' was built under R version 3.6.3\"## FSA v0.8.30. See citation('FSA') if used in publication.\n",
      "## Run fishR() for related website and fishR('IFAR') for related book.\n"
     ]
    }
   ],
   "source": [
    "library(FSA)"
   ]
  },
  {
   "cell_type": "code",
   "execution_count": 23,
   "metadata": {},
   "outputs": [
    {
     "name": "stderr",
     "output_type": "stream",
     "text": [
      "Warning message:\n",
      "\"day12_inf$DigitizedPosition was coerced to a factor.\"Dunn (1964) Kruskal-Wallis multiple comparison\n",
      "  p-values adjusted with the Bonferroni method.\n",
      "\n"
     ]
    },
    {
     "data": {
      "text/plain": [
       "   Comparison           Z      P.unadj       P.adj\n",
       "1      1 - 10  3.89974350 9.629465e-05 0.007510983\n",
       "2      1 - 11  1.76289775 7.791774e-02 1.000000000\n",
       "3     10 - 11 -2.13684575 3.261054e-02 1.000000000\n",
       "4      1 - 12 -0.20181321 8.400628e-01 1.000000000\n",
       "5     10 - 12 -4.10155671 4.103799e-05 0.003200963\n",
       "6     11 - 12 -1.96471096 4.944770e-02 1.000000000\n",
       "7      1 - 13 -0.38285153 7.018299e-01 1.000000000\n",
       "8     10 - 13 -4.28259503 1.847262e-05 0.001440864\n",
       "9     11 - 13 -2.14574928 3.189299e-02 1.000000000\n",
       "10    12 - 13 -0.18103832 8.563375e-01 1.000000000\n",
       "11      1 - 2  0.71821760 4.726231e-01 1.000000000\n",
       "12     10 - 2 -3.18152590 1.465014e-03 0.114271110\n",
       "13     11 - 2 -1.04468015 2.961708e-01 1.000000000\n",
       "14     12 - 2  0.92003081 3.575567e-01 1.000000000\n",
       "15     13 - 2  1.10106913 2.708666e-01 1.000000000\n",
       "16      1 - 3  2.71854265 6.557020e-03 0.511447567\n",
       "17     10 - 3 -1.18120085 2.375229e-01 1.000000000\n",
       "18     11 - 3  0.95564491 3.392517e-01 1.000000000\n",
       "19     12 - 3  2.92035586 3.496319e-03 0.272712873\n",
       "20     13 - 3  3.10139418 1.926117e-03 0.150237125\n",
       "21      2 - 3  2.00032505 4.546518e-02 1.000000000\n",
       "22      1 - 4  2.36833738 1.786823e-02 1.000000000\n",
       "23     10 - 4 -1.53140612 1.256691e-01 1.000000000\n",
       "24     11 - 4  0.60543963 5.448869e-01 1.000000000\n",
       "25     12 - 4  2.57015059 1.016543e-02 0.792903667\n",
       "26     13 - 4  2.75118891 5.937939e-03 0.463159239\n",
       "27      2 - 4  1.65011978 9.891844e-02 1.000000000\n",
       "28      3 - 4 -0.35020528 7.261846e-01 1.000000000\n",
       "29      1 - 5  2.03890699 4.145931e-02 1.000000000\n",
       "30     10 - 5 -1.86083651 6.276727e-02 1.000000000\n",
       "31     11 - 5  0.27600924 7.825410e-01 1.000000000\n",
       "32     12 - 5  2.24072020 2.504420e-02 1.000000000\n",
       "33     13 - 5  2.42175852 1.544561e-02 1.000000000\n",
       "34      2 - 5  1.32068939 1.866050e-01 1.000000000\n",
       "35      3 - 5 -0.67963566 4.967352e-01 1.000000000\n",
       "36      4 - 5 -0.32943039 7.418304e-01 1.000000000\n",
       "37      1 - 6  2.81054574 4.945756e-03 0.385768962\n",
       "38     10 - 6 -1.08919777 2.760667e-01 1.000000000\n",
       "39     11 - 6  1.04764799 2.948008e-01 1.000000000\n",
       "40     12 - 6  3.01235895 2.592259e-03 0.202196184\n",
       "41     13 - 6  3.19339727 1.406094e-03 0.109675301\n",
       "42      2 - 6  2.09232813 3.640917e-02 1.000000000\n",
       "43      3 - 6  0.09200308 9.266956e-01 1.000000000\n",
       "44      4 - 6  0.44220836 6.583384e-01 1.000000000\n",
       "45      5 - 6  0.77163874 4.403284e-01 1.000000000\n",
       "46      1 - 7  2.81054574 4.945756e-03 0.385768962\n",
       "47     10 - 7 -1.08919777 2.760667e-01 1.000000000\n",
       "48     11 - 7  1.04764799 2.948008e-01 1.000000000\n",
       "49     12 - 7  3.01235895 2.592259e-03 0.202196184\n",
       "50     13 - 7  3.19339727 1.406094e-03 0.109675301\n",
       "51      2 - 7  2.09232813 3.640917e-02 1.000000000\n",
       "52      3 - 7  0.09200308 9.266956e-01 1.000000000\n",
       "53      4 - 7  0.44220836 6.583384e-01 1.000000000\n",
       "54      5 - 7  0.77163874 4.403284e-01 1.000000000\n",
       "55      6 - 7  0.00000000 1.000000e+00 1.000000000\n",
       "56      1 - 8 -0.16916696 8.656653e-01 1.000000000\n",
       "57     10 - 8 -4.06891046 4.723349e-05 0.003684213\n",
       "58     11 - 8 -1.93206470 5.335152e-02 1.000000000\n",
       "59     12 - 8  0.03264625 9.739567e-01 1.000000000\n",
       "60     13 - 8  0.21368458 8.307930e-01 1.000000000\n",
       "61      2 - 8 -0.88738456 3.748719e-01 1.000000000\n",
       "62      3 - 8 -2.88770961 3.880580e-03 0.302685202\n",
       "63      4 - 8 -2.53750433 1.116460e-02 0.870838691\n",
       "64      5 - 8 -2.20807395 2.723912e-02 1.000000000\n",
       "65      6 - 8 -2.97971269 2.885189e-03 0.225044707\n",
       "66      7 - 8 -2.97971269 2.885189e-03 0.225044707\n",
       "67      1 - 9 -0.08606740 9.314128e-01 1.000000000\n",
       "68     10 - 9 -3.98581090 6.725006e-05 0.005245504\n",
       "69     11 - 9 -1.84896515 6.446285e-02 1.000000000\n",
       "70     12 - 9  0.11574581 9.078540e-01 1.000000000\n",
       "71     13 - 9  0.29678413 7.666313e-01 1.000000000\n",
       "72      2 - 9 -0.80428500 4.212324e-01 1.000000000\n",
       "73      3 - 9 -2.80461005 5.037749e-03 0.392944393\n",
       "74      4 - 9 -2.45440478 1.411180e-02 1.000000000\n",
       "75      5 - 9 -2.12497439 3.358875e-02 1.000000000\n",
       "76      6 - 9 -2.89661313 3.772146e-03 0.294227392\n",
       "77      7 - 9 -2.89661313 3.772146e-03 0.294227392\n",
       "78      8 - 9  0.08309956 9.337724e-01 1.000000000"
      ]
     },
     "metadata": {},
     "output_type": "display_data"
    }
   ],
   "source": [
    "PT_12d = dunnTest(day12_inf$luminescence.ratio.to.average.of.nif_same_organ_same_timepoint_norm_to_weight_inG~day12_inf$DigitizedPosition,\n",
    "              method=\"bonferroni\")   \n",
    "\n",
    "PT_12d"
   ]
  },
  {
   "cell_type": "code",
   "execution_count": 24,
   "metadata": {},
   "outputs": [
    {
     "name": "stderr",
     "output_type": "stream",
     "text": [
      "Warning message:\n",
      "\"day89_inf$DigitizedPosition was coerced to a factor.\"Dunn (1964) Kruskal-Wallis multiple comparison\n",
      "  p-values adjusted with the Bonferroni method.\n",
      "\n"
     ]
    },
    {
     "data": {
      "text/plain": [
       "   Comparison           Z      P.unadj        P.adj\n",
       "1      1 - 10 -1.87173173 6.124373e-02 1.0000000000\n",
       "2      1 - 11 -1.38646795 1.656041e-01 1.0000000000\n",
       "3     10 - 11  0.48526378 6.274892e-01 1.0000000000\n",
       "4      1 - 12 -1.16342745 2.446561e-01 1.0000000000\n",
       "5     10 - 12  0.70830428 4.787563e-01 1.0000000000\n",
       "6     11 - 12  0.22304050 8.235040e-01 1.0000000000\n",
       "7      1 - 13  0.15371710 8.778328e-01 1.0000000000\n",
       "8     10 - 13  2.02544883 4.282130e-02 1.0000000000\n",
       "9     11 - 13  1.54018505 1.235153e-01 1.0000000000\n",
       "10    12 - 13  1.31714455 1.877902e-01 1.0000000000\n",
       "11      1 - 2 -0.79872610 4.244492e-01 1.0000000000\n",
       "12     10 - 2  1.07300563 2.832686e-01 1.0000000000\n",
       "13     11 - 2  0.58774185 5.567056e-01 1.0000000000\n",
       "14     12 - 2  0.36470135 7.153343e-01 1.0000000000\n",
       "15     13 - 2 -0.95244320 3.408723e-01 1.0000000000\n",
       "16      1 - 3 -0.16275928 8.707080e-01 1.0000000000\n",
       "17     10 - 3  1.70897245 8.745605e-02 1.0000000000\n",
       "18     11 - 3  1.22370867 2.210621e-01 1.0000000000\n",
       "19     12 - 3  1.00066817 3.169873e-01 1.0000000000\n",
       "20     13 - 3 -0.31647638 7.516410e-01 1.0000000000\n",
       "21      2 - 3  0.63596682 5.247980e-01 1.0000000000\n",
       "22      1 - 4  0.27126547 7.861869e-01 1.0000000000\n",
       "23     10 - 4  2.14299720 3.211332e-02 1.0000000000\n",
       "24     11 - 4  1.65773342 9.737129e-02 1.0000000000\n",
       "25     12 - 4  1.43469292 1.513746e-01 1.0000000000\n",
       "26     13 - 4  0.11754837 9.064255e-01 1.0000000000\n",
       "27      2 - 4  1.06999157 2.846231e-01 1.0000000000\n",
       "28      3 - 4  0.43402475 6.642705e-01 1.0000000000\n",
       "29      1 - 5  2.70361250 6.859023e-03 0.5350037559\n",
       "30     10 - 5  4.57534423 4.754376e-06 0.0003708413\n",
       "31     11 - 5  4.09008045 4.312236e-05 0.0033635440\n",
       "32     12 - 5  3.86703995 1.101644e-04 0.0085928221\n",
       "33     13 - 5  2.54989540 1.077552e-02 0.8404908957\n",
       "34      2 - 5  3.50233860 4.611931e-04 0.0359730624\n",
       "35      3 - 5  2.86637178 4.152063e-03 0.3238609260\n",
       "36      4 - 5  2.43234703 1.500133e-02 1.0000000000\n",
       "37      1 - 6  2.15396667 3.124279e-02 1.0000000000\n",
       "38     10 - 6  3.97577656 7.014997e-05 0.0054716974\n",
       "39     11 - 6  3.50345548 4.592634e-04 0.0358225467\n",
       "40     12 - 6  3.28636380 1.014898e-03 0.0791620752\n",
       "41     13 - 6  2.00434944 4.503264e-02 1.0000000000\n",
       "42      2 - 6  2.93138957 3.374493e-03 0.2632104644\n",
       "43      3 - 6  2.31238492 2.075648e-02 1.0000000000\n",
       "44      4 - 6  1.88993626 5.876649e-02 1.0000000000\n",
       "45      5 - 6 -0.47753650 6.329801e-01 1.0000000000\n",
       "46      1 - 7  2.38412206 1.711992e-02 1.0000000000\n",
       "47     10 - 7  4.25585379 2.082528e-05 0.0016243716\n",
       "48     11 - 7  3.77059001 1.628620e-04 0.0127032398\n",
       "49     12 - 7  3.54754951 3.888327e-04 0.0303289475\n",
       "50     13 - 7  2.23040496 2.572057e-02 1.0000000000\n",
       "51      2 - 7  3.18284816 1.458341e-03 0.1137505739\n",
       "52      3 - 7  2.54688134 1.086904e-02 0.8477849984\n",
       "53      4 - 7  2.11285659 3.461304e-02 1.0000000000\n",
       "54      5 - 7 -0.31949044 7.493546e-01 1.0000000000\n",
       "55      6 - 7  0.16656734 8.677105e-01 1.0000000000\n",
       "56      1 - 8  0.75652925 4.493319e-01 1.0000000000\n",
       "57     10 - 8  2.62826098 8.582264e-03 0.6694166247\n",
       "58     11 - 8  2.14299720 3.211332e-02 1.0000000000\n",
       "59     12 - 8  1.91995670 5.486337e-02 1.0000000000\n",
       "60     13 - 8  0.60281215 5.466337e-01 1.0000000000\n",
       "61      2 - 8  1.55525535 1.198853e-01 1.0000000000\n",
       "62      3 - 8  0.91928853 3.579447e-01 1.0000000000\n",
       "63      4 - 8  0.48526378 6.274892e-01 1.0000000000\n",
       "64      5 - 8 -1.94708325 5.152475e-02 1.0000000000\n",
       "65      6 - 8 -1.41761517 1.563031e-01 1.0000000000\n",
       "66      7 - 8 -1.62759281 1.036113e-01 1.0000000000\n",
       "67      1 - 9  0.30901338 7.573113e-01 1.0000000000\n",
       "68     10 - 9  2.13082327 3.310370e-02 1.0000000000\n",
       "69     11 - 9  1.65850218 9.721615e-02 1.0000000000\n",
       "70     12 - 9  1.44141051 1.494687e-01 1.0000000000\n",
       "71     13 - 9  0.15939614 8.733568e-01 1.0000000000\n",
       "72      2 - 9  1.08643628 2.772860e-01 1.0000000000\n",
       "73      3 - 9  0.46743163 6.401911e-01 1.0000000000\n",
       "74      4 - 9  0.04498296 9.641209e-01 1.0000000000\n",
       "75      5 - 9 -2.32248979 2.020658e-02 1.0000000000\n",
       "76      6 - 9 -1.79823803 7.213929e-02 1.0000000000\n",
       "77      7 - 9 -2.01152063 4.427049e-02 1.0000000000\n",
       "78      8 - 9 -0.42733812 6.691331e-01 1.0000000000"
      ]
     },
     "metadata": {},
     "output_type": "display_data"
    }
   ],
   "source": [
    "PT_89d = dunnTest(day89_inf$luminescence.ratio.to.average.of.nif_same_organ_same_timepoint_norm_to_weight_inG~day89_inf$DigitizedPosition,method=\"bonferroni\")   \n",
    "\n",
    "PT_89d"
   ]
  },
  {
   "cell_type": "code",
   "execution_count": 50,
   "metadata": {},
   "outputs": [
    {
     "data": {
      "text/html": [
       "<strong>png:</strong> 2"
      ],
      "text/latex": [
       "\\textbf{png:} 2"
      ],
      "text/markdown": [
       "**png:** 2"
      ],
      "text/plain": [
       "png \n",
       "  2 "
      ]
     },
     "metadata": {},
     "output_type": "display_data"
    },
    {
     "data": {
      "image/png": "[encoded data removed]",
      "text/plain": [
       "plot without title"
      ]
     },
     "metadata": {},
     "output_type": "display_data"
    }
   ],
   "source": [
    "boxplot(day12$luminescence_counts~day12$condition:day12$DigitizedPosition, ylab=c(\"RLU (counts)\"), cex.lab=1.4, cex.axis=1.4, outline=FALSE, log=\"y\", ylim=c(1, 1000000), col=c(\"red\", \"blue\"))\n",
    "stripchart(day12$luminescence_counts~day12$condition:day12$DigitizedPosition, vertical = TRUE,    method = \"jitter\", add = TRUE, pch = 20, col = 'black', log=\"y\", ylim=c(1, 1000000))\n",
    "pdf(\"12d_inf_and_nif_luminescence.pdf\")\n",
    "boxplot(day12$luminescence_counts~day12$condition:day12$DigitizedPosition, ylab=c(\"RLU (counts)\"), cex.lab=1.4, cex.axis=1.4, outline=FALSE, log=\"y\", ylim=c(1, 1000000), col=c(\"red\", \"blue\"))\n",
    "stripchart(day12$luminescence_counts~day12$condition:day12$DigitizedPosition, vertical = TRUE,    method = \"jitter\", add = TRUE, pch = 20, col = 'black', log=\"y\", ylim=c(1, 1000000))\n",
    "dev.off()"
   ]
  },
  {
   "cell_type": "code",
   "execution_count": 52,
   "metadata": {},
   "outputs": [
    {
     "data": {
      "text/html": [
       "<strong>png:</strong> 2"
      ],
      "text/latex": [
       "\\textbf{png:} 2"
      ],
      "text/markdown": [
       "**png:** 2"
      ],
      "text/plain": [
       "png \n",
       "  2 "
      ]
     },
     "metadata": {},
     "output_type": "display_data"
    },
    {
     "data": {
      "image/png": "[encoded data removed]",
      "text/plain": [
       "plot without title"
      ]
     },
     "metadata": {},
     "output_type": "display_data"
    }
   ],
   "source": [
    "boxplot(day89$luminescence_counts~day89$condition:day89$DigitizedPosition, ylab=c(\"RLU (counts)\"), cex.lab=1.4, cex.axis=1.4, outline=FALSE, log=\"y\", ylim=c(0.1, 100000), col=c(\"red\", \"blue\"))\n",
    "stripchart(day89$luminescence_counts~day89$condition:day89$DigitizedPosition, vertical = TRUE,    method = \"jitter\", add = TRUE, pch = 20, col = 'black', log=\"y\", ylim=c(0.1, 100000))\n",
    "pdf(\"89d_inf_and_nif_luminescence.pdf\")\n",
    "boxplot(day89$luminescence_counts~day89$condition:day89$DigitizedPosition, ylab=c(\"RLU (counts)\"), cex.lab=1.4, cex.axis=1.4, outline=FALSE, log=\"y\", ylim=c(0.1, 100000), col=c(\"red\", \"blue\"))\n",
    "stripchart(day89$luminescence_counts~day89$condition:day89$DigitizedPosition, vertical = TRUE,    method = \"jitter\", add = TRUE, pch = 20, col = 'black', log=\"y\", ylim=c(0.1, 100000))\n",
    "dev.off()"
   ]
  },
  {
   "cell_type": "code",
   "execution_count": null,
   "metadata": {},
   "outputs": [],
   "source": []
  }
 ],
 "metadata": {
  "kernelspec": {
   "display_name": "R",
   "language": "R",
   "name": "ir"
  },
  "language_info": {
   "codemirror_mode": "r",
   "file_extension": ".r",
   "mimetype": "text/x-r-source",
   "name": "R",
   "pygments_lexer": "r",
   "version": "3.6.1"
  }
 },
 "nbformat": 4,
 "nbformat_minor": 2
}
