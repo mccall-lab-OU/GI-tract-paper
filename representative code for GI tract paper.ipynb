{
 "cells": [
  {
   "cell_type": "code",
   "execution_count": 5,
   "metadata": {},
   "outputs": [
    {
     "data": {
      "text/html": [
       "<table>\n",
       "<caption>A data.frame: 6 × 787</caption>\n",
       "<thead>\n",
       "\t<tr><th scope=col>mass_RT</th><th scope=col>GIMap_P1_LI_Aq.Org_Mixed_A7.mzXML.Peak.area</th><th scope=col>GIMap_P1_LI_Aq.Org_Mixed_B12.mzXML.Peak.area</th><th scope=col>GIMap_P1_LI_Aq.Org_Mixed_B10.mzXML.Peak.area</th><th scope=col>GIMap_P1_LI_Aq.Org_Mixed_A12.mzXML.Peak.area</th><th scope=col>GIMap_P1_LI_Aq.Org_Mixed_B11.mzXML.Peak.area</th><th scope=col>GIMap_P1_LI_Aq.Org_Mixed_B7.mzXML.Peak.area</th><th scope=col>GIMap_P1_LI_Aq.Org_Mixed_A3.mzXML.Peak.area</th><th scope=col>GIMap_P1_LI_Aq.Org_Mixed_B5.mzXML.Peak.area</th><th scope=col>GIMap_P1_LI_Aq.Org_Mixed_A8.mzXML.Peak.area</th><th scope=col>...</th><th scope=col>GIMap_P3_SI_Pulled_Sample_QC_180315155821.mzXML.Peak.area</th><th scope=col>GIMap_P3_SI_Pulled_Sample_QC_180316175021.mzXML.Peak.area</th><th scope=col>GIMap_P3_SI_Aq_A11.mzXML.Peak.area</th><th scope=col>GIMap_P3_SI_Aq_A12.mzXML.Peak.area</th><th scope=col>GIMap_P3_SI_Aq_A7.mzXML.Peak.area</th><th scope=col>GIMap_P3_SI_Aq.Org_Mixed_H5.mzXML.Peak.area</th><th scope=col>GIMap_P3_SI_Aq.Org_Mixed_H9.mzXML.Peak.area</th><th scope=col>GIMap_P3_SI_Aq.Org_Mixed_H4.mzXML.Peak.area</th><th scope=col>GIMap_P3_SI_Aq.Org_Mixed_H10.mzXML.Peak.area</th><th scope=col>GIMap_P3_SI_Aq.Org_Mixed_G4.mzXML.Peak.area</th></tr>\n",
       "\t<tr><th scope=col>&lt;fct&gt;</th><th scope=col>&lt;dbl&gt;</th><th scope=col>&lt;dbl&gt;</th><th scope=col>&lt;dbl&gt;</th><th scope=col>&lt;dbl&gt;</th><th scope=col>&lt;dbl&gt;</th><th scope=col>&lt;dbl&gt;</th><th scope=col>&lt;dbl&gt;</th><th scope=col>&lt;dbl&gt;</th><th scope=col>&lt;dbl&gt;</th><th scope=col>...</th><th scope=col>&lt;dbl&gt;</th><th scope=col>&lt;dbl&gt;</th><th scope=col>&lt;dbl&gt;</th><th scope=col>&lt;dbl&gt;</th><th scope=col>&lt;dbl&gt;</th><th scope=col>&lt;dbl&gt;</th><th scope=col>&lt;dbl&gt;</th><th scope=col>&lt;dbl&gt;</th><th scope=col>&lt;dbl&gt;</th><th scope=col>&lt;dbl&gt;</th></tr>\n",
       "</thead>\n",
       "<tbody>\n",
       "\t<tr><td>70.012_0.234</td><td>0.0e+00</td><td>0.00e+00</td><td>0.00e+00</td><td>0.00e+00</td><td>0.00e+00</td><td>0.00e+00</td><td>0.00e+00</td><td>0.00e+00</td><td>0.00e+00</td><td>...</td><td>0.0e+00</td><td>0.00e+00</td><td>0.00e+00</td><td>0.00e+00</td><td>0.00e+00</td><td>0.00e+00</td><td>0.00e+00</td><td>0.00e+00</td><td>0.00e+00</td><td>0.00e+00</td></tr>\n",
       "\t<tr><td>70.013_2.191</td><td>0.0e+00</td><td>0.00e+00</td><td>0.00e+00</td><td>0.00e+00</td><td>0.00e+00</td><td>0.00e+00</td><td>0.00e+00</td><td>0.00e+00</td><td>0.00e+00</td><td>...</td><td>0.0e+00</td><td>0.00e+00</td><td>0.00e+00</td><td>0.00e+00</td><td>0.00e+00</td><td>0.00e+00</td><td>0.00e+00</td><td>0.00e+00</td><td>0.00e+00</td><td>0.00e+00</td></tr>\n",
       "\t<tr><td>70.065_0.36 </td><td>0.0e+00</td><td>0.00e+00</td><td>0.00e+00</td><td>0.00e+00</td><td>0.00e+00</td><td>0.00e+00</td><td>0.00e+00</td><td>0.00e+00</td><td>0.00e+00</td><td>...</td><td>0.0e+00</td><td>0.00e+00</td><td>9.18e+08</td><td>9.53e+08</td><td>0.00e+00</td><td>1.17e+09</td><td>1.54e+09</td><td>7.28e+08</td><td>8.73e+08</td><td>9.71e+08</td></tr>\n",
       "\t<tr><td>70.065_0.264</td><td>0.0e+00</td><td>0.00e+00</td><td>0.00e+00</td><td>0.00e+00</td><td>0.00e+00</td><td>0.00e+00</td><td>0.00e+00</td><td>0.00e+00</td><td>0.00e+00</td><td>...</td><td>3.5e+08</td><td>3.51e+08</td><td>0.00e+00</td><td>0.00e+00</td><td>4.87e+08</td><td>0.00e+00</td><td>0.00e+00</td><td>0.00e+00</td><td>0.00e+00</td><td>0.00e+00</td></tr>\n",
       "\t<tr><td>72.081_0.24 </td><td>0.0e+00</td><td>0.00e+00</td><td>0.00e+00</td><td>0.00e+00</td><td>0.00e+00</td><td>0.00e+00</td><td>0.00e+00</td><td>0.00e+00</td><td>0.00e+00</td><td>...</td><td>0.0e+00</td><td>8.17e+07</td><td>0.00e+00</td><td>0.00e+00</td><td>0.00e+00</td><td>0.00e+00</td><td>0.00e+00</td><td>0.00e+00</td><td>0.00e+00</td><td>0.00e+00</td></tr>\n",
       "\t<tr><td>72.081_0.36 </td><td>4.7e+08</td><td>6.58e+08</td><td>5.06e+08</td><td>5.99e+08</td><td>5.24e+08</td><td>5.58e+08</td><td>6.87e+08</td><td>5.93e+08</td><td>6.49e+08</td><td>...</td><td>0.0e+00</td><td>0.00e+00</td><td>0.00e+00</td><td>0.00e+00</td><td>0.00e+00</td><td>0.00e+00</td><td>0.00e+00</td><td>0.00e+00</td><td>0.00e+00</td><td>0.00e+00</td></tr>\n",
       "</tbody>\n",
       "</table>\n"
      ],
      "text/latex": [
       "A data.frame: 6 × 787\n",
       "\\begin{tabular}{r|lllllllllllllllllllllllllllllllllllllllllllllllllllllllllllllllllllllllllllllllllllllllllllllllllllllllllllllllllllllllllllllllllllllllllllllllllllllllllllllllllllllllllllllllllllllllllllllllllllllllllllllllllllllllllllllllllllllllllllllllllllllllllllllllllllllllllllllllllllllllllllllllllllllllllllllllllllllllllllllllllllllllllllllllllllllllllllllllllllllllllllllllllllllllllllllllllllllllllllllllllllllllllllllllllllllllllllllllllllllllllllllllllllllllllllllllllllllllllllllllllllllllllllllllllllllllllllllllllllllllllllllllllllllllllllllllllllllllllllllllllllllllllllllllllllllllllllllllllllllllllllllllllllllllllllllllllllllllllllllllllllllllllllllllllllllllllllllllllllllllllllllllllllllllllllllllllllllllllllllllllllllllllllllllllllllllllllllllllllllllllllllllllllllllllllllllllll}\n",
       " mass\\_RT & GIMap\\_P1\\_LI\\_Aq.Org\\_Mixed\\_A7.mzXML.Peak.area & GIMap\\_P1\\_LI\\_Aq.Org\\_Mixed\\_B12.mzXML.Peak.area & GIMap\\_P1\\_LI\\_Aq.Org\\_Mixed\\_B10.mzXML.Peak.area & GIMap\\_P1\\_LI\\_Aq.Org\\_Mixed\\_A12.mzXML.Peak.area & GIMap\\_P1\\_LI\\_Aq.Org\\_Mixed\\_B11.mzXML.Peak.area & GIMap\\_P1\\_LI\\_Aq.Org\\_Mixed\\_B7.mzXML.Peak.area & GIMap\\_P1\\_LI\\_Aq.Org\\_Mixed\\_A3.mzXML.Peak.area & GIMap\\_P1\\_LI\\_Aq.Org\\_Mixed\\_B5.mzXML.Peak.area & GIMap\\_P1\\_LI\\_Aq.Org\\_Mixed\\_A8.mzXML.Peak.area & GIMap\\_P1\\_LI\\_Aq.Org\\_Mixed\\_A9.mzXML.Peak.area & GIMap\\_P1\\_LI\\_Aq.Org\\_Mixed\\_B6.mzXML.Peak.area & GIMap\\_P1\\_LI\\_Aq.Org\\_Mixed\\_A2.mzXML.Peak.area & GIMap\\_P1\\_LI\\_Aq.Org\\_Mixed\\_A11.mzXML.Peak.area & GIMap\\_P1\\_LI\\_Aq.Org\\_Mixed\\_A10.mzXML.Peak.area & GIMap\\_P1\\_LI\\_Aq.Org\\_Mixed\\_B1.mzXML.Peak.area & GIMap\\_P1\\_LI\\_Aq.Org\\_Mixed\\_A6.mzXML.Peak.area & GIMap\\_P1\\_LI\\_Aq.Org\\_Mixed\\_C9.mzXML.Peak.area & GIMap\\_P1\\_LI\\_Aq.Org\\_Mixed\\_C8.mzXML.Peak.area & GIMap\\_P1\\_LI\\_Aq.Org\\_Mixed\\_C10.mzXML.Peak.area & GIMap\\_P1\\_LI\\_Aq.Org\\_Mixed\\_C5.mzXML.Peak.area & GIMap\\_P1\\_LI\\_Aq.Org\\_Mixed\\_D12.mzXML.Peak.area & GIMap\\_P1\\_LI\\_Aq.Org\\_Mixed\\_D11.mzXML.Peak.area & GIMap\\_P1\\_LI\\_Aq.Org\\_Mixed\\_C3.mzXML.Peak.area & GIMap\\_P1\\_LI\\_Aq.Org\\_Mixed\\_C12.mzXML.Peak.area & GIMap\\_P1\\_LI\\_Aq.Org\\_Mixed\\_B9.mzXML.Peak.area & GIMap\\_P1\\_LI\\_Aq.Org\\_Mixed\\_D8.mzXML.Peak.area & GIMap\\_P1\\_LI\\_Aq.Org\\_Mixed\\_E11.mzXML.Peak.area & GIMap\\_P1\\_LI\\_Aq.Org\\_Mixed\\_B8.mzXML.Peak.area & GIMap\\_P1\\_LI\\_Aq.Org\\_Mixed\\_D6.mzXML.Peak.area & GIMap\\_P1\\_LI\\_Aq.Org\\_Mixed\\_C4.mzXML.Peak.area & GIMap\\_P1\\_LI\\_Aq.Org\\_Mixed\\_B3.mzXML.Peak.area & GIMap\\_P1\\_LI\\_Aq.Org\\_Mixed\\_C11.mzXML.Peak.area & GIMap\\_P1\\_LI\\_Aq.Org\\_Mixed\\_D7.mzXML.Peak.area & GIMap\\_P1\\_LI\\_Aq.Org\\_Mixed\\_E10.mzXML.Peak.area & GIMap\\_P1\\_LI\\_Aq.Org\\_Mixed\\_B2.mzXML.Peak.area & GIMap\\_P1\\_LI\\_Aq.Org\\_Mixed\\_A4.mzXML.Peak.area & GIMap\\_P1\\_LI\\_Aq.Org\\_Mixed\\_D1.mzXML.Peak.area & GIMap\\_P1\\_LI\\_Aq.Org\\_Mixed\\_A5.mzXML.Peak.area & GIMap\\_P1\\_LI\\_Aq.Org\\_Mixed\\_F12.mzXML.Peak.area & GIMap\\_P1\\_LI\\_Aq.Org\\_Mixed\\_E9.mzXML.Peak.area & GIMap\\_P1\\_LI\\_Aq.Org\\_Mixed\\_G11.mzXML.Peak.area & GIMap\\_P1\\_LI\\_Aq.Org\\_Mixed\\_E6.mzXML.Peak.area & GIMap\\_P1\\_LI\\_Aq.Org\\_Mixed\\_F7.mzXML.Peak.area & GIMap\\_P1\\_LI\\_Aq.Org\\_Mixed\\_E5.mzXML.Peak.area & GIMap\\_P1\\_LI\\_Aq.Org\\_Mixed\\_C7.mzXML.Peak.area & GIMap\\_P1\\_LI\\_Aq.Org\\_Mixed\\_D2.mzXML.Peak.area & GIMap\\_P1\\_LI\\_Aq.Org\\_Mixed\\_E1.mzXML.Peak.area & GIMap\\_P1\\_LI\\_Aq.Org\\_Mixed\\_D9.mzXML.Peak.area & GIMap\\_P1\\_LI\\_Aq.Org\\_Mixed\\_D5.mzXML.Peak.area & GIMap\\_P1\\_LI\\_Aq.Org\\_Mixed\\_F8.mzXML.Peak.area & GIMap\\_P1\\_LI\\_Aq.Org\\_Mixed\\_D10.mzXML.Peak.area & GIMap\\_P1\\_LI\\_Aq.Org\\_Mixed\\_C6.mzXML.Peak.area & GIMap\\_P1\\_LI\\_Aq.Org\\_Mixed\\_F2.mzXML.Peak.area & GIMap\\_P1\\_LI\\_Aq.Org\\_Mixed\\_F3.mzXML.Peak.area & GIMap\\_P1\\_LI\\_Aq.Org\\_Mixed\\_E7.mzXML.Peak.area & GIMap\\_P1\\_LI\\_Aq.Org\\_Mixed\\_C1.mzXML.Peak.area & GIMap\\_P1\\_LI\\_Aq.Org\\_Mixed\\_E4.mzXML.Peak.area & GIMap\\_P1\\_LI\\_Aq.Org\\_Mixed\\_D3.mzXML.Peak.area & GIMap\\_P1\\_LI\\_Aq.Org\\_Mixed\\_E8.mzXML.Peak.area & GIMap\\_P1\\_LI\\_Aq.Org\\_Mixed\\_G12.mzXML.Peak.area & GIMap\\_P1\\_LI\\_Aq.Org\\_Mixed\\_G10.mzXML.Peak.area & GIMap\\_P1\\_LI\\_Aq.Org\\_Mixed\\_G6.mzXML.Peak.area & GIMap\\_P1\\_LI\\_Aq.Org\\_Mixed\\_G7.mzXML.Peak.area & GIMap\\_P1\\_LI\\_Aq.Org\\_Mixed\\_G5.mzXML.Peak.area & GIMap\\_P1\\_LI\\_Aq.Org\\_Mixed\\_A1.mzXML.Peak.area & GIMap\\_P1\\_LI\\_Aq.Org\\_Mixed\\_F9.mzXML.Peak.area & GIMap\\_P1\\_LI\\_Aq.Org\\_Mixed\\_F6.mzXML.Peak.area & GIMap\\_P1\\_LI\\_Aq.Org\\_Mixed\\_F10.mzXML.Peak.area & GIMap\\_P1\\_LI\\_Aq.Org\\_Mixed\\_G2.mzXML.Peak.area & GIMap\\_P1\\_LI\\_LI\\_blank\\_Pos\\_restart.mzXML.Peak.area & GIMap\\_P1\\_LI\\_Aq.Org\\_Mixed\\_E12.mzXML.Peak.area & GIMap\\_P1\\_LI\\_LI\\_blank\\_Pos\\_start\\_180302190225.mzXML.Peak.area & GIMap\\_P1\\_LI\\_Aq.Org\\_Mixed\\_F11.mzXML.Peak.area & GIMap\\_P1\\_LI\\_Aq.Org\\_Mixed\\_H10.mzXML.Peak.area & GIMap\\_P1\\_LI\\_Aq.Org\\_Mixed\\_H3.mzXML.Peak.area & GIMap\\_P1\\_LI\\_Aq.Org\\_Mixed\\_F4.mzXML.Peak.area & GIMap\\_P1\\_LI\\_Aq.Org\\_Mixed\\_E3.mzXML.Peak.area & GIMap\\_P1\\_LI\\_Aq.Org\\_Mixed\\_F5.mzXML.Peak.area & GIMap\\_P1\\_LI\\_Aq.Org\\_Mixed\\_B4.mzXML.Peak.area & GIMap\\_P1\\_LI\\_Aq.Org\\_Mixed\\_C2.mzXML.Peak.area & GIMap\\_P1\\_LI\\_Aq.Org\\_Mixed\\_G4.mzXML.Peak.area & GIMap\\_P1\\_LI\\_blank\\_mid\\_pos\\_180303131110.mzXML.Peak.area & GIMap\\_P1\\_LI\\_blank\\_mid\\_pos\\_180303075005.mzXML.Peak.area & GIMap\\_P1\\_LI\\_Aq.Org\\_Mixed\\_H9.mzXML.Peak.area & GIMap\\_P1\\_LI\\_LI\\_blank\\_Pos\\_start.mzXML.Peak.area & GIMap\\_P1\\_LI\\_Aq.Org\\_Mixed\\_H8.mzXML.Peak.area & GIMap\\_P1\\_LI\\_Pulled\\_Sample\\_QC\\_180303131927.mzXML.Peak.area & GIMap\\_P1\\_LI\\_Pulled\\_Sample\\_QC.mzXML.Peak.area & GIMap\\_P1\\_LI\\_Aq.Org\\_Mixed\\_H11.mzXML.Peak.area & GIMap\\_P1\\_LI\\_Aq.Org\\_Mixed\\_H4.mzXML.Peak.area & GIMap\\_P1\\_LI\\_Aq.Org\\_Mixed\\_D4\\_180303095114.mzXML.Peak.area & GIMap\\_P1\\_LI\\_Aq.Org\\_Mixed\\_F1.mzXML.Peak.area & GIMap\\_P1\\_LI\\_Aq.Org\\_Mixed\\_G3.mzXML.Peak.area & GIMap\\_P1\\_LI\\_blank\\_mid\\_pos.mzXML.Peak.area & GIMap\\_P1\\_LI\\_blank\\_mid\\_pos\\_180303075820.mzXML.Peak.area & GIMap\\_P1\\_LI\\_blank\\_mid\\_pos\\_180303082305.mzXML.Peak.area & GIMap\\_P1\\_LI\\_blank\\_mid\\_pos\\_180303081450.mzXML.Peak.area & GIMap\\_P1\\_LI\\_blank\\_mid\\_pos\\_180303074149.mzXML.Peak.area & GIMap\\_P1\\_LI\\_Aq.Org\\_Mixed\\_H12.mzXML.Peak.area & GIMap\\_P1\\_LI\\_Aq.Org\\_Mixed\\_H1.mzXML.Peak.area & GIMap\\_P1\\_LI\\_Aq.Org\\_Mixed\\_G1.mzXML.Peak.area & GIMap\\_P1\\_LI\\_Pulled\\_Sample\\_QC\\_180302192710.mzXML.Peak.area & GIMap\\_P1\\_LI\\_Pulled\\_Sample\\_QC\\_180302191853.mzXML.Peak.area & GIMap\\_P1\\_LI\\_Aq.Org\\_Mixed\\_H5.mzXML.Peak.area & GIMap\\_P1\\_LI\\_Pulled\\_Sample\\_QC\\_180302191038.mzXML.Peak.area & GIMap\\_P1\\_LI\\_Aq.Org\\_Mixed\\_H7.mzXML.Peak.area & GIMap\\_P1\\_LI\\_Aq.Org\\_Mixed\\_E2.mzXML.Peak.area & GIMap\\_P1\\_LI\\_Aq.Org\\_Mixed\\_G9.mzXML.Peak.area & GIMap\\_P1\\_blank\\_last\\_pos.mzXML.Peak.area & GIMap\\_P1\\_blank\\_last\\_pos\\_180303205710.mzXML.Peak.area & GIMap\\_P1\\_blank\\_last\\_pos\\_180303204849.mzXML.Peak.area & GIMap\\_P1\\_LI\\_blank\\_mid\\_pos\\_180303181041.mzXML.Peak.area & GIMap\\_P1\\_LI\\_blank\\_mid\\_pos\\_180303154053.mzXML.Peak.area & GIMap\\_P1\\_blank\\_last\\_pos\\_180303210525.mzXML.Peak.area & GIMap\\_P1\\_blank\\_last\\_pos\\_180303211340.mzXML.Peak.area & GIMap\\_P1\\_LI\\_blank\\_mid\\_pos\\_180303080635.mzXML.Peak.area & GIMap\\_P1\\_blank\\_last\\_pos\\_180303212153.mzXML.Peak.area & GIMap\\_P1\\_LI\\_blank\\_mid\\_pos\\_180303091802.mzXML.Peak.area & GIMap\\_P1\\_LI\\_blank\\_mid\\_pos\\_180303090947.mzXML.Peak.area & GIMap\\_P2\\_LI\\_Aq.Org\\_Mixed\\_A7.mzXML.Peak.area & GIMap\\_P1\\_LI\\_Pulled\\_Sample\\_QC\\_180303181856.mzXML.Peak.area & GIMap\\_P1\\_LI\\_blank\\_mid\\_pos\\_180303090113.mzXML.Peak.area & GIMap\\_P1\\_LI\\_Pulled\\_Sample\\_QC\\_180302215824.mzXML.Peak.area & GIMap\\_P1\\_LI\\_Aq.Org\\_Mixed\\_G8.mzXML.Peak.area & GIMap\\_P2\\_LI\\_Aq.Org\\_Mixed\\_A11.mzXML.Peak.area & GIMap\\_P2\\_LI\\_Aq.Org\\_Mixed\\_B1.mzXML.Peak.area & GIMap\\_P2\\_LI\\_Aq.Org\\_Mixed\\_A1.mzXML.Peak.area & GIMap\\_P2\\_LI\\_Aq.Org\\_Mixed\\_A6.mzXML.Peak.area & GIMap\\_P2\\_LI\\_Aq.Org\\_Mixed\\_B10.mzXML.Peak.area & GIMap\\_P1\\_LI\\_Pulled\\_Sample\\_QC\\_180303154908.mzXML.Peak.area & GIMap\\_P2\\_LI\\_Aq.Org\\_Mixed\\_B4.mzXML.Peak.area & GIMap\\_P2\\_LI\\_Aq.Org\\_Mixed\\_A2.mzXML.Peak.area & GIMap\\_P2\\_LI\\_Aq.Org\\_Mixed\\_B5.mzXML.Peak.area & GIMap\\_P2\\_LI\\_Aq.Org\\_Mixed\\_B6.mzXML.Peak.area & GIMap\\_P2\\_LI\\_Aq.Org\\_Mixed\\_A12.mzXML.Peak.area & GIMap\\_P2\\_LI\\_Aq.Org\\_Mixed\\_A3.mzXML.Peak.area & GIMap\\_P2\\_LI\\_Aq.Org\\_Mixed\\_A8\\_180304131100.mzXML.Peak.area & GIMap\\_P2\\_LI\\_Aq.Org\\_Mixed\\_A5.mzXML.Peak.area & GIMap\\_P2\\_LI\\_Aq.Org\\_Mixed\\_A10.mzXML.Peak.area & GIMap\\_P1\\_LI\\_Aq.Org\\_Mixed\\_H6.mzXML.Peak.area & GIMap\\_P2\\_LI\\_Aq.Org\\_Mixed\\_D12.mzXML.Peak.area & GIMap\\_P2\\_LI\\_Aq.Org\\_Mixed\\_C8.mzXML.Peak.area & GIMap\\_P2\\_LI\\_Aq.Org\\_Mixed\\_C12.mzXML.Peak.area & GIMap\\_P2\\_LI\\_Aq.Org\\_Mixed\\_B9.mzXML.Peak.area & GIMap\\_P2\\_LI\\_Aq.Org\\_Mixed\\_C2.mzXML.Peak.area & GIMap\\_P2\\_LI\\_Aq.Org\\_Mixed\\_B11.mzXML.Peak.area & GIMap\\_P2\\_LI\\_Aq.Org\\_Mixed\\_C7.mzXML.Peak.area & GIMap\\_P2\\_LI\\_Aq.Org\\_Mixed\\_C4.mzXML.Peak.area & GIMap\\_P2\\_LI\\_Aq.Org\\_Mixed\\_C9\\_180304151516.mzXML.Peak.area & GIMap\\_P2\\_LI\\_Aq.Org\\_Mixed\\_C1.mzXML.Peak.area & GIMap\\_P2\\_LI\\_Aq.Org\\_Mixed\\_C3.mzXML.Peak.area & GIMap\\_P2\\_LI\\_Aq.Org\\_Mixed\\_A4.mzXML.Peak.area & GIMap\\_P2\\_LI\\_Aq.Org\\_Mixed\\_B2.mzXML.Peak.area & GIMap\\_P2\\_LI\\_Aq.Org\\_Mixed\\_B7\\_180304114350.mzXML.Peak.area & GIMap\\_P2\\_LI\\_Aq.Org\\_Mixed\\_B3.mzXML.Peak.area & GIMap\\_P2\\_LI\\_Aq.Org\\_Mixed\\_E3.mzXML.Peak.area & GIMap\\_P2\\_LI\\_Aq.Org\\_Mixed\\_F1.mzXML.Peak.area & GIMap\\_P2\\_LI\\_Aq.Org\\_Mixed\\_D10.mzXML.Peak.area & GIMap\\_P2\\_LI\\_Aq.Org\\_Mixed\\_D5.mzXML.Peak.area & GIMap\\_P2\\_LI\\_Aq.Org\\_Mixed\\_D11.mzXML.Peak.area & GIMap\\_P2\\_LI\\_Aq.Org\\_Mixed\\_D1.mzXML.Peak.area & GIMap\\_P2\\_LI\\_Aq.Org\\_Mixed\\_D7.mzXML.Peak.area & GIMap\\_P2\\_LI\\_Aq.Org\\_Mixed\\_D6.mzXML.Peak.area & GIMap\\_P2\\_LI\\_Aq.Org\\_Mixed\\_E11.mzXML.Peak.area & GIMap\\_P2\\_LI\\_Aq.Org\\_Mixed\\_E10.mzXML.Peak.area & GIMap\\_P2\\_LI\\_Aq.Org\\_Mixed\\_E1.mzXML.Peak.area & GIMap\\_P2\\_LI\\_Aq.Org\\_Mixed\\_D3.mzXML.Peak.area & GIMap\\_P2\\_LI\\_Aq.Org\\_Mixed\\_C10.mzXML.Peak.area & GIMap\\_P2\\_LI\\_Aq.Org\\_Mixed\\_B12.mzXML.Peak.area & GIMap\\_P2\\_LI\\_Aq.Org\\_Mixed\\_B8.mzXML.Peak.area & GIMap\\_P2\\_LI\\_Aq.Org\\_Mixed\\_A9.mzXML.Peak.area & GIMap\\_P2\\_LI\\_Aq.Org\\_Mixed\\_E9.mzXML.Peak.area & GIMap\\_P2\\_LI\\_Aq.Org\\_Mixed\\_G10.mzXML.Peak.area & GIMap\\_P2\\_LI\\_Aq.Org\\_Mixed\\_F12.mzXML.Peak.area & GIMap\\_P2\\_LI\\_Aq.Org\\_Mixed\\_F11.mzXML.Peak.area & GIMap\\_P2\\_LI\\_Aq.Org\\_Mixed\\_E5.mzXML.Peak.area & GIMap\\_P2\\_LI\\_Aq.Org\\_Mixed\\_E8.mzXML.Peak.area & GIMap\\_P2\\_LI\\_Aq.Org\\_Mixed\\_E4.mzXML.Peak.area & GIMap\\_P2\\_LI\\_Aq.Org\\_Mixed\\_F7.mzXML.Peak.area & GIMap\\_P2\\_LI\\_Aq.Org\\_Mixed\\_F2.mzXML.Peak.area & GIMap\\_P2\\_LI\\_Aq.Org\\_Mixed\\_F3.mzXML.Peak.area & GIMap\\_P2\\_LI\\_Aq.Org\\_Mixed\\_D9.mzXML.Peak.area & GIMap\\_P2\\_LI\\_Aq.Org\\_Mixed\\_D2.mzXML.Peak.area & GIMap\\_P2\\_LI\\_Aq.Org\\_Mixed\\_C5.mzXML.Peak.area & GIMap\\_P2\\_LI\\_Aq.Org\\_Mixed\\_C11.mzXML.Peak.area & GIMap\\_P2\\_LI\\_Aq.Org\\_Mixed\\_C6.mzXML.Peak.area & GIMap\\_P2\\_LI\\_Aq.Org\\_Mixed\\_G9.mzXML.Peak.area & GIMap\\_P2\\_LI\\_Aq.Org\\_Mixed\\_H12.mzXML.Peak.area & GIMap\\_P2\\_LI\\_Aq.Org\\_Mixed\\_G4.mzXML.Peak.area & GIMap\\_P2\\_LI\\_Aq.Org\\_Mixed\\_G11.mzXML.Peak.area & GIMap\\_P2\\_LI\\_Aq.Org\\_Mixed\\_G12.mzXML.Peak.area & GIMap\\_P2\\_LI\\_Aq.Org\\_Mixed\\_H3.mzXML.Peak.area & GIMap\\_P2\\_LI\\_Aq.Org\\_Mixed\\_F6.mzXML.Peak.area & GIMap\\_P2\\_LI\\_Aq.Org\\_Mixed\\_F8.mzXML.Peak.area & GIMap\\_P2\\_LI\\_Aq.Org\\_Mixed\\_F10.mzXML.Peak.area & GIMap\\_P2\\_LI\\_Aq.Org\\_Mixed\\_E12.mzXML.Peak.area & GIMap\\_P2\\_LI\\_Aq.Org\\_Mixed\\_D8.mzXML.Peak.area & GIMap\\_P2\\_LI\\_Aq.Org\\_Mixed\\_E7.mzXML.Peak.area & GIMap\\_P2\\_LI\\_Aq.Org\\_Mixed\\_E6.mzXML.Peak.area & GIMap\\_P2\\_LI\\_Aq.Org\\_Mixed\\_E2.mzXML.Peak.area & GIMap\\_P2\\_LI\\_Aq.Org\\_Mixed\\_D4.mzXML.Peak.area & GIMap\\_P2\\_LI\\_SC\\_blank\\_Pos\\_mid\\_180304063821.mzXML.Peak.area & GIMap\\_P2\\_LI\\_SC\\_blank\\_Pos\\_mid\\_180304052400.mzXML.Peak.area & GIMap\\_P1\\_LI\\_Aq.Org\\_Mixed\\_H2.mzXML.Peak.area & GIMap\\_P2\\_LI\\_Aq.Org\\_Mixed\\_H4.mzXML.Peak.area & GIMap\\_P2\\_LI\\_Aq.Org\\_Mixed\\_H2.mzXML.Peak.area & GIMap\\_P2\\_LI\\_Aq.Org\\_Mixed\\_G6.mzXML.Peak.area & GIMap\\_P2\\_LI\\_Aq.Org\\_Mixed\\_G7.mzXML.Peak.area & GIMap\\_P2\\_LI\\_Aq.Org\\_Mixed\\_G5.mzXML.Peak.area & GIMap\\_P2\\_LI\\_Aq.Org\\_Mixed\\_G1.mzXML.Peak.area & GIMap\\_P2\\_LI\\_Aq.Org\\_Mixed\\_H11.mzXML.Peak.area & GIMap\\_P2\\_LI\\_Aq.Org\\_Mixed\\_F5.mzXML.Peak.area & GIMap\\_P2\\_LI\\_Aq.Org\\_Mixed\\_G8.mzXML.Peak.area & GIMap\\_P2\\_LI\\_Aq.Org\\_Mixed\\_G2.mzXML.Peak.area & GIMap\\_P2\\_LI\\_Aq.Org\\_Mixed\\_G3.mzXML.Peak.area & GIMap\\_P2\\_LI\\_Aq.Org\\_Mixed\\_F4.mzXML.Peak.area & GIMap\\_P2\\_LI\\_Aq.Org\\_Mixed\\_F9.mzXML.Peak.area & GIMap\\_P2\\_LI\\_SC\\_blank\\_Pos\\_end.mzXML.Peak.area & GIMap\\_P2\\_LI\\_SC\\_blank\\_Pos\\_mid\\_180304060521.mzXML.Peak.area & GIMap\\_P2\\_LI\\_SC\\_blank\\_Pos\\_mid\\_180304062151.mzXML.Peak.area & GIMap\\_P2\\_LI\\_SC\\_blank\\_Pos\\_mid\\_180304054851.mzXML.Peak.area & GIMap\\_P2\\_LI\\_SC\\_blank\\_Pos\\_mid\\_180304053221.mzXML.Peak.area & GIMap\\_P2\\_LI\\_SC\\_blank\\_Pos\\_mid\\_180304050724.mzXML.Peak.area & GIMap\\_P2\\_LI\\_SC\\_blank\\_Pos\\_mid.mzXML.Peak.area & GIMap\\_P2\\_LI\\_SC\\_blank\\_Pos\\_mid\\_180304061336.mzXML.Peak.area & GIMap\\_P2\\_LI\\_SC\\_blank\\_Pos\\_mid\\_180304063006.mzXML.Peak.area & GIMap\\_P2\\_LI\\_SC\\_blank\\_Pos\\_mid\\_180304055706.mzXML.Peak.area & GIMap\\_P2\\_LI\\_Pulled\\_Sample\\_QC\\_180304001628.mzXML.Peak.area & GIMap\\_P2\\_LI\\_Pulled\\_Sample\\_QC.mzXML.Peak.area & GIMap\\_P2\\_LI\\_Aq.Org\\_Mixed\\_H8.mzXML.Peak.area & GIMap\\_P2\\_LI\\_Aq.Org\\_Mixed\\_H7.mzXML.Peak.area & GIMap\\_P2\\_LI\\_Aq.Org\\_Mixed\\_H6.mzXML.Peak.area & GIMap\\_P2\\_LI\\_Aq.Org\\_Mixed\\_H1.mzXML.Peak.area & GIMap\\_P2\\_LI\\_SC\\_blank\\_after.interrupt\\_discard\\_180304113535.mzXML.Peak.area & GIMap\\_P2\\_LI\\_SC\\_blank\\_Pos\\_restart2\\_180304102927.mzXML.Peak.area & GIMap\\_P2\\_LI\\_SC\\_blank\\_Pos\\_mid\\_180304171150.mzXML.Peak.area & GIMap\\_P2\\_LI\\_SC\\_blank\\_Pos\\_start.mzXML.Peak.area & GIMap\\_P2\\_LI\\_SC\\_blank\\_after.interrupt\\_discard.mzXML.Peak.area & GIMap\\_P2\\_LI\\_SC\\_blank\\_Pos\\_mid\\_180304142251.mzXML.Peak.area & GIMap\\_P2\\_LI\\_SC\\_blank\\_Pos\\_mid\\_180304054036.mzXML.Peak.area & GIMap\\_P2\\_LI\\_SC\\_blank\\_after.interrupt\\_discard\\_180304150659.mzXML.Peak.area & GIMap\\_P2\\_LI\\_SC\\_blank\\_Pos\\_mid\\_180304194131.mzXML.Peak.area & GIMap\\_P2\\_LI\\_SC\\_blank\\_after.interrupt\\_discard\\_180305090055.mzXML.Peak.area & GIMap\\_P2\\_LI\\_SC\\_blank\\_Pos\\_mid\\_180304023744.mzXML.Peak.area & GIMap\\_P2\\_LI\\_Aq.Org\\_Mixed\\_H9.mzXML.Peak.area & GIMap\\_P2\\_LI\\_Pulled\\_Sample\\_QC\\_180304024559.mzXML.Peak.area & GIMap\\_P2\\_LI\\_Pulled\\_Sample\\_QC\\_180304051542.mzXML.Peak.area & GIMap\\_P2\\_LI\\_Aq.Org\\_Mixed\\_H10.mzXML.Peak.area & GIMap\\_P2\\_LI\\_Aq.Org\\_Mixed\\_H5.mzXML.Peak.area & GIMap\\_P2\\_LI\\_SC\\_blank\\_after.interrupt\\_discard\\_180304130243.mzXML.Peak.area & GIMap\\_P2\\_LI\\_SC\\_blank\\_after.interrupt\\_discard\\_180305102604.mzXML.Peak.area & GIMap\\_P3\\_LI\\_Aq.Org\\_Mixed\\_A5\\_180305103421.mzXML.Peak.area & GIMap\\_P3\\_LI\\_Aq.Org\\_Mixed\\_A7.mzXML.Peak.area & GIMap\\_P3\\_LI\\_Aq.Org\\_Mixed\\_A6.mzXML.Peak.area & P1\\_Aq.Org\\_Mixed\\_B2.mzXML.Peak.area & GIMap\\_P3\\_LI\\_Aq.Org\\_Mixed\\_A1.mzXML.Peak.area & GIMap\\_P3\\_LI\\_Aq.Org\\_Mixed\\_A2.mzXML.Peak.area & GIMap\\_P2\\_LI\\_Pulled\\_Sample\\_QC\\_180304172007.mzXML.Peak.area & P1\\_Aq.Org\\_Mixed\\_A10.mzXML.Peak.area & GIMap\\_P2\\_LI\\_Pulled\\_Sample\\_QC\\_180305091153.mzXML.Peak.area & GIMap\\_P2\\_LI\\_Pulled\\_Sample\\_QC\\_180304194948.mzXML.Peak.area & GIMap\\_P2\\_LI\\_Pulled\\_Sample\\_QC\\_180304143106.mzXML.Peak.area & GIMap\\_P2\\_LI\\_SC\\_blank\\_Pos\\_restart2.mzXML.Peak.area & P1\\_Aq.Org\\_Mixed\\_A8.mzXML.Peak.area & P1\\_Aq.Org\\_Mixed\\_A3.mzXML.Peak.area & P1\\_Aq.Org\\_Mixed\\_C3.mzXML.Peak.area & P1\\_Aq.Org\\_Mixed\\_A7.mzXML.Peak.area & P1\\_Aq.Org\\_Mixed\\_B8.mzXML.Peak.area & P1\\_Aq.Org\\_Mixed\\_B3.mzXML.Peak.area & P1\\_Aq.Org\\_Mixed\\_A9.mzXML.Peak.area & P1\\_Aq.Org\\_Mixed\\_A5.mzXML.Peak.area & P1\\_Aq.Org\\_Mixed\\_A11.mzXML.Peak.area & P1\\_Aq.Org\\_Mixed\\_A2.mzXML.Peak.area & P1\\_Aq.Org\\_Mixed\\_A1.mzXML.Peak.area & P1\\_Aq.Org\\_Mixed\\_A12.mzXML.Peak.area & P1\\_Aq.Org\\_Mixed\\_A4.mzXML.Peak.area & P1\\_Aq.Org\\_Mixed\\_B1.mzXML.Peak.area & GIMap\\_P3\\_LI\\_Aq.Org\\_Mixed\\_A3.mzXML.Peak.area & GIMap\\_P3\\_LI\\_Aq.Org\\_Mixed\\_A4\\_180305092010.mzXML.Peak.area & P1\\_Aq.Org\\_Mixed\\_A6.mzXML.Peak.area & P1\\_Aq.Org\\_Mixed\\_B12.mzXML.Peak.area & P1\\_Aq.Org\\_Mixed\\_D9.mzXML.Peak.area & P1\\_Aq.Org\\_Mixed\\_C7.mzXML.Peak.area & P1\\_Aq.Org\\_Mixed\\_C4.mzXML.Peak.area & P1\\_Aq.Org\\_Mixed\\_C8.mzXML.Peak.area & P1\\_Aq.Org\\_Mixed\\_C5.mzXML.Peak.area & P1\\_Aq.Org\\_Mixed\\_C2.mzXML.Peak.area & P1\\_Aq.Org\\_Mixed\\_B5.mzXML.Peak.area & P1\\_Aq.Org\\_Mixed\\_B7.mzXML.Peak.area & P1\\_Aq.Org\\_Mixed\\_C10.mzXML.Peak.area & P1\\_Aq.Org\\_Mixed\\_B9.mzXML.Peak.area & P1\\_Aq.Org\\_Mixed\\_C11.mzXML.Peak.area & P1\\_Aq.Org\\_Mixed\\_B6.mzXML.Peak.area & P1\\_Aq.Org\\_Mixed\\_B4.mzXML.Peak.area & P1\\_Aq.Org\\_Mixed\\_C12.mzXML.Peak.area & P1\\_Aq.Org\\_Mixed\\_B11.mzXML.Peak.area & GIMap\\_P3\\_LI\\_Aq.Org\\_Mixed\\_A8.mzXML.Peak.area & P1\\_blank\\_end\\_pos.mzXML.Peak.area & P1\\_blank\\_mid\\_180227184443.mzXML.Peak.area & P1\\_blank\\_mid.mzXML.Peak.area & GIMap\\_GIMap\\_P2\\_blank\\_mid\\_pos\\_180228175530.mzXML.Peak.area & GIMap\\_GIMap\\_P2\\_blank\\_last\\_pos.mzXML.Peak.area & GIMap\\_GIMap\\_P2\\_blank\\_mid\\_pos\\_180228224814.mzXML.Peak.area & GIMap\\_GIMap\\_P2\\_blank\\_mid\\_pos\\_180228202604.mzXML.Peak.area & P1\\_blank\\_start.mzXML.Peak.area & P1\\_Aq.Org\\_Mixed\\_D8.mzXML.Peak.area & P1\\_Aq.Org\\_Mixed\\_D6.mzXML.Peak.area & P1\\_Aq.Org\\_Mixed\\_C9.mzXML.Peak.area & P1\\_Aq.Org\\_Mixed\\_D7.mzXML.Peak.area & P1\\_Aq.Org\\_Mixed\\_D5.mzXML.Peak.area & P1\\_Aq.Org\\_Mixed\\_C6.mzXML.Peak.area & P1\\_Aq.Org\\_Mixed\\_C1.mzXML.Peak.area & P1\\_Aq.Org\\_Mixed\\_B10.mzXML.Peak.area & GIMap\\_GIMap\\_P2\\_blank\\_mid\\_pos\\_180301011858.mzXML.Peak.area & GIMap\\_GIMap\\_P2\\_blank\\_mid\\_pos.mzXML.Peak.area & P1\\_Pulled\\_Sample\\_QC\\_180227162207.mzXML.Peak.area & P1\\_Pulled\\_Sample\\_QC\\_180227205845.mzXML.Peak.area & P1\\_Pulled\\_Sample\\_QC\\_180227134259.mzXML.Peak.area & P1\\_Pulled\\_Sample\\_QC\\_180227185258.mzXML.Peak.area & P1\\_Pulled\\_Sample\\_QC\\_180227135115.mzXML.Peak.area & P1\\_Aq.Org\\_Mixed\\_D3.mzXML.Peak.area & P1\\_Pulled\\_Sample\\_QC\\_180227133445.mzXML.Peak.area & P1\\_Pulled\\_Sample\\_QC\\_180227132628.mzXML.Peak.area & GIMap\\_P2\\_Aq.Org\\_Mixed\\_B11.mzXML.Peak.area & GIMap\\_P2\\_Aq.Org\\_Mixed\\_A4.mzXML.Peak.area & P1\\_Aq.Org\\_Mixed\\_D2.mzXML.Peak.area & P1\\_Pulled\\_Sample\\_QC.mzXML.Peak.area & P1\\_Aq.Org\\_Mixed\\_D1.mzXML.Peak.area & P1\\_Aq.Org\\_Mixed\\_D10.mzXML.Peak.area & GIMap\\_P2\\_Aq.Org\\_Mixed\\_B7.mzXML.Peak.area & GIMap\\_P2\\_Aq.Org\\_Mixed\\_C11.mzXML.Peak.area & GIMap\\_P2\\_Aq.Org\\_Mixed\\_A11.mzXML.Peak.area & GIMap\\_P2\\_Aq.Org\\_Mixed\\_B8.mzXML.Peak.area & GIMap\\_P2\\_Aq.Org\\_Mixed\\_A12.mzXML.Peak.area & GIMap\\_P2\\_Aq.Org\\_Mixed\\_B12.mzXML.Peak.area & GIMap\\_P2\\_Aq.Org\\_Mixed\\_B5.mzXML.Peak.area & GIMap\\_P2\\_Aq.Org\\_Mixed\\_A8.mzXML.Peak.area & P1\\_Aq.Org\\_Mixed\\_D4.mzXML.Peak.area & GIMap\\_P2\\_Aq.Org\\_Mixed\\_B4.mzXML.Peak.area & GIMap\\_P2\\_Aq.Org\\_Mixed\\_B3.mzXML.Peak.area & GIMap\\_P2\\_Aq.Org\\_Mixed\\_A3.mzXML.Peak.area & GIMap\\_P2\\_Aq.Org\\_Mixed\\_A2.mzXML.Peak.area & GIMap\\_P2\\_Aq.Org\\_Mixed\\_A5.mzXML.Peak.area & GIMap\\_P2\\_Aq.Org\\_Mixed\\_A6.A7.mzXML.Peak.area & GIMap\\_P2\\_Aq.Org\\_Mixed\\_C10.mzXML.Peak.area & GIMap\\_P2\\_Aq.Org\\_Mixed\\_C4.mzXML.Peak.area & GIMap\\_P2\\_Aq.Org\\_Mixed\\_D4.mzXML.Peak.area & GIMap\\_P2\\_Aq.Org\\_Mixed\\_C3.mzXML.Peak.area & GIMap\\_P2\\_Aq.Org\\_Mixed\\_C7.mzXML.Peak.area & GIMap\\_P2\\_Aq.Org\\_Mixed\\_C12.mzXML.Peak.area & GIMap\\_P2\\_Aq.Org\\_Mixed\\_C6.mzXML.Peak.area & GIMap\\_P2\\_Aq.Org\\_Mixed\\_D3.mzXML.Peak.area & GIMap\\_P2\\_Aq.Org\\_Mixed\\_C1.mzXML.Peak.area & GIMap\\_P2\\_Aq.Org\\_Mixed\\_B1.mzXML.Peak.area & GIMap\\_P2\\_Aq.Org\\_Mixed\\_G10.mzXML.Peak.area & GIMap\\_P2\\_Aq.Org\\_Mixed\\_A10.mzXML.Peak.area & GIMap\\_P2\\_Aq.Org\\_Mixed\\_B10.mzXML.Peak.area & GIMap\\_P2\\_Aq.Org\\_Mixed\\_D8.mzXML.Peak.area & GIMap\\_P2\\_Aq.Org\\_Mixed\\_C8.mzXML.Peak.area & GIMap\\_P2\\_Aq.Org\\_Mixed\\_D11.mzXML.Peak.area & GIMap\\_P2\\_Aq.Org\\_Mixed\\_A1.mzXML.Peak.area & GIMap\\_P2\\_Aq.Org\\_Mixed\\_D12.mzXML.Peak.area & GIMap\\_P2\\_Aq.Org\\_Mixed\\_D2.mzXML.Peak.area & GIMap\\_P2\\_Aq.Org\\_Mixed\\_D1.mzXML.Peak.area & GIMap\\_P2\\_Aq.Org\\_Mixed\\_C2.mzXML.Peak.area & GIMap\\_P2\\_Aq.Org\\_Mixed\\_E4.mzXML.Peak.area & GIMap\\_P2\\_Aq.Org\\_Mixed\\_E8.mzXML.Peak.area & GIMap\\_P2\\_Aq.Org\\_Mixed\\_E12.mzXML.Peak.area & GIMap\\_P2\\_Aq.Org\\_Mixed\\_E11.mzXML.Peak.area & GIMap\\_P2\\_Aq.Org\\_Mixed\\_E7.mzXML.Peak.area & GIMap\\_P2\\_Aq.Org\\_Mixed\\_B6.mzXML.Peak.area & GIMap\\_P2\\_Aq.Org\\_Mixed\\_D7.mzXML.Peak.area & GIMap\\_P2\\_Aq.Org\\_Mixed\\_F12.mzXML.Peak.area & GIMap\\_P2\\_Aq.Org\\_Mixed\\_A9.mzXML.Peak.area & GIMap\\_P2\\_Aq.Org\\_Mixed\\_B9.mzXML.Peak.area & GIMap\\_P2\\_Aq.Org\\_Mixed\\_B2.mzXML.Peak.area & GIMap\\_P2\\_Aq.Org\\_Mixed\\_E3.mzXML.Peak.area & GIMap\\_P2\\_Aq.Org\\_Mixed\\_E10.mzXML.Peak.area & GIMap\\_P2\\_Aq.Org\\_Mixed\\_D5.mzXML.Peak.area & GIMap\\_P2\\_Aq.Org\\_Mixed\\_H12.mzXML.Peak.area & GIMap\\_P2\\_Aq.Org\\_Mixed\\_G8.mzXML.Peak.area & GIMap\\_P2\\_Aq.Org\\_Mixed\\_G12.mzXML.Peak.area & GIMap\\_P2\\_Aq.Org\\_Mixed\\_F4.mzXML.Peak.area & GIMap\\_P2\\_Aq.Org\\_Mixed\\_F8.mzXML.Peak.area & GIMap\\_P2\\_Aq.Org\\_Mixed\\_F3.mzXML.Peak.area & GIMap\\_P2\\_Aq.Org\\_Mixed\\_G11.mzXML.Peak.area & GIMap\\_P2\\_Aq.Org\\_Mixed\\_E2.mzXML.Peak.area & GIMap\\_P2\\_Aq.Org\\_Mixed\\_F11.mzXML.Peak.area & GIMap\\_P2\\_Aq.Org\\_Mixed\\_F2.mzXML.Peak.area & GIMap\\_P2\\_Aq.Org\\_Mixed\\_F1.mzXML.Peak.area & GIMap\\_P2\\_Aq.Org\\_Mixed\\_E9.mzXML.Peak.area & GIMap\\_P2\\_Pulled\\_Sample\\_QC.mzXML.Peak.area & GIMap\\_P2\\_Pulled\\_Sample\\_QC\\_180228203419.mzXML.Peak.area & GIMap\\_P2\\_Aq.Org\\_Mixed\\_G6.mzXML.Peak.area & GIMap\\_P2\\_Aq.Org\\_Mixed\\_E6.mzXML.Peak.area & GIMap\\_P2\\_Aq.Org\\_Mixed\\_H4.mzXML.Peak.area & GIMap\\_P2\\_Aq.Org\\_Mixed\\_G7.mzXML.Peak.area & GIMap\\_P2\\_Aq.Org\\_Mixed\\_D9.mzXML.Peak.area & GIMap\\_P2\\_Aq.Org\\_Mixed\\_F7.mzXML.Peak.area & GIMap\\_P2\\_Aq.Org\\_Mixed\\_C5.mzXML.Peak.area & GIMap\\_P2\\_Aq.Org\\_Mixed\\_C9.mzXML.Peak.area & GIMap\\_P2\\_Aq.Org\\_Mixed\\_H8.mzXML.Peak.area & GIMap\\_P2\\_Pulled\\_Sample\\_QC\\_180228124513.mzXML.Peak.area & GIMap\\_P2\\_Aq.Org\\_Mixed\\_D6.mzXML.Peak.area & GIMap\\_P2\\_Aq.Org\\_Mixed\\_E5.mzXML.Peak.area & GIMap\\_P2\\_Aq.Org\\_Mixed\\_G4.mzXML.Peak.area & GIMap\\_P2\\_SC\\_blank\\_Pos\\_start.mzXML.Peak.area & GIMap\\_P2\\_Aq.Org\\_Mixed\\_H10.mzXML.Peak.area & GIMap\\_P2\\_Aq.Org\\_Mixed\\_F10.mzXML.Peak.area & GIMap\\_P2\\_Aq.Org\\_Mixed\\_G2.mzXML.Peak.area & GIMap\\_P2\\_Aq.Org\\_Mixed\\_G3.mzXML.Peak.area & GIMap\\_P2\\_Aq.Org\\_Mixed\\_D10.mzXML.Peak.area & GIMap\\_P2\\_Aq.Org\\_Mixed\\_H3.mzXML.Peak.area & GIMap\\_P2\\_Aq.Org\\_Mixed\\_H11.mzXML.Peak.area & GIMap\\_P2\\_Aq.Org\\_Mixed\\_F5.mzXML.Peak.area & GIMap\\_P2\\_Aq.Org\\_Mixed\\_G1.mzXML.Peak.area & GIMap\\_P2\\_Aq.Org\\_Mixed\\_H5.mzXML.Peak.area & GIMap\\_P2\\_Pulled\\_Sample\\_QC\\_180228123658.mzXML.Peak.area & GIMap\\_P2\\_Pulled\\_Sample\\_QC\\_180228125328.mzXML.Peak.area & GIMap\\_P2\\_Pulled\\_Sample\\_QC\\_180228130143.mzXML.Peak.area & GIMap\\_P2\\_Aq.Org\\_Mixed\\_F6.mzXML.Peak.area & GIMap\\_P2\\_Pulled\\_Sample\\_QC\\_180228225629.mzXML.Peak.area & GIMap\\_P2\\_Pulled\\_Sample\\_QC\\_180301012713.mzXML.Peak.area & GIMap\\_P2\\_Pulled\\_Sample\\_QC\\_180228153255.mzXML.Peak.area & GIMap\\_P2\\_Pulled\\_Sample\\_QC\\_180228180347.mzXML.Peak.area & GIMap\\_P2\\_Aq.Org\\_Mixed\\_G5.mzXML.Peak.area & GIMap\\_P2\\_Aq.Org\\_Mixed\\_H7.mzXML.Peak.area & GIMap\\_P2\\_Aq.Org\\_Mixed\\_H6.mzXML.Peak.area & GIMap\\_P3\\_Aq.Org\\_Mixed\\_A11.mzXML.Peak.area & GIMap\\_P3\\_Aq.Org\\_Mixed\\_A10.mzXML.Peak.area & GIMap\\_P2\\_Aq.Org\\_Mixed\\_E1.mzXML.Peak.area & GIMap\\_P2\\_Aq.Org\\_Mixed\\_G9.mzXML.Peak.area & GIMap\\_P3\\_Aq.Org\\_Mixed\\_A12.mzXML.Peak.area & GIMap\\_P3\\_Aq.Org\\_Mixed\\_B7.mzXML.Peak.area & GIMap\\_P3\\_Aq.Org\\_Mixed\\_B3.mzXML.Peak.area & GIMap\\_P3\\_Aq.Org\\_Mixed\\_A7.mzXML.Peak.area & GIMap\\_P3\\_Aq.Org\\_Mixed\\_A4.mzXML.Peak.area & GIMap\\_P3\\_Aq.Org\\_Mixed\\_B11.mzXML.Peak.area & GIMap\\_P3\\_Aq.Org\\_Mixed\\_A8.mzXML.Peak.area & GIMap\\_P3\\_Aq.Org\\_Mixed\\_A6.mzXML.Peak.area & GIMap\\_P3\\_Aq.Org\\_Mixed\\_A5.mzXML.Peak.area & GIMap\\_P3\\_Aq.Org\\_Mixed\\_A3.mzXML.Peak.area & GIMap\\_P3\\_Aq.Org\\_Mixed\\_C12.mzXML.Peak.area & GIMap\\_P3\\_Aq.Org\\_Mixed\\_C4.mzXML.Peak.area & GIMap\\_P3\\_Aq.Org\\_Mixed\\_A9.mzXML.Peak.area & GIMap\\_P3\\_Aq.Org\\_Mixed\\_B4.mzXML.Peak.area & GIMap\\_P2\\_Aq.Org\\_Mixed\\_H1.mzXML.Peak.area & GIMap\\_P3\\_Aq.Org\\_Mixed\\_B8.mzXML.Peak.area & GIMap\\_P3\\_Aq.Org\\_Mixed\\_B2.mzXML.Peak.area & GIMap\\_P2\\_Aq.Org\\_Mixed\\_H2.mzXML.Peak.area & GIMap\\_P3\\_Aq.Org\\_Mixed\\_B1.mzXML.Peak.area & GIMap\\_P3\\_Aq.Org\\_Mixed\\_B12.mzXML.Peak.area & GIMap\\_P2\\_Aq.Org\\_Mixed\\_H9.mzXML.Peak.area & GIMap\\_P3\\_Aq.Org\\_Mixed\\_B10.mzXML.Peak.area & GIMap\\_P2\\_Aq.Org\\_Mixed\\_F9.mzXML.Peak.area & GIMap\\_P3\\_Aq.Org\\_Mixed\\_D10.mzXML.Peak.area & GIMap\\_P3\\_Aq.Org\\_Mixed\\_C8.mzXML.Peak.area & GIMap\\_P3\\_Aq.Org\\_Mixed\\_C11.mzXML.Peak.area & GIMap\\_P3\\_Aq.Org\\_Mixed\\_C3.mzXML.Peak.area & GIMap\\_P3\\_Aq.Org\\_Mixed\\_D11.mzXML.Peak.area & GIMap\\_P3\\_Aq.Org\\_Mixed\\_C7.mzXML.Peak.area & GIMap\\_P3\\_Aq.Org\\_Mixed\\_E5.mzXML.Peak.area & GIMap\\_P3\\_Aq.Org\\_Mixed\\_C9.mzXML.Peak.area & GIMap\\_P3\\_Aq.Org\\_Mixed\\_C10.mzXML.Peak.area & GIMap\\_P3\\_Aq.Org\\_Mixed\\_C2.mzXML.Peak.area & GIMap\\_P3\\_Aq.Org\\_Mixed\\_B9.mzXML.Peak.area & GIMap\\_P3\\_Aq.Org\\_Mixed\\_C1.mzXML.Peak.area & GIMap\\_P3\\_Aq.Org\\_Mixed\\_D9.mzXML.Peak.area & GIMap\\_P3\\_Aq.Org\\_Mixed\\_D4.mzXML.Peak.area & GIMap\\_P3\\_Aq.Org\\_Mixed\\_B5.mzXML.Peak.area & GIMap\\_P3\\_Aq.Org\\_Mixed\\_D12.mzXML.Peak.area & GIMap\\_P3\\_Aq.Org\\_Mixed\\_D3.mzXML.Peak.area & GIMap\\_P3\\_Aq.Org\\_Mixed\\_D2.mzXML.Peak.area & GIMap\\_P3\\_Aq.Org\\_Mixed\\_C5.mzXML.Peak.area & GIMap\\_P3\\_SC\\_blank\\_Pos\\_end.mzXML.Peak.area & GIMap\\_P3\\_SC\\_blank\\_Pos\\_mid\\_180301075250.mzXML.Peak.area & GIMap\\_P3\\_Aq.Org\\_Mixed\\_C6.mzXML.Peak.area & GIMap\\_P3\\_Aq.Org\\_Mixed\\_E12.mzXML.Peak.area & GIMap\\_P3\\_Aq.Org\\_Mixed\\_E4.mzXML.Peak.area & GIMap\\_P3\\_Aq.Org\\_Mixed\\_A1.mzXML.Peak.area & GIMap\\_P3\\_Aq.Org\\_Mixed\\_E11.mzXML.Peak.area & GIMap\\_P3\\_Pulled\\_Sample\\_QC.mzXML.Peak.area & GIMap\\_P3\\_Aq.Org\\_Mixed\\_B6.mzXML.Peak.area & GIMap\\_P3\\_Aq.Org\\_Mixed\\_D8.mzXML.Peak.area & GIMap\\_P3\\_Aq.Org\\_Mixed\\_E10.mzXML.Peak.area & GIMap\\_P3\\_Aq.Org\\_Mixed\\_E9.mzXML.Peak.area & GIMap\\_P3\\_Aq.Org\\_Mixed\\_D7.mzXML.Peak.area & GIMap\\_P3\\_SC\\_blank\\_Pos\\_mid\\_180301111350.mzXML.Peak.area & GIMap\\_P3\\_SC\\_blank\\_Pos\\_mid\\_180301093315.mzXML.Peak.area & X6.mix\\_start\\_mid\\_180315190741.mzXML.Peak.area & GIMap\\_P3\\_SC\\_blank\\_Pos\\_mid\\_180301125430.mzXML.Peak.area & GIMap\\_P3\\_SC\\_blank\\_Pos\\_mid.mzXML.Peak.area & GIMap\\_P3\\_Pulled\\_Sample\\_QC\\_180301080105.mzXML.Peak.area & GIMap\\_P3\\_Pulled\\_Sample\\_QC\\_180301144326.mzXML.Peak.area & GIMap\\_P3\\_Pulled\\_Sample\\_QC\\_180301060354.mzXML.Peak.area & GIMap\\_P3\\_Aq.Org\\_Mixed\\_D1.mzXML.Peak.area & GIMap\\_P3\\_Aq.Org\\_Mixed\\_F4.mzXML.Peak.area & GIMap\\_P3\\_Aq.Org\\_Mixed\\_E8.mzXML.Peak.area & GIMap\\_P3\\_Aq.Org\\_Mixed\\_D6.mzXML.Peak.area & GIMap\\_P3\\_Aq.Org\\_Mixed\\_E3.mzXML.Peak.area & GIMap\\_P3\\_Aq.Org\\_Mixed\\_E7.mzXML.Peak.area & GIMap\\_P3\\_Aq.Org\\_Mixed\\_D5.mzXML.Peak.area & GIMap\\_P1\\_SI\\_Aq.Org\\_Mixed\\_C9.mzXML.Peak.area & GIMap\\_P1\\_SI\\_Aq.Org\\_Mixed\\_B2.mzXML.Peak.area & GIMap\\_P3\\_Pulled\\_Sample\\_QC\\_180301112205.mzXML.Peak.area & GIMap\\_P1\\_SI\\_Aq.Org\\_Mixed\\_A3.mzXML.Peak.area & GIMap\\_P1\\_SI\\_Aq.Org\\_Mixed\\_B4.mzXML.Peak.area & GIMap\\_P1\\_SI\\_Aq.Org\\_Mixed\\_B3.mzXML.Peak.area & GIMap\\_P3\\_Pulled\\_Sample\\_QC\\_180301094130.mzXML.Peak.area & GIMap\\_P3\\_Pulled\\_Sample\\_QC\\_180301130245.mzXML.Peak.area & GIMap\\_P1\\_SI\\_Aq.Org\\_Mixed\\_A2.mzXML.Peak.area & GIMap\\_P3\\_Aq.Org\\_Mixed\\_F6.mzXML.Peak.area & GIMap\\_P1\\_SI\\_Aq.Org\\_Mixed\\_A5.mzXML.Peak.area & GIMap\\_P3\\_Aq.Org\\_Mixed\\_F3.mzXML.Peak.area & GIMap\\_P3\\_Aq.Org\\_Mixed\\_A2.mzXML.Peak.area & GIMap\\_P1\\_SI\\_Aq.Org\\_Mixed\\_B1.mzXML.Peak.area & GIMap\\_P1\\_SI\\_Aq.Org\\_Mixed\\_C8.mzXML.Peak.area & GIMap\\_P1\\_SI\\_Aq.Org\\_Mixed\\_D3.mzXML.Peak.area & GIMap\\_P1\\_SI\\_Aq.Org\\_Mixed\\_C2.mzXML.Peak.area & GIMap\\_P1\\_SI\\_Aq.Org\\_Mixed\\_D10.mzXML.Peak.area & GIMap\\_P1\\_SI\\_Aq.Org\\_Mixed\\_D2.mzXML.Peak.area & GIMap\\_P1\\_SI\\_Aq.Org\\_Mixed\\_C4.mzXML.Peak.area & GIMap\\_P3\\_Aq.Org\\_Mixed\\_E2.mzXML.Peak.area & GIMap\\_P1\\_SI\\_Aq.Org\\_Mixed\\_A4.mzXML.Peak.area & GIMap\\_P1\\_SI\\_Aq.Org\\_Mixed\\_B5.mzXML.Peak.area & GIMap\\_P1\\_SI\\_Aq.Org\\_Mixed\\_B10.mzXML.Peak.area & GIMap\\_P1\\_SI\\_Aq.Org\\_Mixed\\_B11.mzXML.Peak.area & GIMap\\_P1\\_SI\\_Aq.Org\\_Mixed\\_B6.mzXML.Peak.area & GIMap\\_P1\\_SI\\_Aq.Org\\_Mixed\\_A1.mzXML.Peak.area & GIMap\\_P1\\_SI\\_Aq.Org\\_Mixed\\_E2.mzXML.Peak.area & GIMap\\_P1\\_SI\\_Aq.Org\\_Mixed\\_C10.mzXML.Peak.area & GIMap\\_P1\\_SI\\_Aq.Org\\_Mixed\\_D11.mzXML.Peak.area & GIMap\\_P1\\_SI\\_Aq.Org\\_Mixed\\_B8.mzXML.Peak.area & GIMap\\_P1\\_SI\\_Aq.Org\\_Mixed\\_C3.mzXML.Peak.area & GIMap\\_P1\\_SI\\_Aq.Org\\_Mixed\\_B9.mzXML.Peak.area & GIMap\\_P1\\_SI\\_Aq.Org\\_Mixed\\_C5.mzXML.Peak.area & GIMap\\_P1\\_SI\\_Aq.Org\\_Mixed\\_C11.mzXML.Peak.area & GIMap\\_P1\\_SI\\_Aq.Org\\_Mixed\\_B7.mzXML.Peak.area & GIMap\\_P3\\_Aq.Org\\_Mixed\\_F1.mzXML.Peak.area & GIMap\\_P1\\_SI\\_Aq.Org\\_Mixed\\_D8.mzXML.Peak.area & GIMap\\_P1\\_SI\\_Aq.Org\\_Mixed\\_E9.mzXML.Peak.area & GIMap\\_P1\\_SI\\_Aq.Org\\_Mixed\\_E10.mzXML.Peak.area & GIMap\\_P1\\_SI\\_Aq.Org\\_Mixed\\_E4.mzXML.Peak.area & GIMap\\_P1\\_SI\\_Aq.Org\\_Mixed\\_E3.mzXML.Peak.area & GIMap\\_P1\\_SI\\_Aq.Org\\_Mixed\\_D5.mzXML.Peak.area & GIMap\\_P1\\_SI\\_Aq.Org\\_Mixed\\_D9.mzXML.Peak.area & GIMap\\_P1\\_SI\\_Aq.Org\\_Mixed\\_B12.mzXML.Peak.area & GIMap\\_P1\\_SI\\_Aq.Org\\_Mixed\\_D4.mzXML.Peak.area & GIMap\\_P1\\_SI\\_Aq.Org\\_Mixed\\_E11.mzXML.Peak.area & GIMap\\_P3\\_Aq.Org\\_Mixed\\_E1.mzXML.Peak.area & GIMap\\_P1\\_SI\\_Aq.Org\\_Mixed\\_G2.mzXML.Peak.area & GIMap\\_P1\\_SI\\_Aq.Org\\_Mixed\\_F2.mzXML.Peak.area & GIMap\\_P1\\_SI\\_Aq.Org\\_Mixed\\_D7.mzXML.Peak.area & GIMap\\_P1\\_SI\\_Aq.Org\\_Mixed\\_A6.mzXML.Peak.area & GIMap\\_P1\\_SI\\_Aq.Org\\_Mixed\\_E8.mzXML.Peak.area & GIMap\\_P1\\_SI\\_Aq.Org\\_Mixed\\_F4.mzXML.Peak.area & GIMap\\_P1\\_SI\\_Aq.Org\\_Mixed\\_F9.mzXML.Peak.area & GIMap\\_P1\\_SI\\_Aq.Org\\_Mixed\\_F5.mzXML.Peak.area & GIMap\\_P3\\_Aq.Org\\_Mixed\\_F2.mzXML.Peak.area & GIMap\\_P1\\_SI\\_Aq.Org\\_Mixed\\_D12.mzXML.Peak.area & GIMap\\_P1\\_SI\\_Aq.Org\\_Mixed\\_E1.mzXML.Peak.area & GIMap\\_P1\\_SI\\_Aq.Org\\_Mixed\\_C12.mzXML.Peak.area & GIMap\\_P1\\_SI\\_Aq.Org\\_Mixed\\_D1.mzXML.Peak.area & GIMap\\_P1\\_SI\\_Aq.Org\\_Mixed\\_C1.mzXML.Peak.area & GIMap\\_P1\\_SI\\_Aq.Org\\_Mixed\\_C7.mzXML.Peak.area & GIMap\\_P1\\_SI\\_Aq.Org\\_Mixed\\_F10.mzXML.Peak.area & GIMap\\_P1\\_SI\\_Aq.Org\\_Mixed\\_F6.mzXML.Peak.area & GIMap\\_P1\\_SI\\_Aq.Org\\_Mixed\\_E5.mzXML.Peak.area & GIMap\\_P1\\_SI\\_Aq.Org\\_Mixed\\_C6.mzXML.Peak.area & GIMap\\_P1\\_SI\\_Aq.Org\\_Mixed\\_F11.mzXML.Peak.area & GIMap\\_P1\\_SI\\_Aq.Org\\_Mixed\\_F3.mzXML.Peak.area & GIMap\\_P1\\_SI\\_Aq.Org\\_Mixed\\_E7.mzXML.Peak.area & GIMap\\_P1\\_SI\\_Aq.Org\\_Mixed\\_E12.mzXML.Peak.area & GIMap\\_P1\\_SI\\_Aq.Org\\_Mixed\\_D6.mzXML.Peak.area & GIMap\\_P1\\_SI\\_Org\\_A12.mzXML.Peak.area & GIMap\\_P1\\_SI\\_Org\\_A10.mzXML.Peak.area & GIMap\\_P1\\_SI\\_Aq.Org\\_Mixed\\_G3.mzXML.Peak.area & GIMap\\_P1\\_SI\\_Aq.Org\\_Mixed\\_G8.mzXML.Peak.area & GIMap\\_P1\\_SI\\_Aq.Org\\_Mixed\\_F1.mzXML.Peak.area & GIMap\\_P1\\_SI\\_Aq.Org\\_Mixed\\_E6.mzXML.Peak.area & GIMap\\_P1\\_SI\\_Aq.Org\\_Mixed\\_H9.mzXML.Peak.area & GIMap\\_P1\\_SI\\_Aq.Org\\_Mixed\\_G10.mzXML.Peak.area & GIMap\\_P1\\_SI\\_Aq.Org\\_Mixed\\_H10.mzXML.Peak.area & GIMap\\_P1\\_SI\\_Aq.Org\\_Mixed\\_G4.mzXML.Peak.area & GIMap\\_P1\\_SI\\_Aq.Org\\_Mixed\\_F8.mzXML.Peak.area & GIMap\\_P1\\_SI\\_Aq.Org\\_Mixed\\_H11.mzXML.Peak.area & GIMap\\_P1\\_SI\\_Aq.Org\\_Mixed\\_F7.mzXML.Peak.area & GIMap\\_P1\\_SI\\_Aq.Org\\_Mixed\\_G1.mzXML.Peak.area & GIMap\\_P1\\_SI\\_blank\\_Pos\\_start.mzXML.Peak.area & GIMap\\_P1\\_SI\\_blank\\_mid\\_pos\\_180316095702.mzXML.Peak.area & GIMap\\_P1\\_SI\\_blank\\_mid\\_pos\\_180316022806.mzXML.Peak.area & GIMap\\_P1\\_SI\\_blank\\_mid\\_pos\\_180316045741.mzXML.Peak.area & GIMap\\_P1\\_SI\\_Org\\_A8.mzXML.Peak.area & GIMap\\_P1\\_SI\\_Org\\_A11.mzXML.Peak.area & GIMap\\_P1\\_SI\\_Aq.Org\\_Mixed\\_G5.mzXML.Peak.area & GIMap\\_P1\\_SI\\_Aq.Org\\_Mixed\\_H3.mzXML.Peak.area & GIMap\\_P1\\_SI\\_Aq.Org\\_Mixed\\_G9.mzXML.Peak.area & GIMap\\_P1\\_SI\\_Aq.Org\\_Mixed\\_H2.mzXML.Peak.area & GIMap\\_P1\\_SI\\_Aq.Org\\_Mixed\\_G11.mzXML.Peak.area & GIMap\\_P1\\_SI\\_Aq.Org\\_Mixed\\_H4.mzXML.Peak.area & GIMap\\_P1\\_SI\\_Aq.Org\\_Mixed\\_G6.mzXML.Peak.area & GIMap\\_P1\\_SI\\_Aq.Org\\_Mixed\\_G12.mzXML.Peak.area & GIMap\\_P1\\_SI\\_Aq.Org\\_Mixed\\_G7.mzXML.Peak.area & GIMap\\_P1\\_SI\\_Aq.Org\\_Mixed\\_F12.mzXML.Peak.area & GIMap\\_P1\\_SI\\_blank\\_mid\\_pos\\_180315235836.mzXML.Peak.area & GIMap\\_P1\\_SI\\_blank\\_mid\\_pos\\_180316072718.mzXML.Peak.area & GIMap\\_P1\\_SI\\_blank\\_mid\\_pos.mzXML.Peak.area & GIMap\\_P1\\_SI\\_Org\\_A9.mzXML.Peak.area & GIMap\\_P1\\_SI\\_Org\\_A7.mzXML.Peak.area & GIMap\\_P2\\_SI\\_Aq.Org\\_Mixed\\_A8.mzXML.Peak.area & GIMap\\_P2\\_SI\\_Aq.Org\\_Mixed\\_A2.mzXML.Peak.area & GIMap\\_P2\\_SI\\_Aq.Org\\_Mixed\\_B4.mzXML.Peak.area & GIMap\\_P1\\_SI\\_Pulled\\_Sample\\_QC\\_180316000653.mzXML.Peak.area & GIMap\\_P1\\_SI\\_Pulled\\_Sample\\_QC\\_180316073533.mzXML.Peak.area & GIMap\\_P1\\_SI\\_Pulled\\_Sample\\_QC\\_180315213728.mzXML.Peak.area & GIMap\\_P1\\_SI\\_Pulled\\_Sample\\_QC.mzXML.Peak.area & GIMap\\_P1\\_SI\\_Aq.Org\\_Mixed\\_H8.mzXML.Peak.area & GIMap\\_P1\\_SI\\_Pulled\\_Sample\\_QC\\_180316023621.mzXML.Peak.area & GIMap\\_P1\\_SI\\_Aq.Org\\_Mixed\\_H12.mzXML.Peak.area & GIMap\\_P1\\_SI\\_Aq.Org\\_Mixed\\_H1.mzXML.Peak.area & GIMap\\_P2\\_SI\\_Aq.Org\\_Mixed\\_A9.mzXML.Peak.area & GIMap\\_P2\\_SI\\_Aq.Org\\_Mixed\\_B8.mzXML.Peak.area & GIMap\\_P2\\_SI\\_Aq.Org\\_Mixed\\_B2.mzXML.Peak.area & GIMap\\_P2\\_SI\\_Aq.Org\\_Mixed\\_A3.mzXML.Peak.area & GIMap\\_P2\\_SI\\_Aq.Org\\_Mixed\\_B3.mzXML.Peak.area & GIMap\\_P2\\_SI\\_Aq.Org\\_Mixed\\_A5.mzXML.Peak.area & GIMap\\_P2\\_SI\\_Aq.Org\\_Mixed\\_A4.mzXML.Peak.area & GIMap\\_P2\\_SI\\_Aq.Org\\_Mixed\\_A11.mzXML.Peak.area & GIMap\\_P2\\_SI\\_Aq.Org\\_Mixed\\_B10.mzXML.Peak.area & GIMap\\_P1\\_SI\\_Pulled\\_Sample\\_QC\\_180316050556.mzXML.Peak.area & GIMap\\_P2\\_SI\\_Aq.Org\\_Mixed\\_B5.mzXML.Peak.area & GIMap\\_P2\\_SI\\_Aq.Org\\_Mixed\\_B9.mzXML.Peak.area & GIMap\\_P2\\_SI\\_Aq.Org\\_Mixed\\_A10.mzXML.Peak.area & GIMap\\_P1\\_SI\\_Aq.Org\\_Mixed\\_H5.mzXML.Peak.area & GIMap\\_P1\\_SI\\_Aq.Org\\_Mixed\\_H6.mzXML.Peak.area & GIMap\\_P1\\_SI\\_Aq.Org\\_Mixed\\_H7.mzXML.Peak.area & GIMap\\_P2\\_SI\\_Aq.Org\\_Mixed\\_C4.mzXML.Peak.area & GIMap\\_P2\\_SI\\_Aq.Org\\_Mixed\\_C8.mzXML.Peak.area & GIMap\\_P2\\_SI\\_Aq.Org\\_Mixed\\_C2.mzXML.Peak.area & GIMap\\_P2\\_SI\\_Aq.Org\\_Mixed\\_C9.mzXML.Peak.area & GIMap\\_P2\\_SI\\_Aq.Org\\_Mixed\\_B11.mzXML.Peak.area & GIMap\\_P2\\_SI\\_Aq.Org\\_Mixed\\_C11.mzXML.Peak.area & GIMap\\_P2\\_SI\\_Aq.Org\\_Mixed\\_C1.mzXML.Peak.area & GIMap\\_P2\\_SI\\_Aq.Org\\_Mixed\\_C10.mzXML.Peak.area & GIMap\\_P2\\_SI\\_Aq.Org\\_Mixed\\_B7.mzXML.Peak.area & GIMap\\_P2\\_SI\\_Aq.Org\\_Mixed\\_A7.mzXML.Peak.area & GIMap\\_P2\\_SI\\_Aq.Org\\_Mixed\\_B1.mzXML.Peak.area & GIMap\\_P2\\_SI\\_Aq.Org\\_Mixed\\_A12.mzXML.Peak.area & GIMap\\_P2\\_SI\\_Aq.Org\\_Mixed\\_C3.mzXML.Peak.area & GIMap\\_P2\\_SI\\_Aq.Org\\_Mixed\\_A1.mzXML.Peak.area & GIMap\\_P2\\_SI\\_Aq.Org\\_Mixed\\_B6.mzXML.Peak.area & GIMap\\_P2\\_SI\\_Aq.Org\\_Mixed\\_B12.mzXML.Peak.area & GIMap\\_P2\\_SI\\_blank\\_end\\_pos\\_180316180653.mzXML.Peak.area & GIMap\\_P2\\_SI\\_blank\\_mid\\_pos\\_180316174208.mzXML.Peak.area & GIMap\\_P2\\_SI\\_blank\\_end\\_pos.mzXML.Peak.area & GIMap\\_P2\\_SI\\_blank\\_mid\\_pos.mzXML.Peak.area & GIMap\\_P2\\_SI\\_blank\\_mid\\_pos\\_180316150415.mzXML.Peak.area & GIMap\\_P2\\_SI\\_Aq.Org\\_Mixed\\_D2.mzXML.Peak.area & GIMap\\_P2\\_SI\\_Aq.Org\\_Mixed\\_D9.mzXML.Peak.area & GIMap\\_P2\\_SI\\_Aq.Org\\_Mixed\\_D8.mzXML.Peak.area & GIMap\\_P2\\_SI\\_Pulled\\_Sample\\_QC\\_180316151231.mzXML.Peak.area & GIMap\\_P2\\_SI\\_Pulled\\_Sample\\_QC\\_180316124301.mzXML.Peak.area & GIMap\\_P2\\_SI\\_Pulled\\_Sample\\_QC.mzXML.Peak.area & GIMap\\_P2\\_SI\\_Aq.Org\\_Mixed\\_D10.mzXML.Peak.area & GIMap\\_P2\\_SI\\_Aq.Org\\_Mixed\\_D3.mzXML.Peak.area & GIMap\\_P2\\_SI\\_Aq.Org\\_Mixed\\_C7.mzXML.Peak.area & GIMap\\_P2\\_SI\\_Aq.Org\\_Mixed\\_A6.mzXML.Peak.area & GIMap\\_P2\\_SI\\_Aq.Org\\_Mixed\\_C12.mzXML.Peak.area & GIMap\\_P3\\_SI\\_Aq.Org\\_Mixed\\_B2.mzXML.Peak.area & GIMap\\_P3\\_SI\\_Aq.Org\\_Mixed\\_A2.mzXML.Peak.area & GIMap\\_P3\\_SI\\_Aq.Org\\_Mixed\\_A3.mzXML.Peak.area & GIMap\\_P3\\_SI\\_Aq.Org\\_Mixed\\_B3.mzXML.Peak.area & GIMap\\_P2\\_SI\\_Aq.Org\\_Mixed\\_D5.mzXML.Peak.area & GIMap\\_P2\\_SI\\_Aq.Org\\_Mixed\\_D4.mzXML.Peak.area & GIMap\\_P3\\_SI\\_Aq.Org\\_Mixed\\_B10.mzXML.Peak.area & GIMap\\_P2\\_SI\\_Aq.Org\\_Mixed\\_D11.mzXML.Peak.area & GIMap\\_P3\\_SI\\_Aq.Org\\_Mixed\\_A5.mzXML.Peak.area & GIMap\\_P2\\_SI\\_Aq.Org\\_Mixed\\_D7.mzXML.Peak.area & GIMap\\_P2\\_SI\\_Aq.Org\\_Mixed\\_D1.mzXML.Peak.area & GIMap\\_P3\\_SI\\_Aq.Org\\_Mixed\\_A1.mzXML.Peak.area & GIMap\\_P2\\_SI\\_Aq.Org\\_Mixed\\_C5.mzXML.Peak.area & GIMap\\_P3\\_SI\\_Aq.Org\\_Mixed\\_B1.mzXML.Peak.area & GIMap\\_P2\\_SI\\_Aq.Org\\_Mixed\\_D6.mzXML.Peak.area & GIMap\\_P2\\_SI\\_Aq.Org\\_Mixed\\_C6.mzXML.Peak.area & GIMap\\_P3\\_SI\\_Aq.Org\\_Mixed\\_C7.mzXML.Peak.area & GIMap\\_P3\\_SI\\_Aq.Org\\_Mixed\\_C1.mzXML.Peak.area & GIMap\\_P3\\_SI\\_Aq.Org\\_Mixed\\_B4.mzXML.Peak.area & GIMap\\_P3\\_SI\\_Aq.Org\\_Mixed\\_B7.mzXML.Peak.area & GIMap\\_P3\\_SI\\_Aq.Org\\_Mixed\\_B8.mzXML.Peak.area & GIMap\\_P3\\_SI\\_Aq.Org\\_Mixed\\_C2.mzXML.Peak.area & GIMap\\_P3\\_SI\\_Aq.Org\\_Mixed\\_B6.mzXML.Peak.area & GIMap\\_P3\\_SI\\_Aq.Org\\_Mixed\\_B5.mzXML.Peak.area & GIMap\\_P2\\_SI\\_Aq.Org\\_Mixed\\_D12.mzXML.Peak.area & GIMap\\_P3\\_SI\\_Aq.Org\\_Mixed\\_B11.mzXML.Peak.area & GIMap\\_P3\\_SI\\_Aq.Org\\_Mixed\\_A4.mzXML.Peak.area & GIMap\\_P3\\_SI\\_Aq.Org\\_Mixed\\_B12.mzXML.Peak.area & GIMap\\_P3\\_SI\\_Aq.Org\\_Mixed\\_A6.mzXML.Peak.area & GIMap\\_P3\\_SI\\_Aq.Org\\_Mixed\\_E1.mzXML.Peak.area & GIMap\\_P3\\_SI\\_Aq.Org\\_Mixed\\_D8.mzXML.Peak.area & GIMap\\_P3\\_SI\\_Aq.Org\\_Mixed\\_D2.mzXML.Peak.area & GIMap\\_P3\\_SI\\_Aq.Org\\_Mixed\\_C3.mzXML.Peak.area & GIMap\\_P3\\_SI\\_Aq.Org\\_Mixed\\_D4.mzXML.Peak.area & GIMap\\_P3\\_SI\\_Aq.Org\\_Mixed\\_D10.mzXML.Peak.area & GIMap\\_P3\\_SI\\_Aq.Org\\_Mixed\\_C8.mzXML.Peak.area & GIMap\\_P3\\_SI\\_Aq.Org\\_Mixed\\_D7.mzXML.Peak.area & GIMap\\_P3\\_SI\\_Aq.Org\\_Mixed\\_D1.mzXML.Peak.area & GIMap\\_P3\\_SI\\_Aq.Org\\_Mixed\\_B9.mzXML.Peak.area & GIMap\\_P3\\_SI\\_Aq.Org\\_Mixed\\_E11.mzXML.Peak.area & GIMap\\_P3\\_SI\\_Aq.Org\\_Mixed\\_C9.mzXML.Peak.area & GIMap\\_P3\\_SI\\_Aq.Org\\_Mixed\\_C4.mzXML.Peak.area & GIMap\\_P3\\_SI\\_Aq.Org\\_Mixed\\_C10.mzXML.Peak.area & GIMap\\_P3\\_SI\\_Aq.Org\\_Mixed\\_C12.mzXML.Peak.area & GIMap\\_P3\\_SI\\_Aq.Org\\_Mixed\\_C11.mzXML.Peak.area & GIMap\\_P3\\_SI\\_Aq.Org\\_Mixed\\_F6.mzXML.Peak.area & GIMap\\_P3\\_SI\\_Aq.Org\\_Mixed\\_F12.mzXML.Peak.area & GIMap\\_P3\\_SI\\_Aq.Org\\_Mixed\\_G12.mzXML.Peak.area & GIMap\\_P3\\_SI\\_Aq.Org\\_Mixed\\_G3.mzXML.Peak.area & GIMap\\_P3\\_SI\\_Aq.Org\\_Mixed\\_D9.mzXML.Peak.area & GIMap\\_P3\\_SI\\_Aq.Org\\_Mixed\\_E9.mzXML.Peak.area & GIMap\\_P3\\_SI\\_Aq.Org\\_Mixed\\_E4.mzXML.Peak.area & GIMap\\_P3\\_SI\\_Aq.Org\\_Mixed\\_E10.mzXML.Peak.area & GIMap\\_P3\\_SI\\_Aq.Org\\_Mixed\\_E12.mzXML.Peak.area & GIMap\\_P3\\_SI\\_Aq.Org\\_Mixed\\_D3.mzXML.Peak.area & GIMap\\_P3\\_SI\\_Aq.Org\\_Mixed\\_D6.mzXML.Peak.area & GIMap\\_P3\\_SI\\_Aq.Org\\_Mixed\\_C6.mzXML.Peak.area & GIMap\\_P3\\_SI\\_Aq.Org\\_Mixed\\_D12.mzXML.Peak.area & GIMap\\_P3\\_SI\\_Aq.Org\\_Mixed\\_C5.mzXML.Peak.area & GIMap\\_P3\\_SI\\_Aq.Org\\_Mixed\\_E8.mzXML.Peak.area & GIMap\\_P3\\_SI\\_Aq.Org\\_Mixed\\_D11.mzXML.Peak.area & GIMap\\_P3\\_SI\\_Aq.Org\\_Mixed\\_F1.mzXML.Peak.area & GIMap\\_P3\\_SI\\_Aq.Org\\_Mixed\\_F3.mzXML.Peak.area & GIMap\\_P3\\_SI\\_Aq.Org\\_Mixed\\_F9.mzXML.Peak.area & GIMap\\_P3\\_SI\\_Aq.Org\\_Mixed\\_E7.mzXML.Peak.area & GIMap\\_P3\\_SI\\_Aq.Org\\_Mixed\\_E2.mzXML.Peak.area & GIMap\\_P3\\_SI\\_Aq.Org\\_Mixed\\_F8.mzXML.Peak.area & GIMap\\_P3\\_SI\\_Aq.Org\\_Mixed\\_E3.mzXML.Peak.area & GIMap\\_P3\\_SI\\_Aq.Org\\_Mixed\\_F2.mzXML.Peak.area & GIMap\\_P3\\_SI\\_Aq.Org\\_Mixed\\_E6.mzXML.Peak.area & GIMap\\_P3\\_SI\\_Aq.Org\\_Mixed\\_G6.mzXML.Peak.area & GIMap\\_P3\\_SI\\_Aq.Org\\_Mixed\\_H7.mzXML.Peak.area & GIMap\\_P3\\_SI\\_Aq.Org\\_Mixed\\_H6.mzXML.Peak.area & GIMap\\_P3\\_SI\\_Aq\\_A10.mzXML.Peak.area & GIMap\\_P3\\_SI\\_Aq.Org\\_Mixed\\_G8.mzXML.Peak.area & GIMap\\_P3\\_SI\\_Aq.Org\\_Mixed\\_D5.mzXML.Peak.area & GIMap\\_P3\\_SI\\_Aq.Org\\_Mixed\\_H2.mzXML.Peak.area & GIMap\\_P3\\_SI\\_Aq.Org\\_Mixed\\_H1.mzXML.Peak.area & GIMap\\_P3\\_SI\\_Aq.Org\\_Mixed\\_G7.mzXML.Peak.area & GIMap\\_P3\\_SI\\_Aq.Org\\_Mixed\\_F7.mzXML.Peak.area & GIMap\\_P3\\_SI\\_Aq.Org\\_Mixed\\_G5.mzXML.Peak.area & GIMap\\_P3\\_SI\\_Aq\\_A8.mzXML.Peak.area & GIMap\\_P3\\_SI\\_Aq.Org\\_Mixed\\_F11.mzXML.Peak.area & GIMap\\_P3\\_SI\\_Aq.Org\\_Mixed\\_G9.mzXML.Peak.area & GIMap\\_P3\\_SI\\_Aq.Org\\_Mixed\\_F5.mzXML.Peak.area & GIMap\\_P3\\_SI\\_Aq.Org\\_Mixed\\_G1.mzXML.Peak.area & GIMap\\_P3\\_SI\\_Aq.Org\\_Mixed\\_G2.mzXML.Peak.area & GIMap\\_P3\\_SI\\_Aq.Org\\_Mixed\\_G11.mzXML.Peak.area & GIMap\\_P3\\_SI\\_Aq.Org\\_Mixed\\_F10.mzXML.Peak.area & GIMap\\_P3\\_SI\\_Aq.Org\\_Mixed\\_F4.mzXML.Peak.area & GIMap\\_P3\\_SI\\_blank\\_mid\\_pos\\_180315105047.mzXML.Peak.area & GIMap\\_P3\\_SI\\_blank\\_mid\\_pos\\_180315132024.mzXML.Peak.area & GIMap\\_P3\\_SI\\_blank\\_mid\\_pos\\_180315155005.mzXML.Peak.area & GIMap\\_P3\\_SI\\_blank\\_mid\\_pos\\_180315180305.mzXML.Peak.area & GIMap\\_P3\\_SI\\_blank\\_mid\\_pos\\_180315082109.mzXML.Peak.area & GIMap\\_P3\\_SI\\_blank\\_mid\\_pos.mzXML.Peak.area & GIMap\\_P3\\_SI\\_blank\\_mid\\_pos\\_180315184755.mzXML.Peak.area & GIMap\\_P3\\_SI\\_Pulled\\_Sample\\_QC\\_180315105902.mzXML.Peak.area & GIMap\\_P3\\_SI\\_Aq.Org\\_Mixed\\_E5.mzXML.Peak.area & GIMap\\_P3\\_SI\\_Pulled\\_Sample\\_QC\\_180315181120.mzXML.Peak.area & GIMap\\_P3\\_SI\\_Pulled\\_Sample\\_QC.mzXML.Peak.area & GIMap\\_P3\\_SI\\_Aq\\_A9.mzXML.Peak.area & GIMap\\_P3\\_SI\\_Pulled\\_Sample\\_QC\\_180315185925.mzXML.Peak.area & GIMap\\_P3\\_SI\\_Aq.Org\\_Mixed\\_H8.mzXML.Peak.area & GIMap\\_P3\\_SI\\_Aq.Org\\_Mixed\\_H3.mzXML.Peak.area & GIMap\\_P3\\_SI\\_Aq.Org\\_Mixed\\_G10.mzXML.Peak.area & GIMap\\_P3\\_SI\\_Pulled\\_Sample\\_QC\\_180315082926.mzXML.Peak.area & GIMap\\_P3\\_SI\\_Pulled\\_Sample\\_QC\\_180315132839.mzXML.Peak.area & GIMap\\_P3\\_SI\\_Pulled\\_Sample\\_QC\\_180315155821.mzXML.Peak.area & GIMap\\_P3\\_SI\\_Pulled\\_Sample\\_QC\\_180316175021.mzXML.Peak.area & GIMap\\_P3\\_SI\\_Aq\\_A11.mzXML.Peak.area & GIMap\\_P3\\_SI\\_Aq\\_A12.mzXML.Peak.area & GIMap\\_P3\\_SI\\_Aq\\_A7.mzXML.Peak.area & GIMap\\_P3\\_SI\\_Aq.Org\\_Mixed\\_H5.mzXML.Peak.area & GIMap\\_P3\\_SI\\_Aq.Org\\_Mixed\\_H9.mzXML.Peak.area & GIMap\\_P3\\_SI\\_Aq.Org\\_Mixed\\_H4.mzXML.Peak.area & GIMap\\_P3\\_SI\\_Aq.Org\\_Mixed\\_H10.mzXML.Peak.area & GIMap\\_P3\\_SI\\_Aq.Org\\_Mixed\\_G4.mzXML.Peak.area\\\\\n",
       " <fct> & <dbl> & <dbl> & <dbl> & <dbl> & <dbl> & <dbl> & <dbl> & <dbl> & <dbl> & <dbl> & <dbl> & <dbl> & <dbl> & <dbl> & <dbl> & <dbl> & <dbl> & <dbl> & <dbl> & <dbl> & <dbl> & <dbl> & <dbl> & <dbl> & <dbl> & <dbl> & <dbl> & <dbl> & <dbl> & <dbl> & <dbl> & <dbl> & <dbl> & <dbl> & <dbl> & <dbl> & <dbl> & <dbl> & <dbl> & <dbl> & <dbl> & <dbl> & <dbl> & <dbl> & <dbl> & <dbl> & <dbl> & <dbl> & <dbl> & <dbl> & <dbl> & <dbl> & <dbl> & <dbl> & <dbl> & <dbl> & <dbl> & <dbl> & <dbl> & <dbl> & <dbl> & <dbl> & <dbl> & <dbl> & <dbl> & <dbl> & <dbl> & <dbl> & <dbl> & <dbl> & <dbl> & <dbl> & <dbl> & <dbl> & <dbl> & <dbl> & <dbl> & <dbl> & <dbl> & <dbl> & <dbl> & <dbl> & <dbl> & <dbl> & <dbl> & <dbl> & <dbl> & <dbl> & <dbl> & <dbl> & <dbl> & <dbl> & <dbl> & <dbl> & <dbl> & <dbl> & <dbl> & <dbl> & <dbl> & <dbl> & <dbl> & <dbl> & <dbl> & <dbl> & <dbl> & <dbl> & <dbl> & <dbl> & <dbl> & <dbl> & <dbl> & <dbl> & <dbl> & <dbl> & <dbl> & <dbl> & <dbl> & <dbl> & <dbl> & <dbl> & <dbl> & <dbl> & <dbl> & <dbl> & <dbl> & <dbl> & <dbl> & <dbl> & <dbl> & <dbl> & <dbl> & <dbl> & <dbl> & <dbl> & <dbl> & <dbl> & <dbl> & <dbl> & <dbl> & <dbl> & <dbl> & <dbl> & <dbl> & <dbl> & <dbl> & <dbl> & <dbl> & <dbl> & <dbl> & <dbl> & <dbl> & <dbl> & <dbl> & <dbl> & <dbl> & <dbl> & <dbl> & <dbl> & <dbl> & <dbl> & <dbl> & <dbl> & <dbl> & <dbl> & <dbl> & <dbl> & <dbl> & <dbl> & <dbl> & <dbl> & <dbl> & <dbl> & <dbl> & <dbl> & <dbl> & <dbl> & <dbl> & <dbl> & <dbl> & <dbl> & <dbl> & <dbl> & <dbl> & <dbl> & <dbl> & <dbl> & <dbl> & <dbl> & <dbl> & <dbl> & <dbl> & <dbl> & <dbl> & <dbl> & <dbl> & <dbl> & <dbl> & <dbl> & <dbl> & <dbl> & <dbl> & <dbl> & <dbl> & <dbl> & <dbl> & <dbl> & <dbl> & <dbl> & <dbl> & <dbl> & <dbl> & <dbl> & <dbl> & <dbl> & <dbl> & <dbl> & <dbl> & <dbl> & <dbl> & <dbl> & <dbl> & <dbl> & <dbl> & <dbl> & <dbl> & <dbl> & <dbl> & <dbl> & <dbl> & <dbl> & <dbl> & <dbl> & <dbl> & <dbl> & <dbl> & <dbl> & <dbl> & <dbl> & <dbl> & <dbl> & <dbl> & <dbl> & <dbl> & <dbl> & <dbl> & <dbl> & <dbl> & <dbl> & <dbl> & <dbl> & <dbl> & <dbl> & <dbl> & <dbl> & <dbl> & <dbl> & <dbl> & <dbl> & <dbl> & <dbl> & <dbl> & <dbl> & <dbl> & <dbl> & <dbl> & <dbl> & <dbl> & <dbl> & <dbl> & <dbl> & <dbl> & <dbl> & <dbl> & <dbl> & <dbl> & <dbl> & <dbl> & <dbl> & <dbl> & <dbl> & <dbl> & <dbl> & <dbl> & <dbl> & <dbl> & <dbl> & <dbl> & <dbl> & <dbl> & <dbl> & <dbl> & <dbl> & <dbl> & <dbl> & <dbl> & <dbl> & <dbl> & <dbl> & <dbl> & <dbl> & <dbl> & <dbl> & <dbl> & <dbl> & <dbl> & <dbl> & <dbl> & <dbl> & <dbl> & <dbl> & <dbl> & <dbl> & <dbl> & <dbl> & <dbl> & <dbl> & <dbl> & <dbl> & <dbl> & <dbl> & <dbl> & <dbl> & <dbl> & <dbl> & <dbl> & <dbl> & <dbl> & <dbl> & <dbl> & <dbl> & <dbl> & <dbl> & <dbl> & <dbl> & <dbl> & <dbl> & <dbl> & <dbl> & <dbl> & <dbl> & <dbl> & <dbl> & <dbl> & <dbl> & <dbl> & <dbl> & <dbl> & <dbl> & <dbl> & <dbl> & <dbl> & <dbl> & <dbl> & <dbl> & <dbl> & <dbl> & <dbl> & <dbl> & <dbl> & <dbl> & <dbl> & <dbl> & <dbl> & <dbl> & <dbl> & <dbl> & <dbl> & <dbl> & <dbl> & <dbl> & <dbl> & <dbl> & <dbl> & <dbl> & <dbl> & <dbl> & <dbl> & <dbl> & <dbl> & <dbl> & <dbl> & <dbl> & <dbl> & <dbl> & <dbl> & <dbl> & <dbl> & <dbl> & <dbl> & <dbl> & <dbl> & <dbl> & <dbl> & <dbl> & <dbl> & <dbl> & <dbl> & <dbl> & <dbl> & <dbl> & <dbl> & <dbl> & <dbl> & <dbl> & <dbl> & <dbl> & <dbl> & <dbl> & <dbl> & <dbl> & <dbl> & <dbl> & <dbl> & <dbl> & <dbl> & <dbl> & <dbl> & <dbl> & <dbl> & <dbl> & <dbl> & <dbl> & <dbl> & <dbl> & <dbl> & <dbl> & <dbl> & <dbl> & <dbl> & <dbl> & <dbl> & <dbl> & <dbl> & <dbl> & <dbl> & <dbl> & <dbl> & <dbl> & <dbl> & <dbl> & <dbl> & <dbl> & <dbl> & <dbl> & <dbl> & <dbl> & <dbl> & <dbl> & <dbl> & <dbl> & <dbl> & <dbl> & <dbl> & <dbl> & <dbl> & <dbl> & <dbl> & <dbl> & <dbl> & <dbl> & <dbl> & <dbl> & <dbl> & <dbl> & <dbl> & <dbl> & <dbl> & <dbl> & <dbl> & <dbl> & <dbl> & <dbl> & <dbl> & <dbl> & <dbl> & <dbl> & <dbl> & <dbl> & <dbl> & <dbl> & <dbl> & <dbl> & <dbl> & <dbl> & <dbl> & <dbl> & <dbl> & <dbl> & <dbl> & <dbl> & <dbl> & <dbl> & <dbl> & <dbl> & <dbl> & <dbl> & <dbl> & <dbl> & <dbl> & <dbl> & <dbl> & <dbl> & <dbl> & <dbl> & <dbl> & <dbl> & <dbl> & <dbl> & <dbl> & <dbl> & <dbl> & <dbl> & <dbl> & <dbl> & <dbl> & <dbl> & <dbl> & <dbl> & <dbl> & <dbl> & <dbl> & <dbl> & <dbl> & <dbl> & <dbl> & <dbl> & <dbl> & <dbl> & <dbl> & <dbl> & <dbl> & <dbl> & <dbl> & <dbl> & <dbl> & <dbl> & <dbl> & <dbl> & <dbl> & <dbl> & <dbl> & <dbl> & <dbl> & <dbl> & <dbl> & <dbl> & <dbl> & <dbl> & <dbl> & <dbl> & <dbl> & <dbl> & <dbl> & <dbl> & <dbl> & <dbl> & <dbl> & <dbl> & <dbl> & <dbl> & <dbl> & <dbl> & <dbl> & <dbl> & <dbl> & <dbl> & <dbl> & <dbl> & <dbl> & <dbl> & <dbl> & <dbl> & <dbl> & <dbl> & <dbl> & <dbl> & <dbl> & <dbl> & <dbl> & <dbl> & <dbl> & <dbl> & <dbl> & <dbl> & <dbl> & <dbl> & <dbl> & <dbl> & <dbl> & <dbl> & <dbl> & <dbl> & <dbl> & <dbl> & <dbl> & <dbl> & <dbl> & <dbl> & <dbl> & <dbl> & <dbl> & <dbl> & <dbl> & <dbl> & <dbl> & <dbl> & <dbl> & <dbl> & <dbl> & <dbl> & <dbl> & <dbl> & <dbl> & <dbl> & <dbl> & <dbl> & <dbl> & <dbl> & <dbl> & <dbl> & <dbl> & <dbl> & <dbl> & <dbl> & <dbl> & <dbl> & <dbl> & <dbl> & <dbl> & <dbl> & <dbl> & <dbl> & <dbl> & <dbl> & <dbl> & <dbl> & <dbl> & <dbl> & <dbl> & <dbl> & <dbl> & <dbl> & <dbl> & <dbl> & <dbl> & <dbl> & <dbl> & <dbl> & <dbl> & <dbl> & <dbl> & <dbl> & <dbl> & <dbl> & <dbl> & <dbl> & <dbl> & <dbl> & <dbl> & <dbl> & <dbl> & <dbl> & <dbl> & <dbl> & <dbl> & <dbl> & <dbl> & <dbl> & <dbl> & <dbl> & <dbl> & <dbl> & <dbl> & <dbl> & <dbl> & <dbl> & <dbl> & <dbl> & <dbl> & <dbl> & <dbl> & <dbl> & <dbl> & <dbl> & <dbl> & <dbl> & <dbl> & <dbl> & <dbl> & <dbl> & <dbl> & <dbl> & <dbl> & <dbl> & <dbl> & <dbl> & <dbl> & <dbl> & <dbl> & <dbl> & <dbl> & <dbl> & <dbl> & <dbl> & <dbl> & <dbl> & <dbl> & <dbl> & <dbl> & <dbl> & <dbl> & <dbl> & <dbl> & <dbl> & <dbl> & <dbl> & <dbl> & <dbl> & <dbl> & <dbl> & <dbl> & <dbl> & <dbl> & <dbl> & <dbl> & <dbl> & <dbl> & <dbl> & <dbl> & <dbl> & <dbl> & <dbl> & <dbl> & <dbl> & <dbl> & <dbl> & <dbl> & <dbl> & <dbl> & <dbl> & <dbl> & <dbl> & <dbl> & <dbl> & <dbl> & <dbl> & <dbl> & <dbl> & <dbl> & <dbl> & <dbl> & <dbl> & <dbl> & <dbl> & <dbl> & <dbl> & <dbl> & <dbl> & <dbl> & <dbl> & <dbl> & <dbl> & <dbl> & <dbl> & <dbl> & <dbl> & <dbl> & <dbl> & <dbl> & <dbl> & <dbl> & <dbl> & <dbl> & <dbl> & <dbl> & <dbl> & <dbl> & <dbl> & <dbl> & <dbl> & <dbl> & <dbl> & <dbl> & <dbl> & <dbl> & <dbl>\\\\\n",
       "\\hline\n",
       "\t 70.012\\_0.234 & 0.0e+00 & 0.00e+00 & 0.00e+00 & 0.00e+00 & 0.00e+00 & 0.00e+00 & 0.00e+00 & 0.00e+00 & 0.00e+00 & 0.00e+00 & 0.00e+00 & 0.00e+00 & 0.00e+00 & 0.00e+00 & 0.00e+00 &          0 & 0.00e+00 & 0.00e+00 & 0.00e+00 & 0.00e+00 & 0.0e+00 & 0e+00 & 0.00e+00 & 0.00e+00 & 0.00e+00 & 0.00e+00 & 0.00e+00 & 0.00e+00 & 0.00e+00 & 0.00e+00 &         0 & 0.00e+00 & 0.00e+00 & 0.00e+00 & 0.00e+00 & 0.00e+00 & 0 & 0.00e+00 & 0.00e+00 & 0.00e+00 & 0.00e+00 & 0.00e+00 & 0.00e+00 & 0.00e+00 & 0.00e+00 & 0.00e+00 & 0.00e+00 & 0.00e+00 & 0.00e+00 & 0.00e+00 &          0 & 0.00e+00 & 0.00e+00 & 0.00e+00 & 0.00e+00 & 0.00e+00 & 0.00e+00 & 0.00e+00 & 0.00e+00 & 0.00e+00 & 0.00e+00 & 0.00e+00 & 0.00e+00 & 0.00e+00 & 0.00e+00 & 0.00e+00 & 0.00e+00 & 0.00e+00 & 0.00e+00 & 0 & 0.00e+00 & 0 & 0.00e+00 & 0.0e+00 & 0.00e+00 & 0.00e+00 &          0 & 0.00e+00 & 0.00e+00 & 0.00e+00 & 0.00e+00 & 0 & 0 & 0.0e+00 & 0 & 0.00e+00 &        0 &        0 & 0.00e+00 & 0.00e+00 & 0.00e+00 & 0.00e+00 & 0.00e+00 & 0 & 0 & 0 & 0 & 0 & 0.00e+00 & 0.00e+00 & 0.00e+00 &        0 &        0 & 0.0e+00 &        0 & 0.00e+00 &          0 &          0 & 0 & 0 & 0 & 0 & 0 & 0 & 0 & 0 & 0 & 0 & 0 & 0.00e+00 &        0 & 0 &        0 & 0.00e+00 & 0.00e+00 & 0.00e+00 & 0.00e+00 & 0.00e+00 & 0.00e+00 & 0.00e+00 & 0.00e+00 & 0.00e+00 & 0.00e+00 & 0.00e+00 & 0e+00 & 0.00e+00 & 0.00e+00 & 0.00e+00 & 0.00e+00 & 0.00e+00 & 0.00e+00 & 0.00e+00 & 0.00e+00 & 0.00e+00 & 0e+00 & 0.00e+00 & 0.00e+00 & 0.00e+00 & 0e+00 & 0.00e+00 & 0.00e+00 & 0.00e+00 &          0 &         0 & 0.00e+00 & 0.00e+00 & 0.00e+00 & 0.0e+00 & 0.00e+00 & 0.00e+00 & 0.00e+00 & 0.00e+00 & 0.00e+00 & 0.00e+00 & 0.00e+00 & 0.00e+00 & 0.00e+00 & 0.00e+00 & 0.00e+00 & 0.00e+00 & 0.00e+00 & 0.00e+00 & 0.00e+00 & 0.00e+00 & 0.0e+00 & 0.00e+00 & 0.00e+00 & 0.00e+00 & 0.00e+00 & 0.00e+00 & 0.00e+00 &          0 & 0.00e+00 & 0.00e+00 & 0.00e+00 & 0.00e+00 & 0.00e+00 & 0.00e+00 & 0.00e+00 & 0.00e+00 &         0 & 0.00e+00 & 0.00e+00 & 0.00e+00 & 0.00e+00 &       0 & 0.00e+00 & 0.00e+00 & 0.00e+00 &          0 & 0.00e+00 & 0 & 0 & 0.00e+00 & 0.0e+00 & 0.00e+00 & 0.00e+00 & 0.00e+00 & 0.00e+00 & 0.00e+00 & 0.00e+00 & 0.00e+00 & 0.00e+00 & 0.00e+00 & 0.00e+00 & 0.00e+00 & 0.00e+00 & 0 & 0 & 0 & 0 & 0 & 0 & 0 & 0 & 0 & 0 & 0.00e+00 & 0.00e+00 & 0.00e+00 & 0.00e+00 & 0.00e+00 & 0.00e+00 & 0 & 0 & 0 & 0 & 0 & 0 & 0 & 0 & 0 & 0 & 0 & 0.00e+00 & 0.00e+00 &        0 & 0.00e+00 & 0.00e+00 & 0 & 0 & 0.00e+00 & 0.0e+00 & 0.00e+00 & 0.00e+00 & 0.00e+00 & 0.00e+00 & 0.00e+00 & 0.0e+00 & 0.00e+00 & 0.00e+00 & 0.00e+00 & 0 & 0.00e+00 &        0 & 0.0e+00 & 0.00e+00 &        0 & 0.00e+00 & 0.00e+00 &        0 & 0.00e+00 &        0 &        0 & 0.0e+00 & 0.00e+00 & 0.00e+00 & 0.00e+00 & 0.00e+00 & 0.00e+00 & 0.00e+00 & 0 & 0.00e+00 & 0.00e+00 & 0.00e+00 & 0.00e+00 & 0.00e+00 & 0.00e+00 & 0.00e+00 & 0.00e+00 & 0.0e+00 & 0.00e+00 & 0.00e+00 & 0.00e+00 & 0.00e+00 & 0.00e+00 & 0.00e+00 &       0 & 0 & 0 & 0 & 0 & 0 & 0 & 0 &        0 &        0 & 0.00e+00 & 0.00e+00 &        0 & 0.0e+00 &        0 & 0.00e+00 & 0 & 0 & 0 & 0.0e+00 & 0 & 0.00e+00 & 0 &        0 & 0 & 0 & 0.00e+00 & 0.00e+00 &        0 & 0 & 0.0e+00 & 0.00e+00 & 0.00e+00 & 0.0e+00 & 0.00e+00 & 0.00e+00 & 0.00e+00 & 0.00e+00 & 0.00e+00 &         0 & 0.0e+00 & 0.00e+00 & 0.00e+00 & 0.0e+00 & 0.00e+00 &   4817537 & 0.00e+00 & 0.00e+00 & 0.00e+00 & 0.00e+00 & 0.00e+00 & 0.00e+00 & 0.00e+00 & 0.00e+00 & 0.00e+00 & 9.49e+07 & 2.81e+07 &        0 & 0.00e+00 & 0.00e+00 & 0.00e+00 & 0.00e+00 & 0.00e+00 & 9.47e+07 & 0.00e+00 & 0.00e+00 & 0.00e+00 & 0.00e+00 & 0.00e+00 & 0.00e+00 & 0.00e+00 & 0.00e+00 & 0.00e+00 & 0.00e+00 & 0.00e+00 & 0.00e+00 & 5.94e+07 & 5.09e+07 & 0.00e+00 & 0.00e+00 & 0.00e+00 & 3.20e+07 & 0 &        0 &         0 & 0.00e+00 & 0.00e+00 & 0.0e+00 & 0.00e+00 & 0.00e+00 & 0.00e+00 & 0.00e+00 & 4.42e+07 &  18500000 & 0.00e+00 & 0.00e+00 & 0.00e+00 & 0.00e+00 & 0.00e+00 & 0.00e+00 & 1.13e+07 &         0 & 1.99e+07 & 3.00e+07 & 0.00e+00 & 0.00e+00 & 0.00e+00 & 2.73e+07 & 0.0e+00 & 0 & 0.00e+00 & 0.00e+00 & 0.00e+00 & 0.00e+00 & 0.00e+00 & 0.00e+00 & 0.00e+00 & 1.06e+08 & 1.50e+08 & 1.28e+07 & 0.00e+00 & 0.00e+00 & 0.00e+00 & 0.00e+00 & 0.00e+00 & 0.00e+00 & 0.00e+00 & 0.00e+00 & 6.95e+07 & 0.00e+00 & 0.00e+00 & 0.00e+00 & 0.00e+00 & 1.27e+08 &  43300000 & 0.00e+00 & 0.00e+00 & 0.00e+00 & 0.00e+00 & 0.00e+00 & 0.00e+00 &   4403014 & 0.00e+00 & 2.49e+07 & 0.00e+00 & 0.00e+00 & 0.00e+00 & 5.49e+07 &         0 &   9739372 &         0 & 0.00e+00 & 0.00e+00 & 0.00e+00 &         0 &  18600000 & 0.00e+00 & 1.31e+07 & 0.00e+00 & 0.00e+00 & 0.00e+00 & 0.00e+00 & 0.00e+00 & 0.00e+00 & 18600000 & 1.05e+08 & 0.00e+00 & 0.0e+00 & 7.91e+07 &    7081446 &   4820680 & 0.00e+00 & 32600000 &         0 & 0.00e+00 & 0.00e+00 & 1.12e+08 & 0 & 0 & 0.00e+00 & 0.00e+00 & 0.00e+00 & 8.14e+07 & 0.00e+00 & 0.00e+00 & 0.00e+00 & 0.00e+00 & 0.00e+00 & 18900000 & 0.00e+00 & 0 & 0 & 0 & 0.00e+00 & 0.00e+00 & 0.00e+00 &   3630488 & 0.00e+00 & 0.00e+00 &          0 & 0.00e+00 & 0.00e+00 &         0 & 0.00e+00 & 2.67e+07 & 0.00e+00 & 0.00e+00 & 0.00e+00 & 0.00e+00 & 0.00e+00 & 0.00e+00 &   3054955 &   3487005 & 0.00e+00 & 0.00e+00 & 0.00e+00 &         0 & 0.00e+00 &         0 & 0.00e+00 & 0.00e+00 & 0.00e+00 & 0.00e+00 & 0.00e+00 & 0.00e+00 & 0.00e+00 & 0.00e+00 & 0.00e+00 & 0.00e+00 & 0.00e+00 & 0.00e+00 & 0.00e+00 & 0.00e+00 & 0.00e+00 & 0.00e+00 & 0.00e+00 & 0.00e+00 & 0.00e+00 & 0.00e+00 & 0.00e+00 & 0.00e+00 & 14900000 & 0.00e+00 & 0.00e+00 & 0.0e+00 & 0.00e+00 & 0.00e+00 & 0.00e+00 & 0.00e+00 & 0e+00 & 0.00e+00 & 0.00e+00 & 6.36e+07 & 0.00e+00 & 0.00e+00 & 0.00e+00 & 0.00e+00 & 0.00e+00 & 0.00e+00 & 0.00e+00 & 0.00e+00 & 0.00e+00 & 0.00e+00 & 0.00e+00 & 0.00e+00 & 0.00e+00 & 0.00e+00 & 0.00e+00 & 0.00e+00 & 0.00e+00 & 0.00e+00 & 0.00e+00 & 0.00e+00 & 0.00e+00 & 0.0e+00 & 0.0e+00 & 0.00e+00 & 0.00e+00 & 0.0e+00 & 0.0e+00 & 0.00e+00 &         0 & 0.00e+00 & 0.00e+00 & 0.00e+00 & 0.00e+00 & 0.00e+00 & 0.00e+00 & 0.0e+00 &         0 & 0.00e+00 & 0 & 0 & 0 & 0 & 0 & 0.00e+00 & 0.00e+00 & 0.00e+00 & 0.00e+00 & 0.00e+00 & 0.00e+00 & 0.00e+00 & 0.00e+00 & 0.00e+00 & 0.00e+00 & 0.00e+00 & 0 & 0 & 0 & 0.00e+00 &        0 & 0.00e+00 & 0.00e+00 & 0.00e+00 & 0.00e+00 & 0e+00 & 0.00e+00 & 0.0e+00 & 0.00e+00 & 0.00e+00 & 0.00e+00 & 0.00e+00 & 0.00e+00 & 0.00e+00 & 0.00e+00 & 0.00e+00 & 0.00e+00 & 0.00e+00 & 0.00e+00 & 0.00e+00 & 0.00e+00 & 0.00e+00 & 0.00e+00 & 0.00e+00 & 0.00e+00 & 0.00e+00 & 0.00e+00 &         0 & 0.00e+00 & 0.00e+00 & 0.00e+00 & 0.00e+00 & 0.00e+00 & 0.00e+00 & 0.00e+00 & 0.00e+00 & 0.00e+00 & 0.00e+00 & 0.00e+00 & 0.00e+00 & 0.00e+00 & 0.00e+00 & 0.00e+00 & 0.00e+00 & 0 & 0 & 0 & 0 & 0 & 0.00e+00 & 0.00e+00 & 0.00e+00 & 0.00e+00 & 0.00e+00 & 0.00e+00 & 0.00e+00 & 0.00e+00 & 0.00e+00 & 0.00e+00 & 0.00e+00 & 0.00e+00 & 0.00e+00 & 0.00e+00 & 0.00e+00 & 0.00e+00 & 0.00e+00 & 0.00e+00 & 0.00e+00 & 0.00e+00 & 0.00e+00 & 0.00e+00 & 0.00e+00 & 0e+00 & 0.00e+00 & 0.00e+00 & 0.00e+00 & 0.00e+00 & 0.00e+00 & 0.00e+00 & 0.00e+00 & 0.00e+00 & 0.00e+00 & 0.0e+00 & 0.00e+00 & 0.00e+00 & 0.00e+00 & 0.00e+00 & 0.00e+00 & 0.00e+00 &        0 & 0.00e+00 & 0.00e+00 & 0.00e+00 & 0.00e+00 & 0.0e+00 & 0.00e+00 & 0.00e+00 & 0.00e+00 & 0.00e+00 & 0.00e+00 & 0.00e+00 & 0.00e+00 & 0.00e+00 & 0.00e+00 & 0.00e+00 & 0 & 0.00e+00 & 0.00e+00 & 0.00e+00 & 0.00e+00 & 0.00e+00 & 0.00e+00 & 0.00e+00 & 0.00e+00 & 0.00e+00 & 0.00e+00 & 0.00e+00 & 0.00e+00 & 0.00e+00 & 0.00e+00 & 0.00e+00 & 0.00e+00 & 0.00e+00 & 0.00e+00 & 0.00e+00 & 0.00e+00 & 0.0e+00 & 0.0e+00 & 0.00e+00 & 0.00e+00 & 0 & 0.00e+00 & 0.00e+00 & 0.00e+00 & 0.00e+00 & 0.00e+00 & 0.0e+00 & 0.00e+00 & 0.00e+00 & 0.00e+00 & 0.00e+00 & 0.0e+00 & 0.00e+00 & 0.00e+00 & 0.00e+00 & 0.00e+00 & 0.00e+00 & 0.00e+00 & 0.00e+00 & 0.00e+00 & 0 & 0 & 0 & 0 & 0 & 0 & 0 & 0.00e+00 & 0.00e+00 & 0.0e+00 & 0.00e+00 & 0.00e+00 & 0.0e+00 & 0.00e+00 & 0.00e+00 & 0.00e+00 & 0.00e+00 & 0.00e+00 & 0.0e+00 & 0.00e+00 & 0.00e+00 & 0.00e+00 & 0.00e+00 & 0.00e+00 & 0.00e+00 & 0.00e+00 & 0.00e+00 & 0.00e+00\\\\\n",
       "\t 70.013\\_2.191 & 0.0e+00 & 0.00e+00 & 0.00e+00 & 0.00e+00 & 0.00e+00 & 0.00e+00 & 0.00e+00 & 0.00e+00 & 0.00e+00 & 0.00e+00 & 0.00e+00 & 0.00e+00 & 0.00e+00 & 0.00e+00 & 0.00e+00 &          0 & 0.00e+00 & 0.00e+00 & 0.00e+00 & 0.00e+00 & 0.0e+00 & 0e+00 & 0.00e+00 & 0.00e+00 & 0.00e+00 & 0.00e+00 & 0.00e+00 & 0.00e+00 & 0.00e+00 & 0.00e+00 &         0 & 0.00e+00 & 0.00e+00 & 0.00e+00 & 0.00e+00 & 0.00e+00 & 0 & 0.00e+00 & 0.00e+00 & 0.00e+00 & 0.00e+00 & 0.00e+00 & 0.00e+00 & 0.00e+00 & 0.00e+00 & 0.00e+00 & 0.00e+00 & 0.00e+00 & 0.00e+00 & 0.00e+00 &          0 & 0.00e+00 & 0.00e+00 & 0.00e+00 & 0.00e+00 & 0.00e+00 & 0.00e+00 & 0.00e+00 & 0.00e+00 & 0.00e+00 & 0.00e+00 & 0.00e+00 & 0.00e+00 & 0.00e+00 & 0.00e+00 & 0.00e+00 & 0.00e+00 & 0.00e+00 & 0.00e+00 & 0 & 0.00e+00 & 0 & 0.00e+00 & 0.0e+00 & 0.00e+00 & 0.00e+00 &          0 & 0.00e+00 & 0.00e+00 & 0.00e+00 & 0.00e+00 & 0 & 0 & 0.0e+00 & 0 & 0.00e+00 &        0 &        0 & 0.00e+00 & 0.00e+00 & 0.00e+00 & 0.00e+00 & 0.00e+00 & 0 & 0 & 0 & 0 & 0 & 0.00e+00 & 0.00e+00 & 0.00e+00 &        0 &        0 & 0.0e+00 &        0 & 0.00e+00 &          0 &          0 & 0 & 0 & 0 & 0 & 0 & 0 & 0 & 0 & 0 & 0 & 0 & 0.00e+00 &        0 & 0 &        0 & 0.00e+00 & 0.00e+00 & 0.00e+00 & 0.00e+00 & 0.00e+00 & 0.00e+00 & 0.00e+00 & 0.00e+00 & 0.00e+00 & 0.00e+00 & 0.00e+00 & 0e+00 & 0.00e+00 & 0.00e+00 & 0.00e+00 & 0.00e+00 & 0.00e+00 & 0.00e+00 & 0.00e+00 & 0.00e+00 & 0.00e+00 & 0e+00 & 0.00e+00 & 0.00e+00 & 0.00e+00 & 0e+00 & 0.00e+00 & 0.00e+00 & 0.00e+00 &          0 &         0 & 0.00e+00 & 0.00e+00 & 0.00e+00 & 0.0e+00 & 0.00e+00 & 0.00e+00 & 0.00e+00 & 0.00e+00 & 0.00e+00 & 0.00e+00 & 0.00e+00 & 0.00e+00 & 0.00e+00 & 0.00e+00 & 0.00e+00 & 0.00e+00 & 0.00e+00 & 0.00e+00 & 0.00e+00 & 0.00e+00 & 0.0e+00 & 0.00e+00 & 0.00e+00 & 0.00e+00 & 0.00e+00 & 0.00e+00 & 0.00e+00 &          0 & 0.00e+00 & 0.00e+00 & 0.00e+00 & 0.00e+00 & 0.00e+00 & 0.00e+00 & 0.00e+00 & 0.00e+00 &         0 & 0.00e+00 & 0.00e+00 & 0.00e+00 & 0.00e+00 &       0 & 0.00e+00 & 0.00e+00 & 0.00e+00 &          0 & 0.00e+00 & 0 & 0 & 0.00e+00 & 0.0e+00 & 0.00e+00 & 0.00e+00 & 0.00e+00 & 0.00e+00 & 0.00e+00 & 0.00e+00 & 0.00e+00 & 0.00e+00 & 0.00e+00 & 0.00e+00 & 0.00e+00 & 0.00e+00 & 0 & 0 & 0 & 0 & 0 & 0 & 0 & 0 & 0 & 0 & 0.00e+00 & 0.00e+00 & 0.00e+00 & 0.00e+00 & 0.00e+00 & 0.00e+00 & 0 & 0 & 0 & 0 & 0 & 0 & 0 & 0 & 0 & 0 & 0 & 0.00e+00 & 0.00e+00 &        0 & 0.00e+00 & 0.00e+00 & 0 & 0 & 0.00e+00 & 0.0e+00 & 0.00e+00 & 0.00e+00 & 0.00e+00 & 0.00e+00 & 0.00e+00 & 0.0e+00 & 0.00e+00 & 0.00e+00 & 0.00e+00 & 0 & 0.00e+00 &        0 & 0.0e+00 & 0.00e+00 &        0 & 0.00e+00 & 0.00e+00 &        0 & 0.00e+00 &        0 &        0 & 0.0e+00 & 0.00e+00 & 0.00e+00 & 0.00e+00 & 0.00e+00 & 0.00e+00 & 0.00e+00 & 0 & 0.00e+00 & 0.00e+00 & 0.00e+00 & 0.00e+00 & 0.00e+00 & 0.00e+00 & 0.00e+00 & 0.00e+00 & 0.0e+00 & 0.00e+00 & 0.00e+00 & 0.00e+00 & 0.00e+00 & 0.00e+00 & 0.00e+00 &       0 & 0 & 0 & 0 & 0 & 0 & 0 & 0 &        0 &        0 & 0.00e+00 & 0.00e+00 &        0 & 0.0e+00 &        0 & 0.00e+00 & 0 & 0 & 0 & 0.0e+00 & 0 & 0.00e+00 & 0 &        0 & 0 & 0 & 0.00e+00 & 0.00e+00 &        0 & 0 & 0.0e+00 & 0.00e+00 & 0.00e+00 & 0.0e+00 & 0.00e+00 & 0.00e+00 & 0.00e+00 & 0.00e+00 & 0.00e+00 &         0 & 0.0e+00 & 0.00e+00 & 0.00e+00 & 0.0e+00 & 0.00e+00 &         0 & 0.00e+00 & 0.00e+00 & 0.00e+00 & 0.00e+00 & 0.00e+00 & 0.00e+00 & 0.00e+00 & 0.00e+00 & 0.00e+00 & 0.00e+00 & 0.00e+00 &        0 & 0.00e+00 & 0.00e+00 & 0.00e+00 & 0.00e+00 & 0.00e+00 & 0.00e+00 & 0.00e+00 & 0.00e+00 & 0.00e+00 & 0.00e+00 & 0.00e+00 & 0.00e+00 & 0.00e+00 & 0.00e+00 & 0.00e+00 & 0.00e+00 & 0.00e+00 & 0.00e+00 & 0.00e+00 & 0.00e+00 & 0.00e+00 & 0.00e+00 & 0.00e+00 & 0.00e+00 & 0 &        0 &         0 & 0.00e+00 & 0.00e+00 & 0.0e+00 & 0.00e+00 & 0.00e+00 & 0.00e+00 & 0.00e+00 & 0.00e+00 &         0 & 0.00e+00 & 0.00e+00 & 0.00e+00 & 0.00e+00 & 0.00e+00 & 0.00e+00 & 0.00e+00 &         0 & 0.00e+00 & 0.00e+00 & 0.00e+00 & 0.00e+00 & 0.00e+00 & 0.00e+00 & 0.0e+00 & 0 & 0.00e+00 & 0.00e+00 & 0.00e+00 & 0.00e+00 & 0.00e+00 & 0.00e+00 & 0.00e+00 & 0.00e+00 & 0.00e+00 & 0.00e+00 & 0.00e+00 & 0.00e+00 & 0.00e+00 & 0.00e+00 & 0.00e+00 & 0.00e+00 & 0.00e+00 & 0.00e+00 & 0.00e+00 & 0.00e+00 & 0.00e+00 & 0.00e+00 & 0.00e+00 & 0.00e+00 &         0 & 0.00e+00 & 0.00e+00 & 0.00e+00 & 0.00e+00 & 0.00e+00 & 0.00e+00 &         0 & 0.00e+00 & 0.00e+00 & 0.00e+00 & 0.00e+00 & 0.00e+00 & 0.00e+00 &         0 &         0 &         0 & 0.00e+00 & 0.00e+00 & 0.00e+00 &         0 &         0 & 0.00e+00 & 0.00e+00 & 0.00e+00 & 0.00e+00 & 0.00e+00 & 0.00e+00 & 0.00e+00 & 0.00e+00 &        0 & 0.00e+00 & 0.00e+00 & 0.0e+00 & 0.00e+00 &          0 &         0 & 0.00e+00 &        0 &         0 & 0.00e+00 & 0.00e+00 & 0.00e+00 & 0 & 0 & 0.00e+00 & 0.00e+00 & 0.00e+00 & 0.00e+00 & 0.00e+00 & 0.00e+00 & 0.00e+00 & 0.00e+00 & 0.00e+00 &        0 & 0.00e+00 & 0 & 0 & 0 & 0.00e+00 & 0.00e+00 & 0.00e+00 &         0 & 0.00e+00 & 0.00e+00 &          0 & 0.00e+00 & 0.00e+00 &         0 & 0.00e+00 & 0.00e+00 & 0.00e+00 & 0.00e+00 & 0.00e+00 & 0.00e+00 & 0.00e+00 & 0.00e+00 &         0 &         0 & 0.00e+00 & 0.00e+00 & 0.00e+00 &         0 & 0.00e+00 &   7384096 & 0.00e+00 & 0.00e+00 & 0.00e+00 & 0.00e+00 & 0.00e+00 & 0.00e+00 & 0.00e+00 & 0.00e+00 & 0.00e+00 & 0.00e+00 & 0.00e+00 & 0.00e+00 & 4.46e+07 & 0.00e+00 & 0.00e+00 & 0.00e+00 & 0.00e+00 & 0.00e+00 & 0.00e+00 & 0.00e+00 & 0.00e+00 & 2.45e+07 &        0 & 0.00e+00 & 0.00e+00 & 0.0e+00 & 0.00e+00 & 0.00e+00 & 0.00e+00 & 0.00e+00 & 0e+00 & 0.00e+00 & 0.00e+00 & 0.00e+00 & 0.00e+00 & 0.00e+00 & 2.55e+08 & 0.00e+00 & 0.00e+00 & 0.00e+00 & 0.00e+00 & 0.00e+00 & 0.00e+00 & 0.00e+00 & 4.78e+07 & 0.00e+00 & 4.08e+07 & 0.00e+00 & 1.91e+07 & 0.00e+00 & 0.00e+00 & 0.00e+00 & 0.00e+00 & 0.00e+00 & 0.00e+00 & 2.2e+07 & 0.0e+00 & 0.00e+00 & 0.00e+00 & 0.0e+00 & 0.0e+00 & 0.00e+00 &   6633422 & 0.00e+00 & 0.00e+00 & 0.00e+00 & 0.00e+00 & 0.00e+00 & 0.00e+00 & 0.0e+00 &   7323505 & 1.48e+07 & 0 & 0 & 0 & 0 & 0 & 0.00e+00 & 0.00e+00 & 0.00e+00 & 0.00e+00 & 0.00e+00 & 0.00e+00 & 0.00e+00 & 0.00e+00 & 0.00e+00 & 4.53e+07 & 0.00e+00 & 0 & 0 & 0 & 0.00e+00 &        0 & 0.00e+00 & 0.00e+00 & 0.00e+00 & 0.00e+00 & 0e+00 & 0.00e+00 & 0.0e+00 & 0.00e+00 & 0.00e+00 & 0.00e+00 & 1.32e+07 & 0.00e+00 & 0.00e+00 & 0.00e+00 & 0.00e+00 & 0.00e+00 & 0.00e+00 & 0.00e+00 & 0.00e+00 & 0.00e+00 & 0.00e+00 & 0.00e+00 & 0.00e+00 & 0.00e+00 & 0.00e+00 & 0.00e+00 &   7918173 & 0.00e+00 & 0.00e+00 & 0.00e+00 & 0.00e+00 & 0.00e+00 & 0.00e+00 & 0.00e+00 & 0.00e+00 & 0.00e+00 & 0.00e+00 & 0.00e+00 & 0.00e+00 & 0.00e+00 & 1.63e+07 & 0.00e+00 & 0.00e+00 & 0 & 0 & 0 & 0 & 0 & 0.00e+00 & 0.00e+00 & 0.00e+00 & 0.00e+00 & 0.00e+00 & 0.00e+00 & 0.00e+00 & 0.00e+00 & 0.00e+00 & 0.00e+00 & 0.00e+00 & 0.00e+00 & 0.00e+00 & 0.00e+00 & 0.00e+00 & 0.00e+00 & 0.00e+00 & 0.00e+00 & 0.00e+00 & 0.00e+00 & 0.00e+00 & 0.00e+00 & 0.00e+00 & 0e+00 & 0.00e+00 & 0.00e+00 & 0.00e+00 & 0.00e+00 & 0.00e+00 & 0.00e+00 & 5.43e+07 & 0.00e+00 & 0.00e+00 & 0.0e+00 & 0.00e+00 & 0.00e+00 & 0.00e+00 & 0.00e+00 & 0.00e+00 & 0.00e+00 &        0 & 0.00e+00 & 0.00e+00 & 0.00e+00 & 0.00e+00 & 0.0e+00 & 0.00e+00 & 0.00e+00 & 0.00e+00 & 0.00e+00 & 0.00e+00 & 0.00e+00 & 0.00e+00 & 0.00e+00 & 0.00e+00 & 0.00e+00 & 0 & 0.00e+00 & 0.00e+00 & 0.00e+00 & 0.00e+00 & 0.00e+00 & 0.00e+00 & 0.00e+00 & 4.35e+07 & 0.00e+00 & 0.00e+00 & 0.00e+00 & 0.00e+00 & 0.00e+00 & 0.00e+00 & 0.00e+00 & 0.00e+00 & 0.00e+00 & 0.00e+00 & 0.00e+00 & 0.00e+00 & 0.0e+00 & 0.0e+00 & 0.00e+00 & 0.00e+00 & 0 & 0.00e+00 & 0.00e+00 & 0.00e+00 & 0.00e+00 & 0.00e+00 & 0.0e+00 & 0.00e+00 & 0.00e+00 & 0.00e+00 & 0.00e+00 & 0.0e+00 & 0.00e+00 & 0.00e+00 & 0.00e+00 & 0.00e+00 & 0.00e+00 & 0.00e+00 & 0.00e+00 & 0.00e+00 & 0 & 0 & 0 & 0 & 0 & 0 & 0 & 0.00e+00 & 0.00e+00 & 0.0e+00 & 0.00e+00 & 0.00e+00 & 0.0e+00 & 0.00e+00 & 0.00e+00 & 0.00e+00 & 0.00e+00 & 0.00e+00 & 0.0e+00 & 0.00e+00 & 0.00e+00 & 0.00e+00 & 0.00e+00 & 0.00e+00 & 0.00e+00 & 0.00e+00 & 0.00e+00 & 0.00e+00\\\\\n",
       "\t 70.065\\_0.36  & 0.0e+00 & 0.00e+00 & 0.00e+00 & 0.00e+00 & 0.00e+00 & 0.00e+00 & 0.00e+00 & 0.00e+00 & 0.00e+00 & 7.78e+07 & 0.00e+00 & 0.00e+00 & 0.00e+00 & 6.96e+07 & 1.08e+08 &   85300000 & 0.00e+00 & 0.00e+00 & 0.00e+00 & 0.00e+00 & 0.0e+00 & 0e+00 & 0.00e+00 & 0.00e+00 & 0.00e+00 & 0.00e+00 & 0.00e+00 & 2.33e+08 & 0.00e+00 & 0.00e+00 & 200000000 & 1.12e+08 & 0.00e+00 & 0.00e+00 & 9.82e+07 & 1.45e+08 & 0 & 2.18e+08 & 0.00e+00 & 0.00e+00 & 0.00e+00 & 0.00e+00 & 0.00e+00 & 0.00e+00 & 0.00e+00 & 0.00e+00 & 0.00e+00 & 1.42e+08 & 0.00e+00 & 0.00e+00 &          0 & 1.24e+08 & 0.00e+00 & 0.00e+00 & 8.90e+07 & 1.70e+08 & 0.00e+00 & 8.69e+07 & 0.00e+00 & 0.00e+00 & 0.00e+00 & 0.00e+00 & 0.00e+00 & 0.00e+00 & 0.00e+00 & 0.00e+00 & 5.42e+07 & 1.31e+08 & 1.04e+08 & 0 & 0.00e+00 & 0 & 0.00e+00 & 0.0e+00 & 0.00e+00 & 0.00e+00 &  118000000 & 1.30e+08 & 1.84e+08 & 0.00e+00 & 0.00e+00 & 0 & 0 & 0.0e+00 & 0 & 0.00e+00 &        0 &        0 & 1.65e+08 & 0.00e+00 & 2.66e+08 & 1.51e+08 & 2.41e+08 & 0 & 0 & 0 & 0 & 0 & 0.00e+00 & 1.88e+08 & 0.00e+00 &        0 &        0 & 0.0e+00 &        0 & 0.00e+00 &  229000000 &          0 & 0 & 0 & 0 & 0 & 0 & 0 & 0 & 0 & 0 & 0 & 0 & 0.00e+00 &        0 & 0 &        0 & 1.64e+08 & 0.00e+00 & 0.00e+00 & 0.00e+00 & 0.00e+00 & 0.00e+00 & 0.00e+00 & 0.00e+00 & 0.00e+00 & 0.00e+00 & 0.00e+00 & 0e+00 & 0.00e+00 & 0.00e+00 & 0.00e+00 & 0.00e+00 & 1.64e+08 & 0.00e+00 & 0.00e+00 & 0.00e+00 & 0.00e+00 & 0e+00 & 0.00e+00 & 0.00e+00 & 0.00e+00 & 0e+00 & 0.00e+00 & 0.00e+00 & 1.62e+08 &  149000000 &  70800000 & 0.00e+00 & 0.00e+00 & 0.00e+00 & 0.0e+00 & 0.00e+00 & 0.00e+00 & 0.00e+00 & 0.00e+00 & 0.00e+00 & 0.00e+00 & 0.00e+00 & 9.53e+07 & 1.91e+08 & 2.19e+08 & 1.63e+08 & 0.00e+00 & 1.83e+08 & 0.00e+00 & 0.00e+00 & 0.00e+00 & 0.0e+00 & 0.00e+00 & 0.00e+00 & 0.00e+00 & 0.00e+00 & 0.00e+00 & 0.00e+00 &          0 & 0.00e+00 & 1.35e+08 & 1.58e+08 & 0.00e+00 & 0.00e+00 & 0.00e+00 & 0.00e+00 & 0.00e+00 &         0 & 0.00e+00 & 0.00e+00 & 0.00e+00 & 0.00e+00 &       0 & 0.00e+00 & 0.00e+00 & 0.00e+00 &          0 & 0.00e+00 & 0 & 0 & 0.00e+00 & 0.0e+00 & 0.00e+00 & 0.00e+00 & 0.00e+00 & 0.00e+00 & 0.00e+00 & 0.00e+00 & 0.00e+00 & 0.00e+00 & 0.00e+00 & 0.00e+00 & 0.00e+00 & 1.98e+08 & 0 & 0 & 0 & 0 & 0 & 0 & 0 & 0 & 0 & 0 & 0.00e+00 & 0.00e+00 & 0.00e+00 & 0.00e+00 & 0.00e+00 & 0.00e+00 & 0 & 0 & 0 & 0 & 0 & 0 & 0 & 0 & 0 & 0 & 0 & 0.00e+00 & 0.00e+00 &        0 & 1.08e+08 & 0.00e+00 & 0 & 0 & 0.00e+00 & 0.0e+00 & 0.00e+00 & 0.00e+00 & 0.00e+00 & 0.00e+00 & 0.00e+00 & 0.0e+00 & 4.62e+07 & 0.00e+00 & 0.00e+00 & 0 & 0.00e+00 &        0 & 0.0e+00 & 0.00e+00 &        0 & 0.00e+00 & 0.00e+00 &        0 & 0.00e+00 &        0 &        0 & 0.0e+00 & 0.00e+00 & 0.00e+00 & 0.00e+00 & 0.00e+00 & 0.00e+00 & 0.00e+00 & 0 & 0.00e+00 & 0.00e+00 & 0.00e+00 & 0.00e+00 & 0.00e+00 & 0.00e+00 & 0.00e+00 & 0.00e+00 & 0.0e+00 & 0.00e+00 & 0.00e+00 & 0.00e+00 & 0.00e+00 & 0.00e+00 & 0.00e+00 &       0 & 0 & 0 & 0 & 0 & 0 & 0 & 0 &        0 &        0 & 0.00e+00 & 0.00e+00 &        0 & 0.0e+00 &        0 & 0.00e+00 & 0 & 0 & 0 & 0.0e+00 & 0 & 0.00e+00 & 0 &        0 & 0 & 0 & 8.73e+07 & 0.00e+00 &        0 & 0 & 0.0e+00 & 1.77e+08 & 0.00e+00 & 0.0e+00 & 9.14e+07 & 0.00e+00 & 0.00e+00 & 0.00e+00 & 0.00e+00 &         0 & 0.0e+00 & 3.30e+07 & 0.00e+00 & 0.0e+00 & 0.00e+00 &         0 & 5.78e+07 & 1.56e+08 & 0.00e+00 & 3.21e+07 & 0.00e+00 & 5.07e+07 & 0.00e+00 & 0.00e+00 & 3.74e+07 & 0.00e+00 & 0.00e+00 &        0 & 1.04e+08 & 1.85e+08 & 6.45e+07 & 7.86e+07 & 8.47e+07 & 0.00e+00 & 7.51e+07 & 0.00e+00 & 0.00e+00 & 1.14e+08 & 0.00e+00 & 0.00e+00 & 0.00e+00 & 8.68e+07 & 9.06e+07 & 1.05e+08 & 7.25e+07 & 0.00e+00 & 0.00e+00 & 0.00e+00 & 1.67e+08 & 8.15e+07 & 1.91e+08 & 0.00e+00 & 0 &        0 &         0 & 5.92e+07 & 0.00e+00 & 0.0e+00 & 0.00e+00 & 7.53e+07 & 6.28e+07 & 0.00e+00 & 0.00e+00 &  72900000 & 0.00e+00 & 0.00e+00 & 0.00e+00 & 2.86e+08 & 0.00e+00 & 0.00e+00 & 0.00e+00 &  38200000 & 0.00e+00 & 0.00e+00 & 0.00e+00 & 0.00e+00 & 3.36e+08 & 0.00e+00 & 0.0e+00 & 0 & 0.00e+00 & 4.49e+08 & 0.00e+00 & 0.00e+00 & 4.29e+08 & 6.95e+07 & 4.32e+07 & 0.00e+00 & 0.00e+00 & 5.72e+07 & 0.00e+00 & 0.00e+00 & 0.00e+00 & 1.75e+08 & 0.00e+00 & 0.00e+00 & 0.00e+00 & 0.00e+00 & 0.00e+00 & 7.27e+07 & 0.00e+00 & 0.00e+00 & 6.15e+07 & 0.00e+00 &         0 & 3.50e+07 & 0.00e+00 & 7.73e+07 & 0.00e+00 & 0.00e+00 & 5.74e+07 &         0 & 6.51e+07 & 0.00e+00 & 5.14e+07 & 8.03e+07 & 1.06e+08 & 0.00e+00 &  58500000 &         0 &         0 & 0.00e+00 & 2.13e+08 & 0.00e+00 &  62600000 &         0 & 9.56e+07 & 0.00e+00 & 5.66e+07 & 5.62e+07 & 5.79e+07 & 7.78e+07 & 0.00e+00 & 8.25e+07 &        0 & 0.00e+00 & 1.19e+08 & 3.8e+08 & 0.00e+00 &          0 &         0 & 0.00e+00 &        0 &         0 & 0.00e+00 & 1.01e+08 & 0.00e+00 & 0 & 0 & 2.10e+08 & 0.00e+00 & 0.00e+00 & 0.00e+00 & 0.00e+00 & 0.00e+00 & 1.97e+08 & 0.00e+00 & 7.99e+07 &        0 & 0.00e+00 & 0 & 0 & 0 & 0.00e+00 & 0.00e+00 & 0.00e+00 &         0 & 0.00e+00 & 0.00e+00 &  160000000 & 0.00e+00 & 2.39e+08 &  36400000 & 0.00e+00 & 0.00e+00 & 3.02e+08 & 2.68e+08 & 0.00e+00 & 2.96e+08 & 6.12e+08 & 3.13e+08 &         0 &         0 & 4.74e+08 & 0.00e+00 & 7.85e+08 &         0 & 2.60e+08 & 506000000 & 0.00e+00 & 2.36e+08 & 2.19e+08 & 6.23e+08 & 3.93e+08 & 5.32e+08 & 2.19e+08 & 8.55e+08 & 8.51e+08 & 8.24e+08 & 8.41e+08 & 7.24e+08 & 0.00e+00 & 2.13e+08 & 6.11e+08 & 6.69e+08 & 4.72e+08 & 3.72e+08 & 3.98e+08 & 9.01e+08 & 7.86e+08 & 7.94e+08 &        0 & 2.23e+08 & 2.23e+08 & 4.1e+08 & 6.15e+08 & 2.94e+08 & 8.01e+08 & 5.18e+08 & 7e+08 & 8.17e+08 & 1.08e+09 & 0.00e+00 & 1.51e+08 & 2.51e+08 & 2.66e+08 & 6.72e+08 & 3.15e+08 & 5.65e+08 & 3.28e+08 & 6.91e+08 & 5.19e+08 & 7.50e+08 & 4.88e+08 & 6.72e+08 & 0.00e+00 & 5.43e+08 & 5.60e+08 & 7.96e+08 & 6.71e+08 & 1.22e+09 & 8.07e+08 & 1.24e+09 & 6.27e+08 & 5.2e+08 & 1.2e+09 & 7.52e+08 & 0.00e+00 & 0.0e+00 & 2.5e+08 & 0.00e+00 & 683000000 & 7.27e+08 & 2.15e+08 & 3.99e+08 & 5.91e+08 & 4.83e+08 & 3.17e+08 & 8.9e+08 & 724000000 & 9.88e+08 & 0 & 0 & 0 & 0 & 0 & 0.00e+00 & 7.13e+08 & 2.16e+08 & 5.31e+08 & 0.00e+00 & 1.28e+09 & 7.67e+08 & 6.03e+08 & 6.73e+08 & 4.93e+08 & 1.15e+09 & 0 & 0 & 0 & 0.00e+00 &        0 & 2.58e+08 & 2.45e+08 & 4.17e+08 & 0.00e+00 & 0e+00 & 0.00e+00 & 0.0e+00 & 0.00e+00 & 0.00e+00 & 6.11e+08 & 8.41e+08 & 1.46e+08 & 2.70e+08 & 2.96e+08 & 3.10e+08 & 3.23e+08 & 3.60e+08 & 5.86e+08 & 6.92e+08 & 3.97e+08 & 0.00e+00 & 5.34e+08 & 2.08e+08 & 4.12e+08 & 1.32e+09 & 1.02e+09 & 901000000 & 3.15e+08 & 2.93e+08 & 3.69e+08 & 4.52e+08 & 5.60e+08 & 7.47e+08 & 0.00e+00 & 7.44e+08 & 4.58e+08 & 7.83e+08 & 6.75e+08 & 9.70e+08 & 5.39e+08 & 5.14e+08 & 6.82e+08 & 7.15e+08 & 0 & 0 & 0 & 0 & 0 & 0.00e+00 & 2.03e+08 & 2.21e+08 & 0.00e+00 & 0.00e+00 & 0.00e+00 & 4.49e+08 & 3.81e+08 & 6.55e+08 & 6.68e+08 & 8.72e+08 & 0.00e+00 & 0.00e+00 & 1.97e+08 & 2.66e+08 & 8.31e+08 & 6.33e+08 & 7.76e+08 & 8.79e+08 & 3.78e+08 & 8.61e+08 & 8.77e+08 & 0.00e+00 & 1e+09 & 0.00e+00 & 7.64e+08 & 8.77e+08 & 0.00e+00 & 0.00e+00 & 4.22e+08 & 0.00e+00 & 0.00e+00 & 0.00e+00 & 6.2e+08 & 7.73e+08 & 9.46e+08 & 6.52e+08 & 7.23e+08 & 8.14e+08 & 0.00e+00 & 99700000 & 0.00e+00 & 1.86e+08 & 3.46e+08 & 9.19e+08 & 6.5e+08 & 0.00e+00 & 4.87e+08 & 0.00e+00 & 0.00e+00 & 8.84e+08 & 7.66e+08 & 8.22e+08 & 8.67e+08 & 7.48e+08 & 6.72e+08 & 0 & 2.97e+08 & 1.84e+08 & 5.28e+08 & 6.64e+08 & 4.73e+08 & 7.79e+08 & 1.14e+09 & 3.36e+08 & 5.90e+08 & 7.34e+08 & 8.67e+08 & 7.87e+08 & 7.62e+08 & 3.61e+08 & 7.62e+08 & 0.00e+00 & 7.33e+08 & 8.69e+08 & 0.00e+00 & 0.00e+00 & 7.9e+08 & 7.1e+08 & 7.05e+08 & 0.00e+00 & 0 & 2.09e+08 & 0.00e+00 & 7.36e+08 & 2.68e+08 & 1.53e+09 & 5.4e+08 & 3.25e+08 & 5.02e+08 & 5.78e+08 & 3.66e+08 & 0.0e+00 & 6.44e+08 & 9.43e+08 & 6.28e+08 & 0.00e+00 & 7.98e+08 & 8.97e+08 & 1.06e+09 & 6.66e+08 & 0 & 0 & 0 & 0 & 0 & 0 & 0 & 0.00e+00 & 1.14e+09 & 0.0e+00 & 0.00e+00 & 5.87e+08 & 0.0e+00 & 8.04e+08 & 8.07e+08 & 1.04e+09 & 0.00e+00 & 0.00e+00 & 0.0e+00 & 0.00e+00 & 9.18e+08 & 9.53e+08 & 0.00e+00 & 1.17e+09 & 1.54e+09 & 7.28e+08 & 8.73e+08 & 9.71e+08\\\\\n",
       "\t 70.065\\_0.264 & 0.0e+00 & 0.00e+00 & 0.00e+00 & 0.00e+00 & 0.00e+00 & 0.00e+00 & 0.00e+00 & 0.00e+00 & 0.00e+00 & 0.00e+00 & 0.00e+00 & 0.00e+00 & 0.00e+00 & 0.00e+00 & 0.00e+00 &    4003506 & 0.00e+00 & 0.00e+00 & 0.00e+00 & 0.00e+00 & 0.0e+00 & 0e+00 & 0.00e+00 & 0.00e+00 & 8.35e+07 & 0.00e+00 & 0.00e+00 & 0.00e+00 & 0.00e+00 & 0.00e+00 &   6616961 & 0.00e+00 & 0.00e+00 & 0.00e+00 & 0.00e+00 & 0.00e+00 & 0 & 0.00e+00 & 0.00e+00 & 0.00e+00 & 0.00e+00 & 0.00e+00 & 0.00e+00 & 0.00e+00 & 0.00e+00 & 0.00e+00 & 0.00e+00 & 0.00e+00 & 4.40e+07 & 0.00e+00 &    7292974 & 0.00e+00 & 0.00e+00 & 0.00e+00 & 0.00e+00 & 0.00e+00 & 0.00e+00 & 0.00e+00 & 1.24e+08 & 0.00e+00 & 0.00e+00 & 0.00e+00 & 0.00e+00 & 0.00e+00 & 0.00e+00 & 0.00e+00 & 0.00e+00 & 0.00e+00 & 0.00e+00 & 0 & 1.38e+08 & 0 & 1.29e+08 & 0.0e+00 & 0.00e+00 & 0.00e+00 &    9727564 & 0.00e+00 & 1.09e+07 & 0.00e+00 & 5.31e+07 & 0 & 0 & 0.0e+00 & 0 & 0.00e+00 & 32300000 & 22700000 & 0.00e+00 & 0.00e+00 & 1.05e+07 & 0.00e+00 & 0.00e+00 & 0 & 0 & 0 & 0 & 0 & 0.00e+00 & 0.00e+00 & 0.00e+00 & 26800000 & 24300000 & 0.0e+00 & 25600000 & 0.00e+00 &    9933043 &    5504832 & 0 & 0 & 0 & 0 & 0 & 0 & 0 & 0 & 0 & 0 & 0 & 0.00e+00 & 29500000 & 0 & 34900000 & 0.00e+00 & 0.00e+00 & 0.00e+00 & 0.00e+00 & 0.00e+00 & 0.00e+00 & 2.36e+07 & 0.00e+00 & 0.00e+00 & 0.00e+00 & 0.00e+00 & 0e+00 & 0.00e+00 & 0.00e+00 & 0.00e+00 & 0.00e+00 & 0.00e+00 & 0.00e+00 & 0.00e+00 & 0.00e+00 & 0.00e+00 & 0e+00 & 0.00e+00 & 0.00e+00 & 0.00e+00 & 0e+00 & 0.00e+00 & 0.00e+00 & 0.00e+00 &    6807084 &   5990714 & 1.53e+08 & 0.00e+00 & 0.00e+00 & 0.0e+00 & 0.00e+00 & 0.00e+00 & 0.00e+00 & 0.00e+00 & 0.00e+00 & 0.00e+00 & 0.00e+00 & 0.00e+00 & 0.00e+00 & 0.00e+00 & 0.00e+00 & 0.00e+00 & 0.00e+00 & 0.00e+00 & 0.00e+00 & 0.00e+00 & 0.0e+00 & 0.00e+00 & 0.00e+00 & 0.00e+00 & 0.00e+00 & 0.00e+00 & 0.00e+00 &    6747240 & 0.00e+00 & 0.00e+00 & 1.05e+07 & 1.66e+08 & 0.00e+00 & 0.00e+00 & 0.00e+00 & 0.00e+00 &   5575642 & 0.00e+00 & 0.00e+00 & 0.00e+00 & 0.00e+00 & 8496739 & 2.15e+08 & 0.00e+00 & 1.18e+08 &    5827133 & 9.17e+07 & 0 & 0 & 0.00e+00 & 0.0e+00 & 0.00e+00 & 0.00e+00 & 0.00e+00 & 0.00e+00 & 0.00e+00 & 0.00e+00 & 6.09e+07 & 0.00e+00 & 1.59e+08 & 0.00e+00 & 1.63e+08 & 0.00e+00 & 0 & 0 & 0 & 0 & 0 & 0 & 0 & 0 & 0 & 0 & 3.67e+07 & 3.55e+07 & 0.00e+00 & 0.00e+00 & 0.00e+00 & 0.00e+00 & 0 & 0 & 0 & 0 & 0 & 0 & 0 & 0 & 0 & 0 & 0 & 0.00e+00 & 2.91e+07 & 35700000 & 0.00e+00 & 0.00e+00 & 0 & 0 & 0.00e+00 & 0.0e+00 & 0.00e+00 & 0.00e+00 & 0.00e+00 & 0.00e+00 & 0.00e+00 & 0.0e+00 & 0.00e+00 & 0.00e+00 & 0.00e+00 & 0 & 0.00e+00 &        0 & 0.0e+00 & 0.00e+00 &        0 & 0.00e+00 & 0.00e+00 &        0 & 0.00e+00 &        0 &        0 & 0.0e+00 & 0.00e+00 & 0.00e+00 & 8.99e+07 & 0.00e+00 & 0.00e+00 & 0.00e+00 & 0 & 0.00e+00 & 0.00e+00 & 0.00e+00 & 0.00e+00 & 0.00e+00 & 0.00e+00 & 0.00e+00 & 0.00e+00 & 0.0e+00 & 0.00e+00 & 0.00e+00 & 0.00e+00 & 0.00e+00 & 0.00e+00 & 0.00e+00 &       0 & 0 & 0 & 0 & 0 & 0 & 0 & 0 &        0 &        0 & 0.00e+00 & 0.00e+00 &        0 & 0.0e+00 &        0 & 0.00e+00 & 0 & 0 & 0 & 0.0e+00 & 0 & 0.00e+00 & 0 &        0 & 0 & 0 & 0.00e+00 & 0.00e+00 &        0 & 0 & 0.0e+00 & 0.00e+00 & 0.00e+00 & 0.0e+00 & 0.00e+00 & 0.00e+00 & 7.01e+07 & 5.85e+07 & 0.00e+00 &         0 & 0.0e+00 & 0.00e+00 & 0.00e+00 & 0.0e+00 & 0.00e+00 &         0 & 0.00e+00 & 0.00e+00 & 0.00e+00 & 0.00e+00 & 0.00e+00 & 0.00e+00 & 0.00e+00 & 0.00e+00 & 0.00e+00 & 0.00e+00 & 0.00e+00 & 38800000 & 0.00e+00 & 0.00e+00 & 0.00e+00 & 0.00e+00 & 0.00e+00 & 0.00e+00 & 0.00e+00 & 0.00e+00 & 0.00e+00 & 0.00e+00 & 0.00e+00 & 0.00e+00 & 0.00e+00 & 0.00e+00 & 0.00e+00 & 0.00e+00 & 0.00e+00 & 0.00e+00 & 0.00e+00 & 0.00e+00 & 0.00e+00 & 0.00e+00 & 0.00e+00 & 0.00e+00 & 0 & 11900000 &         0 & 0.00e+00 & 0.00e+00 & 0.0e+00 & 0.00e+00 & 0.00e+00 & 0.00e+00 & 0.00e+00 & 0.00e+00 &         0 & 1.27e+07 & 1.25e+07 & 2.76e+07 & 0.00e+00 & 0.00e+00 & 0.00e+00 & 0.00e+00 &         0 & 0.00e+00 & 0.00e+00 & 1.16e+07 & 1.46e+07 & 0.00e+00 & 0.00e+00 & 0.0e+00 & 0 & 7.29e+07 & 0.00e+00 & 0.00e+00 & 0.00e+00 & 0.00e+00 & 0.00e+00 & 0.00e+00 & 0.00e+00 & 0.00e+00 & 0.00e+00 & 0.00e+00 & 1.21e+07 & 1.34e+07 & 0.00e+00 & 1.02e+07 & 1.51e+07 & 2.32e+07 & 2.42e+07 & 0.00e+00 & 0.00e+00 & 5.21e+07 & 0.00e+00 & 0.00e+00 & 0.00e+00 &         0 & 0.00e+00 & 0.00e+00 & 0.00e+00 & 0.00e+00 & 0.00e+00 & 0.00e+00 &         0 & 0.00e+00 & 0.00e+00 & 0.00e+00 & 0.00e+00 & 0.00e+00 & 0.00e+00 &         0 &         0 &         0 & 0.00e+00 & 0.00e+00 & 0.00e+00 &         0 &         0 & 0.00e+00 & 0.00e+00 & 0.00e+00 & 0.00e+00 & 0.00e+00 & 0.00e+00 & 0.00e+00 & 0.00e+00 &        0 & 0.00e+00 & 0.00e+00 & 0.0e+00 & 0.00e+00 &          0 &         0 & 0.00e+00 &        0 &         0 & 0.00e+00 & 0.00e+00 & 0.00e+00 & 0 & 0 & 0.00e+00 & 0.00e+00 & 0.00e+00 & 0.00e+00 & 0.00e+00 & 2.26e+07 & 0.00e+00 & 0.00e+00 & 0.00e+00 &        0 & 0.00e+00 & 0 & 0 & 0 & 0.00e+00 & 0.00e+00 & 1.80e+07 &  14100000 & 2.78e+07 & 0.00e+00 &          0 & 0.00e+00 & 0.00e+00 &         0 & 0.00e+00 & 0.00e+00 & 0.00e+00 & 0.00e+00 & 1.60e+07 & 0.00e+00 & 0.00e+00 & 0.00e+00 &  31900000 &  25300000 & 0.00e+00 & 0.00e+00 & 0.00e+00 &         0 & 0.00e+00 &         0 & 1.87e+08 & 0.00e+00 & 0.00e+00 & 0.00e+00 & 0.00e+00 & 0.00e+00 & 0.00e+00 & 0.00e+00 & 0.00e+00 & 0.00e+00 & 0.00e+00 & 0.00e+00 & 3.66e+08 & 0.00e+00 & 0.00e+00 & 0.00e+00 & 0.00e+00 & 0.00e+00 & 0.00e+00 & 0.00e+00 & 0.00e+00 & 0.00e+00 &        0 & 0.00e+00 & 0.00e+00 & 0.0e+00 & 0.00e+00 & 0.00e+00 & 0.00e+00 & 0.00e+00 & 0e+00 & 0.00e+00 & 0.00e+00 & 0.00e+00 & 0.00e+00 & 0.00e+00 & 0.00e+00 & 0.00e+00 & 0.00e+00 & 0.00e+00 & 0.00e+00 & 0.00e+00 & 0.00e+00 & 0.00e+00 & 0.00e+00 & 0.00e+00 & 5.57e+08 & 0.00e+00 & 0.00e+00 & 0.00e+00 & 0.00e+00 & 0.00e+00 & 0.00e+00 & 0.00e+00 & 0.00e+00 & 0.0e+00 & 0.0e+00 & 0.00e+00 & 2.65e+08 & 2.6e+08 & 0.0e+00 & 1.07e+08 &         0 & 0.00e+00 & 0.00e+00 & 0.00e+00 & 0.00e+00 & 0.00e+00 & 0.00e+00 & 0.0e+00 &         0 & 0.00e+00 & 0 & 0 & 0 & 0 & 0 & 1.98e+08 & 0.00e+00 & 0.00e+00 & 0.00e+00 & 2.93e+08 & 0.00e+00 & 0.00e+00 & 0.00e+00 & 0.00e+00 & 0.00e+00 & 0.00e+00 & 0 & 0 & 0 & 1.06e+08 & 96900000 & 0.00e+00 & 0.00e+00 & 0.00e+00 & 2.82e+08 & 3e+08 & 3.44e+08 & 1.4e+08 & 2.11e+08 & 3.49e+08 & 0.00e+00 & 0.00e+00 & 0.00e+00 & 0.00e+00 & 0.00e+00 & 0.00e+00 & 0.00e+00 & 0.00e+00 & 0.00e+00 & 0.00e+00 & 0.00e+00 & 2.67e+08 & 0.00e+00 & 0.00e+00 & 0.00e+00 & 0.00e+00 & 0.00e+00 &         0 & 0.00e+00 & 0.00e+00 & 0.00e+00 & 0.00e+00 & 0.00e+00 & 0.00e+00 & 3.81e+08 & 0.00e+00 & 0.00e+00 & 0.00e+00 & 0.00e+00 & 0.00e+00 & 0.00e+00 & 0.00e+00 & 0.00e+00 & 0.00e+00 & 0 & 0 & 0 & 0 & 0 & 1.46e+08 & 0.00e+00 & 0.00e+00 & 2.99e+08 & 2.51e+08 & 3.20e+08 & 0.00e+00 & 0.00e+00 & 0.00e+00 & 0.00e+00 & 0.00e+00 & 1.59e+08 & 1.09e+08 & 0.00e+00 & 0.00e+00 & 0.00e+00 & 0.00e+00 & 0.00e+00 & 0.00e+00 & 0.00e+00 & 0.00e+00 & 0.00e+00 & 3.20e+08 & 0e+00 & 5.33e+08 & 0.00e+00 & 0.00e+00 & 2.25e+08 & 1.85e+08 & 0.00e+00 & 1.17e+08 & 3.56e+08 & 2.76e+08 & 0.0e+00 & 0.00e+00 & 0.00e+00 & 0.00e+00 & 0.00e+00 & 0.00e+00 & 5.06e+08 &        0 & 2.53e+08 & 0.00e+00 & 0.00e+00 & 0.00e+00 & 0.0e+00 & 4.37e+08 & 0.00e+00 & 2.45e+08 & 5.68e+08 & 0.00e+00 & 0.00e+00 & 0.00e+00 & 0.00e+00 & 0.00e+00 & 0.00e+00 & 0 & 0.00e+00 & 0.00e+00 & 0.00e+00 & 0.00e+00 & 0.00e+00 & 0.00e+00 & 0.00e+00 & 0.00e+00 & 0.00e+00 & 0.00e+00 & 0.00e+00 & 0.00e+00 & 0.00e+00 & 0.00e+00 & 0.00e+00 & 1.85e+08 & 0.00e+00 & 0.00e+00 & 3.64e+08 & 4.25e+08 & 0.0e+00 & 0.0e+00 & 0.00e+00 & 6.41e+08 & 0 & 0.00e+00 & 1.91e+08 & 0.00e+00 & 0.00e+00 & 0.00e+00 & 0.0e+00 & 0.00e+00 & 0.00e+00 & 0.00e+00 & 1.17e+07 & 2.5e+08 & 0.00e+00 & 0.00e+00 & 0.00e+00 & 3.81e+08 & 0.00e+00 & 0.00e+00 & 0.00e+00 & 0.00e+00 & 0 & 0 & 0 & 0 & 0 & 0 & 0 & 2.22e+08 & 0.00e+00 & 2.8e+08 & 2.09e+08 & 0.00e+00 & 1.6e+08 & 0.00e+00 & 0.00e+00 & 0.00e+00 & 2.91e+08 & 2.31e+08 & 3.5e+08 & 3.51e+08 & 0.00e+00 & 0.00e+00 & 4.87e+08 & 0.00e+00 & 0.00e+00 & 0.00e+00 & 0.00e+00 & 0.00e+00\\\\\n",
       "\t 72.081\\_0.24  & 0.0e+00 & 0.00e+00 & 0.00e+00 & 0.00e+00 & 0.00e+00 & 0.00e+00 & 0.00e+00 & 0.00e+00 & 0.00e+00 & 0.00e+00 & 0.00e+00 & 0.00e+00 & 0.00e+00 & 0.00e+00 & 0.00e+00 &          0 & 0.00e+00 & 0.00e+00 & 0.00e+00 & 0.00e+00 & 0.0e+00 & 0e+00 & 0.00e+00 & 0.00e+00 & 0.00e+00 & 0.00e+00 & 0.00e+00 & 0.00e+00 & 0.00e+00 & 0.00e+00 &         0 & 0.00e+00 & 0.00e+00 & 0.00e+00 & 0.00e+00 & 0.00e+00 & 0 & 0.00e+00 & 0.00e+00 & 0.00e+00 & 0.00e+00 & 0.00e+00 & 0.00e+00 & 0.00e+00 & 0.00e+00 & 0.00e+00 & 0.00e+00 & 0.00e+00 & 0.00e+00 & 0.00e+00 &          0 & 0.00e+00 & 0.00e+00 & 0.00e+00 & 0.00e+00 & 0.00e+00 & 0.00e+00 & 0.00e+00 & 0.00e+00 & 0.00e+00 & 0.00e+00 & 0.00e+00 & 0.00e+00 & 0.00e+00 & 0.00e+00 & 0.00e+00 & 0.00e+00 & 0.00e+00 & 0.00e+00 & 0 & 0.00e+00 & 0 & 0.00e+00 & 0.0e+00 & 0.00e+00 & 0.00e+00 &          0 & 0.00e+00 & 0.00e+00 & 0.00e+00 & 0.00e+00 & 0 & 0 & 0.0e+00 & 0 & 0.00e+00 &        0 &        0 & 0.00e+00 & 0.00e+00 & 0.00e+00 & 0.00e+00 & 0.00e+00 & 0 & 0 & 0 & 0 & 0 & 0.00e+00 & 2.14e+07 & 0.00e+00 &        0 &        0 & 0.0e+00 &        0 & 0.00e+00 &          0 &          0 & 0 & 0 & 0 & 0 & 0 & 0 & 0 & 0 & 0 & 0 & 0 & 0.00e+00 &        0 & 0 & 20100000 & 0.00e+00 & 0.00e+00 & 0.00e+00 & 0.00e+00 & 0.00e+00 & 0.00e+00 & 0.00e+00 & 0.00e+00 & 0.00e+00 & 0.00e+00 & 0.00e+00 & 0e+00 & 0.00e+00 & 0.00e+00 & 0.00e+00 & 0.00e+00 & 0.00e+00 & 0.00e+00 & 0.00e+00 & 0.00e+00 & 0.00e+00 & 0e+00 & 0.00e+00 & 0.00e+00 & 0.00e+00 & 0e+00 & 0.00e+00 & 0.00e+00 & 0.00e+00 &          0 &         0 & 0.00e+00 & 0.00e+00 & 0.00e+00 & 0.0e+00 & 0.00e+00 & 0.00e+00 & 0.00e+00 & 0.00e+00 & 0.00e+00 & 0.00e+00 & 0.00e+00 & 0.00e+00 & 0.00e+00 & 0.00e+00 & 0.00e+00 & 0.00e+00 & 0.00e+00 & 0.00e+00 & 0.00e+00 & 0.00e+00 & 0.0e+00 & 0.00e+00 & 0.00e+00 & 0.00e+00 & 0.00e+00 & 0.00e+00 & 0.00e+00 &          0 & 0.00e+00 & 0.00e+00 & 0.00e+00 & 0.00e+00 & 0.00e+00 & 0.00e+00 & 0.00e+00 & 0.00e+00 &         0 & 0.00e+00 & 0.00e+00 & 0.00e+00 & 0.00e+00 &       0 & 0.00e+00 & 0.00e+00 & 0.00e+00 &          0 & 0.00e+00 & 0 & 0 & 2.52e+07 & 0.0e+00 & 0.00e+00 & 0.00e+00 & 0.00e+00 & 0.00e+00 & 0.00e+00 & 0.00e+00 & 0.00e+00 & 0.00e+00 & 0.00e+00 & 0.00e+00 & 0.00e+00 & 0.00e+00 & 0 & 0 & 0 & 0 & 0 & 0 & 0 & 0 & 0 & 0 & 0.00e+00 & 0.00e+00 & 0.00e+00 & 0.00e+00 & 0.00e+00 & 0.00e+00 & 0 & 0 & 0 & 0 & 0 & 0 & 0 & 0 & 0 & 0 & 0 & 0.00e+00 & 0.00e+00 &        0 & 0.00e+00 & 0.00e+00 & 0 & 0 & 0.00e+00 & 0.0e+00 & 0.00e+00 & 0.00e+00 & 0.00e+00 & 0.00e+00 & 0.00e+00 & 0.0e+00 & 0.00e+00 & 0.00e+00 & 0.00e+00 & 0 & 0.00e+00 &        0 & 0.0e+00 & 0.00e+00 &        0 & 0.00e+00 & 0.00e+00 &        0 & 1.17e+07 &        0 &        0 & 0.0e+00 & 0.00e+00 & 0.00e+00 & 0.00e+00 & 0.00e+00 & 0.00e+00 & 0.00e+00 & 0 & 0.00e+00 & 0.00e+00 & 0.00e+00 & 0.00e+00 & 0.00e+00 & 0.00e+00 & 0.00e+00 & 0.00e+00 & 0.0e+00 & 1.22e+07 & 0.00e+00 & 0.00e+00 & 0.00e+00 & 2.42e+07 & 0.00e+00 & 2826068 & 0 & 0 & 0 & 0 & 0 & 0 & 0 &        0 &        0 & 0.00e+00 & 0.00e+00 &        0 & 0.0e+00 &        0 & 0.00e+00 & 0 & 0 & 0 & 0.0e+00 & 0 & 0.00e+00 & 0 &        0 & 0 & 0 & 0.00e+00 & 0.00e+00 &        0 & 0 & 0.0e+00 & 0.00e+00 & 0.00e+00 & 0.0e+00 & 0.00e+00 & 0.00e+00 & 0.00e+00 & 0.00e+00 & 0.00e+00 &   4516876 & 0.0e+00 & 0.00e+00 & 0.00e+00 & 0.0e+00 & 0.00e+00 &         0 & 0.00e+00 & 0.00e+00 & 0.00e+00 & 0.00e+00 & 0.00e+00 & 0.00e+00 & 0.00e+00 & 0.00e+00 & 0.00e+00 & 0.00e+00 & 0.00e+00 &  5924293 & 0.00e+00 & 0.00e+00 & 0.00e+00 & 0.00e+00 & 0.00e+00 & 0.00e+00 & 0.00e+00 & 0.00e+00 & 0.00e+00 & 0.00e+00 & 0.00e+00 & 0.00e+00 & 0.00e+00 & 0.00e+00 & 0.00e+00 & 0.00e+00 & 0.00e+00 & 0.00e+00 & 0.00e+00 & 0.00e+00 & 0.00e+00 & 0.00e+00 & 0.00e+00 & 0.00e+00 & 0 &        0 &   3026357 & 0.00e+00 & 0.00e+00 & 0.0e+00 & 0.00e+00 & 0.00e+00 & 0.00e+00 & 0.00e+00 & 1.08e+08 &   9654187 & 1.83e+08 & 0.00e+00 & 7.62e+08 & 0.00e+00 & 0.00e+00 & 0.00e+00 & 0.00e+00 &   3167609 & 3.63e+08 & 4.81e+08 & 4.18e+08 & 1.88e+08 & 0.00e+00 & 0.00e+00 & 0.0e+00 & 0 & 8.37e+08 & 0.00e+00 & 0.00e+00 & 0.00e+00 & 0.00e+00 & 0.00e+00 & 0.00e+00 & 0.00e+00 & 0.00e+00 & 0.00e+00 & 1.84e+08 & 1.83e+08 & 1.88e+08 & 0.00e+00 & 4.56e+08 & 5.46e+08 & 5.83e+08 & 5.21e+08 & 0.00e+00 & 0.00e+00 & 7.96e+08 & 0.00e+00 & 0.00e+00 & 0.00e+00 &   9972260 & 0.00e+00 & 0.00e+00 & 0.00e+00 & 0.00e+00 & 0.00e+00 & 0.00e+00 &         0 & 0.00e+00 & 0.00e+00 & 0.00e+00 & 0.00e+00 & 0.00e+00 & 1.21e+07 &   3148340 &         0 &   4285774 & 0.00e+00 & 0.00e+00 & 0.00e+00 &   3107289 &   3692095 & 0.00e+00 & 2.66e+08 & 0.00e+00 & 0.00e+00 & 0.00e+00 & 0.00e+00 & 0.00e+00 & 0.00e+00 &        0 & 0.00e+00 & 0.00e+00 & 0.0e+00 & 8.52e+08 &          0 & 488000000 & 0.00e+00 &        0 &   2904885 & 0.00e+00 & 0.00e+00 & 0.00e+00 & 0 & 0 & 0.00e+00 & 0.00e+00 & 6.24e+08 & 2.60e+08 & 0.00e+00 & 5.63e+08 & 0.00e+00 & 0.00e+00 & 0.00e+00 &        0 & 0.00e+00 & 0 & 0 & 0 & 7.38e+08 & 8.59e+08 & 5.62e+08 &         0 & 3.55e+07 & 0.00e+00 &    4251984 & 0.00e+00 & 0.00e+00 &   4922577 & 0.00e+00 & 4.34e+08 & 0.00e+00 & 0.00e+00 & 5.86e+08 & 0.00e+00 & 0.00e+00 & 0.00e+00 &  28100000 &   8143640 & 0.00e+00 & 0.00e+00 & 0.00e+00 &   3401554 & 0.00e+00 &         0 & 0.00e+00 & 0.00e+00 & 0.00e+00 & 0.00e+00 & 0.00e+00 & 0.00e+00 & 0.00e+00 & 6.83e+07 & 0.00e+00 & 7.09e+07 & 0.00e+00 & 0.00e+00 & 0.00e+00 & 0.00e+00 & 0.00e+00 & 0.00e+00 & 0.00e+00 & 0.00e+00 & 0.00e+00 & 0.00e+00 & 0.00e+00 & 0.00e+00 & 75300000 & 0.00e+00 & 0.00e+00 & 0.0e+00 & 0.00e+00 & 0.00e+00 & 0.00e+00 & 0.00e+00 & 0e+00 & 0.00e+00 & 0.00e+00 & 3.10e+08 & 0.00e+00 & 0.00e+00 & 0.00e+00 & 0.00e+00 & 0.00e+00 & 0.00e+00 & 0.00e+00 & 0.00e+00 & 0.00e+00 & 9.41e+07 & 0.00e+00 & 8.73e+07 & 0.00e+00 & 0.00e+00 & 0.00e+00 & 0.00e+00 & 0.00e+00 & 0.00e+00 & 0.00e+00 & 0.00e+00 & 0.00e+00 & 0.0e+00 & 9.0e+07 & 0.00e+00 & 1.71e+09 & 0.0e+00 & 0.0e+00 & 0.00e+00 &         0 & 0.00e+00 & 0.00e+00 & 0.00e+00 & 0.00e+00 & 0.00e+00 & 0.00e+00 & 0.0e+00 &         0 & 0.00e+00 & 0 & 0 & 0 & 0 & 0 & 0.00e+00 & 0.00e+00 & 0.00e+00 & 0.00e+00 & 0.00e+00 & 0.00e+00 & 0.00e+00 & 0.00e+00 & 1.17e+08 & 0.00e+00 & 1.15e+08 & 0 & 0 & 0 & 0.00e+00 &        0 & 1.02e+08 & 9.14e+07 & 8.39e+07 & 0.00e+00 & 0e+00 & 0.00e+00 & 0.0e+00 & 0.00e+00 & 0.00e+00 & 0.00e+00 & 0.00e+00 & 7.85e+07 & 9.15e+07 & 8.71e+07 & 8.21e+07 & 0.00e+00 & 7.07e+07 & 7.47e+07 & 0.00e+00 & 0.00e+00 & 0.00e+00 & 0.00e+00 & 7.61e+07 & 7.35e+07 & 0.00e+00 & 0.00e+00 &         0 & 8.29e+07 & 8.63e+07 & 0.00e+00 & 0.00e+00 & 7.76e+07 & 8.10e+07 & 0.00e+00 & 0.00e+00 & 1.02e+08 & 8.97e+07 & 0.00e+00 & 8.95e+07 & 0.00e+00 & 0.00e+00 & 8.86e+07 & 0.00e+00 & 0 & 0 & 0 & 0 & 0 & 0.00e+00 & 8.29e+07 & 8.35e+07 & 7.35e+07 & 7.25e+07 & 7.56e+07 & 8.12e+07 & 8.08e+07 & 0.00e+00 & 0.00e+00 & 1.02e+08 & 0.00e+00 & 0.00e+00 & 0.00e+00 & 0.00e+00 & 0.00e+00 & 8.15e+07 & 0.00e+00 & 0.00e+00 & 0.00e+00 & 0.00e+00 & 0.00e+00 & 0.00e+00 & 0e+00 & 0.00e+00 & 9.59e+07 & 0.00e+00 & 0.00e+00 & 0.00e+00 & 0.00e+00 & 0.00e+00 & 0.00e+00 & 0.00e+00 & 0.0e+00 & 0.00e+00 & 1.02e+08 & 0.00e+00 & 0.00e+00 & 0.00e+00 & 0.00e+00 &        0 & 0.00e+00 & 0.00e+00 & 0.00e+00 & 0.00e+00 & 0.0e+00 & 0.00e+00 & 0.00e+00 & 0.00e+00 & 0.00e+00 & 0.00e+00 & 0.00e+00 & 0.00e+00 & 0.00e+00 & 0.00e+00 & 0.00e+00 & 0 & 0.00e+00 & 0.00e+00 & 0.00e+00 & 0.00e+00 & 0.00e+00 & 0.00e+00 & 0.00e+00 & 0.00e+00 & 0.00e+00 & 0.00e+00 & 0.00e+00 & 0.00e+00 & 0.00e+00 & 0.00e+00 & 0.00e+00 & 0.00e+00 & 0.00e+00 & 0.00e+00 & 0.00e+00 & 0.00e+00 & 0.0e+00 & 0.0e+00 & 0.00e+00 & 0.00e+00 & 0 & 0.00e+00 & 0.00e+00 & 0.00e+00 & 0.00e+00 & 0.00e+00 & 0.0e+00 & 0.00e+00 & 0.00e+00 & 0.00e+00 & 0.00e+00 & 0.0e+00 & 0.00e+00 & 0.00e+00 & 0.00e+00 & 0.00e+00 & 0.00e+00 & 0.00e+00 & 0.00e+00 & 0.00e+00 & 0 & 0 & 0 & 0 & 0 & 0 & 0 & 0.00e+00 & 0.00e+00 & 0.0e+00 & 0.00e+00 & 0.00e+00 & 0.0e+00 & 0.00e+00 & 0.00e+00 & 0.00e+00 & 0.00e+00 & 0.00e+00 & 0.0e+00 & 8.17e+07 & 0.00e+00 & 0.00e+00 & 0.00e+00 & 0.00e+00 & 0.00e+00 & 0.00e+00 & 0.00e+00 & 0.00e+00\\\\\n",
       "\t 72.081\\_0.36  & 4.7e+08 & 6.58e+08 & 5.06e+08 & 5.99e+08 & 5.24e+08 & 5.58e+08 & 6.87e+08 & 5.93e+08 & 6.49e+08 & 6.85e+08 & 6.46e+08 & 6.57e+08 & 9.81e+08 & 8.22e+08 & 8.05e+08 & 1650000000 & 5.12e+08 & 5.04e+08 & 5.01e+08 & 4.82e+08 & 5.6e+08 & 5e+08 & 5.91e+08 & 1.14e+09 & 1.31e+09 & 4.67e+08 & 5.28e+08 & 1.20e+09 & 5.42e+08 & 7.67e+08 & 974000000 & 9.58e+08 & 6.98e+08 & 5.67e+08 & 7.63e+08 & 9.30e+08 & 0 & 1.25e+09 & 5.77e+08 & 5.36e+08 & 6.39e+08 & 5.44e+08 & 5.18e+08 & 5.98e+08 & 1.16e+09 & 6.41e+08 & 6.07e+08 & 9.68e+08 & 1.17e+09 & 5.84e+08 & 1180000000 & 8.68e+08 & 6.68e+08 & 6.91e+08 & 7.39e+08 & 9.31e+08 & 6.36e+08 & 6.53e+08 & 1.73e+09 & 5.19e+08 & 5.36e+08 & 5.55e+08 & 5.39e+08 & 5.43e+08 & 1.57e+09 & 6.85e+08 & 1.20e+09 & 8.51e+08 & 7.75e+08 & 0 & 8.88e+08 & 0 & 1.53e+09 & 5.2e+08 & 6.65e+08 & 5.91e+08 & 1330000000 & 8.37e+08 & 2.74e+09 & 1.57e+09 & 1.17e+09 & 0 & 0 & 5.8e+08 & 0 & 5.91e+08 &        0 &        0 & 8.97e+08 & 5.97e+08 & 1.28e+09 & 1.58e+09 & 9.33e+08 & 0 & 0 & 0 & 0 & 0 & 1.06e+09 & 8.40e+08 & 8.41e+08 &        0 &        0 & 5.3e+08 &        0 & 1.12e+09 & 1140000000 & 1310000000 & 0 & 0 & 0 & 0 & 0 & 0 & 0 & 0 & 0 & 0 & 0 & 4.35e+08 &        0 & 0 &        0 & 9.18e+08 & 5.11e+08 & 5.52e+08 & 4.76e+08 & 5.08e+08 & 5.93e+08 & 7.03e+08 & 6.42e+08 & 5.17e+08 & 6.07e+08 & 5.58e+08 & 6e+08 & 7.01e+08 & 3.19e+08 & 1.36e+09 & 1.28e+09 & 8.75e+08 & 4.64e+08 & 2.29e+08 & 5.43e+08 & 5.79e+08 & 6e+08 & 5.73e+08 & 3.79e+08 & 5.14e+08 & 5e+08 & 1.18e+09 & 7.45e+08 & 9.12e+08 & 1010000000 & 807000000 & 2.07e+09 & 5.74e+08 & 5.39e+08 & 5.4e+08 & 6.03e+08 & 5.34e+08 & 5.29e+08 & 4.82e+08 & 5.64e+08 & 7.49e+08 & 5.38e+08 & 7.74e+08 & 1.13e+09 & 1.25e+09 & 1.20e+09 & 1.52e+09 & 1.14e+09 & 4.63e+08 & 5.06e+08 & 5.56e+08 & 5.2e+08 & 5.11e+08 & 4.73e+08 & 5.71e+08 & 5.05e+08 & 6.96e+08 & 7.11e+08 & 1380000000 & 7.03e+08 & 8.96e+08 & 1.26e+09 & 1.95e+09 & 4.73e+08 & 5.34e+08 & 5.39e+08 & 5.33e+08 & 706000000 & 5.73e+08 & 5.78e+08 & 5.55e+08 & 1.13e+09 &       0 & 1.29e+09 & 1.25e+09 & 9.14e+08 & 1270000000 & 1.29e+09 & 0 & 0 & 1.85e+09 & 5.1e+08 & 5.16e+08 & 6.09e+08 & 5.99e+08 & 6.31e+08 & 6.75e+08 & 7.31e+08 & 1.64e+09 & 1.27e+09 & 9.96e+08 & 1.29e+09 & 1.03e+09 & 1.04e+09 & 0 & 0 & 0 & 0 & 0 & 0 & 0 & 0 & 0 & 0 & 6.87e+08 & 7.87e+08 & 4.86e+08 & 4.29e+08 & 1.02e+09 & 1.36e+09 & 0 & 0 & 0 & 0 & 0 & 0 & 0 & 0 & 0 & 0 & 0 & 4.72e+08 & 7.22e+08 &        0 & 8.84e+08 & 7.23e+08 & 0 & 0 & 1.43e+08 & 2.2e+08 & 1.62e+08 & 1.03e+08 & 4.74e+08 & 5.34e+08 & 7.43e+08 & 1.1e+08 & 8.95e+08 & 7.58e+08 & 7.36e+08 & 0 & 1.34e+08 & 92900000 & 9.3e+07 & 1.26e+08 & 46400000 & 1.26e+08 & 1.16e+08 & 65200000 & 4.47e+08 & 89200000 & 92200000 & 1.6e+08 & 1.55e+08 & 1.39e+08 & 7.39e+08 & 1.78e+09 & 1.65e+08 & 1.18e+08 & 0 & 1.16e+08 & 1.13e+08 & 1.63e+08 & 1.05e+08 & 1.12e+08 & 1.65e+08 & 1.66e+08 & 1.75e+08 & 1.2e+08 & 2.06e+08 & 1.06e+08 & 1.06e+08 & 1.38e+08 & 2.27e+08 & 6.63e+08 &       0 & 0 & 0 & 0 & 0 & 0 & 0 & 0 & 44300000 & 66800000 & 1.35e+08 & 3.26e+08 & 90300000 & 1.7e+08 & 86500000 & 1.76e+08 & 0 & 0 & 0 & 1.4e+08 & 0 & 1.18e+08 & 0 & 74500000 & 0 & 0 & 8.26e+08 & 6.02e+08 & 92700000 & 0 & 1.1e+08 & 9.90e+08 & 7.53e+08 & 7.2e+08 & 7.49e+08 & 6.42e+08 & 7.84e+08 & 7.45e+08 & 3.82e+08 & 646000000 & 1.1e+08 & 6.64e+08 & 7.41e+08 & 7.7e+08 & 7.05e+08 & 348000000 & 6.06e+08 & 1.09e+09 & 6.21e+08 & 6.92e+08 & 7.19e+08 & 7.42e+08 & 7.05e+08 & 7.78e+08 & 8.05e+08 & 2.06e+08 & 1.64e+08 &        0 & 9.50e+08 & 1.10e+09 & 7.17e+08 & 8.65e+08 & 8.19e+08 & 1.62e+08 & 7.89e+08 & 6.79e+08 & 3.79e+08 & 6.96e+08 & 7.41e+08 & 6.22e+08 & 7.59e+08 & 8.58e+08 & 8.19e+08 & 9.83e+08 & 8.30e+08 & 7.05e+08 & 4.12e+08 & 5.95e+08 & 9.74e+08 & 8.65e+08 & 8.87e+08 & 4.37e+08 & 0 &        0 & 486000000 & 7.26e+08 & 6.44e+08 & 8.8e+08 & 8.96e+08 & 8.77e+08 & 1.02e+09 & 7.76e+08 & 0.00e+00 & 663000000 & 0.00e+00 & 6.07e+08 & 0.00e+00 & 9.78e+08 & 5.02e+08 & 7.54e+08 & 5.59e+08 & 751000000 & 0.00e+00 & 0.00e+00 & 0.00e+00 & 0.00e+00 & 1.15e+09 & 2.46e+08 & 7.1e+08 & 0 & 0.00e+00 & 1.30e+09 & 8.36e+08 & 8.69e+08 & 1.18e+09 & 8.38e+08 & 8.55e+08 & 5.18e+08 & 5.97e+08 & 7.49e+08 & 0.00e+00 & 0.00e+00 & 0.00e+00 & 1.39e+09 & 0.00e+00 & 0.00e+00 & 0.00e+00 & 0.00e+00 & 1.68e+08 & 7.84e+08 & 0.00e+00 & 7.46e+08 & 8.67e+08 & 3.52e+08 & 512000000 & 6.78e+08 & 7.93e+08 & 7.57e+08 & 7.98e+08 & 7.12e+08 & 8.70e+08 & 781000000 & 8.02e+08 & 6.17e+08 & 1.07e+09 & 8.00e+08 & 9.46e+08 & 3.83e+08 & 735000000 & 150000000 & 776000000 & 8.07e+08 & 1.23e+09 & 5.97e+08 & 933000000 & 787000000 & 1.01e+09 & 0.00e+00 & 8.88e+08 & 8.42e+08 & 8.87e+08 & 1.05e+09 & 8.89e+08 & 1.13e+09 &        0 & 7.64e+08 & 1.04e+09 & 1.2e+09 & 0.00e+00 & 1380000000 &         0 & 6.68e+08 &        0 & 750000000 & 8.84e+08 & 1.06e+09 & 5.73e+08 & 0 & 0 & 1.28e+09 & 6.97e+08 & 0.00e+00 & 0.00e+00 & 7.18e+08 & 0.00e+00 & 1.35e+09 & 7.23e+08 & 9.23e+08 &        0 & 9.72e+08 & 0 & 0 & 0 & 0.00e+00 & 0.00e+00 & 0.00e+00 & 579000000 & 6.48e+08 & 6.51e+08 & 1090000000 & 6.11e+08 & 1.38e+09 & 840000000 & 8.87e+08 & 0.00e+00 & 0.00e+00 & 0.00e+00 & 0.00e+00 & 0.00e+00 & 0.00e+00 & 0.00e+00 & 638000000 & 707000000 & 0.00e+00 & 8.45e+08 & 0.00e+00 & 786000000 & 1.44e+09 &         0 & 0.00e+00 & 0.00e+00 & 0.00e+00 & 0.00e+00 & 0.00e+00 & 0.00e+00 & 1.16e+09 & 0.00e+00 & 0.00e+00 & 2.65e+09 & 2.48e+09 & 0.00e+00 & 2.25e+09 & 0.00e+00 & 0.00e+00 & 0.00e+00 & 0.00e+00 & 0.00e+00 & 0.00e+00 & 0.00e+00 & 0.00e+00 & 0.00e+00 &        0 & 0.00e+00 & 0.00e+00 & 0.0e+00 & 0.00e+00 & 0.00e+00 & 0.00e+00 & 0.00e+00 & 0e+00 & 0.00e+00 & 0.00e+00 & 0.00e+00 & 0.00e+00 & 0.00e+00 & 0.00e+00 & 0.00e+00 & 0.00e+00 & 0.00e+00 & 0.00e+00 & 0.00e+00 & 1.39e+09 & 0.00e+00 & 0.00e+00 & 2.03e+09 & 0.00e+00 & 0.00e+00 & 0.00e+00 & 0.00e+00 & 0.00e+00 & 0.00e+00 & 0.00e+00 & 0.00e+00 & 0.00e+00 & 0.0e+00 & 0.0e+00 & 0.00e+00 & 0.00e+00 & 0.0e+00 & 0.0e+00 & 0.00e+00 &         0 & 0.00e+00 & 0.00e+00 & 0.00e+00 & 0.00e+00 & 0.00e+00 & 0.00e+00 & 0.0e+00 &         0 & 0.00e+00 & 0 & 0 & 0 & 0 & 0 & 0.00e+00 & 0.00e+00 & 0.00e+00 & 0.00e+00 & 0.00e+00 & 0.00e+00 & 0.00e+00 & 0.00e+00 & 0.00e+00 & 0.00e+00 & 0.00e+00 & 0 & 0 & 0 & 0.00e+00 &        0 & 0.00e+00 & 0.00e+00 & 0.00e+00 & 0.00e+00 & 0e+00 & 0.00e+00 & 0.0e+00 & 0.00e+00 & 0.00e+00 & 0.00e+00 & 0.00e+00 & 0.00e+00 & 0.00e+00 & 0.00e+00 & 0.00e+00 & 0.00e+00 & 0.00e+00 & 0.00e+00 & 0.00e+00 & 0.00e+00 & 0.00e+00 & 0.00e+00 & 0.00e+00 & 0.00e+00 & 0.00e+00 & 0.00e+00 &         0 & 0.00e+00 & 0.00e+00 & 0.00e+00 & 0.00e+00 & 0.00e+00 & 0.00e+00 & 0.00e+00 & 0.00e+00 & 0.00e+00 & 0.00e+00 & 0.00e+00 & 0.00e+00 & 0.00e+00 & 2.75e+09 & 0.00e+00 & 2.38e+09 & 0 & 0 & 0 & 0 & 0 & 0.00e+00 & 0.00e+00 & 0.00e+00 & 0.00e+00 & 0.00e+00 & 0.00e+00 & 0.00e+00 & 0.00e+00 & 0.00e+00 & 0.00e+00 & 0.00e+00 & 1.09e+09 & 0.00e+00 & 0.00e+00 & 0.00e+00 & 0.00e+00 & 0.00e+00 & 0.00e+00 & 0.00e+00 & 1.85e+09 & 0.00e+00 & 0.00e+00 & 2.23e+09 & 0e+00 & 2.52e+09 & 0.00e+00 & 0.00e+00 & 0.00e+00 & 0.00e+00 & 0.00e+00 & 1.90e+09 & 0.00e+00 & 1.51e+09 & 0.0e+00 & 0.00e+00 & 0.00e+00 & 0.00e+00 & 2.29e+09 & 0.00e+00 & 0.00e+00 &        0 & 0.00e+00 & 0.00e+00 & 0.00e+00 & 0.00e+00 & 0.0e+00 & 0.00e+00 & 0.00e+00 & 0.00e+00 & 0.00e+00 & 0.00e+00 & 0.00e+00 & 0.00e+00 & 0.00e+00 & 0.00e+00 & 0.00e+00 & 0 & 0.00e+00 & 0.00e+00 & 0.00e+00 & 0.00e+00 & 0.00e+00 & 0.00e+00 & 0.00e+00 & 2.33e+09 & 1.98e+09 & 0.00e+00 & 0.00e+00 & 0.00e+00 & 0.00e+00 & 0.00e+00 & 0.00e+00 & 1.14e+09 & 1.81e+09 & 0.00e+00 & 0.00e+00 & 0.00e+00 & 0.0e+00 & 0.0e+00 & 2.22e+09 & 0.00e+00 & 0 & 0.00e+00 & 0.00e+00 & 0.00e+00 & 1.55e+09 & 0.00e+00 & 0.0e+00 & 1.65e+09 & 0.00e+00 & 0.00e+00 & 0.00e+00 & 0.0e+00 & 0.00e+00 & 0.00e+00 & 0.00e+00 & 1.56e+09 & 0.00e+00 & 0.00e+00 & 0.00e+00 & 0.00e+00 & 0 & 0 & 0 & 0 & 0 & 0 & 0 & 0.00e+00 & 0.00e+00 & 0.0e+00 & 0.00e+00 & 0.00e+00 & 0.0e+00 & 0.00e+00 & 0.00e+00 & 0.00e+00 & 0.00e+00 & 0.00e+00 & 0.0e+00 & 0.00e+00 & 0.00e+00 & 0.00e+00 & 0.00e+00 & 0.00e+00 & 0.00e+00 & 0.00e+00 & 0.00e+00 & 0.00e+00\\\\\n",
       "\\end{tabular}\n"
      ],
      "text/markdown": [
       "\n",
       "A data.frame: 6 × 787\n",
       "\n",
       "| mass_RT &lt;fct&gt; | GIMap_P1_LI_Aq.Org_Mixed_A7.mzXML.Peak.area &lt;dbl&gt; | GIMap_P1_LI_Aq.Org_Mixed_B12.mzXML.Peak.area &lt;dbl&gt; | GIMap_P1_LI_Aq.Org_Mixed_B10.mzXML.Peak.area &lt;dbl&gt; | GIMap_P1_LI_Aq.Org_Mixed_A12.mzXML.Peak.area &lt;dbl&gt; | GIMap_P1_LI_Aq.Org_Mixed_B11.mzXML.Peak.area &lt;dbl&gt; | GIMap_P1_LI_Aq.Org_Mixed_B7.mzXML.Peak.area &lt;dbl&gt; | GIMap_P1_LI_Aq.Org_Mixed_A3.mzXML.Peak.area &lt;dbl&gt; | GIMap_P1_LI_Aq.Org_Mixed_B5.mzXML.Peak.area &lt;dbl&gt; | GIMap_P1_LI_Aq.Org_Mixed_A8.mzXML.Peak.area &lt;dbl&gt; | ... ... | GIMap_P3_SI_Pulled_Sample_QC_180315155821.mzXML.Peak.area &lt;dbl&gt; | GIMap_P3_SI_Pulled_Sample_QC_180316175021.mzXML.Peak.area &lt;dbl&gt; | GIMap_P3_SI_Aq_A11.mzXML.Peak.area &lt;dbl&gt; | GIMap_P3_SI_Aq_A12.mzXML.Peak.area &lt;dbl&gt; | GIMap_P3_SI_Aq_A7.mzXML.Peak.area &lt;dbl&gt; | GIMap_P3_SI_Aq.Org_Mixed_H5.mzXML.Peak.area &lt;dbl&gt; | GIMap_P3_SI_Aq.Org_Mixed_H9.mzXML.Peak.area &lt;dbl&gt; | GIMap_P3_SI_Aq.Org_Mixed_H4.mzXML.Peak.area &lt;dbl&gt; | GIMap_P3_SI_Aq.Org_Mixed_H10.mzXML.Peak.area &lt;dbl&gt; | GIMap_P3_SI_Aq.Org_Mixed_G4.mzXML.Peak.area &lt;dbl&gt; |\n",
       "|---|---|---|---|---|---|---|---|---|---|---|---|---|---|---|---|---|---|---|---|---|\n",
       "| 70.012_0.234 | 0.0e+00 | 0.00e+00 | 0.00e+00 | 0.00e+00 | 0.00e+00 | 0.00e+00 | 0.00e+00 | 0.00e+00 | 0.00e+00 | ... | 0.0e+00 | 0.00e+00 | 0.00e+00 | 0.00e+00 | 0.00e+00 | 0.00e+00 | 0.00e+00 | 0.00e+00 | 0.00e+00 | 0.00e+00 |\n",
       "| 70.013_2.191 | 0.0e+00 | 0.00e+00 | 0.00e+00 | 0.00e+00 | 0.00e+00 | 0.00e+00 | 0.00e+00 | 0.00e+00 | 0.00e+00 | ... | 0.0e+00 | 0.00e+00 | 0.00e+00 | 0.00e+00 | 0.00e+00 | 0.00e+00 | 0.00e+00 | 0.00e+00 | 0.00e+00 | 0.00e+00 |\n",
       "| 70.065_0.36  | 0.0e+00 | 0.00e+00 | 0.00e+00 | 0.00e+00 | 0.00e+00 | 0.00e+00 | 0.00e+00 | 0.00e+00 | 0.00e+00 | ... | 0.0e+00 | 0.00e+00 | 9.18e+08 | 9.53e+08 | 0.00e+00 | 1.17e+09 | 1.54e+09 | 7.28e+08 | 8.73e+08 | 9.71e+08 |\n",
       "| 70.065_0.264 | 0.0e+00 | 0.00e+00 | 0.00e+00 | 0.00e+00 | 0.00e+00 | 0.00e+00 | 0.00e+00 | 0.00e+00 | 0.00e+00 | ... | 3.5e+08 | 3.51e+08 | 0.00e+00 | 0.00e+00 | 4.87e+08 | 0.00e+00 | 0.00e+00 | 0.00e+00 | 0.00e+00 | 0.00e+00 |\n",
       "| 72.081_0.24  | 0.0e+00 | 0.00e+00 | 0.00e+00 | 0.00e+00 | 0.00e+00 | 0.00e+00 | 0.00e+00 | 0.00e+00 | 0.00e+00 | ... | 0.0e+00 | 8.17e+07 | 0.00e+00 | 0.00e+00 | 0.00e+00 | 0.00e+00 | 0.00e+00 | 0.00e+00 | 0.00e+00 | 0.00e+00 |\n",
       "| 72.081_0.36  | 4.7e+08 | 6.58e+08 | 5.06e+08 | 5.99e+08 | 5.24e+08 | 5.58e+08 | 6.87e+08 | 5.93e+08 | 6.49e+08 | ... | 0.0e+00 | 0.00e+00 | 0.00e+00 | 0.00e+00 | 0.00e+00 | 0.00e+00 | 0.00e+00 | 0.00e+00 | 0.00e+00 | 0.00e+00 |\n",
       "\n"
      ],
      "text/plain": [
       "  mass_RT      GIMap_P1_LI_Aq.Org_Mixed_A7.mzXML.Peak.area\n",
       "1 70.012_0.234 0.0e+00                                    \n",
       "2 70.013_2.191 0.0e+00                                    \n",
       "3 70.065_0.36  0.0e+00                                    \n",
       "4 70.065_0.264 0.0e+00                                    \n",
       "5 72.081_0.24  0.0e+00                                    \n",
       "6 72.081_0.36  4.7e+08                                    \n",
       "  GIMap_P1_LI_Aq.Org_Mixed_B12.mzXML.Peak.area\n",
       "1 0.00e+00                                    \n",
       "2 0.00e+00                                    \n",
       "3 0.00e+00                                    \n",
       "4 0.00e+00                                    \n",
       "5 0.00e+00                                    \n",
       "6 6.58e+08                                    \n",
       "  GIMap_P1_LI_Aq.Org_Mixed_B10.mzXML.Peak.area\n",
       "1 0.00e+00                                    \n",
       "2 0.00e+00                                    \n",
       "3 0.00e+00                                    \n",
       "4 0.00e+00                                    \n",
       "5 0.00e+00                                    \n",
       "6 5.06e+08                                    \n",
       "  GIMap_P1_LI_Aq.Org_Mixed_A12.mzXML.Peak.area\n",
       "1 0.00e+00                                    \n",
       "2 0.00e+00                                    \n",
       "3 0.00e+00                                    \n",
       "4 0.00e+00                                    \n",
       "5 0.00e+00                                    \n",
       "6 5.99e+08                                    \n",
       "  GIMap_P1_LI_Aq.Org_Mixed_B11.mzXML.Peak.area\n",
       "1 0.00e+00                                    \n",
       "2 0.00e+00                                    \n",
       "3 0.00e+00                                    \n",
       "4 0.00e+00                                    \n",
       "5 0.00e+00                                    \n",
       "6 5.24e+08                                    \n",
       "  GIMap_P1_LI_Aq.Org_Mixed_B7.mzXML.Peak.area\n",
       "1 0.00e+00                                   \n",
       "2 0.00e+00                                   \n",
       "3 0.00e+00                                   \n",
       "4 0.00e+00                                   \n",
       "5 0.00e+00                                   \n",
       "6 5.58e+08                                   \n",
       "  GIMap_P1_LI_Aq.Org_Mixed_A3.mzXML.Peak.area\n",
       "1 0.00e+00                                   \n",
       "2 0.00e+00                                   \n",
       "3 0.00e+00                                   \n",
       "4 0.00e+00                                   \n",
       "5 0.00e+00                                   \n",
       "6 6.87e+08                                   \n",
       "  GIMap_P1_LI_Aq.Org_Mixed_B5.mzXML.Peak.area\n",
       "1 0.00e+00                                   \n",
       "2 0.00e+00                                   \n",
       "3 0.00e+00                                   \n",
       "4 0.00e+00                                   \n",
       "5 0.00e+00                                   \n",
       "6 5.93e+08                                   \n",
       "  GIMap_P1_LI_Aq.Org_Mixed_A8.mzXML.Peak.area ...\n",
       "1 0.00e+00                                    ...\n",
       "2 0.00e+00                                    ...\n",
       "3 0.00e+00                                    ...\n",
       "4 0.00e+00                                    ...\n",
       "5 0.00e+00                                    ...\n",
       "6 6.49e+08                                    ...\n",
       "  GIMap_P3_SI_Pulled_Sample_QC_180315155821.mzXML.Peak.area\n",
       "1 0.0e+00                                                  \n",
       "2 0.0e+00                                                  \n",
       "3 0.0e+00                                                  \n",
       "4 3.5e+08                                                  \n",
       "5 0.0e+00                                                  \n",
       "6 0.0e+00                                                  \n",
       "  GIMap_P3_SI_Pulled_Sample_QC_180316175021.mzXML.Peak.area\n",
       "1 0.00e+00                                                 \n",
       "2 0.00e+00                                                 \n",
       "3 0.00e+00                                                 \n",
       "4 3.51e+08                                                 \n",
       "5 8.17e+07                                                 \n",
       "6 0.00e+00                                                 \n",
       "  GIMap_P3_SI_Aq_A11.mzXML.Peak.area GIMap_P3_SI_Aq_A12.mzXML.Peak.area\n",
       "1 0.00e+00                           0.00e+00                          \n",
       "2 0.00e+00                           0.00e+00                          \n",
       "3 9.18e+08                           9.53e+08                          \n",
       "4 0.00e+00                           0.00e+00                          \n",
       "5 0.00e+00                           0.00e+00                          \n",
       "6 0.00e+00                           0.00e+00                          \n",
       "  GIMap_P3_SI_Aq_A7.mzXML.Peak.area GIMap_P3_SI_Aq.Org_Mixed_H5.mzXML.Peak.area\n",
       "1 0.00e+00                          0.00e+00                                   \n",
       "2 0.00e+00                          0.00e+00                                   \n",
       "3 0.00e+00                          1.17e+09                                   \n",
       "4 4.87e+08                          0.00e+00                                   \n",
       "5 0.00e+00                          0.00e+00                                   \n",
       "6 0.00e+00                          0.00e+00                                   \n",
       "  GIMap_P3_SI_Aq.Org_Mixed_H9.mzXML.Peak.area\n",
       "1 0.00e+00                                   \n",
       "2 0.00e+00                                   \n",
       "3 1.54e+09                                   \n",
       "4 0.00e+00                                   \n",
       "5 0.00e+00                                   \n",
       "6 0.00e+00                                   \n",
       "  GIMap_P3_SI_Aq.Org_Mixed_H4.mzXML.Peak.area\n",
       "1 0.00e+00                                   \n",
       "2 0.00e+00                                   \n",
       "3 7.28e+08                                   \n",
       "4 0.00e+00                                   \n",
       "5 0.00e+00                                   \n",
       "6 0.00e+00                                   \n",
       "  GIMap_P3_SI_Aq.Org_Mixed_H10.mzXML.Peak.area\n",
       "1 0.00e+00                                    \n",
       "2 0.00e+00                                    \n",
       "3 8.73e+08                                    \n",
       "4 0.00e+00                                    \n",
       "5 0.00e+00                                    \n",
       "6 0.00e+00                                    \n",
       "  GIMap_P3_SI_Aq.Org_Mixed_G4.mzXML.Peak.area\n",
       "1 0.00e+00                                   \n",
       "2 0.00e+00                                   \n",
       "3 9.71e+08                                   \n",
       "4 0.00e+00                                   \n",
       "5 0.00e+00                                   \n",
       "6 0.00e+00                                   "
      ]
     },
     "metadata": {},
     "output_type": "display_data"
    },
    {
     "data": {
      "text/html": [
       "<ol class=list-inline>\n",
       "\t<li>6230</li>\n",
       "\t<li>787</li>\n",
       "</ol>\n"
      ],
      "text/latex": [
       "\\begin{enumerate*}\n",
       "\\item 6230\n",
       "\\item 787\n",
       "\\end{enumerate*}\n"
      ],
      "text/markdown": [
       "1. 6230\n",
       "2. 787\n",
       "\n",
       "\n"
      ],
      "text/plain": [
       "[1] 6230  787"
      ]
     },
     "metadata": {},
     "output_type": "display_data"
    }
   ],
   "source": [
    "gimap_pos_file<-read.csv(\"GIMap_mzMined.csv\")\n",
    "head(gimap_pos_file)\n",
    "dim(gimap_pos_file)"
   ]
  },
  {
   "cell_type": "code",
   "execution_count": null,
   "metadata": {},
   "outputs": [],
   "source": [
    "#processing data"
   ]
  },
  {
   "cell_type": "code",
   "execution_count": 19,
   "metadata": {},
   "outputs": [
    {
     "data": {
      "text/html": [
       "<table>\n",
       "<tbody>\n",
       "\t<tr><th scope=row>mass_RT</th><td>70.012_0.234  </td><td>70.013_2.191  </td><td>70.065_0.36   </td><td>70.065_0.264  </td><td>72.081_0.24   </td><td>72.081_0.36   </td><td>72.081_2.59   </td><td>72.081_0.233  </td><td>73.532_0.256  </td><td>73.532_2.17   </td><td>⋯             </td><td>1015.67_2.925 </td><td>1017.686_2.968</td><td>1019.701_3.043</td><td>1027.616_2.55 </td><td>1031.589_2.653</td><td>1031.589_5.748</td><td>1031.59_2.57  </td><td>1031.59_3.036 </td><td>1031.59_2.484 </td><td>1039.671_2.894</td></tr>\n",
       "\t<tr><th scope=row>GIMap_P1_LI_Aq.Org_Mixed_A7.mzXML.Peak.area</th><td>         0    </td><td>         0    </td><td>         0    </td><td>         0    </td><td>         0    </td><td> 470000000    </td><td>  90700000    </td><td>         0    </td><td>         0    </td><td>         0    </td><td>⋯             </td><td>         0    </td><td>  34300000    </td><td>         0    </td><td>         0    </td><td>         0    </td><td>         0    </td><td>         0    </td><td>         0    </td><td>         0    </td><td>         0    </td></tr>\n",
       "\t<tr><th scope=row>GIMap_P1_LI_Aq.Org_Mixed_B12.mzXML.Peak.area</th><td>         0    </td><td>         0    </td><td>         0    </td><td>         0    </td><td>         0    </td><td> 658000000    </td><td>  68400000    </td><td>         0    </td><td>         0    </td><td>         0    </td><td>⋯             </td><td>         0    </td><td>         0    </td><td>         0    </td><td>         0    </td><td>         0    </td><td>         0    </td><td>         0    </td><td>         0    </td><td>         0    </td><td>         0    </td></tr>\n",
       "\t<tr><th scope=row>GIMap_P1_LI_Aq.Org_Mixed_B10.mzXML.Peak.area</th><td>         0    </td><td>         0    </td><td>         0    </td><td>         0    </td><td>         0    </td><td> 506000000    </td><td> 101000000    </td><td>         0    </td><td>         0    </td><td>         0    </td><td>⋯             </td><td>         0    </td><td>  22100000    </td><td>         0    </td><td>         0    </td><td>         0    </td><td>         0    </td><td>         0    </td><td>         0    </td><td>         0    </td><td>         0    </td></tr>\n",
       "\t<tr><th scope=row>GIMap_P1_LI_Aq.Org_Mixed_A12.mzXML.Peak.area</th><td>          0   </td><td>          0   </td><td>          0   </td><td>          0   </td><td>          0   </td><td>  599000000   </td><td>   88800000   </td><td>          0   </td><td>          0   </td><td>          0   </td><td>⋯             </td><td>          0   </td><td>   54800000   </td><td>          0   </td><td>          0   </td><td>          0   </td><td>          0   </td><td>          0   </td><td>          0   </td><td>          0   </td><td>          0   </td></tr>\n",
       "\t<tr><th scope=row>GIMap_P1_LI_Aq.Org_Mixed_B11.mzXML.Peak.area</th><td>          0   </td><td>          0   </td><td>          0   </td><td>          0   </td><td>          0   </td><td>  524000000   </td><td>   89900000   </td><td>          0   </td><td>          0   </td><td>          0   </td><td>⋯             </td><td>    4006442   </td><td>   13500000   </td><td>          0   </td><td>          0   </td><td>          0   </td><td>          0   </td><td>          0   </td><td>          0   </td><td>          0   </td><td>          0   </td></tr>\n",
       "</tbody>\n",
       "</table>\n"
      ],
      "text/latex": [
       "\\begin{tabular}{r|llllllllllllllllllllllllllllllllllllllllllllllllllllllllllllllllllllllllllllllllllllllllllllllllllllllllllllllllllllllllllllllllllllllllllllllllllllllllllllllllllllllllllllllllllllllllllllllllllllllllllllllllllllllllllllllllllllllllllllllllllllllllllllllllllllllllllllllllllllllllllllllllllllllllllllllllllllllllllllllllllllllllllllllllllllllllllllllllllllllllllllllllllllllllllllllllllllllllllllllllllllllllllllllllllllllllllllllllllllllllllllllllllllllllllllllllllllllllllllllllllllllllllllllllllllllllllllllllllllllllllllllllllllllllllllllllllllllllllllllllllllllllllllllllllllllllllllllllllllllllllllllllllllllllllllllllllllllllllllllllllllllllllllllllllllllllllllllllllllllllllllllllllllllllllllllllllllllllllllllllllllllllllllllllllllllllllllllllllllllllllllllllllllllllllllllllllllllllllllllllllllllllllllllllllllllllllllllllllllllllllllllllllllllllllllllllllllllllllllllllllllllllllllllllllllllllllllllllllllllllllllllllllllllllllllllllllllllllllllllllllllllllllllllllllllllllllllllllllllllllllllllllllllllllllllllllllllllllllllllllllllllllllllllllllllllllllllllllllllllllllllllllllllllllllllllllllllllllllllllllllllllllllllllllllllllllllllllllllllllllllllllllllllllllllllllllllllllllllllllllllllllllllllllllllllllllllllllllllllllllllllllllllllllllllllllllllllllllllllllllllllllllllllllllllllllllllllllllllllllllllllllllllllllllllllllllllllllllllllllllllllllllllllllllllllllllllllllllllllllllllllllllllllllllllllllllllllllllllllllllllllllllllllllllllllllllllllllllllllllllllllllllllllllllllllllllllllllllllllllllllllllllllllllllllllllllllllllllllllllllllllllllllllllllllllllllllllllllllllllllllllllllllllllllllllllllllllllllllllllllllllllllllllllllllllllllllllllllllllllllllllllllllllllllllllllllllllllllllllllllllllllllllllllllllllllllllllllllllllllllllllllllllllllllllllllllllllllllllllllllllllllllllllllllllllllllllllllllllllllllllllllllllllllllllllllllllllllllllllllllllllllllllllllllllllllllllllllllllllllllllllllllllllllllllllllllllllllllllllllllllllllllllllllllllllllllllllllllllllllllllllllllllllllllllllllllllllllllllllllllllllllllllllllllllllllllllllllllllllllllllllllllllllllllllllllllllllllllllllllllllllllllllllllllllllllllllllllllllllllllllllllllllllllllllllllllllllllllllllllllllllllllllllllllllllllllllllllllllllllllllllllllllllllllllllllllllllllllllllllllllllllllllllllllllllllllllllllllllllllllllllllllllllllllllllllllllllllllllllllllllllllllllllllllllllllllllllllllllllllllllllllllllllllllllllllllllllllllllllllllllllllllllllllllllllllllllllllllllllllllllllllllllllllllllllllllllllllllllllllllllllllllllllllllllllllllllllllllllllllllllllllllllllllllllllllllllllllllllllllllllllllllllllllllllllllllllllllllllllllllllllllllllllllllllllllllllllllllllllllllllllllllllllllllllllllllllllllllllllllllllllllllllllllllllllllllllllllllllllllllllllllllllllllllllllllllllllllllllllllllllllllllllllllllllllllllllllllllllllllllllllllllllllllllllllllllllllllllllllllllllllllllllllllllllllllllllllllllllllllllllllllllllllllllllllllllllllllllllllllllllllllllllllllllllllllllllllllllllllllllllllllllllllllllllllllllllllllllllllllllllllllllllllllllllllllllllllllllllllllllllllllllllllllllllllllllllllllllllllllllllllllllllllllllllllllllllllllllllllllllllllllllllllllllllllllllllllllllllllllllllllllllllllllllllllllllllllllllllllllllllllllllllllllllllllllllllllllllllllllllllllllllllllllllllllllllllllllllllllllllllllllllllllllllllllllllllllllllllllllllllllllllllllllllllllllllllllllllllllllllllllllllllllllllllllllllllllllllllllllllllllllllllllllllllllllllllllllllllllllllllllllllllllllllllllllllllllllllllllllllllllllllllllllllllllllllllllllllllllllllllllllllllllllllllllllllllllllllllllllllllllllllllllllllllllllllllllllllllllllllllllllllllllllllllllllllllllllllllllllllllllllllllllllllllllllllllllllllllllllllllllllllllllllllllllllllllllllllllllllllllllllllllllllllllllllllllllllllllllllllllllllllllllllllllllllllllllllllllllllllllllllllllllllllllllllllllllllllllllllllllllllllllllllllllllllllllllllllllllllllllllllllllllllllllllllllllllllllllllllllllllllllllllllllllllllllllllllllllllllllllllllllllllllllllllllllllllllllllllllllllllllllllllllllllllllllllllllllllllllllllllllllllllllllllllllllllllllllllllllllllllllllllllllllllllllllllllllllllllllllllllllllllllllllllllllllllllllllllllllllllllllllllllllllllllllllllllllllllllllllllllllllllllllllllllllllllllllllllllllllllllllllllllllllllllllllllllllllllllllllllllllllllllllllllllllllllllllllllllllllllllllllllllllllllllllllllllllllllllllllllllllllllllllllllllllllllllllllllllllllllllllllllllllllllllllllllllllllllllllllllllllllllllllllllllllllllllllllllllllllllllllllllllllllllllllllllllllllllllllllllllllllllllllllllllllllllllllllllllllllllllllllllllllllllllllllllllllllllllllllllllllllllllllllllllllllllllllllllllllllllllllllllllllllllllllllllllllllllllllllllllllllllllllllllllllllllllllllllllllllllllllllllllllllllllllllllllllllllllllllllllllllllllllllllllllllllllllllllllllllllllllllllllllllllllllllllllllllllllllllllllllllllllllllllllllllllllllllllllllllllllllllllllllllllllllllllllllllllllllllllllllllllllllllllllllllllllllllllllllllllllllllllllllllllllllllllllllllllllllllllllllllllllllllllllllllllllllllllllllllllllllllllllllllllllllllllllllllllllllllllllllllllllllllllllllllllllllllllllllllllllllllllllllllllllllllllllllllllllllllllllllllllllllllllllllllllllllllllllllllllllllllllllllllllllllllllllllllllllllllllllllllllllllllllllllllllllllllllllllllllllllllllllllllllllllllllllllllllllllllllllllllllllllllllllllllllllllllllllllllllllllllllllllllllllllllllllllllllllllllllllllllllllllllllllllllllllllllllllllllllllllllllllllllllllllllllllllllllllllllllllllllllllllllllllllllllllllllllllllllllllllllllllllllllllllllllllllllllllllllllllllllllllllllllllllllllllllllllllllllllllllllllllllllllllllllllllllllllllllllllllllllllllllllllllllllllllllllllllllllllllllllllllllllllllllllllllllllllllllllllllllllllllllllllllllllllllllllllllllllllllllllllllllllllllllllllllllllllllllllllllllllllllllllllllllllllllllllllllllllllllllllllllllllllllllllllllllllllllllllllllllllllllllllllllllllllllllllllllllllllllllllllllllllllllllllllllllllllllllllllllllllllllllllllllllllllllllllllllllllllllllllllllllllllllllllllllllllllllllllllllllllllllllllllllllllllllllllllllllllllllllllllllllllllllllllllllllllllllllllllllllllllllllllllllllllllllllllllllllllllllllllllllllllllllllllllllll}\n",
       "\tmass\\_RT & 70.012\\_0.234   & 70.013\\_2.191   & 70.065\\_0.36    & 70.065\\_0.264   & 72.081\\_0.24    & 72.081\\_0.36    & 72.081\\_2.59    & 72.081\\_0.233   & 73.532\\_0.256   & 73.532\\_2.17    & ⋯                & 1015.67\\_2.925  & 1017.686\\_2.968 & 1019.701\\_3.043 & 1027.616\\_2.55  & 1031.589\\_2.653 & 1031.589\\_5.748 & 1031.59\\_2.57   & 1031.59\\_3.036  & 1031.59\\_2.484  & 1039.671\\_2.894\\\\\n",
       "\tGIMap\\_P1\\_LI\\_Aq.Org\\_Mixed\\_A7.mzXML.Peak.area &          0     &          0     &          0     &          0     &          0     &  470000000     &   90700000     &          0     &          0     &          0     & ⋯              &          0     &   34300000     &          0     &          0     &          0     &          0     &          0     &          0     &          0     &          0    \\\\\n",
       "\tGIMap\\_P1\\_LI\\_Aq.Org\\_Mixed\\_B12.mzXML.Peak.area &          0     &          0     &          0     &          0     &          0     &  658000000     &   68400000     &          0     &          0     &          0     & ⋯              &          0     &          0     &          0     &          0     &          0     &          0     &          0     &          0     &          0     &          0    \\\\\n",
       "\tGIMap\\_P1\\_LI\\_Aq.Org\\_Mixed\\_B10.mzXML.Peak.area &          0     &          0     &          0     &          0     &          0     &  506000000     &  101000000     &          0     &          0     &          0     & ⋯              &          0     &   22100000     &          0     &          0     &          0     &          0     &          0     &          0     &          0     &          0    \\\\\n",
       "\tGIMap\\_P1\\_LI\\_Aq.Org\\_Mixed\\_A12.mzXML.Peak.area &           0    &           0    &           0    &           0    &           0    &   599000000    &    88800000    &           0    &           0    &           0    & ⋯              &           0    &    54800000    &           0    &           0    &           0    &           0    &           0    &           0    &           0    &           0   \\\\\n",
       "\tGIMap\\_P1\\_LI\\_Aq.Org\\_Mixed\\_B11.mzXML.Peak.area &           0    &           0    &           0    &           0    &           0    &   524000000    &    89900000    &           0    &           0    &           0    & ⋯              &     4006442    &    13500000    &           0    &           0    &           0    &           0    &           0    &           0    &           0    &           0   \\\\\n",
       "\\end{tabular}\n"
      ],
      "text/markdown": [
       "\n",
       "| mass_RT | 70.012_0.234   | 70.013_2.191   | 70.065_0.36    | 70.065_0.264   | 72.081_0.24    | 72.081_0.36    | 72.081_2.59    | 72.081_0.233   | 73.532_0.256   | 73.532_2.17    | ⋯              | 1015.67_2.925  | 1017.686_2.968 | 1019.701_3.043 | 1027.616_2.55  | 1031.589_2.653 | 1031.589_5.748 | 1031.59_2.57   | 1031.59_3.036  | 1031.59_2.484  | 1039.671_2.894 | \n",
       "| GIMap_P1_LI_Aq.Org_Mixed_A7.mzXML.Peak.area |          0     |          0     |          0     |          0     |          0     |  470000000     |   90700000     |          0     |          0     |          0     | ⋯              |          0     |   34300000     |          0     |          0     |          0     |          0     |          0     |          0     |          0     |          0     | \n",
       "| GIMap_P1_LI_Aq.Org_Mixed_B12.mzXML.Peak.area |          0     |          0     |          0     |          0     |          0     |  658000000     |   68400000     |          0     |          0     |          0     | ⋯              |          0     |          0     |          0     |          0     |          0     |          0     |          0     |          0     |          0     |          0     | \n",
       "| GIMap_P1_LI_Aq.Org_Mixed_B10.mzXML.Peak.area |          0     |          0     |          0     |          0     |          0     |  506000000     |  101000000     |          0     |          0     |          0     | ⋯              |          0     |   22100000     |          0     |          0     |          0     |          0     |          0     |          0     |          0     |          0     | \n",
       "| GIMap_P1_LI_Aq.Org_Mixed_A12.mzXML.Peak.area |           0    |           0    |           0    |           0    |           0    |   599000000    |    88800000    |           0    |           0    |           0    | ⋯              |           0    |    54800000    |           0    |           0    |           0    |           0    |           0    |           0    |           0    |           0    | \n",
       "| GIMap_P1_LI_Aq.Org_Mixed_B11.mzXML.Peak.area |           0    |           0    |           0    |           0    |           0    |   524000000    |    89900000    |           0    |           0    |           0    | ⋯              |     4006442    |    13500000    |           0    |           0    |           0    |           0    |           0    |           0    |           0    |           0    | \n",
       "\n",
       "\n"
      ],
      "text/plain": [
       "                                             [,1]         [,2]        \n",
       "mass_RT                                      70.012_0.234 70.013_2.191\n",
       "GIMap_P1_LI_Aq.Org_Mixed_A7.mzXML.Peak.area           0            0  \n",
       "GIMap_P1_LI_Aq.Org_Mixed_B12.mzXML.Peak.area          0            0  \n",
       "GIMap_P1_LI_Aq.Org_Mixed_B10.mzXML.Peak.area          0            0  \n",
       "GIMap_P1_LI_Aq.Org_Mixed_A12.mzXML.Peak.area           0            0 \n",
       "GIMap_P1_LI_Aq.Org_Mixed_B11.mzXML.Peak.area           0            0 \n",
       "                                             [,3]        [,4]        \n",
       "mass_RT                                      70.065_0.36 70.065_0.264\n",
       "GIMap_P1_LI_Aq.Org_Mixed_A7.mzXML.Peak.area           0           0  \n",
       "GIMap_P1_LI_Aq.Org_Mixed_B12.mzXML.Peak.area          0           0  \n",
       "GIMap_P1_LI_Aq.Org_Mixed_B10.mzXML.Peak.area          0           0  \n",
       "GIMap_P1_LI_Aq.Org_Mixed_A12.mzXML.Peak.area           0           0 \n",
       "GIMap_P1_LI_Aq.Org_Mixed_B11.mzXML.Peak.area           0           0 \n",
       "                                             [,5]        [,6]       \n",
       "mass_RT                                      72.081_0.24 72.081_0.36\n",
       "GIMap_P1_LI_Aq.Org_Mixed_A7.mzXML.Peak.area           0   470000000 \n",
       "GIMap_P1_LI_Aq.Org_Mixed_B12.mzXML.Peak.area          0   658000000 \n",
       "GIMap_P1_LI_Aq.Org_Mixed_B10.mzXML.Peak.area          0   506000000 \n",
       "GIMap_P1_LI_Aq.Org_Mixed_A12.mzXML.Peak.area           0   599000000\n",
       "GIMap_P1_LI_Aq.Org_Mixed_B11.mzXML.Peak.area           0   524000000\n",
       "                                             [,7]        [,8]        \n",
       "mass_RT                                      72.081_2.59 72.081_0.233\n",
       "GIMap_P1_LI_Aq.Org_Mixed_A7.mzXML.Peak.area    90700000           0  \n",
       "GIMap_P1_LI_Aq.Org_Mixed_B12.mzXML.Peak.area   68400000           0  \n",
       "GIMap_P1_LI_Aq.Org_Mixed_B10.mzXML.Peak.area  101000000           0  \n",
       "GIMap_P1_LI_Aq.Org_Mixed_A12.mzXML.Peak.area    88800000           0 \n",
       "GIMap_P1_LI_Aq.Org_Mixed_B11.mzXML.Peak.area    89900000           0 \n",
       "                                             [,9]         [,10]       [,11]\n",
       "mass_RT                                      73.532_0.256 73.532_2.17 ⋯    \n",
       "GIMap_P1_LI_Aq.Org_Mixed_A7.mzXML.Peak.area           0            0  ⋯    \n",
       "GIMap_P1_LI_Aq.Org_Mixed_B12.mzXML.Peak.area          0            0  ⋯    \n",
       "GIMap_P1_LI_Aq.Org_Mixed_B10.mzXML.Peak.area          0            0  ⋯    \n",
       "GIMap_P1_LI_Aq.Org_Mixed_A12.mzXML.Peak.area           0            0 ⋯    \n",
       "GIMap_P1_LI_Aq.Org_Mixed_B11.mzXML.Peak.area           0            0 ⋯    \n",
       "                                             [,12]         [,13]         \n",
       "mass_RT                                      1015.67_2.925 1017.686_2.968\n",
       "GIMap_P1_LI_Aq.Org_Mixed_A7.mzXML.Peak.area           0      34300000    \n",
       "GIMap_P1_LI_Aq.Org_Mixed_B12.mzXML.Peak.area          0             0    \n",
       "GIMap_P1_LI_Aq.Org_Mixed_B10.mzXML.Peak.area          0      22100000    \n",
       "GIMap_P1_LI_Aq.Org_Mixed_A12.mzXML.Peak.area           0      54800000   \n",
       "GIMap_P1_LI_Aq.Org_Mixed_B11.mzXML.Peak.area     4006442      13500000   \n",
       "                                             [,14]          [,15]        \n",
       "mass_RT                                      1019.701_3.043 1027.616_2.55\n",
       "GIMap_P1_LI_Aq.Org_Mixed_A7.mzXML.Peak.area           0              0   \n",
       "GIMap_P1_LI_Aq.Org_Mixed_B12.mzXML.Peak.area          0              0   \n",
       "GIMap_P1_LI_Aq.Org_Mixed_B10.mzXML.Peak.area          0              0   \n",
       "GIMap_P1_LI_Aq.Org_Mixed_A12.mzXML.Peak.area           0              0  \n",
       "GIMap_P1_LI_Aq.Org_Mixed_B11.mzXML.Peak.area           0              0  \n",
       "                                             [,16]          [,17]         \n",
       "mass_RT                                      1031.589_2.653 1031.589_5.748\n",
       "GIMap_P1_LI_Aq.Org_Mixed_A7.mzXML.Peak.area           0              0    \n",
       "GIMap_P1_LI_Aq.Org_Mixed_B12.mzXML.Peak.area          0              0    \n",
       "GIMap_P1_LI_Aq.Org_Mixed_B10.mzXML.Peak.area          0              0    \n",
       "GIMap_P1_LI_Aq.Org_Mixed_A12.mzXML.Peak.area           0              0   \n",
       "GIMap_P1_LI_Aq.Org_Mixed_B11.mzXML.Peak.area           0              0   \n",
       "                                             [,18]        [,19]        \n",
       "mass_RT                                      1031.59_2.57 1031.59_3.036\n",
       "GIMap_P1_LI_Aq.Org_Mixed_A7.mzXML.Peak.area           0            0   \n",
       "GIMap_P1_LI_Aq.Org_Mixed_B12.mzXML.Peak.area          0            0   \n",
       "GIMap_P1_LI_Aq.Org_Mixed_B10.mzXML.Peak.area          0            0   \n",
       "GIMap_P1_LI_Aq.Org_Mixed_A12.mzXML.Peak.area           0            0  \n",
       "GIMap_P1_LI_Aq.Org_Mixed_B11.mzXML.Peak.area           0            0  \n",
       "                                             [,20]         [,21]         \n",
       "mass_RT                                      1031.59_2.484 1039.671_2.894\n",
       "GIMap_P1_LI_Aq.Org_Mixed_A7.mzXML.Peak.area           0             0    \n",
       "GIMap_P1_LI_Aq.Org_Mixed_B12.mzXML.Peak.area          0             0    \n",
       "GIMap_P1_LI_Aq.Org_Mixed_B10.mzXML.Peak.area          0             0    \n",
       "GIMap_P1_LI_Aq.Org_Mixed_A12.mzXML.Peak.area           0             0   \n",
       "GIMap_P1_LI_Aq.Org_Mixed_B11.mzXML.Peak.area           0             0   "
      ]
     },
     "metadata": {},
     "output_type": "display_data"
    },
    {
     "data": {
      "text/html": [
       "<ol class=list-inline>\n",
       "\t<li>787</li>\n",
       "\t<li>6230</li>\n",
       "</ol>\n"
      ],
      "text/latex": [
       "\\begin{enumerate*}\n",
       "\\item 787\n",
       "\\item 6230\n",
       "\\end{enumerate*}\n"
      ],
      "text/markdown": [
       "1. 787\n",
       "2. 6230\n",
       "\n",
       "\n"
      ],
      "text/plain": [
       "[1]  787 6230"
      ]
     },
     "metadata": {},
     "output_type": "display_data"
    }
   ],
   "source": [
    "m<-t(gimap_pos_file)\n",
    "head(m)\n",
    "dim(m)"
   ]
  },
  {
   "cell_type": "code",
   "execution_count": 22,
   "metadata": {
    "collapsed": true
   },
   "outputs": [],
   "source": [
    "write.csv(m,\"GIMap_mzMined_curated_transposed.csv\")"
   ]
  },
  {
   "cell_type": "code",
   "execution_count": null,
   "metadata": {},
   "outputs": [],
   "source": [
    "#blank removal performed off-line"
   ]
  },
  {
   "cell_type": "code",
   "execution_count": 1,
   "metadata": {},
   "outputs": [
    {
     "data": {
      "text/html": [
       "<table>\n",
       "<thead><tr><th scope=col>mass_RT</th><th scope=col>X70.012_0.234</th><th scope=col>X70.013_2.191</th><th scope=col>X70.065_0.36</th><th scope=col>X70.065_0.264</th><th scope=col>X72.081_0.36</th><th scope=col>X72.081_2.59</th><th scope=col>X73.532_0.256</th><th scope=col>X73.532_2.17</th><th scope=col>X73.532_5.806</th><th scope=col>⋯</th><th scope=col>X1015.67_2.925</th><th scope=col>X1017.686_2.968</th><th scope=col>X1019.701_3.043</th><th scope=col>X1027.616_2.55</th><th scope=col>X1031.589_2.653</th><th scope=col>X1031.589_5.748</th><th scope=col>X1031.59_2.57</th><th scope=col>X1031.59_3.036</th><th scope=col>X1031.59_2.484</th><th scope=col>X1039.671_2.894</th></tr></thead>\n",
       "<tbody>\n",
       "\t<tr><td>GIMap_P1_LI_Aq.Org_Mixed_A7.mzXML.Peak.area </td><td>0                                           </td><td>0                                           </td><td>0                                           </td><td>0                                           </td><td>4.70e+08                                    </td><td>9.07e+07                                    </td><td>0                                           </td><td>0                                           </td><td>0                                           </td><td>⋯                                           </td><td>      0                                     </td><td>34300000                                    </td><td>0                                           </td><td>0                                           </td><td>0                                           </td><td>0                                           </td><td>0                                           </td><td>0                                           </td><td>0                                           </td><td>0                                           </td></tr>\n",
       "\t<tr><td>GIMap_P1_LI_Aq.Org_Mixed_B12.mzXML.Peak.area</td><td>0                                           </td><td>0                                           </td><td>0                                           </td><td>0                                           </td><td>6.58e+08                                    </td><td>6.84e+07                                    </td><td>0                                           </td><td>0                                           </td><td>0                                           </td><td>⋯                                           </td><td>      0                                     </td><td>       0                                    </td><td>0                                           </td><td>0                                           </td><td>0                                           </td><td>0                                           </td><td>0                                           </td><td>0                                           </td><td>0                                           </td><td>0                                           </td></tr>\n",
       "\t<tr><td>GIMap_P1_LI_Aq.Org_Mixed_B10.mzXML.Peak.area</td><td>0                                           </td><td>0                                           </td><td>0                                           </td><td>0                                           </td><td>5.06e+08                                    </td><td>1.01e+08                                    </td><td>0                                           </td><td>0                                           </td><td>0                                           </td><td>⋯                                           </td><td>      0                                     </td><td>22100000                                    </td><td>0                                           </td><td>0                                           </td><td>0                                           </td><td>0                                           </td><td>0                                           </td><td>0                                           </td><td>0                                           </td><td>0                                           </td></tr>\n",
       "\t<tr><td>GIMap_P1_LI_Aq.Org_Mixed_A12.mzXML.Peak.area</td><td>0                                           </td><td>0                                           </td><td>0                                           </td><td>0                                           </td><td>5.99e+08                                    </td><td>8.88e+07                                    </td><td>0                                           </td><td>0                                           </td><td>0                                           </td><td>⋯                                           </td><td>      0                                     </td><td>54800000                                    </td><td>0                                           </td><td>0                                           </td><td>0                                           </td><td>0                                           </td><td>0                                           </td><td>0                                           </td><td>0                                           </td><td>0                                           </td></tr>\n",
       "\t<tr><td>GIMap_P1_LI_Aq.Org_Mixed_B11.mzXML.Peak.area</td><td>0                                           </td><td>0                                           </td><td>0                                           </td><td>0                                           </td><td>5.24e+08                                    </td><td>8.99e+07                                    </td><td>0                                           </td><td>0                                           </td><td>0                                           </td><td>⋯                                           </td><td>4006442                                     </td><td>13500000                                    </td><td>0                                           </td><td>0                                           </td><td>0                                           </td><td>0                                           </td><td>0                                           </td><td>0                                           </td><td>0                                           </td><td>0                                           </td></tr>\n",
       "\t<tr><td>GIMap_P1_LI_Aq.Org_Mixed_B7.mzXML.Peak.area </td><td>0                                           </td><td>0                                           </td><td>0                                           </td><td>0                                           </td><td>5.58e+08                                    </td><td>8.19e+07                                    </td><td>0                                           </td><td>0                                           </td><td>0                                           </td><td>⋯                                           </td><td>      0                                     </td><td>       0                                    </td><td>0                                           </td><td>0                                           </td><td>0                                           </td><td>0                                           </td><td>0                                           </td><td>0                                           </td><td>0                                           </td><td>0                                           </td></tr>\n",
       "</tbody>\n",
       "</table>\n"
      ],
      "text/latex": [
       "\\begin{tabular}{r|lllllllllllllllllllllllllllllllllllllllllllllllllllllllllllllllllllllllllllllllllllllllllllllllllllllllllllllllllllllllllllllllllllllllllllllllllllllllllllllllllllllllllllllllllllllllllllllllllllllllllllllllllllllllllllllllllllllllllllllllllllllllllllllllllllllllllllllllllllllllllllllllllllllllllllllllllllllllllllllllllllllllllllllllllllllllllllllllllllllllllllllllllllllllllllllllllllllllllllllllllllllllllllllllllllllllllllllllllllllllllllllllllllllllllllllllllllllllllllllllllllllllllllllllllllllllllllllllllllllllllllllllllllllllllllllllllllllllllllllllllllllllllllllllllllllllllllllllllllllllllllllllllllllllllllllllllllllllllllllllllllllllllllllllllllllllllllllllllllllllllllllllllllllllllllllllllllllllllllllllllllllllllllllllllllllllllllllllllllllllllllllllllllllllllllllllllllllllllllllllllllllllllllllllllllllllllllllllllllllllllllllllllllllllllllllllllllllllllllllllllllllllllllllllllllllllllllllllllllllllllllllllllllllllllllllllllllllllllllllllllllllllllllllllllllllllllllllllllllllllllllllllllllllllllllllllllllllllllllllllllllllllllllllllllllllllllllllllllllllllllllllllllllllllllllllllllllllllllllllllllllllllllllllllllllllllllllllllllllllllllllllllllllllllllllllllllllllllllllllllllllllllllllllllllllllllllllllllllllllllllllllllllllllllllllllllllllllllllllllllllllllllllllllllllllllllllllllllllllllllllllllllllllllllllllllllllllllllllllllllllllllllllllllllllllllllllllllllllllllllllllllllllllllllllllllllllllllllllllllllllllllllllllllllllllllllllllllllllllllllllllllllllllllllllllllllllllllllllllllllllllllllllllllllllllllllllllllllllllllllllllllllllllllllllllllllllllllllllllllllllllllllllllllllllllllllllllllllllllllllllllllllllllllllllllllllllllllllllllllllllllllllllllllllllllllllllllllllllllllllllllllllllllllllllllllllllllllllllllllllllllllllllllllllllllllllllllllllllllllllllllllllllllllllllllllllllllllllllllllllllllllllllllllllllllllllllllllllllllllllllllllllllllllllllllllllllllllllllllllllllllllllllllllllllllllllllllllllllllllllllllllllllllllllllllllllllllllllllllllllllllllllllllllllllllllllllllllllllllllllllllllllllllllllllllllllllllllllllllllllllllllllllllllllllllllllllllllllllllllllllllllllllllllllllllllllllllllllllllllllllllllllllllllllllllllllllllllllllllllllllllllllllllllllllllllllllllllllllllllllllllllllllllllllllllllllllllllllllllllllllllllllllllllllllllllllllllllllllllllllllllllllllllllllllllllllllllllllllllllllllllllllllllllllllllllllllllllllllllllllllllllllllllllllllllllllllllllllllllllllllllllllllllllllllllllllllllllllllllllllllllllllllllllllllllllllllllllllllllllllllllllllllllllllllllllllllllllllllllllllllllllllllllllllllllllllllllllllllllllllllllllllllllllllllllllllllllllllllllllllllllllllllllllllllllllllllllllllllllllllllllllllllllllllllllllllllllllllllllllllllllllllllllllllllllllllllllllllllllllllllllllllllllllllllllllllllllllllllllllllllllllllllllllllllllllllllllllllllllllllllllllllllllllllllllllllllllllllllllllllllllllllllllllllllllllllllllllllllllllllllllllllllllllllllllllllllllllllllllllllllllllllllllllllllllllllllllllllllllllllllllllllllllllllllllllllllllllllllllllllllllllllllllllllllllllllllllllllllllllllllllllllllllllllllllllllllllllllllllllllllllllllllllllllllllllllllllllllllllllllllllllllllllllllllllllllllllllllllllllllllllllllllllllllllllllllllllllllllllllllllllllllllllllllllllllllllllllllllllllllllllllllllllllllllllllllllllllllllllllllllllllllllllllllllllllllllllllllllllllllllllllllllllllllllllllllllllllllllllllllllllllllllllllllllllllllllllllllllllllllllllllllllllllllllllllllllllllllllllllllllllllllllllllllllllllllllllllllllllllllllllllllllllllllllllllllllllllllllllllllllllllllllllllllllllllllllllllllllllllllllllllllllllllllllllllllllllllllllllllllllllllllllllllllllllllllllllllllllllllllllllllllllllllllllllllllllllllllllllllllllllllllllllllllllllllllllllllllllllllllllllllllllllllllllllllllllllllllllllllllllllllllllllllllllllllllllllllllllllllllllllllllllllllllllllllllllllllllllllllllllllllllllllllllllllllllllllllllllllllllllllllllllllllllllllllllllllllllllllllllllllllllllllllllllllllllllllllllllllllllllllllllllllllllllllllllllllllllllllllllllllllllllllllllllllllllllllllllllllllllllllllllllllllllllllllllllllllllllllllllllllllllllllllllllllllllllllllllllllllllllllllllllllllllllllllllllllllllllllllllllllllllllllllllllllllllllllllllllllllllllllllllllllllllllllllllllllllllllllllllllllllllllllllllllllllllllllllllllllllllllllllllllllllllllllllllllllllllllllllllllllllllllllllllllllllllllllllllllllllllllllllllllllllllllllllllllllllllllllllllllllllllllllllllllllllllllllllllllllllllllllllllllllllllllllllllllllllllllllllllllllllllllllllllllllllllllllllllllllllllllllllllllllllllllllllllllllllllllllllllllllllllllllllllllllllllllllllllllllllllllllllllllllllllllllllllllllllllllllllllllllllllllllllllllllllllllllllllllllllllllllllllllllllllllllllllllllllllllllllllllllllllllllllllllllllllllllllllllllllllllllllllllllllllllllllllllllllllllllllllllllllllllllllllllllllllllllllllllllllllllllllllllllllllllllllllllllllllllllllllllllllllllllllllllllllllllllllllllllllllllllllllllllllllllllllllllllllllllllllllllllllllllllllllllllllllllllllllllllllllllllllllllllllllllllllllllllllllllllllllllllllllllllllllllllllllllllllllllllllllllllllllllllllllllllllllllllllllllllllllllllllllllllllllllllllllllllllllllllllllllllllllllllllllllllllllllllllllllllllllllllllllllllllllllllllllllllllllllllllllllllllllllllllllllllllllllllllllllllllllllllllllllllllllllllllllllllllllllllllllllllllllllllllllllllllllllllllllllllllllllllllllllllllllllllllllllllllllllllllllllllllllllllllllllllllllllllllllllllllllllllllllllllllllllllllll}\n",
       " mass\\_RT & X70.012\\_0.234 & X70.013\\_2.191 & X70.065\\_0.36 & X70.065\\_0.264 & X72.081\\_0.36 & X72.081\\_2.59 & X73.532\\_0.256 & X73.532\\_2.17 & X73.532\\_5.806 & ⋯ & X1015.67\\_2.925 & X1017.686\\_2.968 & X1019.701\\_3.043 & X1027.616\\_2.55 & X1031.589\\_2.653 & X1031.589\\_5.748 & X1031.59\\_2.57 & X1031.59\\_3.036 & X1031.59\\_2.484 & X1039.671\\_2.894\\\\\n",
       "\\hline\n",
       "\t GIMap\\_P1\\_LI\\_Aq.Org\\_Mixed\\_A7.mzXML.Peak.area  & 0                                                      & 0                                                      & 0                                                      & 0                                                      & 4.70e+08                                               & 9.07e+07                                               & 0                                                      & 0                                                      & 0                                                      & ⋯                                                      &       0                                                & 34300000                                               & 0                                                      & 0                                                      & 0                                                      & 0                                                      & 0                                                      & 0                                                      & 0                                                      & 0                                                     \\\\\n",
       "\t GIMap\\_P1\\_LI\\_Aq.Org\\_Mixed\\_B12.mzXML.Peak.area & 0                                                      & 0                                                      & 0                                                      & 0                                                      & 6.58e+08                                               & 6.84e+07                                               & 0                                                      & 0                                                      & 0                                                      & ⋯                                                      &       0                                                &        0                                               & 0                                                      & 0                                                      & 0                                                      & 0                                                      & 0                                                      & 0                                                      & 0                                                      & 0                                                     \\\\\n",
       "\t GIMap\\_P1\\_LI\\_Aq.Org\\_Mixed\\_B10.mzXML.Peak.area & 0                                                      & 0                                                      & 0                                                      & 0                                                      & 5.06e+08                                               & 1.01e+08                                               & 0                                                      & 0                                                      & 0                                                      & ⋯                                                      &       0                                                & 22100000                                               & 0                                                      & 0                                                      & 0                                                      & 0                                                      & 0                                                      & 0                                                      & 0                                                      & 0                                                     \\\\\n",
       "\t GIMap\\_P1\\_LI\\_Aq.Org\\_Mixed\\_A12.mzXML.Peak.area & 0                                                      & 0                                                      & 0                                                      & 0                                                      & 5.99e+08                                               & 8.88e+07                                               & 0                                                      & 0                                                      & 0                                                      & ⋯                                                      &       0                                                & 54800000                                               & 0                                                      & 0                                                      & 0                                                      & 0                                                      & 0                                                      & 0                                                      & 0                                                      & 0                                                     \\\\\n",
       "\t GIMap\\_P1\\_LI\\_Aq.Org\\_Mixed\\_B11.mzXML.Peak.area & 0                                                      & 0                                                      & 0                                                      & 0                                                      & 5.24e+08                                               & 8.99e+07                                               & 0                                                      & 0                                                      & 0                                                      & ⋯                                                      & 4006442                                                & 13500000                                               & 0                                                      & 0                                                      & 0                                                      & 0                                                      & 0                                                      & 0                                                      & 0                                                      & 0                                                     \\\\\n",
       "\t GIMap\\_P1\\_LI\\_Aq.Org\\_Mixed\\_B7.mzXML.Peak.area  & 0                                                      & 0                                                      & 0                                                      & 0                                                      & 5.58e+08                                               & 8.19e+07                                               & 0                                                      & 0                                                      & 0                                                      & ⋯                                                      &       0                                                &        0                                               & 0                                                      & 0                                                      & 0                                                      & 0                                                      & 0                                                      & 0                                                      & 0                                                      & 0                                                     \\\\\n",
       "\\end{tabular}\n"
      ],
      "text/markdown": [
       "\n",
       "mass_RT | X70.012_0.234 | X70.013_2.191 | X70.065_0.36 | X70.065_0.264 | X72.081_0.36 | X72.081_2.59 | X73.532_0.256 | X73.532_2.17 | X73.532_5.806 | ⋯ | X1015.67_2.925 | X1017.686_2.968 | X1019.701_3.043 | X1027.616_2.55 | X1031.589_2.653 | X1031.589_5.748 | X1031.59_2.57 | X1031.59_3.036 | X1031.59_2.484 | X1039.671_2.894 | \n",
       "|---|---|---|---|---|---|\n",
       "| GIMap_P1_LI_Aq.Org_Mixed_A7.mzXML.Peak.area  | 0                                            | 0                                            | 0                                            | 0                                            | 4.70e+08                                     | 9.07e+07                                     | 0                                            | 0                                            | 0                                            | ⋯                                            |       0                                      | 34300000                                     | 0                                            | 0                                            | 0                                            | 0                                            | 0                                            | 0                                            | 0                                            | 0                                            | \n",
       "| GIMap_P1_LI_Aq.Org_Mixed_B12.mzXML.Peak.area | 0                                            | 0                                            | 0                                            | 0                                            | 6.58e+08                                     | 6.84e+07                                     | 0                                            | 0                                            | 0                                            | ⋯                                            |       0                                      |        0                                     | 0                                            | 0                                            | 0                                            | 0                                            | 0                                            | 0                                            | 0                                            | 0                                            | \n",
       "| GIMap_P1_LI_Aq.Org_Mixed_B10.mzXML.Peak.area | 0                                            | 0                                            | 0                                            | 0                                            | 5.06e+08                                     | 1.01e+08                                     | 0                                            | 0                                            | 0                                            | ⋯                                            |       0                                      | 22100000                                     | 0                                            | 0                                            | 0                                            | 0                                            | 0                                            | 0                                            | 0                                            | 0                                            | \n",
       "| GIMap_P1_LI_Aq.Org_Mixed_A12.mzXML.Peak.area | 0                                            | 0                                            | 0                                            | 0                                            | 5.99e+08                                     | 8.88e+07                                     | 0                                            | 0                                            | 0                                            | ⋯                                            |       0                                      | 54800000                                     | 0                                            | 0                                            | 0                                            | 0                                            | 0                                            | 0                                            | 0                                            | 0                                            | \n",
       "| GIMap_P1_LI_Aq.Org_Mixed_B11.mzXML.Peak.area | 0                                            | 0                                            | 0                                            | 0                                            | 5.24e+08                                     | 8.99e+07                                     | 0                                            | 0                                            | 0                                            | ⋯                                            | 4006442                                      | 13500000                                     | 0                                            | 0                                            | 0                                            | 0                                            | 0                                            | 0                                            | 0                                            | 0                                            | \n",
       "| GIMap_P1_LI_Aq.Org_Mixed_B7.mzXML.Peak.area  | 0                                            | 0                                            | 0                                            | 0                                            | 5.58e+08                                     | 8.19e+07                                     | 0                                            | 0                                            | 0                                            | ⋯                                            |       0                                      |        0                                     | 0                                            | 0                                            | 0                                            | 0                                            | 0                                            | 0                                            | 0                                            | 0                                            | \n",
       "\n",
       "\n"
      ],
      "text/plain": [
       "  mass_RT                                      X70.012_0.234 X70.013_2.191\n",
       "1 GIMap_P1_LI_Aq.Org_Mixed_A7.mzXML.Peak.area  0             0            \n",
       "2 GIMap_P1_LI_Aq.Org_Mixed_B12.mzXML.Peak.area 0             0            \n",
       "3 GIMap_P1_LI_Aq.Org_Mixed_B10.mzXML.Peak.area 0             0            \n",
       "4 GIMap_P1_LI_Aq.Org_Mixed_A12.mzXML.Peak.area 0             0            \n",
       "5 GIMap_P1_LI_Aq.Org_Mixed_B11.mzXML.Peak.area 0             0            \n",
       "6 GIMap_P1_LI_Aq.Org_Mixed_B7.mzXML.Peak.area  0             0            \n",
       "  X70.065_0.36 X70.065_0.264 X72.081_0.36 X72.081_2.59 X73.532_0.256\n",
       "1 0            0             4.70e+08     9.07e+07     0            \n",
       "2 0            0             6.58e+08     6.84e+07     0            \n",
       "3 0            0             5.06e+08     1.01e+08     0            \n",
       "4 0            0             5.99e+08     8.88e+07     0            \n",
       "5 0            0             5.24e+08     8.99e+07     0            \n",
       "6 0            0             5.58e+08     8.19e+07     0            \n",
       "  X73.532_2.17 X73.532_5.806 ⋯ X1015.67_2.925 X1017.686_2.968 X1019.701_3.043\n",
       "1 0            0             ⋯       0        34300000        0              \n",
       "2 0            0             ⋯       0               0        0              \n",
       "3 0            0             ⋯       0        22100000        0              \n",
       "4 0            0             ⋯       0        54800000        0              \n",
       "5 0            0             ⋯ 4006442        13500000        0              \n",
       "6 0            0             ⋯       0               0        0              \n",
       "  X1027.616_2.55 X1031.589_2.653 X1031.589_5.748 X1031.59_2.57 X1031.59_3.036\n",
       "1 0              0               0               0             0             \n",
       "2 0              0               0               0             0             \n",
       "3 0              0               0               0             0             \n",
       "4 0              0               0               0             0             \n",
       "5 0              0               0               0             0             \n",
       "6 0              0               0               0             0             \n",
       "  X1031.59_2.484 X1039.671_2.894\n",
       "1 0              0              \n",
       "2 0              0              \n",
       "3 0              0              \n",
       "4 0              0              \n",
       "5 0              0              \n",
       "6 0              0              "
      ]
     },
     "metadata": {},
     "output_type": "display_data"
    },
    {
     "data": {
      "text/html": [
       "<ol class=list-inline>\n",
       "\t<li>649</li>\n",
       "\t<li>5503</li>\n",
       "</ol>\n"
      ],
      "text/latex": [
       "\\begin{enumerate*}\n",
       "\\item 649\n",
       "\\item 5503\n",
       "\\end{enumerate*}\n"
      ],
      "text/markdown": [
       "1. 649\n",
       "2. 5503\n",
       "\n",
       "\n"
      ],
      "text/plain": [
       "[1]  649 5503"
      ]
     },
     "metadata": {},
     "output_type": "display_data"
    }
   ],
   "source": [
    "features_gimap_pos<-read.csv(\"GIMap_mzMined_curated_transposed_FilesRemoved_blankRemoved.csv\",h=T,sep=\",\",dec=\".\")\n",
    "head(features_gimap_pos)\n",
    "dim(features_gimap_pos)"
   ]
  },
  {
   "cell_type": "code",
   "execution_count": 2,
   "metadata": {},
   "outputs": [
    {
     "data": {
      "text/html": [
       "<table>\n",
       "<thead><tr><th scope=col>X70.012_0.234</th><th scope=col>X70.013_2.191</th><th scope=col>X70.065_0.36</th><th scope=col>X70.065_0.264</th><th scope=col>X72.081_0.36</th><th scope=col>X72.081_2.59</th><th scope=col>X73.532_0.256</th><th scope=col>X73.532_2.17</th><th scope=col>X73.532_5.806</th><th scope=col>X73.586_2.29</th><th scope=col>⋯</th><th scope=col>X1015.67_2.925</th><th scope=col>X1017.686_2.968</th><th scope=col>X1019.701_3.043</th><th scope=col>X1027.616_2.55</th><th scope=col>X1031.589_2.653</th><th scope=col>X1031.589_5.748</th><th scope=col>X1031.59_2.57</th><th scope=col>X1031.59_3.036</th><th scope=col>X1031.59_2.484</th><th scope=col>X1039.671_2.894</th></tr></thead>\n",
       "<tbody>\n",
       "\t<tr><td>0           </td><td>0           </td><td>0           </td><td>0           </td><td>0.004593476 </td><td>0.0008864432</td><td>0           </td><td>0           </td><td>0           </td><td>0           </td><td>⋯           </td><td>0.000000e+00</td><td>0.0003352260</td><td>0           </td><td>0           </td><td>0           </td><td>0           </td><td>0           </td><td>0           </td><td>0           </td><td>0           </td></tr>\n",
       "\t<tr><td>0           </td><td>0           </td><td>0           </td><td>0           </td><td>0.006405861 </td><td>0.0006658980</td><td>0           </td><td>0           </td><td>0           </td><td>0           </td><td>⋯           </td><td>0.000000e+00</td><td>0.0000000000</td><td>0           </td><td>0           </td><td>0           </td><td>0           </td><td>0           </td><td>0           </td><td>0           </td><td>0           </td></tr>\n",
       "\t<tr><td>0           </td><td>0           </td><td>0           </td><td>0           </td><td>0.004563437 </td><td>0.0009108836</td><td>0           </td><td>0           </td><td>0           </td><td>0           </td><td>⋯           </td><td>0.000000e+00</td><td>0.0001993122</td><td>0           </td><td>0           </td><td>0           </td><td>0           </td><td>0           </td><td>0           </td><td>0           </td><td>0           </td></tr>\n",
       "\t<tr><td>0           </td><td>0           </td><td>0           </td><td>0           </td><td>0.004459760 </td><td>0.0006611464</td><td>0           </td><td>0           </td><td>0           </td><td>0           </td><td>⋯           </td><td>0.000000e+00</td><td>0.0004080047</td><td>0           </td><td>0           </td><td>0           </td><td>0           </td><td>0           </td><td>0           </td><td>0           </td><td>0           </td></tr>\n",
       "\t<tr><td>0           </td><td>0           </td><td>0           </td><td>0           </td><td>0.004910159 </td><td>0.0008424109</td><td>0           </td><td>0           </td><td>0           </td><td>0           </td><td>⋯           </td><td>3.754249e-05</td><td>0.0001265022</td><td>0           </td><td>0           </td><td>0           </td><td>0           </td><td>0           </td><td>0           </td><td>0           </td><td>0           </td></tr>\n",
       "\t<tr><td>0           </td><td>0           </td><td>0           </td><td>0           </td><td>0.006246340 </td><td>0.0009168015</td><td>0           </td><td>0           </td><td>0           </td><td>0           </td><td>⋯           </td><td>0.000000e+00</td><td>0.0000000000</td><td>0           </td><td>0           </td><td>0           </td><td>0           </td><td>0           </td><td>0           </td><td>0           </td><td>0           </td></tr>\n",
       "</tbody>\n",
       "</table>\n"
      ],
      "text/latex": [
       "\\begin{tabular}{llllllllllllllllllllllllllllllllllllllllllllllllllllllllllllllllllllllllllllllllllllllllllllllllllllllllllllllllllllllllllllllllllllllllllllllllllllllllllllllllllllllllllllllllllllllllllllllllllllllllllllllllllllllllllllllllllllllllllllllllllllllllllllllllllllllllllllllllllllllllllllllllllllllllllllllllllllllllllllllllllllllllllllllllllllllllllllllllllllllllllllllllllllllllllllllllllllllllllllllllllllllllllllllllllllllllllllllllllllllllllllllllllllllllllllllllllllllllllllllllllllllllllllllllllllllllllllllllllllllllllllllllllllllllllllllllllllllllllllllllllllllllllllllllllllllllllllllllllllllllllllllllllllllllllllllllllllllllllllllllllllllllllllllllllllllllllllllllllllllllllllllllllllllllllllllllllllllllllllllllllllllllllllllllllllllllllllllllllllllllllllllllllllllllllllllllllllllllllllllllllllllllllllllllllllllllllllllllllllllllllllllllllllllllllllllllllllllllllllllllllllllllllllllllllllllllllllllllllllllllllllllllllllllllllllllllllllllllllllllllllllllllllllllllllllllllllllllllllllllllllllllllllllllllllllllllllllllllllllllllllllllllllllllllllllllllllllllllllllllllllllllllllllllllllllllllllllllllllllllllllllllllllllllllllllllllllllllllllllllllllllllllllllllllllllllllllllllllllllllllllllllllllllllllllllllllllllllllllllllllllllllllllllllllllllllllllllllllllllllllllllllllllllllllllllllllllllllllllllllllllllllllllllllllllllllllllllllllllllllllllllllllllllllllllllllllllllllllllllllllllllllllllllllllllllllllllllllllllllllllllllllllllllllllllllllllllllllllllllllllllllllllllllllllllllllllllllllllllllllllllllllllllllllllllllllllllllllllllllllllllllllllllllllllllllllllllllllllllllllllllllllllllllllllllllllllllllllllllllllllllllllllllllllllllllllllllllllllllllllllllllllllllllllllllllllllllllllllllllllllllllllllllllllllllllllllllllllllllllllllllllllllllllllllllllllllllllllllllllllllllllllllllllllllllllllllllllllllllllllllllllllllllllllllllllllllllllllllllllllllllllllllllllllllllllllllllllllllllllllllllllllllllllllllllllllllllllllllllllllllllllllllllllllllllllllllllllllllllllllllllllllllllllllllllllllllllllllllllllllllllllllllllllllllllllllllllllllllllllllllllllllllllllllllllllllllllllllllllllllllllllllllllllllllllllllllllllllllllllllllllllllllllllllllllllllllllllllllllllllllllllllllllllllllllllllllllllllllllllllllllllllllllllllllllllllllllllllllllllllllllllllllllllllllllllllllllllllllllllllllllllllllllllllllllllllllllllllllllllllllllllllllllllllllllllllllllllllllllllllllllllllllllllllllllllllllllllllllllllllllllllllllllllllllllllllllllllllllllllllllllllllllllllllllllllllllllllllllllllllllllllllllllllllllllllllllllllllllllllllllllllllllllllllllllllllllllllllllllllllllllllllllllllllllllllllllllllllllllllllllllllllllllllllllllllllllllllllllllllllllllllllllllllllllllllllllllllllllllllllllllllllllllllllllllllllllllllllllllllllllllllllllllllllllllllllllllllllllllllllllllllllllllllllllllllllllllllllllllllllllllllllllllllllllllllllllllllllllllllllllllllllllllllllllllllllllllllllllllllllllllllllllllllllllllllllllllllllllllllllllllllllllllllllllllllllllllllllllllllllllllllllllllllllllllllllllllllllllllllllllllllllllllllllllllllllllllllllllllllllllllllllllllllllllllllllllllllllllllllllllllllllllllllllllllllllllllllllllllllllllllllllllllllllllllllllllllllllllllllllllllllllllllllllllllllllllllllllllllllllllllllllllllllllllllllllllllllllllllllllllllllllllllllllllllllllllllllllllllllllllllllllllllllllllllllllllllllllllllllllllllllllllllllllllllllllllllllllllllllllllllllllllllllllllllllllllllllllllllllllllllllllllllllllllllllllllllllllllllllllllllllllllllllllllllllllllllllllllllllllllllllllllllllllllllllllllllllllllllllllllllllllllllllllllllllllllllllllllllllllllllllllllllllllllllllllllllllllllllllllllllllllllllllllllllllllllllllllllllllllllllllllllllllllllllllllllllllllllllllllllllllllllllllllllllllllllllllllllllllllllllllllllllllllllllllllllllllllllllllllllllllllllllllllllllllllllllllllllllllllllllllllllllllllllllllllllllllllllllllllllllllllllllllllllllllllllllllllllllllllllllllllllllllllllllllllllllllllllllllllllllllllllllllllllllllllllllllllllllllllllllllllllllllllllllllllllllllllllllllllllllllllllllllllllllllllllllllllllllllllllllllllllllllllllllllllllllllllllllllllllllllllllllllllllllllllllllllllllllllllllllllllllllllllllllllllllllllllllllllllllllllllllllllllllllllllllllllllllllllllllllllllllllllllllllllllllllllllllllllllllllllllllllllllllllllllllllllllllllllllllllllllllllllllllllllllllllllllllllllllllllllllllllllllllllllllllllllllllllllllllllllllllllllllllllllllllllllllllllllllllllllllllllllllllllllllllllllllllllllllllllllllllllllllllllllllllllllllllllllllllllllllllllllllllllllllllllllllllllllllllllllllllllllllllllllllllllllllllllllllllllllllllllllllllllllllllllllllllllllllllllllllllllllllllllllllllllllllllllllllllllllllllllllllllllllllllllllllllllllllllllllllllllllllllllllllllllllllllllllllllllllllllllllllllllllllllllllllllllllllllllllllllllllllllllllllllllllllllllllllllllllllllllllllllllllllllllllllllllllllllllllllllllllllllllllllllllllllllllllllllllllllllllllllllllllllllllllllllllllllllllllllllllllllllllllllllllllllllllllllllllllllllllllllllllllllllllllllllllllllllllllllllllllllllllllllllllllllllllllllllllllllllllllllllllllllllllllllllllllllllllllllllllllllllllllllllllllllllllllllllllllllllllllllllllllllllllllllllllllllllllllllllllllllllllllllllllllllllllllllllllllllllllllllllllllllllllllllllllllllllllllllllllllllllllllllllllllllllllllllllllllllllllllllllllllllllllllllllllllllllllllllllllllllllllllllllllllllllllllllllllllllllllllllllllllllllllllllllllllllllllllllllllllllllllllllllllllllllllllllllllllllllllllllllllllll}\n",
       " X70.012\\_0.234 & X70.013\\_2.191 & X70.065\\_0.36 & X70.065\\_0.264 & X72.081\\_0.36 & X72.081\\_2.59 & X73.532\\_0.256 & X73.532\\_2.17 & X73.532\\_5.806 & X73.586\\_2.29 & ⋯ & X1015.67\\_2.925 & X1017.686\\_2.968 & X1019.701\\_3.043 & X1027.616\\_2.55 & X1031.589\\_2.653 & X1031.589\\_5.748 & X1031.59\\_2.57 & X1031.59\\_3.036 & X1031.59\\_2.484 & X1039.671\\_2.894\\\\\n",
       "\\hline\n",
       "\t 0            & 0            & 0            & 0            & 0.004593476  & 0.0008864432 & 0            & 0            & 0            & 0            & ⋯            & 0.000000e+00 & 0.0003352260 & 0            & 0            & 0            & 0            & 0            & 0            & 0            & 0           \\\\\n",
       "\t 0            & 0            & 0            & 0            & 0.006405861  & 0.0006658980 & 0            & 0            & 0            & 0            & ⋯            & 0.000000e+00 & 0.0000000000 & 0            & 0            & 0            & 0            & 0            & 0            & 0            & 0           \\\\\n",
       "\t 0            & 0            & 0            & 0            & 0.004563437  & 0.0009108836 & 0            & 0            & 0            & 0            & ⋯            & 0.000000e+00 & 0.0001993122 & 0            & 0            & 0            & 0            & 0            & 0            & 0            & 0           \\\\\n",
       "\t 0            & 0            & 0            & 0            & 0.004459760  & 0.0006611464 & 0            & 0            & 0            & 0            & ⋯            & 0.000000e+00 & 0.0004080047 & 0            & 0            & 0            & 0            & 0            & 0            & 0            & 0           \\\\\n",
       "\t 0            & 0            & 0            & 0            & 0.004910159  & 0.0008424109 & 0            & 0            & 0            & 0            & ⋯            & 3.754249e-05 & 0.0001265022 & 0            & 0            & 0            & 0            & 0            & 0            & 0            & 0           \\\\\n",
       "\t 0            & 0            & 0            & 0            & 0.006246340  & 0.0009168015 & 0            & 0            & 0            & 0            & ⋯            & 0.000000e+00 & 0.0000000000 & 0            & 0            & 0            & 0            & 0            & 0            & 0            & 0           \\\\\n",
       "\\end{tabular}\n"
      ],
      "text/markdown": [
       "\n",
       "X70.012_0.234 | X70.013_2.191 | X70.065_0.36 | X70.065_0.264 | X72.081_0.36 | X72.081_2.59 | X73.532_0.256 | X73.532_2.17 | X73.532_5.806 | X73.586_2.29 | ⋯ | X1015.67_2.925 | X1017.686_2.968 | X1019.701_3.043 | X1027.616_2.55 | X1031.589_2.653 | X1031.589_5.748 | X1031.59_2.57 | X1031.59_3.036 | X1031.59_2.484 | X1039.671_2.894 | \n",
       "|---|---|---|---|---|---|\n",
       "| 0            | 0            | 0            | 0            | 0.004593476  | 0.0008864432 | 0            | 0            | 0            | 0            | ⋯            | 0.000000e+00 | 0.0003352260 | 0            | 0            | 0            | 0            | 0            | 0            | 0            | 0            | \n",
       "| 0            | 0            | 0            | 0            | 0.006405861  | 0.0006658980 | 0            | 0            | 0            | 0            | ⋯            | 0.000000e+00 | 0.0000000000 | 0            | 0            | 0            | 0            | 0            | 0            | 0            | 0            | \n",
       "| 0            | 0            | 0            | 0            | 0.004563437  | 0.0009108836 | 0            | 0            | 0            | 0            | ⋯            | 0.000000e+00 | 0.0001993122 | 0            | 0            | 0            | 0            | 0            | 0            | 0            | 0            | \n",
       "| 0            | 0            | 0            | 0            | 0.004459760  | 0.0006611464 | 0            | 0            | 0            | 0            | ⋯            | 0.000000e+00 | 0.0004080047 | 0            | 0            | 0            | 0            | 0            | 0            | 0            | 0            | \n",
       "| 0            | 0            | 0            | 0            | 0.004910159  | 0.0008424109 | 0            | 0            | 0            | 0            | ⋯            | 3.754249e-05 | 0.0001265022 | 0            | 0            | 0            | 0            | 0            | 0            | 0            | 0            | \n",
       "| 0            | 0            | 0            | 0            | 0.006246340  | 0.0009168015 | 0            | 0            | 0            | 0            | ⋯            | 0.000000e+00 | 0.0000000000 | 0            | 0            | 0            | 0            | 0            | 0            | 0            | 0            | \n",
       "\n",
       "\n"
      ],
      "text/plain": [
       "     X70.012_0.234 X70.013_2.191 X70.065_0.36 X70.065_0.264 X72.081_0.36\n",
       "[1,] 0             0             0            0             0.004593476 \n",
       "[2,] 0             0             0            0             0.006405861 \n",
       "[3,] 0             0             0            0             0.004563437 \n",
       "[4,] 0             0             0            0             0.004459760 \n",
       "[5,] 0             0             0            0             0.004910159 \n",
       "[6,] 0             0             0            0             0.006246340 \n",
       "     X72.081_2.59 X73.532_0.256 X73.532_2.17 X73.532_5.806 X73.586_2.29 ⋯\n",
       "[1,] 0.0008864432 0             0            0             0            ⋯\n",
       "[2,] 0.0006658980 0             0            0             0            ⋯\n",
       "[3,] 0.0009108836 0             0            0             0            ⋯\n",
       "[4,] 0.0006611464 0             0            0             0            ⋯\n",
       "[5,] 0.0008424109 0             0            0             0            ⋯\n",
       "[6,] 0.0009168015 0             0            0             0            ⋯\n",
       "     X1015.67_2.925 X1017.686_2.968 X1019.701_3.043 X1027.616_2.55\n",
       "[1,] 0.000000e+00   0.0003352260    0               0             \n",
       "[2,] 0.000000e+00   0.0000000000    0               0             \n",
       "[3,] 0.000000e+00   0.0001993122    0               0             \n",
       "[4,] 0.000000e+00   0.0004080047    0               0             \n",
       "[5,] 3.754249e-05   0.0001265022    0               0             \n",
       "[6,] 0.000000e+00   0.0000000000    0               0             \n",
       "     X1031.589_2.653 X1031.589_5.748 X1031.59_2.57 X1031.59_3.036\n",
       "[1,] 0               0               0             0             \n",
       "[2,] 0               0               0             0             \n",
       "[3,] 0               0               0             0             \n",
       "[4,] 0               0               0             0             \n",
       "[5,] 0               0               0             0             \n",
       "[6,] 0               0               0             0             \n",
       "     X1031.59_2.484 X1039.671_2.894\n",
       "[1,] 0              0              \n",
       "[2,] 0              0              \n",
       "[3,] 0              0              \n",
       "[4,] 0              0              \n",
       "[5,] 0              0              \n",
       "[6,] 0              0              "
      ]
     },
     "metadata": {},
     "output_type": "display_data"
    },
    {
     "data": {
      "text/html": [
       "<ol class=list-inline>\n",
       "\t<li>649</li>\n",
       "\t<li>5502</li>\n",
       "</ol>\n"
      ],
      "text/latex": [
       "\\begin{enumerate*}\n",
       "\\item 649\n",
       "\\item 5502\n",
       "\\end{enumerate*}\n"
      ],
      "text/markdown": [
       "1. 649\n",
       "2. 5502\n",
       "\n",
       "\n"
      ],
      "text/plain": [
       "[1]  649 5502"
      ]
     },
     "metadata": {},
     "output_type": "display_data"
    }
   ],
   "source": [
    "matrix.norm<-t(apply(features_gimap_pos[,2:5503],1,function(x) x/sum(x)))\n",
    "head(matrix.norm)\n",
    "dim(matrix.norm)"
   ]
  },
  {
   "cell_type": "code",
   "execution_count": 3,
   "metadata": {},
   "outputs": [
    {
     "data": {
      "text/html": [
       "<table>\n",
       "<thead><tr><th scope=col>Sample.name</th><th scope=col>X70.012_0.234</th><th scope=col>X70.013_2.191</th><th scope=col>X70.065_0.36</th><th scope=col>X70.065_0.264</th><th scope=col>X72.081_0.36</th><th scope=col>X72.081_2.59</th><th scope=col>X73.532_0.256</th><th scope=col>X73.532_2.17</th><th scope=col>X73.532_5.806</th><th scope=col>⋯</th><th scope=col>X1015.67_2.925</th><th scope=col>X1017.686_2.968</th><th scope=col>X1019.701_3.043</th><th scope=col>X1027.616_2.55</th><th scope=col>X1031.589_2.653</th><th scope=col>X1031.589_5.748</th><th scope=col>X1031.59_2.57</th><th scope=col>X1031.59_3.036</th><th scope=col>X1031.59_2.484</th><th scope=col>X1039.671_2.894</th></tr></thead>\n",
       "<tbody>\n",
       "\t<tr><td>GIMap_P1_LI_Aq.Org_Mixed_A7.mzXML.Peak.area </td><td>0                                           </td><td>0                                           </td><td>0                                           </td><td>0                                           </td><td>0.004593476                                 </td><td>0.0008864432                                </td><td>0                                           </td><td>0                                           </td><td>0                                           </td><td>⋯                                           </td><td>0.000000e+00                                </td><td>0.0003352260                                </td><td>0                                           </td><td>0                                           </td><td>0                                           </td><td>0                                           </td><td>0                                           </td><td>0                                           </td><td>0                                           </td><td>0                                           </td></tr>\n",
       "\t<tr><td>GIMap_P1_LI_Aq.Org_Mixed_B12.mzXML.Peak.area</td><td>0                                           </td><td>0                                           </td><td>0                                           </td><td>0                                           </td><td>0.006405861                                 </td><td>0.0006658980                                </td><td>0                                           </td><td>0                                           </td><td>0                                           </td><td>⋯                                           </td><td>0.000000e+00                                </td><td>0.0000000000                                </td><td>0                                           </td><td>0                                           </td><td>0                                           </td><td>0                                           </td><td>0                                           </td><td>0                                           </td><td>0                                           </td><td>0                                           </td></tr>\n",
       "\t<tr><td>GIMap_P1_LI_Aq.Org_Mixed_B10.mzXML.Peak.area</td><td>0                                           </td><td>0                                           </td><td>0                                           </td><td>0                                           </td><td>0.004563437                                 </td><td>0.0009108836                                </td><td>0                                           </td><td>0                                           </td><td>0                                           </td><td>⋯                                           </td><td>0.000000e+00                                </td><td>0.0001993122                                </td><td>0                                           </td><td>0                                           </td><td>0                                           </td><td>0                                           </td><td>0                                           </td><td>0                                           </td><td>0                                           </td><td>0                                           </td></tr>\n",
       "\t<tr><td>GIMap_P1_LI_Aq.Org_Mixed_A12.mzXML.Peak.area</td><td>0                                           </td><td>0                                           </td><td>0                                           </td><td>0                                           </td><td>0.004459760                                 </td><td>0.0006611464                                </td><td>0                                           </td><td>0                                           </td><td>0                                           </td><td>⋯                                           </td><td>0.000000e+00                                </td><td>0.0004080047                                </td><td>0                                           </td><td>0                                           </td><td>0                                           </td><td>0                                           </td><td>0                                           </td><td>0                                           </td><td>0                                           </td><td>0                                           </td></tr>\n",
       "\t<tr><td>GIMap_P1_LI_Aq.Org_Mixed_B11.mzXML.Peak.area</td><td>0                                           </td><td>0                                           </td><td>0                                           </td><td>0                                           </td><td>0.004910159                                 </td><td>0.0008424109                                </td><td>0                                           </td><td>0                                           </td><td>0                                           </td><td>⋯                                           </td><td>3.754249e-05                                </td><td>0.0001265022                                </td><td>0                                           </td><td>0                                           </td><td>0                                           </td><td>0                                           </td><td>0                                           </td><td>0                                           </td><td>0                                           </td><td>0                                           </td></tr>\n",
       "\t<tr><td>GIMap_P1_LI_Aq.Org_Mixed_B7.mzXML.Peak.area </td><td>0                                           </td><td>0                                           </td><td>0                                           </td><td>0                                           </td><td>0.006246340                                 </td><td>0.0009168015                                </td><td>0                                           </td><td>0                                           </td><td>0                                           </td><td>⋯                                           </td><td>0.000000e+00                                </td><td>0.0000000000                                </td><td>0                                           </td><td>0                                           </td><td>0                                           </td><td>0                                           </td><td>0                                           </td><td>0                                           </td><td>0                                           </td><td>0                                           </td></tr>\n",
       "</tbody>\n",
       "</table>\n"
      ],
      "text/latex": [
       "\\begin{tabular}{r|lllllllllllllllllllllllllllllllllllllllllllllllllllllllllllllllllllllllllllllllllllllllllllllllllllllllllllllllllllllllllllllllllllllllllllllllllllllllllllllllllllllllllllllllllllllllllllllllllllllllllllllllllllllllllllllllllllllllllllllllllllllllllllllllllllllllllllllllllllllllllllllllllllllllllllllllllllllllllllllllllllllllllllllllllllllllllllllllllllllllllllllllllllllllllllllllllllllllllllllllllllllllllllllllllllllllllllllllllllllllllllllllllllllllllllllllllllllllllllllllllllllllllllllllllllllllllllllllllllllllllllllllllllllllllllllllllllllllllllllllllllllllllllllllllllllllllllllllllllllllllllllllllllllllllllllllllllllllllllllllllllllllllllllllllllllllllllllllllllllllllllllllllllllllllllllllllllllllllllllllllllllllllllllllllllllllllllllllllllllllllllllllllllllllllllllllllllllllllllllllllllllllllllllllllllllllllllllllllllllllllllllllllllllllllllllllllllllllllllllllllllllllllllllllllllllllllllllllllllllllllllllllllllllllllllllllllllllllllllllllllllllllllllllllllllllllllllllllllllllllllllllllllllllllllllllllllllllllllllllllllllllllllllllllllllllllllllllllllllllllllllllllllllllllllllllllllllllllllllllllllllllllllllllllllllllllllllllllllllllllllllllllllllllllllllllllllllllllllllllllllllllllllllllllllllllllllllllllllllllllllllllllllllllllllllllllllllllllllllllllllllllllllllllllllllllllllllllllllllllllllllllllllllllllllllllllllllllllllllllllllllllllllllllllllllllllllllllllllllllllllllllllllllllllllllllllllllllllllllllllllllllllllllllllllllllllllllllllllllllllllllllllllllllllllllllllllllllllllllllllllllllllllllllllllllllllllllllllllllllllllllllllllllllllllllllllllllllllllllllllllllllllllllllllllllllllllllllllllllllllllllllllllllllllllllllllllllllllllllllllllllllllllllllllllllllllllllllllllllllllllllllllllllllllllllllllllllllllllllllllllllllllllllllllllllllllllllllllllllllllllllllllllllllllllllllllllllllllllllllllllllllllllllllllllllllllllllllllllllllllllllllllllllllllllllllllllllllllllllllllllllllllllllllllllllllllllllllllllllllllllllllllllllllllllllllllllllllllllllllllllllllllllllllllllllllllllllllllllllllllllllllllllllllllllllllllllllllllllllllllllllllllllllllllllllllllllllllllllllllllllllllllllllllllllllllllllllllllllllllllllllllllllllllllllllllllllllllllllllllllllllllllllllllllllllllllllllllllllllllllllllllllllllllllllllllllllllllllllllllllllllllllllllllllllllllllllllllllllllllllllllllllllllllllllllllllllllllllllllllllllllllllllllllllllllllllllllllllllllllllllllllllllllllllllllllllllllllllllllllllllllllllllllllllllllllllllllllllllllllllllllllllllllllllllllllllllllllllllllllllllllllllllllllllllllllllllllllllllllllllllllllllllllllllllllllllllllllllllllllllllllllllllllllllllllllllllllllllllllllllllllllllllllllllllllllllllllllllllllllllllllllllllllllllllllllllllllllllllllllllllllllllllllllllllllllllllllllllllllllllllllllllllllllllllllllllllllllllllllllllllllllllllllllllllllllllllllllllllllllllllllllllllllllllllllllllllllllllllllllllllllllllllllllllllllllllllllllllllllllllllllllllllllllllllllllllllllllllllllllllllllllllllllllllllllllllllllllllllllllllllllllllllllllllllllllllllllllllllllllllllllllllllllllllllllllllllllllllllllllllllllllllllllllllllllllllllllllllllllllllllllllllllllllllllllllllllllllllllllllllllllllllllllllllllllllllllllllllllllllllllllllllllllllllllllllllllllllllllllllllllllllllllllllllllllllllllllllllllllllllllllllllllllllllllllllllllllllllllllllllllllllllllllllllllllllllllllllllllllllllllllllllllllllllllllllllllllllllllllllllllllllllllllllllllllllllllllllllllllllllllllllllllllllllllllllllllllllllllllllllllllllllllllllllllllllllllllllllllllllllllllllllllllllllllllllllllllllllllllllllllllllllllllllllllllllllllllllllllllllllllllllllllllllllllllllllllllllllllllllllllllllllllllllllllllllllllllllllllllllllllllllllllllllllllllllllllllllllllllllllllllllllllllllllllllllllllllllllllllllllllllllllllllllllllllllllllllllllllllllllllllllllllllllllllllllllllllllllllllllllllllllllllllllllllllllllllllllllllllllllllllllllllllllllllllllllllllllllllllllllllllllllllllllllllllllllllllllllllllllllllllllllllllllllllllllllllllllllllllllllllllllllllllllllllllllllllllllllllllllllllllllllllllllllllllllllllllllllllllllllllllllllllllllllllllllllllllllllllllllllllllllllllllllllllllllllllllllllllllllllllllllllllllllllllllllllllllllllllllllllllllllllllllllllllllllllllllllllllllllllllllllllllllllllllllllllllllllllllllllllllllllllllllllllllllllllllllllllllllllllllllllllllllllllllllllllllllllllllllllllllllllllllllllllllllllllllllllllllllllllllllllllllllllllllllllllllllllllllllllllllllllllllllllllllllllllllllllllllllllllllllllllllllllllllllllllllllllllllllllllllllllllllllllllllllllllllllllllllllllllllllllllllllllllllllllllllllllllllllllllllllllllllllllllllllllllllllllllllllllllllllllllllllllllllllllllllllllllllllllllllllllllllllllllllllllllllllllllllllllllllllllllllllllllllllllllllllllllllllllllllllllllllllllllllllllllllllllllllllllllllllllllllllllllllllllllllllllllllllllllllllllllllllllllllllllllllllllllllllllllllllllllllllllllllllllllllllllllllllllllllllllllllllllllllllllllllllllllllllllllllllllllllllllllllllllllllllllllllllllllllllllllllllllllllllllllllllllllllllllllllllllllllllllllllllllllllllllllllllllllllllllllllllllllllllllllllllllllllllllllllllllllllllllllllllllllllllllllllllllllllllllllllllllllllllllllllllllllllllllllllllllllllllllllllllllllllllllllllllllllllllllllllllllllllllllllllllllllllllllllllllllllllllllllllllllllllllllllllllllllllllllllllllllllllllllllllllllllllllllllllllllllllllllllllllllllllllllllllllllllllllllllllllllllllllllllllllllllllllllllllllllllllllllllllllllllllllllllllllllllllllllllllllllllllllllll}\n",
       " Sample.name & X70.012\\_0.234 & X70.013\\_2.191 & X70.065\\_0.36 & X70.065\\_0.264 & X72.081\\_0.36 & X72.081\\_2.59 & X73.532\\_0.256 & X73.532\\_2.17 & X73.532\\_5.806 & ⋯ & X1015.67\\_2.925 & X1017.686\\_2.968 & X1019.701\\_3.043 & X1027.616\\_2.55 & X1031.589\\_2.653 & X1031.589\\_5.748 & X1031.59\\_2.57 & X1031.59\\_3.036 & X1031.59\\_2.484 & X1039.671\\_2.894\\\\\n",
       "\\hline\n",
       "\t GIMap\\_P1\\_LI\\_Aq.Org\\_Mixed\\_A7.mzXML.Peak.area  & 0                                                      & 0                                                      & 0                                                      & 0                                                      & 0.004593476                                            & 0.0008864432                                           & 0                                                      & 0                                                      & 0                                                      & ⋯                                                      & 0.000000e+00                                           & 0.0003352260                                           & 0                                                      & 0                                                      & 0                                                      & 0                                                      & 0                                                      & 0                                                      & 0                                                      & 0                                                     \\\\\n",
       "\t GIMap\\_P1\\_LI\\_Aq.Org\\_Mixed\\_B12.mzXML.Peak.area & 0                                                      & 0                                                      & 0                                                      & 0                                                      & 0.006405861                                            & 0.0006658980                                           & 0                                                      & 0                                                      & 0                                                      & ⋯                                                      & 0.000000e+00                                           & 0.0000000000                                           & 0                                                      & 0                                                      & 0                                                      & 0                                                      & 0                                                      & 0                                                      & 0                                                      & 0                                                     \\\\\n",
       "\t GIMap\\_P1\\_LI\\_Aq.Org\\_Mixed\\_B10.mzXML.Peak.area & 0                                                      & 0                                                      & 0                                                      & 0                                                      & 0.004563437                                            & 0.0009108836                                           & 0                                                      & 0                                                      & 0                                                      & ⋯                                                      & 0.000000e+00                                           & 0.0001993122                                           & 0                                                      & 0                                                      & 0                                                      & 0                                                      & 0                                                      & 0                                                      & 0                                                      & 0                                                     \\\\\n",
       "\t GIMap\\_P1\\_LI\\_Aq.Org\\_Mixed\\_A12.mzXML.Peak.area & 0                                                      & 0                                                      & 0                                                      & 0                                                      & 0.004459760                                            & 0.0006611464                                           & 0                                                      & 0                                                      & 0                                                      & ⋯                                                      & 0.000000e+00                                           & 0.0004080047                                           & 0                                                      & 0                                                      & 0                                                      & 0                                                      & 0                                                      & 0                                                      & 0                                                      & 0                                                     \\\\\n",
       "\t GIMap\\_P1\\_LI\\_Aq.Org\\_Mixed\\_B11.mzXML.Peak.area & 0                                                      & 0                                                      & 0                                                      & 0                                                      & 0.004910159                                            & 0.0008424109                                           & 0                                                      & 0                                                      & 0                                                      & ⋯                                                      & 3.754249e-05                                           & 0.0001265022                                           & 0                                                      & 0                                                      & 0                                                      & 0                                                      & 0                                                      & 0                                                      & 0                                                      & 0                                                     \\\\\n",
       "\t GIMap\\_P1\\_LI\\_Aq.Org\\_Mixed\\_B7.mzXML.Peak.area  & 0                                                      & 0                                                      & 0                                                      & 0                                                      & 0.006246340                                            & 0.0009168015                                           & 0                                                      & 0                                                      & 0                                                      & ⋯                                                      & 0.000000e+00                                           & 0.0000000000                                           & 0                                                      & 0                                                      & 0                                                      & 0                                                      & 0                                                      & 0                                                      & 0                                                      & 0                                                     \\\\\n",
       "\\end{tabular}\n"
      ],
      "text/markdown": [
       "\n",
       "Sample.name | X70.012_0.234 | X70.013_2.191 | X70.065_0.36 | X70.065_0.264 | X72.081_0.36 | X72.081_2.59 | X73.532_0.256 | X73.532_2.17 | X73.532_5.806 | ⋯ | X1015.67_2.925 | X1017.686_2.968 | X1019.701_3.043 | X1027.616_2.55 | X1031.589_2.653 | X1031.589_5.748 | X1031.59_2.57 | X1031.59_3.036 | X1031.59_2.484 | X1039.671_2.894 | \n",
       "|---|---|---|---|---|---|\n",
       "| GIMap_P1_LI_Aq.Org_Mixed_A7.mzXML.Peak.area  | 0                                            | 0                                            | 0                                            | 0                                            | 0.004593476                                  | 0.0008864432                                 | 0                                            | 0                                            | 0                                            | ⋯                                            | 0.000000e+00                                 | 0.0003352260                                 | 0                                            | 0                                            | 0                                            | 0                                            | 0                                            | 0                                            | 0                                            | 0                                            | \n",
       "| GIMap_P1_LI_Aq.Org_Mixed_B12.mzXML.Peak.area | 0                                            | 0                                            | 0                                            | 0                                            | 0.006405861                                  | 0.0006658980                                 | 0                                            | 0                                            | 0                                            | ⋯                                            | 0.000000e+00                                 | 0.0000000000                                 | 0                                            | 0                                            | 0                                            | 0                                            | 0                                            | 0                                            | 0                                            | 0                                            | \n",
       "| GIMap_P1_LI_Aq.Org_Mixed_B10.mzXML.Peak.area | 0                                            | 0                                            | 0                                            | 0                                            | 0.004563437                                  | 0.0009108836                                 | 0                                            | 0                                            | 0                                            | ⋯                                            | 0.000000e+00                                 | 0.0001993122                                 | 0                                            | 0                                            | 0                                            | 0                                            | 0                                            | 0                                            | 0                                            | 0                                            | \n",
       "| GIMap_P1_LI_Aq.Org_Mixed_A12.mzXML.Peak.area | 0                                            | 0                                            | 0                                            | 0                                            | 0.004459760                                  | 0.0006611464                                 | 0                                            | 0                                            | 0                                            | ⋯                                            | 0.000000e+00                                 | 0.0004080047                                 | 0                                            | 0                                            | 0                                            | 0                                            | 0                                            | 0                                            | 0                                            | 0                                            | \n",
       "| GIMap_P1_LI_Aq.Org_Mixed_B11.mzXML.Peak.area | 0                                            | 0                                            | 0                                            | 0                                            | 0.004910159                                  | 0.0008424109                                 | 0                                            | 0                                            | 0                                            | ⋯                                            | 3.754249e-05                                 | 0.0001265022                                 | 0                                            | 0                                            | 0                                            | 0                                            | 0                                            | 0                                            | 0                                            | 0                                            | \n",
       "| GIMap_P1_LI_Aq.Org_Mixed_B7.mzXML.Peak.area  | 0                                            | 0                                            | 0                                            | 0                                            | 0.006246340                                  | 0.0009168015                                 | 0                                            | 0                                            | 0                                            | ⋯                                            | 0.000000e+00                                 | 0.0000000000                                 | 0                                            | 0                                            | 0                                            | 0                                            | 0                                            | 0                                            | 0                                            | 0                                            | \n",
       "\n",
       "\n"
      ],
      "text/plain": [
       "  Sample.name                                  X70.012_0.234 X70.013_2.191\n",
       "1 GIMap_P1_LI_Aq.Org_Mixed_A7.mzXML.Peak.area  0             0            \n",
       "2 GIMap_P1_LI_Aq.Org_Mixed_B12.mzXML.Peak.area 0             0            \n",
       "3 GIMap_P1_LI_Aq.Org_Mixed_B10.mzXML.Peak.area 0             0            \n",
       "4 GIMap_P1_LI_Aq.Org_Mixed_A12.mzXML.Peak.area 0             0            \n",
       "5 GIMap_P1_LI_Aq.Org_Mixed_B11.mzXML.Peak.area 0             0            \n",
       "6 GIMap_P1_LI_Aq.Org_Mixed_B7.mzXML.Peak.area  0             0            \n",
       "  X70.065_0.36 X70.065_0.264 X72.081_0.36 X72.081_2.59 X73.532_0.256\n",
       "1 0            0             0.004593476  0.0008864432 0            \n",
       "2 0            0             0.006405861  0.0006658980 0            \n",
       "3 0            0             0.004563437  0.0009108836 0            \n",
       "4 0            0             0.004459760  0.0006611464 0            \n",
       "5 0            0             0.004910159  0.0008424109 0            \n",
       "6 0            0             0.006246340  0.0009168015 0            \n",
       "  X73.532_2.17 X73.532_5.806 ⋯ X1015.67_2.925 X1017.686_2.968 X1019.701_3.043\n",
       "1 0            0             ⋯ 0.000000e+00   0.0003352260    0              \n",
       "2 0            0             ⋯ 0.000000e+00   0.0000000000    0              \n",
       "3 0            0             ⋯ 0.000000e+00   0.0001993122    0              \n",
       "4 0            0             ⋯ 0.000000e+00   0.0004080047    0              \n",
       "5 0            0             ⋯ 3.754249e-05   0.0001265022    0              \n",
       "6 0            0             ⋯ 0.000000e+00   0.0000000000    0              \n",
       "  X1027.616_2.55 X1031.589_2.653 X1031.589_5.748 X1031.59_2.57 X1031.59_3.036\n",
       "1 0              0               0               0             0             \n",
       "2 0              0               0               0             0             \n",
       "3 0              0               0               0             0             \n",
       "4 0              0               0               0             0             \n",
       "5 0              0               0               0             0             \n",
       "6 0              0               0               0             0             \n",
       "  X1031.59_2.484 X1039.671_2.894\n",
       "1 0              0              \n",
       "2 0              0              \n",
       "3 0              0              \n",
       "4 0              0              \n",
       "5 0              0              \n",
       "6 0              0              "
      ]
     },
     "metadata": {},
     "output_type": "display_data"
    }
   ],
   "source": [
    "matrix.norm<-as.data.frame(matrix.norm)\n",
    "matrix_with_rownames<-cbind(features_gimap_pos$mass_RT,matrix.norm)\n",
    "colnames(matrix_with_rownames)[1]<-\"Sample.name\"\n",
    "head(matrix_with_rownames)"
   ]
  },
  {
   "cell_type": "code",
   "execution_count": 4,
   "metadata": {
    "collapsed": true
   },
   "outputs": [],
   "source": [
    "write.csv(matrix_with_rownames,\"GIMap_mzMined_curated_transposed_FilesRemoved_blankRemoved_TICNormed_03302019.csv\")"
   ]
  },
  {
   "cell_type": "code",
   "execution_count": 9,
   "metadata": {},
   "outputs": [
    {
     "data": {
      "text/html": [
       "<table>\n",
       "<thead><tr><th scope=col>tube.number</th><th scope=col>empty.tube.weight..mg.</th><th scope=col>full.tube.weight..mg.</th><th scope=col>sample.weight..mg.</th><th scope=col>volume.of.water.for.homogenization..50.mg.in.125.uL.</th><th scope=col>volume.of.methnanol.for.homogenization..50.mg.in.125.uL..minus.10.uL.volume.removed.for.DNA..except.for.samples.below.60.ul.</th><th scope=col>final.volume_aq</th><th scope=col>volume.plated_aq</th><th scope=col>DCM.MeOH.volume..50.mg.in.250.uL.</th><th scope=col>volume.plated_org</th><th scope=col>⋯</th><th scope=col>sample.type</th><th scope=col>position</th><th scope=col>samplePosition</th><th scope=col>DigitizedPosition</th><th scope=col>days.post.infection</th><th scope=col>condition</th><th scope=col>imaging.plate.position</th><th scope=col>collection.date</th><th scope=col>luminescence_counts</th><th scope=col>well_Pos</th></tr></thead>\n",
       "<tbody>\n",
       "\t<tr><td>blank1                                                      </td><td>NA                                                          </td><td>NA                                                          </td><td>NA                                                          </td><td>NA                                                          </td><td>NA                                                          </td><td>NA                                                          </td><td>NA                                                          </td><td>NA                                                          </td><td>NA                                                          </td><td>⋯                                                           </td><td>GIMap_GIMap_P2_blank_last_pos.mzXML.Peak.area               </td><td>NA                                                          </td><td>GIMap_GIMap_P2_blank_last_pos.mzXML.Peak.area_NA            </td><td>#N/A                                                        </td><td>NA                                                          </td><td>NA                                                          </td><td>NA                                                          </td><td>NA                                                          </td><td>NA                                                          </td><td>vial1                                                       </td></tr>\n",
       "\t<tr><td>blank2                                                      </td><td>NA                                                          </td><td>NA                                                          </td><td>NA                                                          </td><td>NA                                                          </td><td>NA                                                          </td><td>NA                                                          </td><td>NA                                                          </td><td>NA                                                          </td><td>NA                                                          </td><td>⋯                                                           </td><td>GIMap_GIMap_P2_blank_mid_pos_180228175530.mzXML.Peak.area   </td><td>NA                                                          </td><td>GIMap_GIMap_P2_blank_mid_pos_180228175530.mzXML.Peak.area_NA</td><td>#N/A                                                        </td><td>NA                                                          </td><td>NA                                                          </td><td>NA                                                          </td><td>NA                                                          </td><td>NA                                                          </td><td>vial2                                                       </td></tr>\n",
       "\t<tr><td>blank3                                                      </td><td>NA                                                          </td><td>NA                                                          </td><td>NA                                                          </td><td>NA                                                          </td><td>NA                                                          </td><td>NA                                                          </td><td>NA                                                          </td><td>NA                                                          </td><td>NA                                                          </td><td>⋯                                                           </td><td>GIMap_GIMap_P2_blank_mid_pos_180228202604.mzXML.Peak.area   </td><td>NA                                                          </td><td>GIMap_GIMap_P2_blank_mid_pos_180228202604.mzXML.Peak.area_NA</td><td>#N/A                                                        </td><td>NA                                                          </td><td>NA                                                          </td><td>NA                                                          </td><td>NA                                                          </td><td>NA                                                          </td><td>vial3                                                       </td></tr>\n",
       "\t<tr><td>blank4                                                      </td><td>NA                                                          </td><td>NA                                                          </td><td>NA                                                          </td><td>NA                                                          </td><td>NA                                                          </td><td>NA                                                          </td><td>NA                                                          </td><td>NA                                                          </td><td>NA                                                          </td><td>⋯                                                           </td><td>GIMap_GIMap_P2_blank_mid_pos_180228224814.mzXML.Peak.area   </td><td>NA                                                          </td><td>GIMap_GIMap_P2_blank_mid_pos_180228224814.mzXML.Peak.area_NA</td><td>#N/A                                                        </td><td>NA                                                          </td><td>NA                                                          </td><td>NA                                                          </td><td>NA                                                          </td><td>NA                                                          </td><td>vial4                                                       </td></tr>\n",
       "\t<tr><td>blank5                                                      </td><td>NA                                                          </td><td>NA                                                          </td><td>NA                                                          </td><td>NA                                                          </td><td>NA                                                          </td><td>NA                                                          </td><td>NA                                                          </td><td>NA                                                          </td><td>NA                                                          </td><td>⋯                                                           </td><td>GIMap_GIMap_P2_blank_mid_pos_180301011858.mzXML.Peak.area   </td><td>NA                                                          </td><td>GIMap_GIMap_P2_blank_mid_pos_180301011858.mzXML.Peak.area_NA</td><td>#N/A                                                        </td><td>NA                                                          </td><td>NA                                                          </td><td>NA                                                          </td><td>NA                                                          </td><td>NA                                                          </td><td>vial5                                                       </td></tr>\n",
       "\t<tr><td>blank6                                                      </td><td>NA                                                          </td><td>NA                                                          </td><td>NA                                                          </td><td>NA                                                          </td><td>NA                                                          </td><td>NA                                                          </td><td>NA                                                          </td><td>NA                                                          </td><td>NA                                                          </td><td>⋯                                                           </td><td>GIMap_GIMap_P2_blank_mid_pos.mzXML.Peak.area                </td><td>NA                                                          </td><td>GIMap_GIMap_P2_blank_mid_pos.mzXML.Peak.area_NA             </td><td>#N/A                                                        </td><td>NA                                                          </td><td>NA                                                          </td><td>NA                                                          </td><td>NA                                                          </td><td>NA                                                          </td><td>vial6                                                       </td></tr>\n",
       "</tbody>\n",
       "</table>\n"
      ],
      "text/latex": [
       "\\begin{tabular}{r|llllllllllllllllllllll}\n",
       " tube.number & empty.tube.weight..mg. & full.tube.weight..mg. & sample.weight..mg. & volume.of.water.for.homogenization..50.mg.in.125.uL. & volume.of.methnanol.for.homogenization..50.mg.in.125.uL..minus.10.uL.volume.removed.for.DNA..except.for.samples.below.60.ul. & final.volume\\_aq & volume.plated\\_aq & DCM.MeOH.volume..50.mg.in.250.uL. & volume.plated\\_org & ⋯ & sample.type & position & samplePosition & DigitizedPosition & days.post.infection & condition & imaging.plate.position & collection.date & luminescence\\_counts & well\\_Pos\\\\\n",
       "\\hline\n",
       "\t blank1                                                                   & NA                                                                       & NA                                                                       & NA                                                                       & NA                                                                       & NA                                                                       & NA                                                                       & NA                                                                       & NA                                                                       & NA                                                                       & ⋯                                                                        & GIMap\\_GIMap\\_P2\\_blank\\_last\\_pos.mzXML.Peak.area                  & NA                                                                       & GIMap\\_GIMap\\_P2\\_blank\\_last\\_pos.mzXML.Peak.area\\_NA             & \\#N/A                                                                   & NA                                                                       & NA                                                                       & NA                                                                       & NA                                                                       & NA                                                                       & vial1                                                                   \\\\\n",
       "\t blank2                                                                     & NA                                                                         & NA                                                                         & NA                                                                         & NA                                                                         & NA                                                                         & NA                                                                         & NA                                                                         & NA                                                                         & NA                                                                         & ⋯                                                                          & GIMap\\_GIMap\\_P2\\_blank\\_mid\\_pos\\_180228175530.mzXML.Peak.area      & NA                                                                         & GIMap\\_GIMap\\_P2\\_blank\\_mid\\_pos\\_180228175530.mzXML.Peak.area\\_NA & \\#N/A                                                                     & NA                                                                         & NA                                                                         & NA                                                                         & NA                                                                         & NA                                                                         & vial2                                                                     \\\\\n",
       "\t blank3                                                                     & NA                                                                         & NA                                                                         & NA                                                                         & NA                                                                         & NA                                                                         & NA                                                                         & NA                                                                         & NA                                                                         & NA                                                                         & ⋯                                                                          & GIMap\\_GIMap\\_P2\\_blank\\_mid\\_pos\\_180228202604.mzXML.Peak.area      & NA                                                                         & GIMap\\_GIMap\\_P2\\_blank\\_mid\\_pos\\_180228202604.mzXML.Peak.area\\_NA & \\#N/A                                                                     & NA                                                                         & NA                                                                         & NA                                                                         & NA                                                                         & NA                                                                         & vial3                                                                     \\\\\n",
       "\t blank4                                                                     & NA                                                                         & NA                                                                         & NA                                                                         & NA                                                                         & NA                                                                         & NA                                                                         & NA                                                                         & NA                                                                         & NA                                                                         & ⋯                                                                          & GIMap\\_GIMap\\_P2\\_blank\\_mid\\_pos\\_180228224814.mzXML.Peak.area      & NA                                                                         & GIMap\\_GIMap\\_P2\\_blank\\_mid\\_pos\\_180228224814.mzXML.Peak.area\\_NA & \\#N/A                                                                     & NA                                                                         & NA                                                                         & NA                                                                         & NA                                                                         & NA                                                                         & vial4                                                                     \\\\\n",
       "\t blank5                                                                     & NA                                                                         & NA                                                                         & NA                                                                         & NA                                                                         & NA                                                                         & NA                                                                         & NA                                                                         & NA                                                                         & NA                                                                         & ⋯                                                                          & GIMap\\_GIMap\\_P2\\_blank\\_mid\\_pos\\_180301011858.mzXML.Peak.area      & NA                                                                         & GIMap\\_GIMap\\_P2\\_blank\\_mid\\_pos\\_180301011858.mzXML.Peak.area\\_NA & \\#N/A                                                                     & NA                                                                         & NA                                                                         & NA                                                                         & NA                                                                         & NA                                                                         & vial5                                                                     \\\\\n",
       "\t blank6                                                                   & NA                                                                       & NA                                                                       & NA                                                                       & NA                                                                       & NA                                                                       & NA                                                                       & NA                                                                       & NA                                                                       & NA                                                                       & ⋯                                                                        & GIMap\\_GIMap\\_P2\\_blank\\_mid\\_pos.mzXML.Peak.area                   & NA                                                                       & GIMap\\_GIMap\\_P2\\_blank\\_mid\\_pos.mzXML.Peak.area\\_NA              & \\#N/A                                                                   & NA                                                                       & NA                                                                       & NA                                                                       & NA                                                                       & NA                                                                       & vial6                                                                   \\\\\n",
       "\\end{tabular}\n"
      ],
      "text/markdown": [
       "\n",
       "tube.number | empty.tube.weight..mg. | full.tube.weight..mg. | sample.weight..mg. | volume.of.water.for.homogenization..50.mg.in.125.uL. | volume.of.methnanol.for.homogenization..50.mg.in.125.uL..minus.10.uL.volume.removed.for.DNA..except.for.samples.below.60.ul. | final.volume_aq | volume.plated_aq | DCM.MeOH.volume..50.mg.in.250.uL. | volume.plated_org | ⋯ | sample.type | position | samplePosition | DigitizedPosition | days.post.infection | condition | imaging.plate.position | collection.date | luminescence_counts | well_Pos | \n",
       "|---|---|---|---|---|---|\n",
       "| blank1                                                       | NA                                                           | NA                                                           | NA                                                           | NA                                                           | NA                                                           | NA                                                           | NA                                                           | NA                                                           | NA                                                           | ⋯                                                            | GIMap_GIMap_P2_blank_last_pos.mzXML.Peak.area                | NA                                                           | GIMap_GIMap_P2_blank_last_pos.mzXML.Peak.area_NA             | #N/A                                                         | NA                                                           | NA                                                           | NA                                                           | NA                                                           | NA                                                           | vial1                                                        | \n",
       "| blank2                                                       | NA                                                           | NA                                                           | NA                                                           | NA                                                           | NA                                                           | NA                                                           | NA                                                           | NA                                                           | NA                                                           | ⋯                                                            | GIMap_GIMap_P2_blank_mid_pos_180228175530.mzXML.Peak.area    | NA                                                           | GIMap_GIMap_P2_blank_mid_pos_180228175530.mzXML.Peak.area_NA | #N/A                                                         | NA                                                           | NA                                                           | NA                                                           | NA                                                           | NA                                                           | vial2                                                        | \n",
       "| blank3                                                       | NA                                                           | NA                                                           | NA                                                           | NA                                                           | NA                                                           | NA                                                           | NA                                                           | NA                                                           | NA                                                           | ⋯                                                            | GIMap_GIMap_P2_blank_mid_pos_180228202604.mzXML.Peak.area    | NA                                                           | GIMap_GIMap_P2_blank_mid_pos_180228202604.mzXML.Peak.area_NA | #N/A                                                         | NA                                                           | NA                                                           | NA                                                           | NA                                                           | NA                                                           | vial3                                                        | \n",
       "| blank4                                                       | NA                                                           | NA                                                           | NA                                                           | NA                                                           | NA                                                           | NA                                                           | NA                                                           | NA                                                           | NA                                                           | ⋯                                                            | GIMap_GIMap_P2_blank_mid_pos_180228224814.mzXML.Peak.area    | NA                                                           | GIMap_GIMap_P2_blank_mid_pos_180228224814.mzXML.Peak.area_NA | #N/A                                                         | NA                                                           | NA                                                           | NA                                                           | NA                                                           | NA                                                           | vial4                                                        | \n",
       "| blank5                                                       | NA                                                           | NA                                                           | NA                                                           | NA                                                           | NA                                                           | NA                                                           | NA                                                           | NA                                                           | NA                                                           | ⋯                                                            | GIMap_GIMap_P2_blank_mid_pos_180301011858.mzXML.Peak.area    | NA                                                           | GIMap_GIMap_P2_blank_mid_pos_180301011858.mzXML.Peak.area_NA | #N/A                                                         | NA                                                           | NA                                                           | NA                                                           | NA                                                           | NA                                                           | vial5                                                        | \n",
       "| blank6                                                       | NA                                                           | NA                                                           | NA                                                           | NA                                                           | NA                                                           | NA                                                           | NA                                                           | NA                                                           | NA                                                           | ⋯                                                            | GIMap_GIMap_P2_blank_mid_pos.mzXML.Peak.area                 | NA                                                           | GIMap_GIMap_P2_blank_mid_pos.mzXML.Peak.area_NA              | #N/A                                                         | NA                                                           | NA                                                           | NA                                                           | NA                                                           | NA                                                           | vial6                                                        | \n",
       "\n",
       "\n"
      ],
      "text/plain": [
       "  tube.number empty.tube.weight..mg. full.tube.weight..mg. sample.weight..mg.\n",
       "1 blank1      NA                     NA                    NA                \n",
       "2 blank2      NA                     NA                    NA                \n",
       "3 blank3      NA                     NA                    NA                \n",
       "4 blank4      NA                     NA                    NA                \n",
       "5 blank5      NA                     NA                    NA                \n",
       "6 blank6      NA                     NA                    NA                \n",
       "  volume.of.water.for.homogenization..50.mg.in.125.uL.\n",
       "1 NA                                                  \n",
       "2 NA                                                  \n",
       "3 NA                                                  \n",
       "4 NA                                                  \n",
       "5 NA                                                  \n",
       "6 NA                                                  \n",
       "  volume.of.methnanol.for.homogenization..50.mg.in.125.uL..minus.10.uL.volume.removed.for.DNA..except.for.samples.below.60.ul.\n",
       "1 NA                                                                                                                          \n",
       "2 NA                                                                                                                          \n",
       "3 NA                                                                                                                          \n",
       "4 NA                                                                                                                          \n",
       "5 NA                                                                                                                          \n",
       "6 NA                                                                                                                          \n",
       "  final.volume_aq volume.plated_aq DCM.MeOH.volume..50.mg.in.250.uL.\n",
       "1 NA              NA               NA                               \n",
       "2 NA              NA               NA                               \n",
       "3 NA              NA               NA                               \n",
       "4 NA              NA               NA                               \n",
       "5 NA              NA               NA                               \n",
       "6 NA              NA               NA                               \n",
       "  volume.plated_org ⋯ sample.type                                              \n",
       "1 NA                ⋯ GIMap_GIMap_P2_blank_last_pos.mzXML.Peak.area            \n",
       "2 NA                ⋯ GIMap_GIMap_P2_blank_mid_pos_180228175530.mzXML.Peak.area\n",
       "3 NA                ⋯ GIMap_GIMap_P2_blank_mid_pos_180228202604.mzXML.Peak.area\n",
       "4 NA                ⋯ GIMap_GIMap_P2_blank_mid_pos_180228224814.mzXML.Peak.area\n",
       "5 NA                ⋯ GIMap_GIMap_P2_blank_mid_pos_180301011858.mzXML.Peak.area\n",
       "6 NA                ⋯ GIMap_GIMap_P2_blank_mid_pos.mzXML.Peak.area             \n",
       "  position samplePosition                                              \n",
       "1 NA       GIMap_GIMap_P2_blank_last_pos.mzXML.Peak.area_NA            \n",
       "2 NA       GIMap_GIMap_P2_blank_mid_pos_180228175530.mzXML.Peak.area_NA\n",
       "3 NA       GIMap_GIMap_P2_blank_mid_pos_180228202604.mzXML.Peak.area_NA\n",
       "4 NA       GIMap_GIMap_P2_blank_mid_pos_180228224814.mzXML.Peak.area_NA\n",
       "5 NA       GIMap_GIMap_P2_blank_mid_pos_180301011858.mzXML.Peak.area_NA\n",
       "6 NA       GIMap_GIMap_P2_blank_mid_pos.mzXML.Peak.area_NA             \n",
       "  DigitizedPosition days.post.infection condition imaging.plate.position\n",
       "1 #N/A              NA                  NA        NA                    \n",
       "2 #N/A              NA                  NA        NA                    \n",
       "3 #N/A              NA                  NA        NA                    \n",
       "4 #N/A              NA                  NA        NA                    \n",
       "5 #N/A              NA                  NA        NA                    \n",
       "6 #N/A              NA                  NA        NA                    \n",
       "  collection.date luminescence_counts well_Pos\n",
       "1 NA              NA                  vial1   \n",
       "2 NA              NA                  vial2   \n",
       "3 NA              NA                  vial3   \n",
       "4 NA              NA                  vial4   \n",
       "5 NA              NA                  vial5   \n",
       "6 NA              NA                  vial6   "
      ]
     },
     "metadata": {},
     "output_type": "display_data"
    },
    {
     "data": {
      "text/html": [
       "<ol class=list-inline>\n",
       "\t<li>649</li>\n",
       "\t<li>22</li>\n",
       "</ol>\n"
      ],
      "text/latex": [
       "\\begin{enumerate*}\n",
       "\\item 649\n",
       "\\item 22\n",
       "\\end{enumerate*}\n"
      ],
      "text/markdown": [
       "1. 649\n",
       "2. 22\n",
       "\n",
       "\n"
      ],
      "text/plain": [
       "[1] 649  22"
      ]
     },
     "metadata": {},
     "output_type": "display_data"
    }
   ],
   "source": [
    "metadata<-read.csv(\"All_Tissue_GIMap_Positive_metadata_Corrected.csv\",h=T,sep=\",\",dec=\".\")\n",
    "head(metadata)\n",
    "dim(metadata)"
   ]
  },
  {
   "cell_type": "code",
   "execution_count": 10,
   "metadata": {},
   "outputs": [
    {
     "data": {
      "text/html": [
       "<table>\n",
       "<thead><tr><th scope=col>X</th><th scope=col>well_pos</th><th scope=col>tube.number</th><th scope=col>Sample.name</th><th scope=col>X70.012_0.234</th><th scope=col>X70.013_2.191</th><th scope=col>X70.065_0.36</th><th scope=col>X70.065_0.264</th><th scope=col>X72.081_0.36</th><th scope=col>X72.081_2.59</th><th scope=col>⋯</th><th scope=col>X1015.67_2.925</th><th scope=col>X1017.686_2.968</th><th scope=col>X1019.701_3.043</th><th scope=col>X1027.616_2.55</th><th scope=col>X1031.589_2.653</th><th scope=col>X1031.589_5.748</th><th scope=col>X1031.59_2.57</th><th scope=col>X1031.59_3.036</th><th scope=col>X1031.59_2.484</th><th scope=col>X1039.671_2.894</th></tr></thead>\n",
       "<tbody>\n",
       "\t<tr><td>262                                                      </td><td>vial1                                                    </td><td>blank1                                                   </td><td>GIMap_GIMap_P2_blank_last_pos.mzXML.Peak.area            </td><td>0                                                        </td><td>0                                                        </td><td>0                                                        </td><td>0                                                        </td><td>0                                                        </td><td>0                                                        </td><td>⋯                                                        </td><td>0                                                        </td><td>0                                                        </td><td>0                                                        </td><td>0                                                        </td><td>0                                                        </td><td>0                                                        </td><td>0                                                        </td><td>0                                                        </td><td>0                                                        </td><td>0                                                        </td></tr>\n",
       "\t<tr><td>261                                                      </td><td>vial2                                                    </td><td>blank2                                                   </td><td>GIMap_GIMap_P2_blank_mid_pos_180228175530.mzXML.Peak.area</td><td>0                                                        </td><td>0                                                        </td><td>0                                                        </td><td>0                                                        </td><td>0                                                        </td><td>0                                                        </td><td>⋯                                                        </td><td>0                                                        </td><td>0                                                        </td><td>0                                                        </td><td>0                                                        </td><td>0                                                        </td><td>0                                                        </td><td>0                                                        </td><td>0                                                        </td><td>0                                                        </td><td>0                                                        </td></tr>\n",
       "\t<tr><td>264                                                      </td><td>vial3                                                    </td><td>blank3                                                   </td><td>GIMap_GIMap_P2_blank_mid_pos_180228202604.mzXML.Peak.area</td><td>0                                                        </td><td>0                                                        </td><td>0                                                        </td><td>0                                                        </td><td>0                                                        </td><td>0                                                        </td><td>⋯                                                        </td><td>0                                                        </td><td>0                                                        </td><td>0                                                        </td><td>0                                                        </td><td>0                                                        </td><td>0                                                        </td><td>0                                                        </td><td>0                                                        </td><td>0                                                        </td><td>0                                                        </td></tr>\n",
       "\t<tr><td>263                                                      </td><td>vial4                                                    </td><td>blank4                                                   </td><td>GIMap_GIMap_P2_blank_mid_pos_180228224814.mzXML.Peak.area</td><td>0                                                        </td><td>0                                                        </td><td>0                                                        </td><td>0                                                        </td><td>0                                                        </td><td>0                                                        </td><td>⋯                                                        </td><td>0                                                        </td><td>0                                                        </td><td>0                                                        </td><td>0                                                        </td><td>0                                                        </td><td>0                                                        </td><td>0                                                        </td><td>0                                                        </td><td>0                                                        </td><td>0                                                        </td></tr>\n",
       "\t<tr><td>274                                                      </td><td>vial5                                                    </td><td>blank5                                                   </td><td>GIMap_GIMap_P2_blank_mid_pos_180301011858.mzXML.Peak.area</td><td>0                                                        </td><td>0                                                        </td><td>0                                                        </td><td>0                                                        </td><td>0                                                        </td><td>0                                                        </td><td>⋯                                                        </td><td>0                                                        </td><td>0                                                        </td><td>0                                                        </td><td>0                                                        </td><td>0                                                        </td><td>0                                                        </td><td>0                                                        </td><td>0                                                        </td><td>0                                                        </td><td>0                                                        </td></tr>\n",
       "\t<tr><td>275                                                      </td><td>vial6                                                    </td><td>blank6                                                   </td><td>GIMap_GIMap_P2_blank_mid_pos.mzXML.Peak.area             </td><td>0                                                        </td><td>0                                                        </td><td>0                                                        </td><td>0                                                        </td><td>0                                                        </td><td>0                                                        </td><td>⋯                                                        </td><td>0                                                        </td><td>0                                                        </td><td>0                                                        </td><td>0                                                        </td><td>0                                                        </td><td>0                                                        </td><td>0                                                        </td><td>0                                                        </td><td>0                                                        </td><td>0                                                        </td></tr>\n",
       "</tbody>\n",
       "</table>\n"
      ],
      "text/latex": [
       "\\begin{tabular}{r|llllllllllllllllllllllllllllllllllllllllllllllllllllllllllllllllllllllllllllllllllllllllllllllllllllllllllllllllllllllllllllllllllllllllllllllllllllllllllllllllllllllllllllllllllllllllllllllllllllllllllllllllllllllllllllllllllllllllllllllllllllllllllllllllllllllllllllllllllllllllllllllllllllllllllllllllllllllllllllllllllllllllllllllllllllllllllllllllllllllllllllllllllllllllllllllllllllllllllllllllllllllllllllllllllllllllllllllllllllllllllllllllllllllllllllllllllllllllllllllllllllllllllllllllllllllllllllllllllllllllllllllllllllllllllllllllllllllllllllllllllllllllllllllllllllllllllllllllllllllllllllllllllllllllllllllllllllllllllllllllllllllllllllllllllllllllllllllllllllllllllllllllllllllllllllllllllllllllllllllllllllllllllllllllllllllllllllllllllllllllllllllllllllllllllllllllllllllllllllllllllllllllllllllllllllllllllllllllllllllllllllllllllllllllllllllllllllllllllllllllllllllllllllllllllllllllllllllllllllllllllllllllllllllllllllllllllllllllllllllllllllllllllllllllllllllllllllllllllllllllllllllllllllllllllllllllllllllllllllllllllllllllllllllllllllllllllllllllllllllllllllllllllllllllllllllllllllllllllllllllllllllllllllllllllllllllllllllllllllllllllllllllllllllllllllllllllllllllllllllllllllllllllllllllllllllllllllllllllllllllllllllllllllllllllllllllllllllllllllllllllllllllllllllllllllllllllllllllllllllllllllllllllllllllllllllllllllllllllllllllllllllllllllllllllllllllllllllllllllllllllllllllllllllllllllllllllllllllllllllllllllllllllllllllllllllllllllllllllllllllllllllllllllllllllllllllllllllllllllllllllllllllllllllllllllllllllllllllllllllllllllllllllllllllllllllllllllllllllllllllllllllllllllllllllllllllllllllllllllllllllllllllllllllllllllllllllllllllllllllllllllllllllllllllllllllllllllllllllllllllllllllllllllllllllllllllllllllllllllllllllllllllllllllllllllllllllllllllllllllllllllllllllllllllllllllllllllllllllllllllllllllllllllllllllllllllllllllllllllllllllllllllllllllllllllllllllllllllllllllllllllllllllllllllllllllllllllllllllllllllllllllllllllllllllllllllllllllllllllllllllllllllllllllllllllllllllllllllllllllllllllllllllllllllllllllllllllllllllllllllllllllllllllllllllllllllllllllllllllllllllllllllllllllllllllllllllllllllllllllllllllllllllllllllllllllllllllllllllllllllllllllllllllllllllllllllllllllllllllllllllllllllllllllllllllllllllllllllllllllllllllllllllllllllllllllllllllllllllllllllllllllllllllllllllllllllllllllllllllllllllllllllllllllllllllllllllllllllllllllllllllllllllllllllllllllllllllllllllllllllllllllllllllllllllllllllllllllllllllllllllllllllllllllllllllllllllllllllllllllllllllllllllllllllllllllllllllllllllllllllllllllllllllllllllllllllllllllllllllllllllllllllllllllllllllllllllllllllllllllllllllllllllllllllllllllllllllllllllllllllllllllllllllllllllllllllllllllllllllllllllllllllllllllllllllllllllllllllllllllllllllllllllllllllllllllllllllllllllllllllllllllllllllllllllllllllllllllllllllllllllllllllllllllllllllllllllllllllllllllllllllllllllllllllllllllllllllllllllllllllllllllllllllllllllllllllllllllllllllllllllllllllllllllllllllllllllllllllllllllllllllllllllllllllllllllllllllllllllllllllllllllllllllllllllllllllllllllllllllllllllllllllllllllllllllllllllllllllllllllllllllllllllllllllllllllllllllllllllllllllllllllllllllllllllllllllllllllllllllllllllllllllllllllllllllllllllllllllllllllllllllllllllllllllllllllllllllllllllllllllllllllllllllllllllllllllllllllllllllllllllllllllllllllllllllllllllllllllllllllllllllllllllllllllllllllllllllllllllllllllllllllllllllllllllllllllllllllllllllllllllllllllllllllllllllllllllllllllllllllllllllllllllllllllllllllllllllllllllllllllllllllllllllllllllllllllllllllllllllllllllllllllllllllllllllllllllllllllllllllllllllllllllllllllllllllllllllllllllllllllllllllllllllllllllllllllllllllllllllllllllllllllllllllllllllllllllllllllllllllllllllllllllllllllllllllllllllllllllllllllllllllllllllllllllllllllllllllllllllllllllllllllllllllllllllllllllllllllllllllllllllllllllllllllllllllllllllllllllllllllllllllllllllllllllllllllllllllllllllllllllllllllllllllllllllllllllllllllllllllllllllllllllllllllllllllllllllllllllllllllllllllllllllllllllllllllllllllllllllllllllllllllllllllllllllllllllllllllllllllllllllllllllllllllllllllllllllllllllllllllllllllllllllllllllllllllllllllllllllllllllllllllllllllllllllllllllllllllllllllllllllllllllllllllllllllllllllllllllllllllllllllllllllllllllllllllllllllllllllllllllllllllllllllllllllllllllllllllllllllllllllllllllllllllllllllllllllllllllllllllllllllllllllllllllllllllllllllllllllllllllllllllllllllllllllllllllllllllllllllllllllllllllllllllllllllllllllllllllllllllllllllllllllllllllllllllllllllllllllllllllllllllllllllllllllllllllllllllllllllllllllllllllllllllllllllllllllllllllllllllllllllllllllllllllllllllllllllllllllllllllllllllllllllllllllllllllllllllllllllllllllllllllllllllllllllllllllllllllllllllllllllllllllllllllllllllllllllllllllllllllllllllllllllllllllllllllllllllllllllllllllllllllllllllllllllllllllllllllllllllllllllllllllllllllllllllllllllllllllllllllllllllllllllllllllllllllllllllllllllllllllllllllllllllllllllllllllllllllllllllllllllllllllllllllllllllllllllllllllllllllllllllllllllllllllllllllllllllllllllllllllllllllllllllllllllllllllllllllllllllllllllllllllllllllllllllllllllllllllllllllllllllllllllllllllllllllllllllllllllllllllllllllllllllllllllllllllllllllllllllllllllllllllllllllllllllllllllllllllllllllllllllllllllllllllllllllllllllllllllllllllllllllllllllllllllllllllllllllllllllllllllllllllllllllllllllllllllllllllllllllllllllllllllllllllllllllllllllllllllllllllllllllllllllllllllllllllllllllllllllllllllllllllllllllllllllllllllllllllllllllllllllllllllllllllllllll}\n",
       " X & well\\_pos & tube.number & Sample.name & X70.012\\_0.234 & X70.013\\_2.191 & X70.065\\_0.36 & X70.065\\_0.264 & X72.081\\_0.36 & X72.081\\_2.59 & ⋯ & X1015.67\\_2.925 & X1017.686\\_2.968 & X1019.701\\_3.043 & X1027.616\\_2.55 & X1031.589\\_2.653 & X1031.589\\_5.748 & X1031.59\\_2.57 & X1031.59\\_3.036 & X1031.59\\_2.484 & X1039.671\\_2.894\\\\\n",
       "\\hline\n",
       "\t 262                                                                 & vial1                                                               & blank1                                                              & GIMap\\_GIMap\\_P2\\_blank\\_last\\_pos.mzXML.Peak.area             & 0                                                                   & 0                                                                   & 0                                                                   & 0                                                                   & 0                                                                   & 0                                                                   & ⋯                                                                   & 0                                                                   & 0                                                                   & 0                                                                   & 0                                                                   & 0                                                                   & 0                                                                   & 0                                                                   & 0                                                                   & 0                                                                   & 0                                                                  \\\\\n",
       "\t 261                                                                   & vial2                                                                 & blank2                                                                & GIMap\\_GIMap\\_P2\\_blank\\_mid\\_pos\\_180228175530.mzXML.Peak.area & 0                                                                     & 0                                                                     & 0                                                                     & 0                                                                     & 0                                                                     & 0                                                                     & ⋯                                                                     & 0                                                                     & 0                                                                     & 0                                                                     & 0                                                                     & 0                                                                     & 0                                                                     & 0                                                                     & 0                                                                     & 0                                                                     & 0                                                                    \\\\\n",
       "\t 264                                                                   & vial3                                                                 & blank3                                                                & GIMap\\_GIMap\\_P2\\_blank\\_mid\\_pos\\_180228202604.mzXML.Peak.area & 0                                                                     & 0                                                                     & 0                                                                     & 0                                                                     & 0                                                                     & 0                                                                     & ⋯                                                                     & 0                                                                     & 0                                                                     & 0                                                                     & 0                                                                     & 0                                                                     & 0                                                                     & 0                                                                     & 0                                                                     & 0                                                                     & 0                                                                    \\\\\n",
       "\t 263                                                                   & vial4                                                                 & blank4                                                                & GIMap\\_GIMap\\_P2\\_blank\\_mid\\_pos\\_180228224814.mzXML.Peak.area & 0                                                                     & 0                                                                     & 0                                                                     & 0                                                                     & 0                                                                     & 0                                                                     & ⋯                                                                     & 0                                                                     & 0                                                                     & 0                                                                     & 0                                                                     & 0                                                                     & 0                                                                     & 0                                                                     & 0                                                                     & 0                                                                     & 0                                                                    \\\\\n",
       "\t 274                                                                   & vial5                                                                 & blank5                                                                & GIMap\\_GIMap\\_P2\\_blank\\_mid\\_pos\\_180301011858.mzXML.Peak.area & 0                                                                     & 0                                                                     & 0                                                                     & 0                                                                     & 0                                                                     & 0                                                                     & ⋯                                                                     & 0                                                                     & 0                                                                     & 0                                                                     & 0                                                                     & 0                                                                     & 0                                                                     & 0                                                                     & 0                                                                     & 0                                                                     & 0                                                                    \\\\\n",
       "\t 275                                                                 & vial6                                                               & blank6                                                              & GIMap\\_GIMap\\_P2\\_blank\\_mid\\_pos.mzXML.Peak.area              & 0                                                                   & 0                                                                   & 0                                                                   & 0                                                                   & 0                                                                   & 0                                                                   & ⋯                                                                   & 0                                                                   & 0                                                                   & 0                                                                   & 0                                                                   & 0                                                                   & 0                                                                   & 0                                                                   & 0                                                                   & 0                                                                   & 0                                                                  \\\\\n",
       "\\end{tabular}\n"
      ],
      "text/markdown": [
       "\n",
       "X | well_pos | tube.number | Sample.name | X70.012_0.234 | X70.013_2.191 | X70.065_0.36 | X70.065_0.264 | X72.081_0.36 | X72.081_2.59 | ⋯ | X1015.67_2.925 | X1017.686_2.968 | X1019.701_3.043 | X1027.616_2.55 | X1031.589_2.653 | X1031.589_5.748 | X1031.59_2.57 | X1031.59_3.036 | X1031.59_2.484 | X1039.671_2.894 | \n",
       "|---|---|---|---|---|---|\n",
       "| 262                                                       | vial1                                                     | blank1                                                    | GIMap_GIMap_P2_blank_last_pos.mzXML.Peak.area             | 0                                                         | 0                                                         | 0                                                         | 0                                                         | 0                                                         | 0                                                         | ⋯                                                         | 0                                                         | 0                                                         | 0                                                         | 0                                                         | 0                                                         | 0                                                         | 0                                                         | 0                                                         | 0                                                         | 0                                                         | \n",
       "| 261                                                       | vial2                                                     | blank2                                                    | GIMap_GIMap_P2_blank_mid_pos_180228175530.mzXML.Peak.area | 0                                                         | 0                                                         | 0                                                         | 0                                                         | 0                                                         | 0                                                         | ⋯                                                         | 0                                                         | 0                                                         | 0                                                         | 0                                                         | 0                                                         | 0                                                         | 0                                                         | 0                                                         | 0                                                         | 0                                                         | \n",
       "| 264                                                       | vial3                                                     | blank3                                                    | GIMap_GIMap_P2_blank_mid_pos_180228202604.mzXML.Peak.area | 0                                                         | 0                                                         | 0                                                         | 0                                                         | 0                                                         | 0                                                         | ⋯                                                         | 0                                                         | 0                                                         | 0                                                         | 0                                                         | 0                                                         | 0                                                         | 0                                                         | 0                                                         | 0                                                         | 0                                                         | \n",
       "| 263                                                       | vial4                                                     | blank4                                                    | GIMap_GIMap_P2_blank_mid_pos_180228224814.mzXML.Peak.area | 0                                                         | 0                                                         | 0                                                         | 0                                                         | 0                                                         | 0                                                         | ⋯                                                         | 0                                                         | 0                                                         | 0                                                         | 0                                                         | 0                                                         | 0                                                         | 0                                                         | 0                                                         | 0                                                         | 0                                                         | \n",
       "| 274                                                       | vial5                                                     | blank5                                                    | GIMap_GIMap_P2_blank_mid_pos_180301011858.mzXML.Peak.area | 0                                                         | 0                                                         | 0                                                         | 0                                                         | 0                                                         | 0                                                         | ⋯                                                         | 0                                                         | 0                                                         | 0                                                         | 0                                                         | 0                                                         | 0                                                         | 0                                                         | 0                                                         | 0                                                         | 0                                                         | \n",
       "| 275                                                       | vial6                                                     | blank6                                                    | GIMap_GIMap_P2_blank_mid_pos.mzXML.Peak.area              | 0                                                         | 0                                                         | 0                                                         | 0                                                         | 0                                                         | 0                                                         | ⋯                                                         | 0                                                         | 0                                                         | 0                                                         | 0                                                         | 0                                                         | 0                                                         | 0                                                         | 0                                                         | 0                                                         | 0                                                         | \n",
       "\n",
       "\n"
      ],
      "text/plain": [
       "  X   well_pos tube.number\n",
       "1 262 vial1    blank1     \n",
       "2 261 vial2    blank2     \n",
       "3 264 vial3    blank3     \n",
       "4 263 vial4    blank4     \n",
       "5 274 vial5    blank5     \n",
       "6 275 vial6    blank6     \n",
       "  Sample.name                                               X70.012_0.234\n",
       "1 GIMap_GIMap_P2_blank_last_pos.mzXML.Peak.area             0            \n",
       "2 GIMap_GIMap_P2_blank_mid_pos_180228175530.mzXML.Peak.area 0            \n",
       "3 GIMap_GIMap_P2_blank_mid_pos_180228202604.mzXML.Peak.area 0            \n",
       "4 GIMap_GIMap_P2_blank_mid_pos_180228224814.mzXML.Peak.area 0            \n",
       "5 GIMap_GIMap_P2_blank_mid_pos_180301011858.mzXML.Peak.area 0            \n",
       "6 GIMap_GIMap_P2_blank_mid_pos.mzXML.Peak.area              0            \n",
       "  X70.013_2.191 X70.065_0.36 X70.065_0.264 X72.081_0.36 X72.081_2.59 ⋯\n",
       "1 0             0            0             0            0            ⋯\n",
       "2 0             0            0             0            0            ⋯\n",
       "3 0             0            0             0            0            ⋯\n",
       "4 0             0            0             0            0            ⋯\n",
       "5 0             0            0             0            0            ⋯\n",
       "6 0             0            0             0            0            ⋯\n",
       "  X1015.67_2.925 X1017.686_2.968 X1019.701_3.043 X1027.616_2.55 X1031.589_2.653\n",
       "1 0              0               0               0              0              \n",
       "2 0              0               0               0              0              \n",
       "3 0              0               0               0              0              \n",
       "4 0              0               0               0              0              \n",
       "5 0              0               0               0              0              \n",
       "6 0              0               0               0              0              \n",
       "  X1031.589_5.748 X1031.59_2.57 X1031.59_3.036 X1031.59_2.484 X1039.671_2.894\n",
       "1 0               0             0              0              0              \n",
       "2 0               0             0              0              0              \n",
       "3 0               0             0              0              0              \n",
       "4 0               0             0              0              0              \n",
       "5 0               0             0              0              0              \n",
       "6 0               0             0              0              0              "
      ]
     },
     "metadata": {},
     "output_type": "display_data"
    },
    {
     "data": {
      "text/html": [
       "<ol class=list-inline>\n",
       "\t<li>649</li>\n",
       "\t<li>5506</li>\n",
       "</ol>\n"
      ],
      "text/latex": [
       "\\begin{enumerate*}\n",
       "\\item 649\n",
       "\\item 5506\n",
       "\\end{enumerate*}\n"
      ],
      "text/markdown": [
       "1. 649\n",
       "2. 5506\n",
       "\n",
       "\n"
      ],
      "text/plain": [
       "[1]  649 5506"
      ]
     },
     "metadata": {},
     "output_type": "display_data"
    }
   ],
   "source": [
    "gimap_norm_features<-read.csv(\"GIMap_mzMined_curated_transposed_FilesRemoved_blankRemoved_TICNormed_03302019.csv\",h=T,sep=\",\",dec=\".\")\n",
    "head(gimap_norm_features)\n",
    "dim(gimap_norm_features)"
   ]
  },
  {
   "cell_type": "code",
   "execution_count": 11,
   "metadata": {},
   "outputs": [
    {
     "data": {
      "text/html": [
       "<table>\n",
       "<thead><tr><th scope=col>tube.number</th><th scope=col>empty.tube.weight..mg.</th><th scope=col>full.tube.weight..mg.</th><th scope=col>sample.weight..mg.</th><th scope=col>volume.of.water.for.homogenization..50.mg.in.125.uL.</th><th scope=col>volume.of.methnanol.for.homogenization..50.mg.in.125.uL..minus.10.uL.volume.removed.for.DNA..except.for.samples.below.60.ul.</th><th scope=col>final.volume_aq</th><th scope=col>volume.plated_aq</th><th scope=col>DCM.MeOH.volume..50.mg.in.250.uL.</th><th scope=col>volume.plated_org</th><th scope=col>⋯</th><th scope=col>X1015.67_2.925</th><th scope=col>X1017.686_2.968</th><th scope=col>X1019.701_3.043</th><th scope=col>X1027.616_2.55</th><th scope=col>X1031.589_2.653</th><th scope=col>X1031.589_5.748</th><th scope=col>X1031.59_2.57</th><th scope=col>X1031.59_3.036</th><th scope=col>X1031.59_2.484</th><th scope=col>X1039.671_2.894</th></tr></thead>\n",
       "<tbody>\n",
       "\t<tr><td>100        </td><td>1004.8     </td><td>1151.8     </td><td>147.0      </td><td>367.50     </td><td>357.50     </td><td>725.0      </td><td>110        </td><td>735.0      </td><td>100        </td><td>⋯          </td><td>5.27e-05   </td><td>0.000130788</td><td>0.00e+00   </td><td>0          </td><td>0          </td><td>0          </td><td>0          </td><td>0          </td><td>0          </td><td>9.87e-06   </td></tr>\n",
       "\t<tr><td>101        </td><td>1002.9     </td><td>1071.2     </td><td> 68.3      </td><td>170.75     </td><td>160.75     </td><td>331.5      </td><td>110        </td><td>341.5      </td><td>100        </td><td>⋯          </td><td>0.00e+00   </td><td>0.000000000</td><td>9.87e-05   </td><td>0          </td><td>0          </td><td>0          </td><td>0          </td><td>0          </td><td>0          </td><td>0.00e+00   </td></tr>\n",
       "\t<tr><td>102        </td><td>1000.3     </td><td>1041.3     </td><td> 41.0      </td><td>102.50     </td><td> 92.50     </td><td>195.0      </td><td>110        </td><td>205.0      </td><td>100        </td><td>⋯          </td><td>0.00e+00   </td><td>0.000000000</td><td>0.00e+00   </td><td>0          </td><td>0          </td><td>0          </td><td>0          </td><td>0          </td><td>0          </td><td>0.00e+00   </td></tr>\n",
       "\t<tr><td>103        </td><td>1012.8     </td><td>1046.1     </td><td> 33.3      </td><td> 83.25     </td><td> 83.25     </td><td>166.5      </td><td>110        </td><td>166.5      </td><td>100        </td><td>⋯          </td><td>0.00e+00   </td><td>0.000000000</td><td>0.00e+00   </td><td>0          </td><td>0          </td><td>0          </td><td>0          </td><td>0          </td><td>0          </td><td>0.00e+00   </td></tr>\n",
       "\t<tr><td>106        </td><td>1009.1     </td><td>1075.0     </td><td> 65.9      </td><td>164.75     </td><td>154.75     </td><td>319.5      </td><td>110        </td><td>329.5      </td><td>100        </td><td>⋯          </td><td>0.00e+00   </td><td>0.000199312</td><td>0.00e+00   </td><td>0          </td><td>0          </td><td>0          </td><td>0          </td><td>0          </td><td>0          </td><td>0.00e+00   </td></tr>\n",
       "\t<tr><td>107        </td><td>1010.1     </td><td>1100.6     </td><td> 90.5      </td><td>226.25     </td><td>216.25     </td><td>442.5      </td><td>110        </td><td>452.5      </td><td>100        </td><td>⋯          </td><td>3.75e-05   </td><td>0.000126502</td><td>0.00e+00   </td><td>0          </td><td>0          </td><td>0          </td><td>0          </td><td>0          </td><td>0          </td><td>0.00e+00   </td></tr>\n",
       "</tbody>\n",
       "</table>\n"
      ],
      "text/latex": [
       "\\begin{tabular}{r|lllllllllllllllllllllllllllllllllllllllllllllllllllllllllllllllllllllllllllllllllllllllllllllllllllllllllllllllllllllllllllllllllllllllllllllllllllllllllllllllllllllllllllllllllllllllllllllllllllllllllllllllllllllllllllllllllllllllllllllllllllllllllllllllllllllllllllllllllllllllllllllllllllllllllllllllllllllllllllllllllllllllllllllllllllllllllllllllllllllllllllllllllllllllllllllllllllllllllllllllllllllllllllllllllllllllllllllllllllllllllllllllllllllllllllllllllllllllllllllllllllllllllllllllllllllllllllllllllllllllllllllllllllllllllllllllllllllllllllllllllllllllllllllllllllllllllllllllllllllllllllllllllllllllllllllllllllllllllllllllllllllllllllllllllllllllllllllllllllllllllllllllllllllllllllllllllllllllllllllllllllllllllllllllllllllllllllllllllllllllllllllllllllllllllllllllllllllllllllllllllllllllllllllllllllllllllllllllllllllllllllllllllllllllllllllllllllllllllllllllllllllllllllllllllllllllllllllllllllllllllllllllllllllllllllllllllllllllllllllllllllllllllllllllllllllllllllllllllllllllllllllllllllllllllllllllllllllllllllllllllllllllllllllllllllllllllllllllllllllllllllllllllllllllllllllllllllllllllllllllllllllllllllllllllllllllllllllllllllllllllllllllllllllllllllllllllllllllllllllllllllllllllllllllllllllllllllllllllllllllllllllllllllllllllllllllllllllllllllllllllllllllllllllllllllllllllllllllllllllllllllllllllllllllllllllllllllllllllllllllllllllllllllllllllllllllllllllllllllllllllllllllllllllllllllllllllllllllllllllllllllllllllllllllllllllllllllllllllllllllllllllllllllllllllllllllllllllllllllllllllllllllllllllllllllllllllllllllllllllllllllllllllllllllllllllllllllllllllllllllllllllllllllllllllllllllllllllllllllllllllllllllllllllllllllllllllllllllllllllllllllllllllllllllllllllllllllllllllllllllllllllllllllllllllllllllllllllllllllllllllllllllllllllllllllllllllllllllllllllllllllllllllllllllllllllllllllllllllllllllllllllllllllllllllllllllllllllllllllllllllllllllllllllllllllllllllllllllllllllllllllllllllllllllllllllllllllllllllllllllllllllllllllllllllllllllllllllllllllllllllllllllllllllllllllllllllllllllllllllllllllllllllllllllllllllllllllllllllllllllllllllllllllllllllllllllllllllllllllllllllllllllllllllllllllllllllllllllllllllllllllllllllllllllllllllllllllllllllllllllllllllllllllllllllllllllllllllllllllllllllllllllllllllllllllllllllllllllllllllllllllllllllllllllllllllllllllllllllllllllllllllllllllllllllllllllllllllllllllllllllllllllllllllllllllllllllllllllllllllllllllllllllllllllllllllllllllllllllllllllllllllllllllllllllllllllllllllllllllllllllllllllllllllllllllllllllllllllllllllllllllllllllllllllllllllllllllllllllllllllllllllllllllllllllllllllllllllllllllllllllllllllllllllllllllllllllllllllllllllllllllllllllllllllllllllllllllllllllllllllllllllllllllllllllllllllllllllllllllllllllllllllllllllllllllllllllllllllllllllllllllllllllllllllllllllllllllllllllllllllllllllllllllllllllllllllllllllllllllllllllllllllllllllllllllllllllllllllllllllllllllllllllllllllllllllllllllllllllllllllllllllllllllllllllllllllllllllllllllllllllllllllllllllllllllllllllllllllllllllllllllllllllllllllllllllllllllllllllllllllllllllllllllllllllllllllllllllllllllllllllllllllllllllllllllllllllllllllllllllllllllllllllllllllllllllllllllllllllllllllllllllllllllllllllllllllllllllllllllllllllllllllllllllllllllllllllllllllllllllllllllllllllllllllllllllllllllllllllllllllllllllllllllllllllllllllllllllllllllllllllllllllllllllllllllllllllllllllllllllllllllllllllllllllllllllllllllllllllllllllllllllllllllllllllllllllllllllllllllllllllllllllllllllllllllllllllllllllllllllllllllllllllllllllllllllllllllllllllllllllllllllllllllllllllllllllllllllllllllllllllllllllllllllllllllllllllllllllllllllllllllllllllllllllllllllllllllllllllllllllllllllllllllllllllllllllllllllllllllllllllllllllllllllllllllllllllllllllllllllllllllllllllllllllllllllllllllllllllllllllllllllllllllllllllllllllllllllllllllllllllllllllllllllllllllllllllllllllllllllllllllllllllllllllllllllllllllllllllllllllllllllllllllllllllllllllllllllllllllllllllllllllllllllllllllllllllllllllllllllllllllllllllllllllllllllllllllllllllllllllllllllllllllllllllllllllllllllllllllllllllllllllllllllllllllllllllllllllllllllllllllllllllllllllllllllllllllllllllllllllllllllllllllllllllllllllllllllllllllllllllllllllllllllllllllllllllllllllllllllllllllllllllllllllllllllllllllllllllllllllllllllllllllllllllllllllllllllllllllllllllllllllllllllllllllllllllllllllllllllllllllllllllllllllllllllllllllllllllllllllllllllllllllllllllllllllllllllllllllllllllllllllllllllllllllllllllllllllllllllllllllllllllllllllllllllllllllllllllllllllllllllllllllllllllllllllllllllllllllllllllllllllllllllllllllllllllllllllllllllllllllllllllllllllllllllllllllllllllllllllllllllllllllllllllllllllllllllllllllllllllllllllllllllllllllllllllllllllllllllllllllllllllllllllllllllllllllllllllllllllllllllllllllllllllllllllllllllllllllllllllllllllllllllllllllllllllllllllllllllllllllllllllllllllllllllllllllllllllllllllllllllllllllllllllllllllllllllllllllllllllllllllllllllllllllllllllllllllllllllllllllllllllllllllllllllllllllllllllllllllllllllllllllllllllllllllllllllllllllllllllllllllllllllllllllllllllllllllllllllllllllllllllllllllllllllllllllllllllllllllllllllllllllllllllllllllllllllllllllllllllllllllllllllllllllllllllllllllllllllllllllllllllllllllllllllllllllllllllllllllllllllllllllllllllllllllllllllllllllllllllllllllllllllllllllllllllllllllllllllllllllllllllllllllllllllllllllllllllllllllllllllllllllllllllllllllllllllllllllllllllllllllllllllllllllllllllllllllllllllllllllllllllllllllllllllllllllllllllllllllllllllllllllllllllllllllllllllllllllllllllllllllllllllllllllllllllllllllllllllllllllllll}\n",
       " tube.number & empty.tube.weight..mg. & full.tube.weight..mg. & sample.weight..mg. & volume.of.water.for.homogenization..50.mg.in.125.uL. & volume.of.methnanol.for.homogenization..50.mg.in.125.uL..minus.10.uL.volume.removed.for.DNA..except.for.samples.below.60.ul. & final.volume\\_aq & volume.plated\\_aq & DCM.MeOH.volume..50.mg.in.250.uL. & volume.plated\\_org & ⋯ & X1015.67\\_2.925 & X1017.686\\_2.968 & X1019.701\\_3.043 & X1027.616\\_2.55 & X1031.589\\_2.653 & X1031.589\\_5.748 & X1031.59\\_2.57 & X1031.59\\_3.036 & X1031.59\\_2.484 & X1039.671\\_2.894\\\\\n",
       "\\hline\n",
       "\t 100         & 1004.8      & 1151.8      & 147.0       & 367.50      & 357.50      & 725.0       & 110         & 735.0       & 100         & ⋯           & 5.27e-05    & 0.000130788 & 0.00e+00    & 0           & 0           & 0           & 0           & 0           & 0           & 9.87e-06   \\\\\n",
       "\t 101         & 1002.9      & 1071.2      &  68.3       & 170.75      & 160.75      & 331.5       & 110         & 341.5       & 100         & ⋯           & 0.00e+00    & 0.000000000 & 9.87e-05    & 0           & 0           & 0           & 0           & 0           & 0           & 0.00e+00   \\\\\n",
       "\t 102         & 1000.3      & 1041.3      &  41.0       & 102.50      &  92.50      & 195.0       & 110         & 205.0       & 100         & ⋯           & 0.00e+00    & 0.000000000 & 0.00e+00    & 0           & 0           & 0           & 0           & 0           & 0           & 0.00e+00   \\\\\n",
       "\t 103         & 1012.8      & 1046.1      &  33.3       &  83.25      &  83.25      & 166.5       & 110         & 166.5       & 100         & ⋯           & 0.00e+00    & 0.000000000 & 0.00e+00    & 0           & 0           & 0           & 0           & 0           & 0           & 0.00e+00   \\\\\n",
       "\t 106         & 1009.1      & 1075.0      &  65.9       & 164.75      & 154.75      & 319.5       & 110         & 329.5       & 100         & ⋯           & 0.00e+00    & 0.000199312 & 0.00e+00    & 0           & 0           & 0           & 0           & 0           & 0           & 0.00e+00   \\\\\n",
       "\t 107         & 1010.1      & 1100.6      &  90.5       & 226.25      & 216.25      & 442.5       & 110         & 452.5       & 100         & ⋯           & 3.75e-05    & 0.000126502 & 0.00e+00    & 0           & 0           & 0           & 0           & 0           & 0           & 0.00e+00   \\\\\n",
       "\\end{tabular}\n"
      ],
      "text/markdown": [
       "\n",
       "tube.number | empty.tube.weight..mg. | full.tube.weight..mg. | sample.weight..mg. | volume.of.water.for.homogenization..50.mg.in.125.uL. | volume.of.methnanol.for.homogenization..50.mg.in.125.uL..minus.10.uL.volume.removed.for.DNA..except.for.samples.below.60.ul. | final.volume_aq | volume.plated_aq | DCM.MeOH.volume..50.mg.in.250.uL. | volume.plated_org | ⋯ | X1015.67_2.925 | X1017.686_2.968 | X1019.701_3.043 | X1027.616_2.55 | X1031.589_2.653 | X1031.589_5.748 | X1031.59_2.57 | X1031.59_3.036 | X1031.59_2.484 | X1039.671_2.894 | \n",
       "|---|---|---|---|---|---|\n",
       "| 100         | 1004.8      | 1151.8      | 147.0       | 367.50      | 357.50      | 725.0       | 110         | 735.0       | 100         | ⋯           | 5.27e-05    | 0.000130788 | 0.00e+00    | 0           | 0           | 0           | 0           | 0           | 0           | 9.87e-06    | \n",
       "| 101         | 1002.9      | 1071.2      |  68.3       | 170.75      | 160.75      | 331.5       | 110         | 341.5       | 100         | ⋯           | 0.00e+00    | 0.000000000 | 9.87e-05    | 0           | 0           | 0           | 0           | 0           | 0           | 0.00e+00    | \n",
       "| 102         | 1000.3      | 1041.3      |  41.0       | 102.50      |  92.50      | 195.0       | 110         | 205.0       | 100         | ⋯           | 0.00e+00    | 0.000000000 | 0.00e+00    | 0           | 0           | 0           | 0           | 0           | 0           | 0.00e+00    | \n",
       "| 103         | 1012.8      | 1046.1      |  33.3       |  83.25      |  83.25      | 166.5       | 110         | 166.5       | 100         | ⋯           | 0.00e+00    | 0.000000000 | 0.00e+00    | 0           | 0           | 0           | 0           | 0           | 0           | 0.00e+00    | \n",
       "| 106         | 1009.1      | 1075.0      |  65.9       | 164.75      | 154.75      | 319.5       | 110         | 329.5       | 100         | ⋯           | 0.00e+00    | 0.000199312 | 0.00e+00    | 0           | 0           | 0           | 0           | 0           | 0           | 0.00e+00    | \n",
       "| 107         | 1010.1      | 1100.6      |  90.5       | 226.25      | 216.25      | 442.5       | 110         | 452.5       | 100         | ⋯           | 3.75e-05    | 0.000126502 | 0.00e+00    | 0           | 0           | 0           | 0           | 0           | 0           | 0.00e+00    | \n",
       "\n",
       "\n"
      ],
      "text/plain": [
       "  tube.number empty.tube.weight..mg. full.tube.weight..mg. sample.weight..mg.\n",
       "1 100         1004.8                 1151.8                147.0             \n",
       "2 101         1002.9                 1071.2                 68.3             \n",
       "3 102         1000.3                 1041.3                 41.0             \n",
       "4 103         1012.8                 1046.1                 33.3             \n",
       "5 106         1009.1                 1075.0                 65.9             \n",
       "6 107         1010.1                 1100.6                 90.5             \n",
       "  volume.of.water.for.homogenization..50.mg.in.125.uL.\n",
       "1 367.50                                              \n",
       "2 170.75                                              \n",
       "3 102.50                                              \n",
       "4  83.25                                              \n",
       "5 164.75                                              \n",
       "6 226.25                                              \n",
       "  volume.of.methnanol.for.homogenization..50.mg.in.125.uL..minus.10.uL.volume.removed.for.DNA..except.for.samples.below.60.ul.\n",
       "1 357.50                                                                                                                      \n",
       "2 160.75                                                                                                                      \n",
       "3  92.50                                                                                                                      \n",
       "4  83.25                                                                                                                      \n",
       "5 154.75                                                                                                                      \n",
       "6 216.25                                                                                                                      \n",
       "  final.volume_aq volume.plated_aq DCM.MeOH.volume..50.mg.in.250.uL.\n",
       "1 725.0           110              735.0                            \n",
       "2 331.5           110              341.5                            \n",
       "3 195.0           110              205.0                            \n",
       "4 166.5           110              166.5                            \n",
       "5 319.5           110              329.5                            \n",
       "6 442.5           110              452.5                            \n",
       "  volume.plated_org ⋯ X1015.67_2.925 X1017.686_2.968 X1019.701_3.043\n",
       "1 100               ⋯ 5.27e-05       0.000130788     0.00e+00       \n",
       "2 100               ⋯ 0.00e+00       0.000000000     9.87e-05       \n",
       "3 100               ⋯ 0.00e+00       0.000000000     0.00e+00       \n",
       "4 100               ⋯ 0.00e+00       0.000000000     0.00e+00       \n",
       "5 100               ⋯ 0.00e+00       0.000199312     0.00e+00       \n",
       "6 100               ⋯ 3.75e-05       0.000126502     0.00e+00       \n",
       "  X1027.616_2.55 X1031.589_2.653 X1031.589_5.748 X1031.59_2.57 X1031.59_3.036\n",
       "1 0              0               0               0             0             \n",
       "2 0              0               0               0             0             \n",
       "3 0              0               0               0             0             \n",
       "4 0              0               0               0             0             \n",
       "5 0              0               0               0             0             \n",
       "6 0              0               0               0             0             \n",
       "  X1031.59_2.484 X1039.671_2.894\n",
       "1 0              9.87e-06       \n",
       "2 0              0.00e+00       \n",
       "3 0              0.00e+00       \n",
       "4 0              0.00e+00       \n",
       "5 0              0.00e+00       \n",
       "6 0              0.00e+00       "
      ]
     },
     "metadata": {},
     "output_type": "display_data"
    },
    {
     "data": {
      "text/html": [
       "<ol class=list-inline>\n",
       "\t<li>649</li>\n",
       "\t<li>5527</li>\n",
       "</ol>\n"
      ],
      "text/latex": [
       "\\begin{enumerate*}\n",
       "\\item 649\n",
       "\\item 5527\n",
       "\\end{enumerate*}\n"
      ],
      "text/markdown": [
       "1. 649\n",
       "2. 5527\n",
       "\n",
       "\n"
      ],
      "text/plain": [
       "[1]  649 5527"
      ]
     },
     "metadata": {},
     "output_type": "display_data"
    }
   ],
   "source": [
    "gimap_norm_features_w_metadta<-merge(metadata,gimap_norm_features,by=\"tube.number\")\n",
    "head(gimap_norm_features_w_metadta)\n",
    "dim(gimap_norm_features_w_metadta)"
   ]
  },
  {
   "cell_type": "code",
   "execution_count": 12,
   "metadata": {
    "collapsed": true
   },
   "outputs": [],
   "source": [
    "write.csv(gimap_norm_features_w_metadta,\"GIMap_mzMined_curated_transposed_FilesRemoved_blankRemoved_TICNormed_w_metadata_03302019.csv\")"
   ]
  },
  {
   "cell_type": "code",
   "execution_count": 1,
   "metadata": {
    "collapsed": true
   },
   "outputs": [],
   "source": [
    "O_12d_pos<-read.csv(\"O_12d.csv\",h=T,sep=\",\",dec=\".\")\n",
    "O_89d_pos<-read.csv(\"O_89d.csv\",h=T,sep=\",\",dec=\".\")\n",
    "SC_12d_pos<-read.csv(\"SC_12d.csv\",h=T,sep=\",\",dec=\".\")\n",
    "SC_89d_pos<-read.csv(\"SC_89d.csv\",h=T,sep=\",\",dec=\".\")\n",
    "SI_12d_pos<-read.csv(\"SI_12d.csv\",h=T,sep=\",\",dec=\".\")\n",
    "SI_89d_pos<-read.csv(\"SI_89d.csv\",h=T,sep=\",\",dec=\".\")\n",
    "LI_12d_pos<-read.csv(\"LI_Only_12d.csv\",h=T,sep=\",\",dec=\".\")\n",
    "LI_89d_pos<-read.csv(\"LI_Only_89d.csv\",h=T,sep=\",\",dec=\".\")\n",
    "Ce_12d_pos<-read.csv(\"Ce_12d.csv\",h=T,sep=\",\",dec=\".\")\n",
    "Ce_89d_pos<-read.csv(\"Ce_89d.csv\",h=T,sep=\",\",dec=\".\")"
   ]
  },
  {
   "cell_type": "code",
   "execution_count": null,
   "metadata": {},
   "outputs": [],
   "source": [
    "#running random forest analyses"
   ]
  },
  {
   "cell_type": "code",
   "execution_count": 2,
   "metadata": {},
   "outputs": [
    {
     "name": "stderr",
     "output_type": "stream",
     "text": [
      "Warning message:\n",
      "\"package 'randomForest' was built under R version 3.4.4\"randomForest 4.6-14\n",
      "Type rfNews() to see new features/changes/bug fixes.\n"
     ]
    }
   ],
   "source": [
    "library(randomForest)"
   ]
  },
  {
   "cell_type": "code",
   "execution_count": 3,
   "metadata": {},
   "outputs": [
    {
     "data": {
      "text/html": [
       "<table>\n",
       "<thead><tr><th scope=col>well_pos</th><th scope=col>X70.012_0.234</th><th scope=col>X70.013_2.191</th><th scope=col>X70.065_0.36</th><th scope=col>X70.065_0.264</th><th scope=col>X72.081_0.36</th></tr></thead>\n",
       "<tbody>\n",
       "\t<tr><td>P1_C1      </td><td>0          </td><td>0          </td><td>0.001208910</td><td>0.00e+00   </td><td>0.006620560</td></tr>\n",
       "\t<tr><td>P1_C6      </td><td>0          </td><td>0          </td><td>0.000936461</td><td>0.00e+00   </td><td>0.006555226</td></tr>\n",
       "\t<tr><td>P1_C11     </td><td>0          </td><td>0          </td><td>0.000889038</td><td>0.00e+00   </td><td>0.007604452</td></tr>\n",
       "\t<tr><td>P1_D4      </td><td>0          </td><td>0          </td><td>0.001406239</td><td>5.55e-05   </td><td>0.006766866</td></tr>\n",
       "\t<tr><td>P1_D9      </td><td>0          </td><td>0          </td><td>0.001092123</td><td>0.00e+00   </td><td>0.007444897</td></tr>\n",
       "\t<tr><td>P1_E2      </td><td>0          </td><td>0          </td><td>0.001253628</td><td>5.44e-05   </td><td>0.006240767</td></tr>\n",
       "</tbody>\n",
       "</table>\n"
      ],
      "text/latex": [
       "\\begin{tabular}{r|llllll}\n",
       " well\\_pos & X70.012\\_0.234 & X70.013\\_2.191 & X70.065\\_0.36 & X70.065\\_0.264 & X72.081\\_0.36\\\\\n",
       "\\hline\n",
       "\t P1\\_C1     & 0           & 0           & 0.001208910 & 0.00e+00    & 0.006620560\\\\\n",
       "\t P1\\_C6     & 0           & 0           & 0.000936461 & 0.00e+00    & 0.006555226\\\\\n",
       "\t P1\\_C11    & 0           & 0           & 0.000889038 & 0.00e+00    & 0.007604452\\\\\n",
       "\t P1\\_D4     & 0           & 0           & 0.001406239 & 5.55e-05    & 0.006766866\\\\\n",
       "\t P1\\_D9     & 0           & 0           & 0.001092123 & 0.00e+00    & 0.007444897\\\\\n",
       "\t P1\\_E2     & 0           & 0           & 0.001253628 & 5.44e-05    & 0.006240767\\\\\n",
       "\\end{tabular}\n"
      ],
      "text/markdown": [
       "\n",
       "well_pos | X70.012_0.234 | X70.013_2.191 | X70.065_0.36 | X70.065_0.264 | X72.081_0.36 | \n",
       "|---|---|---|---|---|---|\n",
       "| P1_C1       | 0           | 0           | 0.001208910 | 0.00e+00    | 0.006620560 | \n",
       "| P1_C6       | 0           | 0           | 0.000936461 | 0.00e+00    | 0.006555226 | \n",
       "| P1_C11      | 0           | 0           | 0.000889038 | 0.00e+00    | 0.007604452 | \n",
       "| P1_D4       | 0           | 0           | 0.001406239 | 5.55e-05    | 0.006766866 | \n",
       "| P1_D9       | 0           | 0           | 0.001092123 | 0.00e+00    | 0.007444897 | \n",
       "| P1_E2       | 0           | 0           | 0.001253628 | 5.44e-05    | 0.006240767 | \n",
       "\n",
       "\n"
      ],
      "text/plain": [
       "  well_pos X70.012_0.234 X70.013_2.191 X70.065_0.36 X70.065_0.264 X72.081_0.36\n",
       "1 P1_C1    0             0             0.001208910  0.00e+00      0.006620560 \n",
       "2 P1_C6    0             0             0.000936461  0.00e+00      0.006555226 \n",
       "3 P1_C11   0             0             0.000889038  0.00e+00      0.007604452 \n",
       "4 P1_D4    0             0             0.001406239  5.55e-05      0.006766866 \n",
       "5 P1_D9    0             0             0.001092123  0.00e+00      0.007444897 \n",
       "6 P1_E2    0             0             0.001253628  5.44e-05      0.006240767 "
      ]
     },
     "metadata": {},
     "output_type": "display_data"
    },
    {
     "data": {
      "text/html": [
       "<ol class=list-inline>\n",
       "\t<li>20</li>\n",
       "\t<li>5527</li>\n",
       "</ol>\n"
      ],
      "text/latex": [
       "\\begin{enumerate*}\n",
       "\\item 20\n",
       "\\item 5527\n",
       "\\end{enumerate*}\n"
      ],
      "text/markdown": [
       "1. 20\n",
       "2. 5527\n",
       "\n",
       "\n"
      ],
      "text/plain": [
       "[1]   20 5527"
      ]
     },
     "metadata": {},
     "output_type": "display_data"
    }
   ],
   "source": [
    "head(Ce_12d_pos[25:30])\n",
    "dim(Ce_12d_pos)"
   ]
  },
  {
   "cell_type": "code",
   "execution_count": 5,
   "metadata": {},
   "outputs": [
    {
     "data": {
      "text/plain": [
       "\n",
       "Call:\n",
       " randomForest(formula = O_12d_pos$condition ~ ., data = O_12d_pos[,      26:5527], importance = T, ntree = 7501) \n",
       "               Type of random forest: classification\n",
       "                     Number of trees: 7501\n",
       "No. of variables tried at each split: 74\n",
       "\n",
       "        OOB estimate of  error rate: 20%\n",
       "Confusion matrix:\n",
       "           infected uninfected class.error\n",
       "infected          9          1         0.1\n",
       "uninfected        3          7         0.3"
      ]
     },
     "metadata": {},
     "output_type": "display_data"
    }
   ],
   "source": [
    "rffit1<-randomForest(O_12d_pos$condition~.,data=O_12d_pos[,26:5527],importance=T,ntree=7501)\n",
    "rffit1"
   ]
  },
  {
   "cell_type": "code",
   "execution_count": 6,
   "metadata": {},
   "outputs": [
    {
     "data": {
      "text/plain": [
       "\n",
       "Call:\n",
       " randomForest(formula = O_89d_pos$condition ~ ., data = O_89d_pos[,      26:5527], importance = T, ntree = 7501) \n",
       "               Type of random forest: classification\n",
       "                     Number of trees: 7501\n",
       "No. of variables tried at each split: 74\n",
       "\n",
       "        OOB estimate of  error rate: 10%\n",
       "Confusion matrix:\n",
       "           infected uninfected class.error\n",
       "infected         10          0         0.0\n",
       "uninfected        2          8         0.2"
      ]
     },
     "metadata": {},
     "output_type": "display_data"
    }
   ],
   "source": [
    "rffit2<-randomForest(O_89d_pos$condition~.,data=O_89d_pos[,26:5527],importance=T,ntree=7501)\n",
    "rffit2"
   ]
  },
  {
   "cell_type": "code",
   "execution_count": 8,
   "metadata": {},
   "outputs": [
    {
     "data": {
      "text/plain": [
       "\n",
       "Call:\n",
       " randomForest(formula = SC_12d_pos$condition ~ ., data = SC_12d_pos[,      26:5527], importance = T, ntree = 7501) \n",
       "               Type of random forest: classification\n",
       "                     Number of trees: 7501\n",
       "No. of variables tried at each split: 74\n",
       "\n",
       "        OOB estimate of  error rate: 27.59%\n",
       "Confusion matrix:\n",
       "           infected uninfected class.error\n",
       "infected         24          6   0.2000000\n",
       "uninfected       10         18   0.3571429"
      ]
     },
     "metadata": {},
     "output_type": "display_data"
    }
   ],
   "source": [
    "rffit3<-randomForest(SC_12d_pos$condition~.,data=SC_12d_pos[,26:5527],importance=T,ntree=7501)\n",
    "rffit3"
   ]
  },
  {
   "cell_type": "code",
   "execution_count": 9,
   "metadata": {},
   "outputs": [
    {
     "data": {
      "text/plain": [
       "\n",
       "Call:\n",
       " randomForest(formula = SC_89d_pos$condition ~ ., data = SC_89d_pos[,      26:5527], importance = T, ntree = 7501) \n",
       "               Type of random forest: classification\n",
       "                     Number of trees: 7501\n",
       "No. of variables tried at each split: 74\n",
       "\n",
       "        OOB estimate of  error rate: 18.33%\n",
       "Confusion matrix:\n",
       "           infected uninfected class.error\n",
       "infected         25          5   0.1666667\n",
       "uninfected        6         24   0.2000000"
      ]
     },
     "metadata": {},
     "output_type": "display_data"
    }
   ],
   "source": [
    "rffit4<-randomForest(SC_89d_pos$condition~.,data=SC_89d_pos[,26:5527],importance=T,ntree=7501)\n",
    "rffit4"
   ]
  },
  {
   "cell_type": "code",
   "execution_count": 11,
   "metadata": {},
   "outputs": [
    {
     "data": {
      "text/plain": [
       "\n",
       "Call:\n",
       " randomForest(formula = SI_12d_pos$condition ~ ., data = SI_12d_pos[,      26:5527], importance = T, ntree = 7501) \n",
       "               Type of random forest: classification\n",
       "                     Number of trees: 7501\n",
       "No. of variables tried at each split: 74\n",
       "\n",
       "        OOB estimate of  error rate: 12%\n",
       "Confusion matrix:\n",
       "           infected uninfected class.error\n",
       "infected         41          9        0.18\n",
       "uninfected        3         47        0.06"
      ]
     },
     "metadata": {},
     "output_type": "display_data"
    }
   ],
   "source": [
    "rffit5<-randomForest(SI_12d_pos$condition~.,data=SI_12d_pos[,26:5527],importance=T,ntree=7501)\n",
    "rffit5"
   ]
  },
  {
   "cell_type": "code",
   "execution_count": 12,
   "metadata": {},
   "outputs": [
    {
     "data": {
      "text/plain": [
       "\n",
       "Call:\n",
       " randomForest(formula = SI_89d_pos$condition ~ ., data = SI_89d_pos[,      26:5527], importance = T, ntree = 7501) \n",
       "               Type of random forest: classification\n",
       "                     Number of trees: 7501\n",
       "No. of variables tried at each split: 74\n",
       "\n",
       "        OOB estimate of  error rate: 20.41%\n",
       "Confusion matrix:\n",
       "           infected uninfected class.error\n",
       "infected         43          5   0.1041667\n",
       "uninfected       15         35   0.3000000"
      ]
     },
     "metadata": {},
     "output_type": "display_data"
    }
   ],
   "source": [
    "rffit6<-randomForest(SI_89d_pos$condition~.,data=SI_89d_pos[,26:5527],importance=T,ntree=7501)\n",
    "rffit6"
   ]
  },
  {
   "cell_type": "code",
   "execution_count": 13,
   "metadata": {},
   "outputs": [
    {
     "data": {
      "text/plain": [
       "\n",
       "Call:\n",
       " randomForest(formula = LI_12d_pos$condition ~ ., data = LI_12d_pos[,      26:5527], importance = T, ntree = 7501) \n",
       "               Type of random forest: classification\n",
       "                     Number of trees: 7501\n",
       "No. of variables tried at each split: 74\n",
       "\n",
       "        OOB estimate of  error rate: 13.33%\n",
       "Confusion matrix:\n",
       "           infected uninfected class.error\n",
       "infected         27          3   0.1000000\n",
       "uninfected        5         25   0.1666667"
      ]
     },
     "metadata": {},
     "output_type": "display_data"
    }
   ],
   "source": [
    "rffit7<-randomForest(LI_12d_pos$condition~.,data=LI_12d_pos[,26:5527],importance=T,ntree=7501)\n",
    "rffit7"
   ]
  },
  {
   "cell_type": "code",
   "execution_count": 14,
   "metadata": {},
   "outputs": [
    {
     "data": {
      "text/plain": [
       "\n",
       "Call:\n",
       " randomForest(formula = LI_89d_pos$condition ~ ., data = LI_89d_pos[,      26:5527], importance = T, ntree = 7501) \n",
       "               Type of random forest: classification\n",
       "                     Number of trees: 7501\n",
       "No. of variables tried at each split: 74\n",
       "\n",
       "        OOB estimate of  error rate: 13.33%\n",
       "Confusion matrix:\n",
       "           infected uninfected class.error\n",
       "infected         26          4   0.1333333\n",
       "uninfected        4         26   0.1333333"
      ]
     },
     "metadata": {},
     "output_type": "display_data"
    }
   ],
   "source": [
    "rffit8<-randomForest(LI_89d_pos$condition~.,data=LI_89d_pos[,26:5527],importance=T,ntree=7501)\n",
    "rffit8"
   ]
  },
  {
   "cell_type": "code",
   "execution_count": 15,
   "metadata": {},
   "outputs": [
    {
     "data": {
      "text/plain": [
       "\n",
       "Call:\n",
       " randomForest(formula = Ce_12d_pos$condition ~ ., data = Ce_12d_pos[,      26:5527], importance = T, ntree = 7501) \n",
       "               Type of random forest: classification\n",
       "                     Number of trees: 7501\n",
       "No. of variables tried at each split: 74\n",
       "\n",
       "        OOB estimate of  error rate: 20%\n",
       "Confusion matrix:\n",
       "           infected uninfected class.error\n",
       "infected         10          0         0.0\n",
       "uninfected        4          6         0.4"
      ]
     },
     "metadata": {},
     "output_type": "display_data"
    }
   ],
   "source": [
    "rffit9<-randomForest(Ce_12d_pos$condition~.,data=Ce_12d_pos[,26:5527],importance=T,ntree=7501)\n",
    "rffit9"
   ]
  },
  {
   "cell_type": "code",
   "execution_count": 16,
   "metadata": {},
   "outputs": [
    {
     "data": {
      "text/plain": [
       "\n",
       "Call:\n",
       " randomForest(formula = Ce_89d_pos$condition ~ ., data = Ce_89d_pos[,      26:5527], importance = T, ntree = 7501) \n",
       "               Type of random forest: classification\n",
       "                     Number of trees: 7501\n",
       "No. of variables tried at each split: 74\n",
       "\n",
       "        OOB estimate of  error rate: 20%\n",
       "Confusion matrix:\n",
       "           infected uninfected class.error\n",
       "infected          8          2         0.2\n",
       "uninfected        2          8         0.2"
      ]
     },
     "metadata": {},
     "output_type": "display_data"
    }
   ],
   "source": [
    "rffit10<-randomForest(Ce_89d_pos$condition~.,data=Ce_89d_pos[,26:5527],importance=T,ntree=7501)\n",
    "rffit10"
   ]
  },
  {
   "cell_type": "code",
   "execution_count": 17,
   "metadata": {
    "collapsed": true
   },
   "outputs": [],
   "source": [
    "write.csv(rffit1$importance,\"O_12d_RF_Condition.csv\")\n",
    "write.csv(rffit2$importance,\"O_89d_RF_Condition.csv\")\n",
    "write.csv(rffit3$importance,\"SC_12d_RF_Condition.csv\")\n",
    "write.csv(rffit4$importance,\"SC_89d_RF_Condition.csv\")\n",
    "write.csv(rffit5$importance,\"SI_12d_RF_Condition.csv\")\n",
    "write.csv(rffit6$importance,\"SI_89d_RF_Condition.csv\")\n",
    "write.csv(rffit7$importance,\"LI_12d_RF_Condition.csv\")\n",
    "write.csv(rffit8$importance,\"LI_89d_RF_Condition.csv\")\n",
    "write.csv(rffit9$importance,\"Ce_12d_RF_Condition.csv\")\n",
    "write.csv(rffit10$importance,\"Ce_89d_RF_Condition.csv\")"
   ]
  },
  {
   "cell_type": "code",
   "execution_count": null,
   "metadata": {},
   "outputs": [],
   "source": [
    "#generating boxplots for figures and calculating p values"
   ]
  },
  {
   "cell_type": "code",
   "execution_count": 1,
   "metadata": {},
   "outputs": [
    {
     "data": {
      "text/plain": [
       "\n",
       " 12 \n",
       "258 "
      ]
     },
     "metadata": {},
     "output_type": "display_data"
    },
    {
     "data": {
      "text/plain": [
       "\n",
       " 89 \n",
       "258 "
      ]
     },
     "metadata": {},
     "output_type": "display_data"
    },
    {
     "data": {
      "text/html": [
       "<ol class=list-inline>\n",
       "\t<li>'infected'</li>\n",
       "\t<li>'uninfected'</li>\n",
       "</ol>\n"
      ],
      "text/latex": [
       "\\begin{enumerate*}\n",
       "\\item 'infected'\n",
       "\\item 'uninfected'\n",
       "\\end{enumerate*}\n"
      ],
      "text/markdown": [
       "1. 'infected'\n",
       "2. 'uninfected'\n",
       "\n",
       "\n"
      ],
      "text/plain": [
       "[1] \"infected\"   \"uninfected\""
      ]
     },
     "metadata": {},
     "output_type": "display_data"
    },
    {
     "data": {
      "text/html": [
       "<ol class=list-inline>\n",
       "\t<li>'uninfected'</li>\n",
       "\t<li>'infected'</li>\n",
       "</ol>\n"
      ],
      "text/latex": [
       "\\begin{enumerate*}\n",
       "\\item 'uninfected'\n",
       "\\item 'infected'\n",
       "\\end{enumerate*}\n"
      ],
      "text/markdown": [
       "1. 'uninfected'\n",
       "2. 'infected'\n",
       "\n",
       "\n"
      ],
      "text/plain": [
       "[1] \"uninfected\" \"infected\"  "
      ]
     },
     "metadata": {},
     "output_type": "display_data"
    }
   ],
   "source": [
    "features_pos<-read.csv(\"C:/Users/Laura-Isobel_PC/Documents/OU/projects/GI mapping Chagas/GIMap_mzMined_curated_transposed_FilesRemoved_blankRemoved_TICNormed_w_metadata_03302019_organs.csv\")\n",
    "features_pos_89d<-droplevels(subset(features_pos, features_pos$days.post.infection==c(\"89\")))\n",
    "features_pos_12d<-droplevels(subset(features_pos, features_pos$days.post.infection==c(\"12\")))\n",
    "table(features_pos_12d$days.post.infection)\n",
    "table(features_pos_89d$days.post.infection)\n",
    "levels(features_pos$condition)\n",
    "features_pos$condition<-factor(features_pos$condition,levels=levels(features_pos$condition)[c(2,1)])\n",
    "levels(features_pos$condition)\n",
    "features_pos_12d$condition<-factor(features_pos_12d$condition,levels=levels(features_pos_12d$condition)[c(2,1)])\n",
    "features_pos_89d$condition<-factor(features_pos_89d$condition,levels=levels(features_pos_89d$condition)[c(2,1)])\n"
   ]
  },
  {
   "cell_type": "code",
   "execution_count": 2,
   "metadata": {},
   "outputs": [
    {
     "data": {
      "text/html": [
       "<strong>png:</strong> 2"
      ],
      "text/latex": [
       "\\textbf{png:} 2"
      ],
      "text/markdown": [
       "**png:** 2"
      ],
      "text/plain": [
       "png \n",
       "  2 "
      ]
     },
     "metadata": {},
     "output_type": "display_data"
    },
    {
     "data": {
      "image/png": "[encoded data removed]",
      "text/plain": [
       "plot without title"
      ]
     },
     "metadata": {},
     "output_type": "display_data"
    }
   ],
   "source": [
    "boxplot(features_pos_12d$X448.341_2.901~features_pos_12d$condition:features_pos_12d$DigitizedPosition, ylab=c(\"C20:4 acylcarnitine\"), col=c('blue', \"red\"), cex.lab=1.4, cex.axis=1.4, outline=FALSE, ylim=c(0, 0.0012), xlab=\"Sampling position\", xaxt=\"n\")\n",
    "stripchart(features_pos_12d$X448.341_2.901~features_pos_12d$condition:features_pos_12d$DigitizedPosition, vertical = TRUE,    method = \"jitter\", add = TRUE, pch = 20, col = 'black', ylim=c(0, 0.0012))\n",
    "\n",
    "pdf(\"C20_4 acylcarnitine_12d.pdf\")\n",
    "boxplot(features_pos_12d$X448.341_2.901~features_pos_12d$condition:features_pos_12d$DigitizedPosition, ylab=c(\"C20:4 acylcarnitine\"), col=c('blue', \"red\"), cex.lab=1.4, cex.axis=1.4, outline=FALSE, ylim=c(0, 0.0012), xlab=\"Sampling position\", xaxt=\"n\")\n",
    "stripchart(features_pos_12d$X448.341_2.901~features_pos_12d$condition:features_pos_12d$DigitizedPosition, vertical = TRUE,    method = \"jitter\", add = TRUE, pch = 20, col = 'black', ylim=c(0, 0.0012))\n",
    "dev.off()\n"
   ]
  },
  {
   "cell_type": "code",
   "execution_count": 3,
   "metadata": {},
   "outputs": [
    {
     "name": "stderr",
     "output_type": "stream",
     "text": [
      "Warning message in wilcox.test.default(x = c(6.8e-05, 0, 0, 0, 0, 6.02e-05, 0, 0, :\n",
      "\"cannot compute exact p-value with ties\"Warning message in wilcox.test.default(x = c(0, 4.03e-05, 0, 0, 0, 6.04e-05, 0, :\n",
      "\"cannot compute exact p-value with ties\"Warning message in wilcox.test.default(x = c(0, 4.43e-05, 5e-05, 0, 0, 0, 1.7e-05, :\n",
      "\"cannot compute exact p-value with ties\"Warning message in wilcox.test.default(x = c(0.000141098, 0.000103213, 0.000106408, :\n",
      "\"cannot compute exact p-value with ties\"Warning message in wilcox.test.default(x = c(7.67e-05, 0.000171332, 0, 7.16e-05, :\n",
      "\"cannot compute exact p-value with ties\"Warning message in wilcox.test.default(x = c(9.39e-05, 6.03e-05, 6.54e-05, 0, 0, :\n",
      "\"cannot compute exact p-value with ties\"Warning message in wilcox.test.default(x = c(0, 0, 0, 0, 0, 0, 0.00012951, 0, 0.000100209, :\n",
      "\"cannot compute exact p-value with ties\"Warning message in wilcox.test.default(x = c(6.71e-05, 0, 0.000159363, 0, 0, 0, :\n",
      "\"cannot compute exact p-value with ties\"Warning message in wilcox.test.default(x = c(0, 0, 0.00012171, 0, 6.22e-05, 0, 0.00011933, :\n",
      "\"cannot compute exact p-value with ties\""
     ]
    },
    {
     "data": {
      "text/html": [
       "<ol class=list-inline>\n",
       "\t<li>0.000151973919596665</li>\n",
       "\t<li>0.709305700007452</li>\n",
       "\t<li>0.133300136396112</li>\n",
       "\t<li>0.02201822944857</li>\n",
       "\t<li>0.0354629890233605</li>\n",
       "\t<li>0.106627093511058</li>\n",
       "\t<li>1.0825088224469e-05</li>\n",
       "\t<li>0.000328133314820143</li>\n",
       "\t<li>0.000313070289283871</li>\n",
       "\t<li>0.0535419392309454</li>\n",
       "\t<li>0.881535649228438</li>\n",
       "\t<li>0.673505472157737</li>\n",
       "\t<li>0.552247744278215</li>\n",
       "</ol>\n"
      ],
      "text/latex": [
       "\\begin{enumerate*}\n",
       "\\item 0.000151973919596665\n",
       "\\item 0.709305700007452\n",
       "\\item 0.133300136396112\n",
       "\\item 0.02201822944857\n",
       "\\item 0.0354629890233605\n",
       "\\item 0.106627093511058\n",
       "\\item 1.0825088224469e-05\n",
       "\\item 0.000328133314820143\n",
       "\\item 0.000313070289283871\n",
       "\\item 0.0535419392309454\n",
       "\\item 0.881535649228438\n",
       "\\item 0.673505472157737\n",
       "\\item 0.552247744278215\n",
       "\\end{enumerate*}\n"
      ],
      "text/markdown": [
       "1. 0.000151973919596665\n",
       "2. 0.709305700007452\n",
       "3. 0.133300136396112\n",
       "4. 0.02201822944857\n",
       "5. 0.0354629890233605\n",
       "6. 0.106627093511058\n",
       "7. 1.0825088224469e-05\n",
       "8. 0.000328133314820143\n",
       "9. 0.000313070289283871\n",
       "10. 0.0535419392309454\n",
       "11. 0.881535649228438\n",
       "12. 0.673505472157737\n",
       "13. 0.552247744278215\n",
       "\n",
       "\n"
      ],
      "text/plain": [
       " [1] 1.519739e-04 7.093057e-01 1.333001e-01 2.201823e-02 3.546299e-02\n",
       " [6] 1.066271e-01 1.082509e-05 3.281333e-04 3.130703e-04 5.354194e-02\n",
       "[11] 8.815356e-01 6.735055e-01 5.522477e-01"
      ]
     },
     "metadata": {},
     "output_type": "display_data"
    },
    {
     "data": {
      "text/html": [
       "<ol class=list-inline>\n",
       "\t<li>0.000987830477378325</li>\n",
       "\t<li>0.768414508341406</li>\n",
       "\t<li>0.19254464146105</li>\n",
       "\t<li>0.057247396566282</li>\n",
       "\t<li>0.0768364762172812</li>\n",
       "\t<li>0.173269026955469</li>\n",
       "\t<li>0.000140726146918097</li>\n",
       "\t<li>0.00106643327316546</li>\n",
       "\t<li>0.00106643327316546</li>\n",
       "\t<li>0.0994350300003271</li>\n",
       "\t<li>0.881535649228438</li>\n",
       "\t<li>0.768414508341406</li>\n",
       "\t<li>0.71792206756168</li>\n",
       "</ol>\n"
      ],
      "text/latex": [
       "\\begin{enumerate*}\n",
       "\\item 0.000987830477378325\n",
       "\\item 0.768414508341406\n",
       "\\item 0.19254464146105\n",
       "\\item 0.057247396566282\n",
       "\\item 0.0768364762172812\n",
       "\\item 0.173269026955469\n",
       "\\item 0.000140726146918097\n",
       "\\item 0.00106643327316546\n",
       "\\item 0.00106643327316546\n",
       "\\item 0.0994350300003271\n",
       "\\item 0.881535649228438\n",
       "\\item 0.768414508341406\n",
       "\\item 0.71792206756168\n",
       "\\end{enumerate*}\n"
      ],
      "text/markdown": [
       "1. 0.000987830477378325\n",
       "2. 0.768414508341406\n",
       "3. 0.19254464146105\n",
       "4. 0.057247396566282\n",
       "5. 0.0768364762172812\n",
       "6. 0.173269026955469\n",
       "7. 0.000140726146918097\n",
       "8. 0.00106643327316546\n",
       "9. 0.00106643327316546\n",
       "10. 0.0994350300003271\n",
       "11. 0.881535649228438\n",
       "12. 0.768414508341406\n",
       "13. 0.71792206756168\n",
       "\n",
       "\n"
      ],
      "text/plain": [
       " [1] 0.0009878305 0.7684145083 0.1925446415 0.0572473966 0.0768364762\n",
       " [6] 0.1732690270 0.0001407261 0.0010664333 0.0010664333 0.0994350300\n",
       "[11] 0.8815356492 0.7684145083 0.7179220676"
      ]
     },
     "metadata": {},
     "output_type": "display_data"
    }
   ],
   "source": [
    "pos_1<-droplevels(subset(features_pos_12d, features_pos_12d$DigitizedPosition==c(\"1\")))\n",
    "pos_2<-droplevels(subset(features_pos_12d, features_pos_12d$DigitizedPosition==c(\"2\")))\n",
    "pos_3<-droplevels(subset(features_pos_12d, features_pos_12d$DigitizedPosition==c(\"3\")))\n",
    "pos_4<-droplevels(subset(features_pos_12d, features_pos_12d$DigitizedPosition==c(\"4\")))\n",
    "pos_5<-droplevels(subset(features_pos_12d, features_pos_12d$DigitizedPosition==c(\"5\")))\n",
    "pos_6<-droplevels(subset(features_pos_12d, features_pos_12d$DigitizedPosition==c(\"6\")))\n",
    "pos_7<-droplevels(subset(features_pos_12d, features_pos_12d$DigitizedPosition==c(\"7\")))\n",
    "pos_8<-droplevels(subset(features_pos_12d, features_pos_12d$DigitizedPosition==c(\"8\")))\n",
    "pos_9<-droplevels(subset(features_pos_12d, features_pos_12d$DigitizedPosition==c(\"9\")))\n",
    "pos_10<-droplevels(subset(features_pos_12d, features_pos_12d$DigitizedPosition==c(\"10\")))\n",
    "pos_11<-droplevels(subset(features_pos_12d, features_pos_12d$DigitizedPosition==c(\"11\")))\n",
    "pos_12<-droplevels(subset(features_pos_12d, features_pos_12d$DigitizedPosition==c(\"12\")))\n",
    "pos_13<-droplevels(subset(features_pos_12d, features_pos_12d$DigitizedPosition==c(\"13\")))\n",
    "\n",
    "pos_1<-wilcox.test(pos_1$X448.341_2.901~pos_1$condition)$p.value\n",
    "pos_2<-wilcox.test(pos_2$X448.341_2.901~pos_2$condition)$p.value\n",
    "pos_3<-wilcox.test(pos_3$X448.341_2.901~pos_3$condition)$p.value\n",
    "pos_4<-wilcox.test(pos_4$X448.341_2.901~pos_4$condition)$p.value\n",
    "pos_5<-wilcox.test(pos_5$X448.341_2.901~pos_5$condition)$p.value\n",
    "pos_6<-wilcox.test(pos_6$X448.341_2.901~pos_6$condition)$p.value\n",
    "pos_7<-wilcox.test(pos_7$X448.341_2.901~pos_7$condition)$p.value\n",
    "pos_8<-wilcox.test(pos_8$X448.341_2.901~pos_8$condition)$p.value\n",
    "pos_9<-wilcox.test(pos_9$X448.341_2.901~pos_9$condition)$p.value\n",
    "pos_10<-wilcox.test(pos_10$X448.341_2.901~pos_10$condition)$p.value\n",
    "pos_11<-wilcox.test(pos_11$X448.341_2.901~pos_11$condition)$p.value\n",
    "pos_12<-wilcox.test(pos_12$X448.341_2.901~pos_12$condition)$p.value\n",
    "pos_13<-wilcox.test(pos_13$X448.341_2.901~pos_13$condition)$p.value\n",
    "\n",
    "p=c(pos_1,pos_2, pos_3, pos_4, pos_5, pos_6, pos_7, pos_8, pos_9, pos_10, pos_11, pos_12, pos_13)\n",
    "p\n",
    "pAdj <- p.adjust(p, method = c(\"fdr\"), n = length(p)) \n",
    "pAdj\n",
    "#pAdj are reported in the manuscript"
   ]
  },
  {
   "cell_type": "code",
   "execution_count": 19,
   "metadata": {},
   "outputs": [
    {
     "data": {
      "text/plain": [
       "\n",
       "Call:\n",
       "adonis(formula = dist ~ metadata2$sample.type, data = metadata2[labels(dist),      ]) \n",
       "\n",
       "Permutation: free\n",
       "Number of permutations: 999\n",
       "\n",
       "Terms added sequentially (first to last)\n",
       "\n",
       "                       Df SumsOfSqs MeanSqs F.Model      R2 Pr(>F)    \n",
       "metadata2$sample.type   4    44.254 11.0636  81.001 0.39951  0.001 ***\n",
       "Residuals             487    66.517  0.1366         0.60049           \n",
       "Total                 491   110.772                 1.00000           \n",
       "---\n",
       "Signif. codes:  0 '***' 0.001 '**' 0.01 '*' 0.05 '.' 0.1 ' ' 1"
      ]
     },
     "metadata": {},
     "output_type": "display_data"
    }
   ],
   "source": [
    "#example PERMANOVA code\n",
    "#Bray-Curtis distance matrix generated using QIIME 1\n",
    "#originally written by Se Jin Song, accessed from https://github.com/knightlab-analyses/amazon-urbanization/blob/master/main.ipynb, Copyright (c) 2017--, Amazon urbanization analysis team.#load libraries and files\n",
    "library(vegan)\n",
    "metadata <- read.csv('metadata_all_organs_negative.txt', header=TRUE, sep = '\\t', comment.char = \"\")\n",
    "bcdm<-read.table('bray_curtis_faith_FT_all_organs_negative.txt', sep='\\t', h=T,row.names=1,check=F)\n",
    "\n",
    "#cut down distance matrix and metadata to just those samples that are in both \n",
    "rownames(metadata)<-metadata$X.SampleID\n",
    "ix <- intersect(metadata[,1:1],rownames(bcdm))\n",
    "metadata2<- metadata[ metadata$X.SampleID %in% ix, ]\n",
    "dist <- bcdm[ix,ix]\n",
    "dist <- as.matrix(dist)\n",
    "dist <- as.dist(dist)\n",
    "\n",
    "#run adonis (permanova) on the full dataset\n",
    "msfull.adonis<-adonis(dist~metadata2$sample.type, data=metadata2[labels(dist),])\n",
    "msfull.adonis\n",
    "\n"
   ]
  },
  {
   "cell_type": "code",
   "execution_count": null,
   "metadata": {},
   "outputs": [],
   "source": []
  }
 ],
 "metadata": {
  "kernelspec": {
   "display_name": "R",
   "language": "R",
   "name": "ir"
  },
  "language_info": {
   "codemirror_mode": "r",
   "file_extension": ".r",
   "mimetype": "text/x-r-source",
   "name": "R",
   "pygments_lexer": "r",
   "version": "3.5.1"
  }
 },
 "nbformat": 4,
 "nbformat_minor": 2
}
